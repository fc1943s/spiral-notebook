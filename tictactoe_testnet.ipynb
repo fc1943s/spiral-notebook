{
 "cells": [
  {
   "cell_type": "code",
   "execution_count": 1,
   "metadata": {},
   "outputs": [],
   "source": [
    "# default_exp tictactoe_testnet"
   ]
  },
  {
   "cell_type": "markdown",
   "metadata": {},
   "source": [
    "# python"
   ]
  },
  {
   "cell_type": "code",
   "execution_count": 2,
   "metadata": {},
   "outputs": [],
   "source": [
    "import util"
   ]
  },
  {
   "cell_type": "markdown",
   "metadata": {},
   "source": [
    "# node"
   ]
  },
  {
   "cell_type": "code",
   "execution_count": 3,
   "metadata": {
    "vscode": {
     "languageId": "javascript"
    }
   },
   "outputs": [
    {
     "name": "stdout",
     "output_type": "stream",
     "text": [
      "c50609f62c924cab95e663e06ff4150a\n"
     ]
    },
    {
     "data": {
      "application/javascript": "IPython.notebook.save_checkpoint();",
      "text/plain": [
       "<IPython.core.display.Javascript object>"
      ]
     },
     "metadata": {},
     "output_type": "display_data"
    },
    {
     "data": {
      "text/plain": [
       "'tictactoe_testnet.ts'"
      ]
     },
     "execution_count": 3,
     "metadata": {},
     "output_type": "execute_result"
    }
   ],
   "source": [
    "%%node export\n",
    "\n",
    "import * as network from \"./network\"\n",
    "import fs from \"fs\"\n",
    "\n",
    "var accounts = [\n",
    "    {\n",
    "        privateKey: 'OBVzhzxAK4ZPdaF1QbkXsd8hgRUPJeCfYFjFghgMGnLmcpaAD0mdQJ3Rwq/RwklKGQWAbaIP9zb5BUmcZM4DOg==',\n",
    "        address: '4ZZJNAAPJGOUBHORYKX5DQSJJIMQLADNUIH7ONXZAVEZYZGOAM5CM7HV2M',\n",
    "        mnemonic: 'poem slush dry adult final thunder price pause concert topic mesh wild dry gate judge celery winter list promote clump country loan move about faith'\n",
    "    },\n",
    "    {\n",
    "        privateKey: 'lHFQVWKpvRYU00yAQqHOHJegn5nvP0owYkroBFKr94qGmASQPz4KrmlSbpmNeevb+v+eqDR1owwGEmFARGRDOQ==',\n",
    "        address: 'Q2MAJEB7HYFK42KSN2MY26PL3P5P7HVIGR22GDAGCJQUARDEIM4WLHSIFQ',\n",
    "        mnemonic: 'crater dove click normal kitten aisle obvious error exotic lunar guard impact donkey gun lamp divide announce match cement excess piano turn fish above make'\n",
    "    },\n",
    "    {\n",
    "        privateKey: '0DNKDAK5QfWuMCTMNJ+Re5mSlc7rbI0q1UOUYDmvPGpVTJc2PAknfOwS1rk+MAkE5ynA1XbqLeAGlYGA1H9T4w==',\n",
    "        address: 'KVGJONR4BETXZ3AS224T4MAJATTSTQGVO3VC3YAGSWAYBVD7KPR23RKNBI',\n",
    "        mnemonic: 'key churn alert mother lock run lyrics category office lamp silver nut cement pistol fury hollow faculty feed capable announce index cloth faint about bid'\n",
    "    }\n",
    "]\n",
    "\n",
    "var token = 'aaaaaaaaaaaaaaaaaaaaaaaaaaaaaaaaaaaaaaaaaaaaaaaaaaaaaaaaaaaaaaaa'\n",
    "var server = `http://${process.env.CODESPACE_NAME}-4001.githubpreview.dev`\n",
    "var port = 80\n",
    "\n",
    "var applicationStartTeal = fs.readFileSync('application_start.teal').toString().replace('3600', '90')\n",
    "var clearProgramTeal = fs.readFileSync('clear_program.teal').toString()\n"
   ]
  },
  {
   "cell_type": "code",
   "execution_count": 4,
   "metadata": {
    "vscode": {
     "languageId": "javascript"
    }
   },
   "outputs": [
    {
     "data": {
      "text/plain": [
       "['{',\n",
       " '  suggestedParams: {',\n",
       " '    flatFee: true,',\n",
       " '    fee: 1000,',\n",
       " '    firstRound: 21962863,',\n",
       " '    lastRound: 21963863,',\n",
       " \"    genesisID: 'testnet-v1.0',\",\n",
       " \"    genesisHash: 'SGO1GKSzyE7IEPItTxCByw9x8FmnrCDexi9/cOUJOiI='\",\n",
       " '  },',\n",
       " '  applicationStartCompiled: {',\n",
       " \"    hash: 'M25UVWJM4NOQGKGFK6GMSYLRDSGFY43QVZQBLX47IOQJQC2NE4L6ITYQFI',\",\n",
       " \"    result: 'BiAMAQACwAM4B6QCkgFJkQJUAyYJDFBsYXllclhTdGF0ZQxQbGF5ZXJPU3RhdGUJR2FtZVN0YXRlDlBsYXllck9BZGRyZXNzDlBsYXllclhBZGRyZXNzCUJldEFtb3VudBFQbGF5ZXJUdXJuQWRkcmVzcw1BY3Rpb25UaW1lb3V0EkZ1bmRzRXNjcm93QWRkcmVzczEYIxJAAns2GgCADFNldHVwUGxheWVycxJAAgg2GgCACkFjdGlvbk1vdmUSMgQiEhBAAL82GgCAC01vbmV5UmVmdW5kEkAAAQAzARAiEkQzAQAnCGQSRCpkIhIqZCMSMgcnB2QNECcGZCtkEhARQABqKmQkEipkIxIyBycHZA0QJwZkJwRkEhARQAA4KmQhCxJAAAEAMwEHJwRkEkQzAQgnBWQSRDMCECISRDMCACcIZBJEMwIHK2QSRDMCCCcFZBJEIkMzAQcrZBJEMwEIJCcFZAsSRCokZ0L/5zMBBycEZBJEMwEIJCcFZAsSRCoiZ0L/zzYaARcjD0Q2GgEXgQgORDIHJwdkDkQqZCMSRDEAJwZkEkQoZCI2GgEXkBojEilkIjYaAReQGiMSEEQxACcEZBJAAIUxACtkEkAAAQApKWQiNhoBF5AZZylkJRolEilkIQQaIQQSESlkIQUaIQUSESlkIQYaIQYSESlkIQcaIQcSESlkIQgaIQgSESlkIQkaIQkSESlkIQoaIQoSEUAAJSNAABsnBicEZGeB/wMoZClkGRJAAAIiQyohC2dC//cqJGdC/98iQv/YKChkIjYaAReQGWcoZCUaJRIoZCEEGiEEEhEoZCEFGiEFEhEoZCEGGiEGEhEoZCEHGiEHEhEoZCEIGiEIEhEoZCEJGiEJEhEoZCEKGiEKEhFAABIjQAAIJwYrZGdC/4IqImdC//IiQv/rIycEZTUBNQAjK2U1AzUCNAE0AxFAAEUzARAiEkQzAhAiEkQzAQczAgcSRDMBCCcFZBJEMwIIJwVkEkQnBDMBAGcrMwIAZycGMwEAZycIMwEHZycHMgeBWghnIkMjQygjZykjZyojZycFgcCEPWciQw=='\",\n",
       " '  },',\n",
       " '  clearProgramCompiled: {',\n",
       " \"    hash: 'OO7F7V6NG6BISF336ST4UVBTVMYNSG2BOOA3XKF5OBFP6LPMIJHRYWZRO4',\",\n",
       " \"    result: 'BoEBQw=='\",\n",
       " '  },',\n",
       " '  txn: Transaction {',\n",
       " \"    name: 'Transaction',\",\n",
       " '    tag: <Buffer 54 58>,',\n",
       " \"    type: 'appl',\",\n",
       " '    from: { publicKey: [Uint8Array], checksum: [Uint8Array] },',\n",
       " '    appIndex: 0,',\n",
       " '    appOnComplete: 0,',\n",
       " '    appLocalInts: 0,',\n",
       " '    appLocalByteSlices: 0,',\n",
       " '    appGlobalInts: 4,',\n",
       " '    appGlobalByteSlices: 5,',\n",
       " '    appApprovalProgram: Uint8Array(808) [',\n",
       " '        6,  32,  12,   1,   0,   2, 192,   3,  56,   7, 164,   2,',\n",
       " '      146,   1,  73, 145,   2,  84,   3,  38,   9,  12,  80, 108,',\n",
       " '       97, 121, 101, 114,  88,  83, 116,  97, 116, 101,  12,  80,',\n",
       " '      108,  97, 121, 101, 114,  79,  83, 116,  97, 116, 101,   9,',\n",
       " '       71,  97, 109, 101,  83, 116,  97, 116, 101,  14,  80, 108,',\n",
       " '       97, 121, 101, 114,  79,  65, 100, 100, 114, 101, 115, 115,',\n",
       " '       14,  80, 108,  97, 121, 101, 114,  88,  65, 100, 100, 114,',\n",
       " '      101, 115, 115,   9,  66, 101, 116,  65, 109, 111, 117, 110,',\n",
       " '      116,  17,  80, 108,',\n",
       " '      ... 708 more items',\n",
       " '    ],',\n",
       " '    appClearProgram: Uint8Array(4) [ 6, 129, 1, 67 ],',\n",
       " '    appArgs: [],',\n",
       " '    note: Uint8Array(0) [],',\n",
       " '    lease: Uint8Array(0) [],',\n",
       " '    flatFee: true,',\n",
       " '    genesisHash: <Buffer 48 63 b5 18 a4 b3 c8 4e c8 10 f2 2d 4f 10 81 cb 0f 71 f0 59 a7 ac 20 de c6 2f 7f 70 e5 09 3a 22>,',\n",
       " '    fee: 1000,',\n",
       " '    firstRound: 21962863,',\n",
       " '    lastRound: 21963863,',\n",
       " \"    genesisID: 'testnet-v1.0',\",\n",
       " '    group: undefined',\n",
       " '  },',\n",
       " '  txnSigned: Uint8Array(1044) [',\n",
       " '    130, 163, 115, 105, 103, 196,  64,  31, 168, 231, 192,  49,',\n",
       " '     40,  59, 232,  10,  52,  77,  83, 172, 158, 119,  83,   6,',\n",
       " '    232, 238,  55, 149, 118, 217,  23, 203, 229, 150,  83, 131,',\n",
       " '     33,  28, 103,  66, 170, 211, 242,   7,  86, 174, 202,  53,',\n",
       " '    136, 206, 191, 252, 190, 247,  53, 128,  99,  57, 243, 228,',\n",
       " '    214,  16,  52,  52, 254, 190,  16, 129, 244,   9,  14, 163,',\n",
       " '    116, 120, 110, 138, 164,  97, 112,  97, 112, 197,   3,  40,',\n",
       " '      6,  32,  12,   1,   0,   2, 192,   3,  56,   7, 164,   2,',\n",
       " '    146,   1,  73, 145,',\n",
       " '    ... 944 more items',\n",
       " '  ],',\n",
       " \"  txId: 'IGQKOTBSK42FFF5QRKU375BRCNTSKVEJWIN5OMQFSHLT3SKGRIAQ',\",\n",
       " '  transactionResponse: {',\n",
       " \"    'application-index': 93185903,\",\n",
       " \"    'confirmed-round': 21962866,\",\n",
       " \"    'global-state-delta': [ [Object], [Object], [Object], [Object] ],\",\n",
       " \"    'pool-error': '',\",\n",
       " '    txn: {',\n",
       " '      sig: <Buffer 1f a8 e7 c0 31 28 3b e8 0a 34 4d 53 ac 9e 77 53 06 e8 ee 37 95 76 d9 17 cb e5 96 53 83 21 1c 67 42 aa d3 f2 07 56 ae ca 35 88 ce bf fc be f7 35 80 63 ... 14 more bytes>,',\n",
       " '      txn: [Object]',\n",
       " '    }',\n",
       " '  },',\n",
       " '  appId: 93185903',\n",
       " '}']"
      ]
     },
     "execution_count": 4,
     "metadata": {},
     "output_type": "execute_result"
    }
   ],
   "source": [
    "%%node run\n",
    "\n",
    "var client = network.newClient(token, server, port)\n",
    "var output = await network.deployApplication(\n",
    "    client, \n",
    "    accounts[0].address, \n",
    "    accounts[0].privateKey, \n",
    "    applicationStartTeal, \n",
    "    clearProgramTeal, \n",
    "    {\n",
    "        numGlobalByteSlices: 5,\n",
    "        numGlobalInts: 4,\n",
    "        numLocalByteSlices: 0,\n",
    "        numLocalInts: 0\n",
    "    })\n",
    "\n",
    "console.log(output)"
   ]
  },
  {
   "cell_type": "code",
   "execution_count": null,
   "metadata": {
    "vscode": {
     "languageId": "javascript"
    }
   },
   "outputs": [],
   "source": []
  },
  {
   "cell_type": "code",
   "execution_count": null,
   "metadata": {
    "vscode": {
     "languageId": "javascript"
    }
   },
   "outputs": [],
   "source": []
  }
 ],
 "metadata": {
  "interpreter": {
   "hash": "3ad933181bd8a04b432d3370b9dc3b0662ad032c4dfaa4e4f1596c548f763858"
  },
  "kernelspec": {
   "display_name": "Python 3.10.4 64-bit",
   "language": "python",
   "name": "python3"
  },
  "language_info": {
   "codemirror_mode": {
    "name": "ipython",
    "version": 3
   },
   "file_extension": ".py",
   "mimetype": "text/x-python",
   "name": "python",
   "nbconvert_exporter": "python",
   "pygments_lexer": "ipython3",
   "version": "3.10.4"
  },
  "orig_nbformat": 4
 },
 "nbformat": 4,
 "nbformat_minor": 2
}
