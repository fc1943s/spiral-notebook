{
 "cells": [
  {
   "cell_type": "code",
   "execution_count": null,
   "metadata": {},
   "outputs": [],
   "source": []
  },
  {
   "cell_type": "markdown",
   "id": "234159d1",
   "metadata": {},
   "source": [
    "# testnet"
   ]
  },
  {
   "cell_type": "code",
   "execution_count": null,
   "id": "fcc31b25",
   "metadata": {},
   "outputs": [],
   "source": []
  },
  {
   "cell_type": "code",
   "execution_count": null,
   "id": "dfb54969",
   "metadata": {},
   "outputs": [],
   "source": []
  },
  {
   "cell_type": "code",
   "execution_count": null,
   "id": "c3fc9bc4",
   "metadata": {},
   "outputs": [],
   "source": []
  },
  {
   "cell_type": "code",
   "execution_count": null,
   "id": "e6273156",
   "metadata": {},
   "outputs": [
    {
     "data": {
      "text/plain": [
       "[{'private_key': 'zhzM1byIvHXktgsDT8RodEh9o6LThrAG/Q1DZguXczasayFqplinX2fz1MkmljvkSdBo996hACdKf1jaJxJAVg==',\n",
       "  'address': 'VRVSC2VGLCTV6Z7T2TESNFR34RE5A2HX32QQAJ2KP5MNUJYSIBLFOY3ISU',\n",
       "  'mnemonic': 'oil corn helmet mesh jungle buddy rescue arm there bachelor crucial mansion whisper potato other man stock village manage goddess bitter total receive ability second'},\n",
       " {'private_key': 'Jv/fyfKxKr40mdocZE4hHBE84V8iLPBC8wjkEF3SJTX+JuCVO5tLjaQO6I3Dqr9Jqb2GREafYHsvPrDvNNdWOA==',\n",
       "  'address': '7YTOBFJ3TNFY3JAO5CG4HKV7JGU33BSEI2PWA6ZPH2YO6NGXKY4EGGMXLU',\n",
       "  'mnemonic': 'tooth lend gossip busy fever convince situate surround logic define awful balcony join weapon base club fun snack afford atom riot innocent powder ability rib'},\n",
       " {'private_key': 'FtV6JAmeHHZHsp/UR2Iakg4mDQTt2LXxPHVSKPFX9d6koSieghGVIl+GEjKoKQHbupZ7fgbzJuYC+Gl9pVWA+A==',\n",
       "  'address': 'USQSRHUCCGKSEX4GCIZKQKIB3O5JM636A3ZSNZQC7BUX3JKVQD4IQMSVKY',\n",
       "  'mnemonic': 'people twice mutual they decrease talk mutual panic whisper math artwork truck equal addict habit suggest cute video dentist lunch time field waste absorb funny'}]"
      ]
     },
     "metadata": {},
     "output_type": "display_data"
    }
   ],
   "source": [
    "accounts = [\n",
    " {'private_key': 'zhzM1byIvHXktgsDT8RodEh9o6LThrAG/Q1DZguXczasayFqplinX2fz1MkmljvkSdBo996hACdKf1jaJxJAVg==',\n",
    "  'address': 'VRVSC2VGLCTV6Z7T2TESNFR34RE5A2HX32QQAJ2KP5MNUJYSIBLFOY3ISU',\n",
    "  'mnemonic': 'oil corn helmet mesh jungle buddy rescue arm there bachelor crucial mansion whisper potato other man stock village manage goddess bitter total receive ability second'},\n",
    " {'private_key': 'Jv/fyfKxKr40mdocZE4hHBE84V8iLPBC8wjkEF3SJTX+JuCVO5tLjaQO6I3Dqr9Jqb2GREafYHsvPrDvNNdWOA==',\n",
    "  'address': '7YTOBFJ3TNFY3JAO5CG4HKV7JGU33BSEI2PWA6ZPH2YO6NGXKY4EGGMXLU',\n",
    "  'mnemonic': 'tooth lend gossip busy fever convince situate surround logic define awful balcony join weapon base club fun snack afford atom riot innocent powder ability rib'},\n",
    " {'private_key': 'FtV6JAmeHHZHsp/UR2Iakg4mDQTt2LXxPHVSKPFX9d6koSieghGVIl+GEjKoKQHbupZ7fgbzJuYC+Gl9pVWA+A==',\n",
    "  'address': 'USQSRHUCCGKSEX4GCIZKQKIB3O5JM636A3ZSNZQC7BUX3JKVQD4IQMSVKY',\n",
    "  'mnemonic': 'people twice mutual they decrease talk mutual panic whisper math artwork truck equal addict habit suggest cute video dentist lunch time field waste absorb funny'}]\n",
    "accounts"
   ]
  },
  {
   "cell_type": "code",
   "execution_count": null,
   "id": "a0bdad24",
   "metadata": {},
   "outputs": [
    {
     "name": "stdout",
     "output_type": "stream",
     "text": [
      "4:GameEngineService.__init__\n",
      "5:approval_program\n",
      "5:application_start\n",
      "5:initialize_players_logic\n",
      "5:play_action_logic\n",
      "5:has_player_won\n",
      "5:has_player_won\n",
      "5:is_tie\n",
      "5:money_refund_logic\n",
      "5:app_initialization_logic\n",
      "5:clear_program\n"
     ]
    },
    {
     "data": {
      "text/plain": [
       "<__main__.GameEngineService at 0x7f49ce5bd480>"
      ]
     },
     "metadata": {},
     "output_type": "display_data"
    }
   ],
   "source": [
    "game_engine_fixed = GameEngineService(app_creator_pk=accounts[0]['private_key'],\n",
    "                                app_creator_address=accounts[0]['address'],\n",
    "                                player_x_pk=accounts[1]['private_key'],\n",
    "                                player_x_address=accounts[1]['address'],\n",
    "                                player_o_pk=accounts[2]['private_key'],\n",
    "                                player_o_address=accounts[2]['address'])\n",
    "game_engine_fixed"
   ]
  },
  {
   "cell_type": "code",
   "execution_count": null,
   "id": "105141dd",
   "metadata": {},
   "outputs": [
    {
     "data": {
      "text/plain": [
       "['N+iSuJ31QfXD+241+gLKrvBbVwf0409pYPQztgRErfZXB06N27SkT/TwiAdF8i5A6WL0AQ+7grAPpVJTobUUtg==',\n",
       " 'K4DU5DO3WSSE75HQRADUL4ROIDUWF5ABB65YFMAPUVJFHINVCS3K7WMHAI',\n",
       " 'LnpQjOVQl1SNYmPXd6aKlaVKc++P4Jn54mAYMydOWEK+BZdosnHqemgmy1yXFAazBVKommLjIx9pLV2tMcfMDQ==',\n",
       " 'XYCZO2FSOHVHU2BGZNOJOFAGWMCVFKE2MLRSGH3JFVO22MOHZQG6HJPMJE',\n",
       " 'C/FEEKWULsIqe2LQAr/4AzdPiIpOQ8GdMp3JpyuKxC4GCF0n+DFsvjt546RBzedsYdNHvJ62h9cBGPuoqtUabQ==',\n",
       " 'AYEF2J7YGFWL4O3Z4OSEDTPHNRQ5GR54T23IPVYBDD52RKWVDJWXCPMTJE']"
      ]
     },
     "metadata": {},
     "output_type": "display_data"
    }
   ],
   "source": [
    "import algosdk\n",
    "\n",
    "# client = get_client()\n",
    "# indexer = get_indexer()\n",
    "\n",
    "acc_pk, acc_address = algosdk.account.generate_account()\n",
    "player_x_pk, player_x_address = algosdk.account.generate_account()\n",
    "player_o_pk, player_o_address = algosdk.account.generate_account()\n",
    "\n",
    "# https://bank.testnet.algorand.network\n",
    "[acc_pk, acc_address, player_x_pk, player_x_address, player_o_pk, player_o_address]"
   ]
  },
  {
   "cell_type": "code",
   "execution_count": null,
   "id": "a0bdad24",
   "metadata": {},
   "outputs": [
    {
     "name": "stdout",
     "output_type": "stream",
     "text": [
      "4:GameEngineService.__init__\n",
      "5:approval_program\n",
      "5:application_start\n",
      "5:initialize_players_logic\n",
      "5:play_action_logic\n",
      "5:has_player_won\n",
      "5:has_player_won\n",
      "5:is_tie\n",
      "5:money_refund_logic\n",
      "5:app_initialization_logic\n",
      "5:clear_program\n"
     ]
    },
    {
     "data": {
      "text/plain": [
       "<__main__.GameEngineService at 0x7f49ce5bd420>"
      ]
     },
     "metadata": {},
     "output_type": "display_data"
    }
   ],
   "source": [
    "game_engine = GameEngineService(app_creator_pk=acc_pk,\n",
    "                                app_creator_address=acc_address,\n",
    "                                player_x_pk=player_x_pk,\n",
    "                                player_x_address=player_x_address,\n",
    "                                player_o_pk=player_o_pk,\n",
    "                                player_o_address=player_o_address)\n",
    "game_engine"
   ]
  },
  {
   "cell_type": "code",
   "execution_count": null,
   "id": "b3b32433",
   "metadata": {},
   "outputs": [],
   "source": [
    "token = 'aaaaaaaaaaaaaaaaaaaaaaaaaaaaaaaaaaaaaaaaaaaaaaaaaaaaaaaaaaaaaaaa'\n",
    "address = \"http://localhost:4001\"\n",
    "\n",
    "def get_client():\n",
    "    return algod.AlgodClient(token, address, headers={'X-Api-key': token})\n",
    "client = get_client()"
   ]
  },
  {
   "cell_type": "code",
   "execution_count": null,
   "id": "ac7a017c",
   "metadata": {},
   "outputs": [
    {
     "name": "stdout",
     "output_type": "stream",
     "text": [
      "4:GameEngineService.deploy_application\n",
      "5:approval_program\n",
      "5:application_start\n",
      "5:initialize_players_logic\n",
      "5:play_action_logic\n",
      "5:has_player_won\n",
      "5:has_player_won\n",
      "5:is_tie\n",
      "5:money_refund_logic\n",
      "5:app_initialization_logic\n",
      "5:clear_program\n",
      "1:NetworkInteraction.compile_program\n",
      "1:NetworkInteraction.compile_program\n",
      "5:AppVariables.number_of_int\n",
      "5:AppVariables.number_of_str\n",
      "2:ApplicationTransactionRepository.create_application\n",
      "2:get_default_suggested_params\n",
      "1:NetworkInteraction.submit_transaction\n",
      "1:NetworkInteraction.wait_for_confirmation\n",
      "Tic-Tac-Toe application deployed with the application_id: 89864889\n"
     ]
    },
    {
     "data": {
      "text/plain": [
       "'Tic-Tac-Toe application deployed with the application_id: 89864889'"
      ]
     },
     "metadata": {},
     "output_type": "display_data"
    }
   ],
   "source": [
    "app_deployment_txn_log = game_engine_fixed.deploy_application(client)\n",
    "app_deployment_txn_log"
   ]
  },
  {
   "cell_type": "code",
   "execution_count": null,
   "id": "0d6cca6d",
   "metadata": {},
   "outputs": [
    {
     "name": "stdout",
     "output_type": "stream",
     "text": [
      "4:GameEngineService.start_game\n",
      "3:game_funds_escorw\n",
      "1:NetworkInteraction.compile_program\n",
      "2:PaymentTransactionRepository.payment\n",
      "2:get_default_suggested_params\n",
      "2:PaymentTransactionRepository.payment\n",
      "2:get_default_suggested_params\n",
      "2:ApplicationTransactionRepository.call_application\n",
      "2:get_default_suggested_params\n",
      "Game started with the transaction_id: OUSBUTWM766JF3YOJXG6FLGPQCBAR5GSX6OZFN6DBAY6JSTK4AAQ\n"
     ]
    },
    {
     "data": {
      "text/plain": [
       "'Game started with the transaction_id: OUSBUTWM766JF3YOJXG6FLGPQCBAR5GSX6OZFN6DBAY6JSTK4AAQ'"
      ]
     },
     "metadata": {},
     "output_type": "display_data"
    }
   ],
   "source": [
    "start_game_txn_log = game_engine_fixed.start_game(client)\n",
    "start_game_txn_log"
   ]
  },
  {
   "cell_type": "code",
   "execution_count": null,
   "id": "36e86fbd",
   "metadata": {},
   "outputs": [
    {
     "name": "stdout",
     "output_type": "stream",
     "text": [
      "4:GameEngineService.play_action\n",
      "2:ApplicationTransactionRepository.call_application\n",
      "2:get_default_suggested_params\n",
      "1:NetworkInteraction.submit_transaction\n",
      "1:NetworkInteraction.wait_for_confirmation\n",
      "X has been put at position 0 in transaction with id: HPWBUGGLPZM2N5E6MRJRI6BWFP5CPFLJKVI2AT7R6BRS4BEAWACA\n",
      "4:GameEngineService.play_action\n",
      "2:ApplicationTransactionRepository.call_application\n",
      "2:get_default_suggested_params\n",
      "1:NetworkInteraction.submit_transaction\n",
      "1:NetworkInteraction.wait_for_confirmation\n",
      "O has been put at position 2 in transaction with id: UILTDJXNUH6C5DHPMTLDKUEVXDAUS2QDCVMTDI4R5LG6CPRPGC6Q\n",
      "4:GameEngineService.play_action\n",
      "2:ApplicationTransactionRepository.call_application\n",
      "2:get_default_suggested_params\n",
      "1:NetworkInteraction.submit_transaction\n",
      "1:NetworkInteraction.wait_for_confirmation\n",
      "X has been put at position 4 in transaction with id: PI3JSU7NVKBFZSOO7EPC5II346P476HHINVYHBCRJRWQ7OFVCBZQ\n",
      "4:GameEngineService.play_action\n",
      "2:ApplicationTransactionRepository.call_application\n",
      "2:get_default_suggested_params\n",
      "1:NetworkInteraction.submit_transaction\n",
      "1:NetworkInteraction.wait_for_confirmation\n",
      "O has been put at position 8 in transaction with id: F5U2U4RA5ODJ7YVIQBWBK47ZUPBS4KN4ETZZRSHZVX67JFTLHYSA\n",
      "4:GameEngineService.play_action\n",
      "2:ApplicationTransactionRepository.call_application\n",
      "2:get_default_suggested_params\n",
      "1:NetworkInteraction.submit_transaction\n",
      "1:NetworkInteraction.wait_for_confirmation\n",
      "X has been put at position 6 in transaction with id: 5SLDBVHABZXZ3V5VICYR55AZKUDSGU4X7UJPQ5XE2KPXXBIXR6LQ\n",
      "4:GameEngineService.play_action\n",
      "2:ApplicationTransactionRepository.call_application\n",
      "2:get_default_suggested_params\n",
      "1:NetworkInteraction.submit_transaction\n",
      "1:NetworkInteraction.wait_for_confirmation\n",
      "O has been put at position 5 in transaction with id: B536INGHZRVK5LQUH7OKUMP4VSNUD7VHPFNCZCYL7GLDIAABI4UQ\n"
     ]
    }
   ],
   "source": [
    "game_actions = [\n",
    "    (\"X\", 0),\n",
    "    (\"O\", 2),\n",
    "    (\"X\", 4),\n",
    "    (\"O\", 8),\n",
    "    (\"X\", 6),\n",
    "    (\"O\", 5),\n",
    "]\n",
    "\n",
    "for player_id, action_position in game_actions:\n",
    "    game_engine_fixed.play_action(client=client,\n",
    "                            player_id=player_id,\n",
    "                            action_position=action_position)"
   ]
  },
  {
   "cell_type": "code",
   "execution_count": null,
   "id": "8b95e8fd",
   "metadata": {},
   "outputs": [
    {
     "name": "stdout",
     "output_type": "stream",
     "text": [
      "4:GameEngineService.fund_escrow\n",
      "2:PaymentTransactionRepository.payment\n",
      "2:get_default_suggested_params\n",
      "1:NetworkInteraction.submit_transaction\n",
      "1:NetworkInteraction.wait_for_confirmation\n",
      "Escrow address has been funded in transaction with id: XMB5SIHO644EQH4VOUC3ZSCYV5A5B6BQQIUBUC34N5LYFHQQQ3AA\n"
     ]
    },
    {
     "data": {
      "text/plain": [
       "'Escrow address has been funded in transaction with id: XMB5SIHO644EQH4VOUC3ZSCYV5A5B6BQQIUBUC34N5LYFHQQQ3AA'"
      ]
     },
     "metadata": {},
     "output_type": "display_data"
    }
   ],
   "source": [
    "game_engine_fixed.fund_escrow(client=client)"
   ]
  },
  {
   "cell_type": "code",
   "execution_count": null,
   "id": "ff157935",
   "metadata": {},
   "outputs": [
    {
     "name": "stdout",
     "output_type": "stream",
     "text": [
      "4:GameEngineService.win_money_refund\n",
      "2:ApplicationTransactionRepository.call_application\n",
      "2:get_default_suggested_params\n",
      "2:PaymentTransactionRepository.payment\n",
      "2:get_default_suggested_params\n",
      "The winning money have been refunded to the player O in the transaction with id: 5EZEOY2C23LMF2CB3WBH7LVSKXPSWEGKOV2UES3PWNQCEKV57RCQ\n"
     ]
    },
    {
     "data": {
      "text/plain": [
       "'The winning money have been refunded to the player O in the transaction with id: 5EZEOY2C23LMF2CB3WBH7LVSKXPSWEGKOV2UES3PWNQCEKV57RCQ'"
      ]
     },
     "metadata": {},
     "output_type": "display_data"
    }
   ],
   "source": [
    "game_engine_fixed.win_money_refund(client=client, player_id=\"O\")"
   ]
  },
  {
   "cell_type": "code",
   "execution_count": null,
   "id": "a699fc5f",
   "metadata": {},
   "outputs": [],
   "source": []
  },
  {
   "cell_type": "code",
   "execution_count": null,
   "id": "2872ca4d",
   "metadata": {},
   "outputs": [],
   "source": []
  },
  {
   "cell_type": "code",
   "execution_count": null,
   "id": "75b98430",
   "metadata": {},
   "outputs": [],
   "source": []
  },
  {
   "cell_type": "code",
   "execution_count": null,
   "metadata": {},
   "outputs": [],
   "source": []
  },
  {
   "cell_type": "code",
   "execution_count": null,
   "metadata": {},
   "outputs": [],
   "source": []
  },
  {
   "cell_type": "code",
   "execution_count": null,
   "metadata": {},
   "outputs": [],
   "source": []
  },
  {
   "cell_type": "code",
   "execution_count": null,
   "metadata": {},
   "outputs": [],
   "source": []
  },
  {
   "cell_type": "code",
   "execution_count": null,
   "metadata": {},
   "outputs": [],
   "source": []
  },
  {
   "cell_type": "code",
   "execution_count": null,
   "metadata": {},
   "outputs": [],
   "source": []
  },
  {
   "cell_type": "code",
   "execution_count": null,
   "metadata": {},
   "outputs": [],
   "source": []
  }
 ],
 "metadata": {
  "language_info": {
   "name": "python"
  },
  "orig_nbformat": 4
 },
 "nbformat": 4,
 "nbformat_minor": 2
}
