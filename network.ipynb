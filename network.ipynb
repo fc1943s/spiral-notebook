{
 "cells": [
  {
   "cell_type": "code",
   "execution_count": 1,
   "metadata": {},
   "outputs": [],
   "source": [
    "# default_exp network"
   ]
  },
  {
   "cell_type": "markdown",
   "metadata": {},
   "source": [
    "# python"
   ]
  },
  {
   "cell_type": "code",
   "execution_count": 2,
   "metadata": {},
   "outputs": [],
   "source": [
    "import util"
   ]
  },
  {
   "cell_type": "markdown",
   "metadata": {},
   "source": [
    "# node"
   ]
  },
  {
   "cell_type": "code",
   "execution_count": 3,
   "metadata": {
    "vscode": {
     "languageId": "javascript"
    }
   },
   "outputs": [
    {
     "name": "stdout",
     "output_type": "stream",
     "text": [
      "e9eadce44b82437ba1c8a4005162a6bd\n"
     ]
    },
    {
     "data": {
      "application/javascript": "IPython.notebook.save_checkpoint();",
      "text/plain": [
       "<IPython.core.display.Javascript object>"
      ]
     },
     "metadata": {},
     "output_type": "display_data"
    },
    {
     "data": {
      "text/plain": [
       "'network.ts'"
      ]
     },
     "execution_count": 3,
     "metadata": {},
     "output_type": "execute_result"
    }
   ],
   "source": [
    "%%node export\n",
    "\n",
    "import buffer from \"buffer\"\n",
    "\n",
    "export var encode = (value) => {\n",
    "    return new Uint8Array(buffer.Buffer.from(value, \"base64\"))\n",
    "}\n",
    "\n",
    "import algosdk from \"algosdk\"\n",
    "\n",
    "export var newClient = (token, server, port) => {\n",
    "    return new algosdk.Algodv2(token, server, port)\n",
    "}\n",
    "\n",
    "export var deployApplication = async (\n",
    "    client, \n",
    "    address, \n",
    "    privateKey, \n",
    "    applicationStartTeal, \n",
    "    clearProgramTeal, \n",
    "    options = {\n",
    "        numGlobalByteSlices: 0,\n",
    "        numGlobalInts: 0,\n",
    "        numLocalByteSlices: 0,\n",
    "        numLocalInts: 0\n",
    "    }) => {\n",
    "    try {\n",
    "        const suggestedParams = await client.getTransactionParams().do()\n",
    "        suggestedParams.flatFee = true\n",
    "        suggestedParams.fee = 1000\n",
    "\n",
    "        const applicationStartCompiled = await client.compile(applicationStartTeal).do()\n",
    "        const clearProgramCompiled = await client.compile(clearProgramTeal).do()\n",
    "\n",
    "        const txn = algosdk.makeApplicationCreateTxnFromObject({\n",
    "            suggestedParams,\n",
    "            from: address,\n",
    "            onComplete: algosdk.OnApplicationComplete.NoOpOC,\n",
    "            approvalProgram: encode(applicationStartCompiled.result),\n",
    "            clearProgram: encode(clearProgramCompiled.result),\n",
    "            ...options\n",
    "        })\n",
    "\n",
    "        const txnSigned = txn.signTxn(encode(privateKey))\n",
    "        const { txId } = await client.sendRawTransaction(txnSigned).do()\n",
    "        const transactionResponse = await algosdk.waitForConfirmation(client, txId, 5)\n",
    "        const appId = transactionResponse[\"application-index\"]\n",
    "\n",
    "        return {\n",
    "            suggestedParams,\n",
    "            applicationStartCompiled,\n",
    "            clearProgramCompiled,\n",
    "            txn,\n",
    "            txnSigned,\n",
    "            txId,\n",
    "            transactionResponse,\n",
    "            appId\n",
    "        }\n",
    "    } catch (e) {\n",
    "        console.log('error (rethrowing):', e.toString())\n",
    "        throw e\n",
    "    }\n",
    "}\n"
   ]
  },
  {
   "cell_type": "code",
   "execution_count": 4,
   "metadata": {
    "vscode": {
     "languageId": "javascript"
    }
   },
   "outputs": [
    {
     "data": {
      "text/plain": [
       "['{',\n",
       " '  status: {',\n",
       " \"    catchpoint: '',\",\n",
       " \"    'catchpoint-acquired-blocks': 0,\",\n",
       " \"    'catchpoint-processed-accounts': 0,\",\n",
       " \"    'catchpoint-total-accounts': 0,\",\n",
       " \"    'catchpoint-total-blocks': 0,\",\n",
       " \"    'catchpoint-verified-accounts': 0,\",\n",
       " \"    'catchup-time': 0,\",\n",
       " \"    'last-catchpoint': '',\",\n",
       " \"    'last-round': 21962822,\",\n",
       " \"    'last-version': 'https://github.com/algorandfoundation/specs/tree/d5ac876d7ede07367dbaa26e149aa42589aac1f7',\",\n",
       " \"    'next-version': 'https://github.com/algorandfoundation/specs/tree/d5ac876d7ede07367dbaa26e149aa42589aac1f7',\",\n",
       " \"    'next-version-round': 21962823,\",\n",
       " \"    'next-version-supported': true,\",\n",
       " \"    'stopped-at-unsupported-round': false,\",\n",
       " \"    'time-since-last-round': 3678078227\",\n",
       " '  }',\n",
       " '}']"
      ]
     },
     "execution_count": 4,
     "metadata": {},
     "output_type": "execute_result"
    }
   ],
   "source": [
    "%%node run\n",
    "\n",
    "var token = 'aaaaaaaaaaaaaaaaaaaaaaaaaaaaaaaaaaaaaaaaaaaaaaaaaaaaaaaaaaaaaaaa'\n",
    "var server = `http://${process.env.CODESPACE_NAME}-4001.githubpreview.dev`\n",
    "var port = 80\n",
    "\n",
    "var client = newClient(token, server, port)\n",
    "var status = await client.status().do()\n",
    "console.log({ status })\n"
   ]
  }
 ],
 "metadata": {
  "interpreter": {
   "hash": "4f946df053fbf2b937619d3c5458e7af74262f9a954d8797ba0b27400bcafe06"
  },
  "kernelspec": {
   "display_name": "Python 3.10.4 64-bit",
   "language": "python",
   "name": "python3"
  },
  "language_info": {
   "codemirror_mode": {
    "name": "ipython",
    "version": 3
   },
   "file_extension": ".py",
   "mimetype": "text/x-python",
   "name": "python",
   "nbconvert_exporter": "python",
   "pygments_lexer": "ipython3",
   "version": "3.10.4"
  },
  "orig_nbformat": 4
 },
 "nbformat": 4,
 "nbformat_minor": 2
}
