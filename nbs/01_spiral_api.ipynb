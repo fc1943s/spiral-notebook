{
 "cells": [
  {
   "cell_type": "code",
   "execution_count": 1,
   "metadata": {},
   "outputs": [],
   "source": [
    "# default_exp spiral_api"
   ]
  },
  {
   "cell_type": "markdown",
   "metadata": {},
   "source": [
    "# python"
   ]
  },
  {
   "cell_type": "code",
   "execution_count": 2,
   "metadata": {},
   "outputs": [],
   "source": [
    "import sys\n",
    "sys.path.append('..')\n",
    "import lib_py.ipython_magic as ipython_magic"
   ]
  },
  {
   "cell_type": "markdown",
   "metadata": {},
   "source": [
    "# node"
   ]
  },
  {
   "cell_type": "code",
   "execution_count": 3,
   "metadata": {
    "vscode": {
     "languageId": "javascript"
    }
   },
   "outputs": [
    {
     "name": "stdout",
     "output_type": "stream",
     "text": [
      "<magic:4fe44a94f2ed44d5afcb965112419e41>\n"
     ]
    },
    {
     "data": {
      "application/javascript": "IPython.notebook.save_checkpoint();",
      "text/plain": [
       "<IPython.core.display.Javascript object>"
      ]
     },
     "metadata": {},
     "output_type": "display_data"
    },
    {
     "data": {
      "text/plain": [
       "'/workspaces/tictactoe_spiral/lib_ts/spiral_api.ts'"
      ]
     },
     "execution_count": 3,
     "metadata": {},
     "output_type": "execute_result"
    }
   ],
   "source": [
    "%%node export\n",
    "\n",
    "import * as zmq from \"zeromq\"\n",
    "\n",
    "var requestRun = async (prev: Promise<string | null>, file: any): Promise<string | null> => {\n",
    "    const port = 13805\n",
    "    await prev // Waiting on the previous request is so they get ordered properly. Otherwise, messages might fill up and fire in arbitrary order.\n",
    "    const sock = new zmq.Request()\n",
    "    const uriServer = `tcp://localhost:${port}`\n",
    "    sock.connect(uriServer)\n",
    "    await sock.send(JSON.stringify(file))\n",
    "    const [x] = await sock.receive()\n",
    "    sock.disconnect(uriServer)\n",
    "    return x ? x.toString() : null\n",
    "}\n",
    "var prev_request: Promise<string | null> = new Promise(resolve => resolve(null))\n",
    "var request = async (file: any) => { prev_request = requestRun(prev_request, file); return prev_request }\n",
    "var requestJSON = (file: any) => request(file).then(x => x ? JSON.parse(x) : undefined)\n",
    "\n",
    "var spiBuildFileReq = async (uri: string, backend: string): Promise<void> => requestJSON({ BuildFile: { uri, backend } })\n",
    "var spiprojOpenReq = async (uri: string, spiprojText: string): Promise<void> => requestJSON({ ProjectFileOpen: { uri, spiprojText } })\n"
   ]
  },
  {
   "cell_type": "code",
   "execution_count": 4,
   "metadata": {
    "vscode": {
     "languageId": "javascript"
    }
   },
   "outputs": [
    {
     "data": {
      "text/plain": [
       "'/workspaces/tictactoe_spiral/lib_ts/spiral_api.ts'"
      ]
     },
     "execution_count": 4,
     "metadata": {},
     "output_type": "execute_result"
    }
   ],
   "source": [
    "%%node export\n",
    "\n",
    "import * as fs from \"fs\"\n",
    "import * as path from \"path\"\n",
    "import * as util from \"./util\"\n",
    "import * as util_node from \"./util_node\"\n",
    "\n",
    "export var spiToFsx = async (mainSpiPath = '', newFsxPath = '', log = false) => {\n",
    "    const isTemp = !mainSpiPath\n",
    "    const srcPath = path.join(process.cwd(), '..')\n",
    "    const destPath = isTemp ? fs.mkdtempSync(path.join('/tmp', 'spiToFsx-')) : srcPath\n",
    "    \n",
    "    const spiprojPath = path.join(destPath, 'package.spiproj')\n",
    "    if (!mainSpiPath) {\n",
    "        mainSpiPath = path.join(destPath, 'main.spi')\n",
    "        fs.cpSync(path.join(srcPath, 'main.spi'), mainSpiPath)\n",
    "        fs.cpSync(path.join(srcPath, 'package.spiproj'), spiprojPath)\n",
    "        fs.cpSync(path.join(srcPath, 'lib_spi'), path.join(destPath, 'lib_spi'), { recursive: true })   \n",
    "    }\n",
    "\n",
    "    const fsxPath = mainSpiPath.replace('.spi', '.fsx')\n",
    "    fs.writeFileSync(fsxPath, '')\n",
    "    \n",
    "    await util.timeout(spiprojOpenReq(spiprojPath, fs.readFileSync(spiprojPath).toString()), 5000)\n",
    "    await util.timeout(spiBuildFileReq(mainSpiPath, 'Fsharp'), 5000)\n",
    "\n",
    "    const lines = (await util_node.waitFileChange(fsxPath)).split('\\n')\n",
    "    const [imports, code] = lines.reduce(\n",
    "        ([imports, code]: string[][], line) =>\n",
    "            /^(open|\\#r) .*?$/.test(line)\n",
    "                ? [[...imports, line], code]\n",
    "                : [imports, [...code, line]],\n",
    "            [[], []]\n",
    "    )\n",
    "    const newFsx = [...imports, '', ...code].join('\\n').trim() + \"\\n\"\n",
    "    fs.writeFileSync(newFsxPath || fsxPath, newFsx)\n",
    "    if(log) {\n",
    "        util_node.logStep('spiral_api.spiToFsx() end')\n",
    "    }\n",
    "    return newFsx\n",
    "}"
   ]
  },
  {
   "cell_type": "code",
   "execution_count": 5,
   "metadata": {
    "vscode": {
     "languageId": "javascript"
    }
   },
   "outputs": [
    {
     "data": {
      "text/plain": [
       "['0']"
      ]
     },
     "execution_count": 5,
     "metadata": {},
     "output_type": "execute_result"
    }
   ],
   "source": [
    "%%node run\n",
    "\n",
    "console.log(await spiToFsx())\n"
   ]
  },
  {
   "cell_type": "code",
   "execution_count": 6,
   "metadata": {
    "vscode": {
     "languageId": "javascript"
    }
   },
   "outputs": [
    {
     "data": {
      "text/plain": [
       "['0']"
      ]
     },
     "execution_count": 6,
     "metadata": {},
     "output_type": "execute_result"
    }
   ],
   "source": [
    "%%node run\n",
    "\n",
    "console.log(await spiToFsx(path.join(process.cwd(), '..', 'main.spi')))\n"
   ]
  },
  {
   "cell_type": "code",
   "execution_count": null,
   "metadata": {
    "vscode": {
     "languageId": "javascript"
    }
   },
   "outputs": [],
   "source": []
  }
 ],
 "metadata": {
  "interpreter": {
   "hash": "3ad933181bd8a04b432d3370b9dc3b0662ad032c4dfaa4e4f1596c548f763858"
  },
  "kernelspec": {
   "display_name": "Python 3.10.4 64-bit",
   "language": "python",
   "name": "python3"
  },
  "language_info": {
   "codemirror_mode": {
    "name": "ipython",
    "version": 3
   },
   "file_extension": ".py",
   "mimetype": "text/x-python",
   "name": "python",
   "nbconvert_exporter": "python",
   "pygments_lexer": "ipython3",
   "version": "3.10.7"
  },
  "orig_nbformat": 4
 },
 "nbformat": 4,
 "nbformat_minor": 2
}
