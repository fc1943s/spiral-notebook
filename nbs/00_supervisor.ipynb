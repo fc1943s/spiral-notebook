{
 "cells": [
  {
   "cell_type": "code",
   "execution_count": 1,
   "metadata": {},
   "outputs": [],
   "source": [
    "# default_exp supervisor"
   ]
  },
  {
   "cell_type": "code",
   "execution_count": 2,
   "metadata": {},
   "outputs": [],
   "source": [
    "import sys\n",
    "sys.path.append('..')\n",
    "import lib_py.ipython_magic as ipython_magic"
   ]
  },
  {
   "cell_type": "markdown",
   "metadata": {},
   "source": [
    "### ???"
   ]
  },
  {
   "cell_type": "code",
   "execution_count": 3,
   "metadata": {},
   "outputs": [
    {
     "name": "stdout",
     "output_type": "stream",
     "text": [
      "<magic:3e3e78e534084122bd2ab137f148d939>\n"
     ]
    },
    {
     "data": {
      "application/javascript": "IPython.notebook.save_checkpoint();",
      "text/plain": [
       "<IPython.core.display.Javascript object>"
      ]
     },
     "metadata": {},
     "output_type": "display_data"
    },
    {
     "name": "stdout",
     "output_type": "stream",
     "text": [
      "{'run_build_output': ['[\"> spi_to_fsx ()\"] [\"pwd:\", \"/home/alias/home/fs/repos/tictactoe/lib_spi\", \"spi_path:\", \"../lib_spi/supervisor/src/supervisor.spi\", \"new_fsx_path:\", \"../lib_spi/supervisor/src/supervisor.fsx\"] [\"timestamp:\", \"000000\", \"run_id:\", \"219\"]', '[\"> spi_to_fsx ()\"] [\"spi_path_clean:\", \"/home/alias/home/fs/repos/tictactoe/lib_spi/supervisor/src/supervisor.spi\"] [\"timestamp:\", \"000000\", \"run_id:\", \"185\"]', '[\"> spi_to_fsx ()\"] [\"src_path:\", \"/home/alias/home/fs/repos/tictactoe/lib_spi/supervisor/src\"] [\"timestamp:\", \"000000\", \"run_id:\", \"5\"]', '[\"> spi_to_fsx ()\"] [\"spiproj_path:\", \"/home/alias/home/fs/repos/tictactoe/lib_spi/package.spiproj\"] [\"timestamp:\", \"000000\", \"run_id:\", \"129\"]', '[\"> spi_to_fsx ()\"] [\"fsx_path:\", \"/home/alias/home/fs/repos/tictactoe/lib_spi/supervisor/src/supervisor.fsx\"] [\"timestamp:\", \"000000\", \"run_id:\", \"225\"]', '[\"> spi_to_fsx ()\"] > fs_write fsx_path \"\"; ok [\"timestamp:\", \"000000\", \"run_id:\", \"20\"]', '[\"> spiproj_open ()\"] [\"spiproj_path:\", \"/home/alias/home/fs/repos/tictactoe/lib_spi/package.spiproj\", \"spiproj_text.len():\", \"1098\"] [\"timestamp:\", \"000000\", \"run_id:\", \"25\"]', '[\"> spiproj_open ()\"] [\"json.len():\", \"1263\"] [\"timestamp:\", \"000000\", \"run_id:\", \"37\"]', '[\"> zmq_request ()\"] [\"host:\", \"localhost\", \"port:\", \"13805\", \"msg.len():\", \"1263\"] [\"timestamp:\", \"000000\", \"run_id:\", \"36\"]', '[\"> zmq_request ()\"] [\"result.len():\", \"0\"] [\"timestamp:\", \"000000\", \"run_id:\", \"36\"]', '[\"> spi_to_fsx ()\"] > spiproj_open; ok [\"timestamp:\", \"000000\", \"run_id:\", \"70\"]', '[\"> spi_build_file ()\"] [\"spi_path:\", \"/home/alias/home/fs/repos/tictactoe/lib_spi/supervisor/src/supervisor.spi\", \"backend:\", \"Fsharp\"] [\"timestamp:\", \"000000\", \"run_id:\", \"123\"]', '[\"> spi_build_file ()\"] [\"json.len():\", \"116\"] [\"timestamp:\", \"000000\", \"run_id:\", \"218\"]', '[\"> zmq_request ()\"] [\"host:\", \"localhost\", \"port:\", \"13805\", \"msg.len():\", \"116\"] [\"timestamp:\", \"000000\", \"run_id:\", \"66\"]', '[\"> zmq_request ()\"] [\"result.len():\", \"0\"] [\"timestamp:\", \"000000\", \"run_id:\", \"119\"]', '[\"> spi_to_fsx ()\"] > spi_build_file; ok [\"timestamp:\", \"000000\", \"run_id:\", \"81\"]', '[\"> wait_file_change ()\"] [\"fsx_path:\", \"/home/alias/home/fs/repos/tictactoe/lib_spi/supervisor/src/supervisor.fsx\", \"start:\", \"SystemTime { tv_sec: 1672514386, tv_nsec: 703931450 }\"] [\"timestamp:\", \"000000\", \"run_id:\", \"98\"]', '[\"> wait_file_change ()\"] [\"i:\", \"0\", \"last_modified:\", \"SystemTime { tv_sec: 1672514386, tv_nsec: 703931450 }\"] [\"timestamp:\", \"000000\", \"run_id:\", \"22\"]', '[\"> wait_file_change ()\"] [\"i:\", \"1\", \"last_modified:\", \"SystemTime { tv_sec: 1672514386, tv_nsec: 703931450 }\"] [\"timestamp:\", \"000000\", \"run_id:\", \"194\"]', '[\"> wait_file_change ()\"] [\"i:\", \"2\", \"last_modified:\", \"SystemTime { tv_sec: 1672514386, tv_nsec: 703931450 }\"] [\"timestamp:\", \"000000\", \"run_id:\", \"44\"]', '[\"> wait_file_change ()\"] [\"i:\", \"3\", \"last_modified:\", \"SystemTime { tv_sec: 1672514386, tv_nsec: 703931450 }\"] [\"timestamp:\", \"000000\", \"run_id:\", \"170\"]', '[\"> wait_file_change ()\"] [\"i:\", \"4\", \"last_modified:\", \"SystemTime { tv_sec: 1672514386, tv_nsec: 703931450 }\"] [\"timestamp:\", \"000000\", \"run_id:\", \"127\"]', '[\"> wait_file_change ()\"] [\"i:\", \"5\", \"last_modified:\", \"SystemTime { tv_sec: 1672514386, tv_nsec: 703931450 }\"] [\"timestamp:\", \"000000\", \"run_id:\", \"60\"]', '[\"> wait_file_change ()\"] [\"i:\", \"6\", \"last_modified:\", \"SystemTime { tv_sec: 1672514386, tv_nsec: 703931450 }\"] [\"timestamp:\", \"000000\", \"run_id:\", \"216\"]', '[\"> wait_file_change ()\"] [\"i:\", \"7\", \"last_modified:\", \"SystemTime { tv_sec: 1672514386, tv_nsec: 703931450 }\"] [\"timestamp:\", \"000000\", \"run_id:\", \"66\"]', '[\"> wait_file_change ()\"] [\"i:\", \"8\", \"last_modified:\", \"SystemTime { tv_sec: 1672514386, tv_nsec: 703931450 }\"] [\"timestamp:\", \"000000\", \"run_id:\", \"57\"]', '[\"> wait_file_change ()\"] [\"i:\", \"9\", \"last_modified:\", \"SystemTime { tv_sec: 1672514386, tv_nsec: 703931450 }\"] [\"timestamp:\", \"000001\", \"run_id:\", \"66\"]', '[\"> wait_file_change ()\"] [\"i:\", \"10\", \"last_modified:\", \"SystemTime { tv_sec: 1672514387, tv_nsec: 24939356 }\"] [\"timestamp:\", \"000001\", \"run_id:\", \"58\"]', '[\"> spi_to_fsx ()\"] [\"new_fsx.len():\", \"39981\"] [\"timestamp:\", \"000001\", \"run_id:\", \"156\"]', '[\"> spi_to_fsx ()\"] > fs_write new_fsx_path; ok [\"timestamp:\", \"000001\", \"run_id:\", \"135\"]', 'fsx.len(): 39981'], 'fsx_path': '../lib_spi/supervisor/src/supervisor.fsx', 'len(new_code_fsx)': 39980, 'new_code_fsx[:100]': 'type [<Struct>] US0 =\\n    | US0_0\\n    | US0_1\\n    | US0_2\\n    | US0_3\\nand [<Struct>] US1 =\\n    | US1'}\n"
     ]
    },
    {
     "data": {
      "text/plain": [
       "'../lib_spi/supervisor/src/supervisor.spi'"
      ]
     },
     "execution_count": 3,
     "metadata": {},
     "output_type": "execute_result"
    }
   ],
   "source": [
    "%%spiral ../lib_spi/supervisor/src/supervisor.spi\n",
    "\n"
   ]
  },
  {
   "cell_type": "code",
   "execution_count": 4,
   "metadata": {},
   "outputs": [
    {
     "name": "stdout",
     "output_type": "stream",
     "text": [
      "\u001b[?1h\u001b=MSBuild version 17.4.0+18d5aef85 for .NET\n",
      "  Determining projects to restore...\n",
      "  All projects are up-to-date for restore.\n",
      "\u001b[?1h\u001b=  supervisor -> /home/alias/home/fs/repos/tictactoe/lib_spi/supervisor/bin/Debug/net7.0/supervisor.dll\n",
      "\u001b[m\u001b[32m\n",
      "Build succeeded.\n",
      "\u001b[m    0 Warning(s)\n",
      "\u001b[m    0 Error(s)\n",
      "\u001b[m\n",
      "Time Elapsed 00:00:11.07\n"
     ]
    }
   ],
   "source": [
    "!dotnet build ../lib_spi/supervisor/supervisor.fsproj"
   ]
  }
 ],
 "metadata": {
  "kernelspec": {
   "display_name": "Python 3",
   "language": "python",
   "name": "python3"
  },
  "language_info": {
   "codemirror_mode": {
    "name": "ipython",
    "version": 3
   },
   "file_extension": ".py",
   "mimetype": "text/x-python",
   "name": "python",
   "nbconvert_exporter": "python",
   "pygments_lexer": "ipython3",
   "version": "3.10.9"
  },
  "polyglot_notebook": {
   "kernelInfo": {
    "defaultKernelName": "csharp",
    "items": [
     {
      "aliases": [
       "c#",
       "C#"
      ],
      "languageName": "C#",
      "name": "csharp"
     },
     {
      "aliases": [
       "frontend"
      ],
      "name": "vscode"
     },
     {
      "aliases": [],
      "name": ".NET"
     },
     {
      "aliases": [
       "f#",
       "F#"
      ],
      "languageName": "F#",
      "name": "fsharp"
     },
     {
      "aliases": [],
      "languageName": "HTML",
      "name": "html"
     },
     {
      "aliases": [
       "js"
      ],
      "languageName": "JavaScript",
      "name": "javascript"
     },
     {
      "aliases": [],
      "languageName": "KQL",
      "name": "kql"
     },
     {
      "aliases": [],
      "languageName": "Mermaid",
      "name": "mermaid"
     },
     {
      "aliases": [
       "powershell"
      ],
      "languageName": "PowerShell",
      "name": "pwsh"
     },
     {
      "aliases": [],
      "languageName": "SQL",
      "name": "sql"
     },
     {
      "aliases": [],
      "name": "value"
     },
     {
      "aliases": [],
      "name": "webview"
     }
    ]
   }
  },
  "vscode": {
   "interpreter": {
    "hash": "69712e5f5cc18cdb93e82f18d7bfde9a47d7138efae1f4b87f8f55069ac86612"
   }
  }
 },
 "nbformat": 4,
 "nbformat_minor": 2
}
