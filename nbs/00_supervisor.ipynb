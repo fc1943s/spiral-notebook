{
 "cells": [
  {
   "cell_type": "code",
   "execution_count": 1,
   "metadata": {},
   "outputs": [],
   "source": [
    "# default_exp supervisor"
   ]
  },
  {
   "cell_type": "code",
   "execution_count": 2,
   "metadata": {},
   "outputs": [],
   "source": [
    "import sys\n",
    "sys.path.append('..')\n",
    "import lib_py.ipython_magic as ipython_magic"
   ]
  },
  {
   "cell_type": "markdown",
   "metadata": {},
   "source": [
    "### ???"
   ]
  },
  {
   "cell_type": "code",
   "execution_count": 3,
   "metadata": {},
   "outputs": [
    {
     "name": "stdout",
     "output_type": "stream",
     "text": [
      "<magic:0af395eb5e2742cb831d322c762e9a9d>\n"
     ]
    },
    {
     "data": {
      "application/javascript": "IPython.notebook.save_checkpoint();",
      "text/plain": [
       "<IPython.core.display.Javascript object>"
      ]
     },
     "metadata": {},
     "output_type": "display_data"
    },
    {
     "name": "stdout",
     "output_type": "stream",
     "text": [
      "{'run_build_output': ['[> spi_to_fsx ()] \\x1b[38;2;222;136;76m[pwd=/home/alias/home/fs/repos/tictactoe/lib_spi spi_path=../lib_spi/supervisor/supervisor.spi new_fsx_path=../lib_spi/supervisor/supervisor.fsx]\\x1b[0m \\x1b[38;2;56;87;121m[timestamp=000000 run_id=13 log_level=Debug]\\x1b[0m', '[> spi_to_fsx ()] \\x1b[38;2;222;136;76m[spi_path_clean=/home/alias/home/fs/repos/tictactoe/lib_spi/supervisor/supervisor.spi]\\x1b[0m \\x1b[38;2;56;87;121m[timestamp=000000 run_id=186 log_level=Debug]\\x1b[0m', '[> spi_to_fsx ()] \\x1b[38;2;222;136;76m[src_path=/home/alias/home/fs/repos/tictactoe/lib_spi/supervisor]\\x1b[0m \\x1b[38;2;56;87;121m[timestamp=000000 run_id=246 log_level=Debug]\\x1b[0m', '[> spi_to_fsx ()] \\x1b[38;2;222;136;76m[spiproj_path=/home/alias/home/fs/repos/tictactoe/lib_spi/package.spiproj]\\x1b[0m \\x1b[38;2;56;87;121m[timestamp=000000 run_id=24 log_level=Debug]\\x1b[0m', '[> spi_to_fsx ()] \\x1b[38;2;222;136;76m[fsx_path=/home/alias/home/fs/repos/tictactoe/lib_spi/supervisor/supervisor.fsx]\\x1b[0m \\x1b[38;2;56;87;121m[timestamp=000000 run_id=190 log_level=Debug]\\x1b[0m', '[> spi_to_fsx ()] \\x1b[38;2;222;136;76m[> fs_write fsx_path \"\"; ok]\\x1b[0m \\x1b[38;2;56;87;121m[timestamp=000000 run_id=18 log_level=Debug]\\x1b[0m', '[> spiproj_open ()] \\x1b[38;2;227;106;98m[spiproj_path=/home/alias/home/fs/repos/tictactoe/lib_spi/package.spiproj spiproj_text len=1108]\\x1b[0m \\x1b[38;2;56;87;121m[timestamp=000000 run_id=128 log_level=Debug]\\x1b[0m', '[> spiproj_open ()] \\x1b[38;2;227;106;98m[json len==1275]\\x1b[0m \\x1b[38;2;56;87;121m[timestamp=000000 run_id=110 log_level=Debug]\\x1b[0m', '[> zmq_request ()] \\x1b[38;2;252;251;27m[host=localhost port=13805 msg len=1275]\\x1b[0m \\x1b[38;2;56;87;121m[timestamp=000000 run_id=5 log_level=Debug]\\x1b[0m', '[> zmq_request ()] \\x1b[38;2;252;251;27m[result len=0]\\x1b[0m \\x1b[38;2;56;87;121m[timestamp=000000 run_id=19 log_level=Debug]\\x1b[0m', '[> spi_to_fsx ()] \\x1b[38;2;222;136;76m[> spiproj_open; ok]\\x1b[0m \\x1b[38;2;56;87;121m[timestamp=000000 run_id=92 log_level=Debug]\\x1b[0m', '[> spi_build_file ()] \\x1b[38;2;152;213;239m[spi_path=/home/alias/home/fs/repos/tictactoe/lib_spi/supervisor/supervisor.spi backend=Fsharp]\\x1b[0m \\x1b[38;2;56;87;121m[timestamp=000000 run_id=66 log_level=Debug]\\x1b[0m', '[> spi_build_file ()] \\x1b[38;2;152;213;239m[json len=112]\\x1b[0m \\x1b[38;2;56;87;121m[timestamp=000000 run_id=139 log_level=Debug]\\x1b[0m', '[> zmq_request ()] \\x1b[38;2;252;251;27m[host=localhost port=13805 msg len=112]\\x1b[0m \\x1b[38;2;56;87;121m[timestamp=000000 run_id=76 log_level=Debug]\\x1b[0m', '[> zmq_request ()] \\x1b[38;2;252;251;27m[result len=0]\\x1b[0m \\x1b[38;2;56;87;121m[timestamp=000000 run_id=48 log_level=Debug]\\x1b[0m', '[> spi_to_fsx ()] \\x1b[38;2;222;136;76m[> spi_build_file; ok]\\x1b[0m \\x1b[38;2;56;87;121m[timestamp=000000 run_id=216 log_level=Debug]\\x1b[0m', '[> wait_file_change ()] \\x1b[38;2;56;121;87m[fsx_path=/home/alias/home/fs/repos/tictactoe/lib_spi/supervisor/supervisor.fsx start=SystemTime { tv_sec: 1674646697 tv_nsec: 327648183 }]\\x1b[0m \\x1b[38;2;56;87;121m[timestamp=000000 run_id=127 log_level=Debug]\\x1b[0m', '[> wait_file_change ()] \\x1b[38;2;56;121;87m[i=0 last_modified=SystemTime { tv_sec: 1674646697 tv_nsec: 327648183 }]\\x1b[0m \\x1b[38;2;56;87;121m[timestamp=000000 run_id=87 log_level=Debug]\\x1b[0m', '[> wait_file_change ()] \\x1b[38;2;56;121;87m[i=1 last_modified=SystemTime { tv_sec: 1674646697 tv_nsec: 327648183 }]\\x1b[0m \\x1b[38;2;56;87;121m[timestamp=000000 run_id=70 log_level=Debug]\\x1b[0m', '[> wait_file_change ()] \\x1b[38;2;56;121;87m[i=2 last_modified=SystemTime { tv_sec: 1674646697 tv_nsec: 327648183 }]\\x1b[0m \\x1b[38;2;56;87;121m[timestamp=000000 run_id=207 log_level=Debug]\\x1b[0m', '[> wait_file_change ()] \\x1b[38;2;56;121;87m[i=3 last_modified=SystemTime { tv_sec: 1674646697 tv_nsec: 327648183 }]\\x1b[0m \\x1b[38;2;56;87;121m[timestamp=000000 run_id=142 log_level=Debug]\\x1b[0m', '[> wait_file_change ()] \\x1b[38;2;56;121;87m[i=4 last_modified=SystemTime { tv_sec: 1674646697 tv_nsec: 327648183 }]\\x1b[0m \\x1b[38;2;56;87;121m[timestamp=000000 run_id=4 log_level=Debug]\\x1b[0m', '[> wait_file_change ()] \\x1b[38;2;56;121;87m[i=5 last_modified=SystemTime { tv_sec: 1674646697 tv_nsec: 327648183 }]\\x1b[0m \\x1b[38;2;56;87;121m[timestamp=000000 run_id=109 log_level=Debug]\\x1b[0m', '[> wait_file_change ()] \\x1b[38;2;56;121;87m[i=6 last_modified=SystemTime { tv_sec: 1674646697 tv_nsec: 327648183 }]\\x1b[0m \\x1b[38;2;56;87;121m[timestamp=000000 run_id=64 log_level=Debug]\\x1b[0m', '[> wait_file_change ()] \\x1b[38;2;56;121;87m[i=7 last_modified=SystemTime { tv_sec: 1674646697 tv_nsec: 327648183 }]\\x1b[0m \\x1b[38;2;56;87;121m[timestamp=000000 run_id=1 log_level=Debug]\\x1b[0m', '[> wait_file_change ()] \\x1b[38;2;56;121;87m[i=8 last_modified=SystemTime { tv_sec: 1674646697 tv_nsec: 548658571 }]\\x1b[0m \\x1b[38;2;56;87;121m[timestamp=000000 run_id=183 log_level=Debug]\\x1b[0m', '[> spi_to_fsx ()] \\x1b[38;2;222;136;76m[new_fsx len=99674]\\x1b[0m \\x1b[38;2;56;87;121m[timestamp=000000 run_id=232 log_level=Debug]\\x1b[0m', '[> spi_to_fsx ()] \\x1b[38;2;222;136;76m[> fs_write new_fsx_path; ok]\\x1b[0m \\x1b[38;2;56;87;121m[timestamp=000000 run_id=73 log_level=Debug]\\x1b[0m', 'fsx.len(): 99674'], 'fsx_path': '../lib_spi/supervisor/supervisor.fsx', 'len(new_code_fsx)': 99673, 'new_code_fsx[:100]': 'type [<Struct>] US0 =\\n    | US0_0\\n    | US0_1\\nand [<Struct>] US1 =\\n    | US1_0\\n    | US1_1 of f1_0 :'}\n"
     ]
    },
    {
     "data": {
      "text/plain": [
       "'../lib_spi/supervisor/supervisor.spi'"
      ]
     },
     "execution_count": 3,
     "metadata": {},
     "output_type": "execute_result"
    }
   ],
   "source": [
    "%%spiral ../lib_spi/supervisor/supervisor.spi\n",
    "\n"
   ]
  },
  {
   "cell_type": "code",
   "execution_count": 4,
   "metadata": {},
   "outputs": [
    {
     "name": "stdout",
     "output_type": "stream",
     "text": [
      "\u001b[?1h\u001b=MSBuild version 17.4.0+18d5aef85 for .NET\n",
      "  Determining projects to restore...\n",
      "  Restored /home/alias/home/fs/repos/tictactoe/lib_spi/supervisor/supervisor.fsproj (in 252 ms).\n",
      "\u001b[?1h\u001b=  supervisor -> /home/alias/home/fs/repos/tictactoe/lib_spi/supervisor/bin/Debug/net7.0/supervisor.dll\n",
      "\u001b[m\u001b[32m\n",
      "Build succeeded.\n",
      "\u001b[m    0 Warning(s)\n",
      "\u001b[m    0 Error(s)\n",
      "\u001b[m\n",
      "Time Elapsed 00:00:05.10\n"
     ]
    }
   ],
   "source": [
    "!dotnet build ../lib_spi/supervisor/supervisor.fsproj"
   ]
  }
 ],
 "metadata": {
  "kernelspec": {
   "display_name": "Python 3",
   "language": "python",
   "name": "python3"
  },
  "language_info": {
   "codemirror_mode": {
    "name": "ipython",
    "version": 3
   },
   "file_extension": ".py",
   "mimetype": "text/x-python",
   "name": "python",
   "nbconvert_exporter": "python",
   "pygments_lexer": "ipython3",
   "version": "3.10.9"
  },
  "polyglot_notebook": {
   "kernelInfo": {
    "defaultKernelName": "csharp",
    "items": [
     {
      "aliases": [
       "c#",
       "C#"
      ],
      "languageName": "C#",
      "name": "csharp"
     },
     {
      "aliases": [
       "frontend"
      ],
      "name": "vscode"
     },
     {
      "aliases": [],
      "name": ".NET"
     },
     {
      "aliases": [
       "f#",
       "F#"
      ],
      "languageName": "F#",
      "name": "fsharp"
     },
     {
      "aliases": [],
      "languageName": "HTML",
      "name": "html"
     },
     {
      "aliases": [
       "js"
      ],
      "languageName": "JavaScript",
      "name": "javascript"
     },
     {
      "aliases": [],
      "languageName": "KQL",
      "name": "kql"
     },
     {
      "aliases": [],
      "languageName": "Mermaid",
      "name": "mermaid"
     },
     {
      "aliases": [
       "powershell"
      ],
      "languageName": "PowerShell",
      "name": "pwsh"
     },
     {
      "aliases": [],
      "languageName": "SQL",
      "name": "sql"
     },
     {
      "aliases": [],
      "name": "value"
     },
     {
      "aliases": [],
      "name": "webview"
     }
    ]
   }
  },
  "vscode": {
   "interpreter": {
    "hash": "3fe098a60de41da4d418149dd85333239847aa92272c8f79d3c6f03653219927"
   }
  }
 },
 "nbformat": 4,
 "nbformat_minor": 2
}
