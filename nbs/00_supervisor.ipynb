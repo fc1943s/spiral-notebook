{
 "cells": [
  {
   "cell_type": "code",
   "execution_count": 5,
   "metadata": {},
   "outputs": [],
   "source": [
    "# default_exp supervisor"
   ]
  },
  {
   "cell_type": "code",
   "execution_count": 6,
   "metadata": {},
   "outputs": [],
   "source": [
    "import sys\n",
    "sys.path.append('..')\n",
    "import lib_py.ipython_magic as ipython_magic"
   ]
  },
  {
   "cell_type": "markdown",
   "metadata": {},
   "source": [
    "### ???"
   ]
  },
  {
   "cell_type": "code",
   "execution_count": 7,
   "metadata": {},
   "outputs": [
    {
     "name": "stdout",
     "output_type": "stream",
     "text": [
      "{'run_build_output': ['[\"> spi_to_fsx ()\"] [\"pwd:\", \"/home/alias/home/fs/repos/tictactoe/lib_spi\", \"spi_path:\", \"../lib_spi/supervisor/supervisor.spi\", \"new_fsx_path:\", \"../lib_spi/supervisor/supervisor.fsx\"] [\"timestamp:\", \"000000\", \"run_id:\", \"159\"]', '[\"> spi_to_fsx ()\"] [\"spi_path_clean:\", \"/home/alias/home/fs/repos/tictactoe/lib_spi/supervisor/supervisor.spi\"] [\"timestamp:\", \"000000\", \"run_id:\", \"166\"]', '[\"> spi_to_fsx ()\"] [\"src_path:\", \"/home/alias/home/fs/repos/tictactoe/lib_spi/supervisor\"] [\"timestamp:\", \"000000\", \"run_id:\", \"92\"]', '[\"> spi_to_fsx ()\"] [\"spiproj_path:\", \"/home/alias/home/fs/repos/tictactoe/lib_spi/package.spiproj\"] [\"timestamp:\", \"000000\", \"run_id:\", \"159\"]', '[\"> spi_to_fsx ()\"] [\"fsx_path:\", \"/home/alias/home/fs/repos/tictactoe/lib_spi/supervisor/supervisor.fsx\"] [\"timestamp:\", \"000000\", \"run_id:\", \"19\"]', '[\"> spi_to_fsx ()\"] > fs_write fsx_path \"\"; ok [\"timestamp:\", \"000000\", \"run_id:\", \"97\"]', '[\"> spiproj_open ()\"] [\"spiproj_path:\", \"/home/alias/home/fs/repos/tictactoe/lib_spi/package.spiproj\", \"spiproj_text.len():\", \"1085\"] [\"timestamp:\", \"000000\", \"run_id:\", \"155\"]', '[\"> spiproj_open ()\"] [\"json.len():\", \"1250\"] [\"timestamp:\", \"000000\", \"run_id:\", \"122\"]', '[\"> zmq_request ()\"] [\"host:\", \"localhost\", \"port:\", \"13805\", \"msg.len():\", \"1250\"] [\"timestamp:\", \"000000\", \"run_id:\", \"102\"]', '[\"> zmq_request ()\"] [\"result.len():\", \"0\"] [\"timestamp:\", \"000000\", \"run_id:\", \"77\"]', '[\"> spi_to_fsx ()\"] > spiproj_open; ok [\"timestamp:\", \"000000\", \"run_id:\", \"192\"]', '[\"> spi_build_file ()\"] [\"spi_path:\", \"/home/alias/home/fs/repos/tictactoe/lib_spi/supervisor/supervisor.spi\", \"backend:\", \"Fsharp\"] [\"timestamp:\", \"000000\", \"run_id:\", \"224\"]', '[\"> spi_build_file ()\"] [\"json.len():\", \"112\"] [\"timestamp:\", \"000000\", \"run_id:\", \"116\"]', '[\"> zmq_request ()\"] [\"host:\", \"localhost\", \"port:\", \"13805\", \"msg.len():\", \"112\"] [\"timestamp:\", \"000000\", \"run_id:\", \"57\"]', '[\"> zmq_request ()\"] [\"result.len():\", \"0\"] [\"timestamp:\", \"000000\", \"run_id:\", \"73\"]', '[\"> spi_to_fsx ()\"] > spi_build_file; ok [\"timestamp:\", \"000000\", \"run_id:\", \"78\"]', '[\"> wait_file_change ()\"] [\"fsx_path:\", \"/home/alias/home/fs/repos/tictactoe/lib_spi/supervisor/supervisor.fsx\", \"start:\", \"SystemTime { tv_sec: 1672666857, tv_nsec: 443091625 }\"] [\"timestamp:\", \"000000\", \"run_id:\", \"13\"]', '[\"> wait_file_change ()\"] [\"i:\", \"0\", \"last_modified:\", \"SystemTime { tv_sec: 1672666857, tv_nsec: 443091625 }\"] [\"timestamp:\", \"000000\", \"run_id:\", \"236\"]', '[\"> wait_file_change ()\"] [\"i:\", \"1\", \"last_modified:\", \"SystemTime { tv_sec: 1672666857, tv_nsec: 443091625 }\"] [\"timestamp:\", \"000000\", \"run_id:\", \"40\"]', '[\"> wait_file_change ()\"] [\"i:\", \"2\", \"last_modified:\", \"SystemTime { tv_sec: 1672666857, tv_nsec: 443091625 }\"] [\"timestamp:\", \"000000\", \"run_id:\", \"250\"]', '[\"> wait_file_change ()\"] [\"i:\", \"3\", \"last_modified:\", \"SystemTime { tv_sec: 1672666857, tv_nsec: 443091625 }\"] [\"timestamp:\", \"000000\", \"run_id:\", \"121\"]', '[\"> wait_file_change ()\"] [\"i:\", \"4\", \"last_modified:\", \"SystemTime { tv_sec: 1672666857, tv_nsec: 575093209 }\"] [\"timestamp:\", \"000000\", \"run_id:\", \"189\"]', '[\"> spi_to_fsx ()\"] [\"new_fsx.len():\", \"39981\"] [\"timestamp:\", \"000000\", \"run_id:\", \"154\"]', '[\"> spi_to_fsx ()\"] > fs_write new_fsx_path; ok [\"timestamp:\", \"000000\", \"run_id:\", \"210\"]', 'fsx.len(): 39981'], 'fsx_path': '../lib_spi/supervisor/supervisor.fsx', 'len(new_code_fsx)': 39980, 'new_code_fsx[:100]': 'type [<Struct>] US0 =\\n    | US0_0\\n    | US0_1\\n    | US0_2\\n    | US0_3\\nand [<Struct>] US1 =\\n    | US1'}\n"
     ]
    },
    {
     "data": {
      "text/plain": [
       "'../lib_spi/supervisor/supervisor.spi'"
      ]
     },
     "execution_count": 7,
     "metadata": {},
     "output_type": "execute_result"
    }
   ],
   "source": [
    "%%spiral ../lib_spi/supervisor/supervisor.spi\n",
    "\n"
   ]
  },
  {
   "cell_type": "code",
   "execution_count": 8,
   "metadata": {},
   "outputs": [
    {
     "name": "stdout",
     "output_type": "stream",
     "text": [
      "\u001b[?1h\u001b=MSBuild version 17.4.0+18d5aef85 for .NET\n",
      "  Determining projects to restore...\n",
      "  All projects are up-to-date for restore.\n",
      "\u001b[?1h\u001b=  supervisor -> /home/alias/home/fs/repos/tictactoe/lib_spi/supervisor/bin/Debug/net7.0/supervisor.dll\n",
      "\u001b[m\u001b[32m\n",
      "Build succeeded.\n",
      "\u001b[m    0 Warning(s)\n",
      "\u001b[m    0 Error(s)\n",
      "\u001b[m\n",
      "Time Elapsed 00:00:08.09\n"
     ]
    }
   ],
   "source": [
    "!dotnet build ../lib_spi/supervisor/supervisor.fsproj"
   ]
  }
 ],
 "metadata": {
  "kernelspec": {
   "display_name": "Python 3",
   "language": "python",
   "name": "python3"
  },
  "language_info": {
   "codemirror_mode": {
    "name": "ipython",
    "version": 3
   },
   "file_extension": ".py",
   "mimetype": "text/x-python",
   "name": "python",
   "nbconvert_exporter": "python",
   "pygments_lexer": "ipython3",
   "version": "3.10.9"
  },
  "polyglot_notebook": {
   "kernelInfo": {
    "defaultKernelName": "csharp",
    "items": [
     {
      "aliases": [
       "c#",
       "C#"
      ],
      "languageName": "C#",
      "name": "csharp"
     },
     {
      "aliases": [
       "frontend"
      ],
      "name": "vscode"
     },
     {
      "aliases": [],
      "name": ".NET"
     },
     {
      "aliases": [
       "f#",
       "F#"
      ],
      "languageName": "F#",
      "name": "fsharp"
     },
     {
      "aliases": [],
      "languageName": "HTML",
      "name": "html"
     },
     {
      "aliases": [
       "js"
      ],
      "languageName": "JavaScript",
      "name": "javascript"
     },
     {
      "aliases": [],
      "languageName": "KQL",
      "name": "kql"
     },
     {
      "aliases": [],
      "languageName": "Mermaid",
      "name": "mermaid"
     },
     {
      "aliases": [
       "powershell"
      ],
      "languageName": "PowerShell",
      "name": "pwsh"
     },
     {
      "aliases": [],
      "languageName": "SQL",
      "name": "sql"
     },
     {
      "aliases": [],
      "name": "value"
     },
     {
      "aliases": [],
      "name": "webview"
     }
    ]
   }
  },
  "vscode": {
   "interpreter": {
    "hash": "69712e5f5cc18cdb93e82f18d7bfde9a47d7138efae1f4b87f8f55069ac86612"
   }
  }
 },
 "nbformat": 4,
 "nbformat_minor": 2
}
