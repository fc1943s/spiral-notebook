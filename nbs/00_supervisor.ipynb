{
 "cells": [
  {
   "cell_type": "code",
   "execution_count": 1,
   "metadata": {},
   "outputs": [],
   "source": [
    "# default_exp supervisor"
   ]
  },
  {
   "cell_type": "code",
   "execution_count": 2,
   "metadata": {},
   "outputs": [],
   "source": [
    "import sys\n",
    "sys.path.append('..')\n",
    "import lib_py.ipython_magic as ipython_magic"
   ]
  },
  {
   "cell_type": "markdown",
   "metadata": {},
   "source": [
    "### ???"
   ]
  },
  {
   "cell_type": "code",
   "execution_count": 3,
   "metadata": {
    "vscode": {
     "languageId": "bat"
    }
   },
   "outputs": [
    {
     "name": "stdout",
     "output_type": "stream",
     "text": [
      "<magic:3f4214fc1c954904b38d90e8d9dc82c0>\n"
     ]
    },
    {
     "data": {
      "application/javascript": "IPython.notebook.save_checkpoint();",
      "text/plain": [
       "<IPython.core.display.Javascript object>"
      ]
     },
     "metadata": {},
     "output_type": "display_data"
    },
    {
     "name": "stdout",
     "output_type": "stream",
     "text": [
      "{'run_build_output': ['src_path: /workspaces/tictactoe_spiral/lib_spi/supervisor/src', 'spiproj_path: /workspaces/tictactoe_spiral/lib_spi/package.spiproj', 'fsx_path: /workspaces/tictactoe_spiral/lib_spi/supervisor/src/main.fsx', 'write ok. fsx_path: /workspaces/tictactoe_spiral/lib_spi/supervisor/src/main.fsx', 'zmq_request. result: ', 'open ok. spiproj_path: /workspaces/tictactoe_spiral/lib_spi/package.spiproj', 'zmq_request. result: ', 'build ok. spi_path: /workspaces/tictactoe_spiral/lib_spi/supervisor/src/main.spi', 'waiting for file change. start: SystemTime { tv_sec: 1670954146, tv_nsec: 725995540 }', 'waiting for file change. last_modified: SystemTime { tv_sec: 1670954147, tv_nsec: 934005138 } lines.len(): 3', 'lines.len(): 3', 'write ok. new_fsx_path=../lib_spi/supervisor/src/main.fsx fsx_path=/workspaces/tictactoe_spiral/lib_spi/supervisor/src/main.fsx new_fsx.len()=3', 'fsx.len(): 3'], 'fsx_path': '../lib_spi/supervisor/src/main.fsx', 'len(new_code_fsx)': 2, 'new_code_fsx[:100]': '()'}\n"
     ]
    },
    {
     "data": {
      "text/plain": [
       "'../lib_spi/supervisor/src/main.spi'"
      ]
     },
     "execution_count": 3,
     "metadata": {},
     "output_type": "execute_result"
    }
   ],
   "source": [
    "%%spiral ../lib_spi/supervisor/src/main.spi\n",
    "\n"
   ]
  },
  {
   "cell_type": "code",
   "execution_count": 5,
   "metadata": {},
   "outputs": [
    {
     "name": "stdout",
     "output_type": "stream",
     "text": [
      "\u001b[?1h\u001b=MSBuild version 17.4.0+18d5aef85 for .NET\r\n",
      "  Determining projects to restore...\r\n",
      "  All projects are up-to-date for restore.\r\n",
      "  Fable.SignalR -> /workspaces/tictactoe_spiral/deps/Fable.SignalR/bin/Debug/net7.0/Fable.SignalR.dll\r\n",
      "\u001b[m\u001b[33m/workspaces/tictactoe_spiral/lib_spi/ui/components'.fsx(1513,26): warning FS1104: Identifiers containing '@' are reserved for use in F# code generation [/workspaces/tictactoe_spiral/lib_spi/package.fsproj]\r\n",
      "\u001b[m\u001b[m\u001b[33m/workspaces/tictactoe_spiral/lib_spi/ui/components'.fsx(1513,42): warning FS1104: Identifiers containing '@' are reserved for use in F# code generation [/workspaces/tictactoe_spiral/lib_spi/package.fsproj]\r\n",
      "\u001b[m\u001b[m\u001b[33m/workspaces/tictactoe_spiral/lib_spi/ui/components'.fsx(1513,26): warning FS1104: Identifiers containing '@' are reserved for use in F# code generation [/workspaces/tictactoe_spiral/lib_spi/package.fsproj]\r\n",
      "\u001b[m\u001b[m\u001b[33m/workspaces/tictactoe_spiral/lib_spi/ui/components'.fsx(1513,42): warning FS1104: Identifiers containing '@' are reserved for use in F# code generation [/workspaces/tictactoe_spiral/lib_spi/package.fsproj]\r\n",
      "\u001b[m\u001b[?1h\u001b=\u001b[m\u001b[31m/usr/local/dotnet/7.0.100/sdk/7.0.100/FSharp/Microsoft.FSharp.Targets(325,9): error MSB6006: \"dotnet\" exited with code 137. [/workspaces/tictactoe_spiral/lib_spi/package.fsproj]\r\n",
      "\u001b[m\r\n",
      "Build FAILED.\r\n",
      "\u001b[m\r\n",
      "\u001b[m\u001b[33m/workspaces/tictactoe_spiral/lib_spi/ui/components'.fsx(1513,26): warning FS1104: Identifiers containing '@' are reserved for use in F# code generation [/workspaces/tictactoe_spiral/lib_spi/package.fsproj]\r\n",
      "/workspaces/tictactoe_spiral/lib_spi/ui/components'.fsx(1513,42): warning FS1104: Identifiers containing '@' are reserved for use in F# code generation [/workspaces/tictactoe_spiral/lib_spi/package.fsproj]\r\n",
      "/workspaces/tictactoe_spiral/lib_spi/ui/components'.fsx(1513,26): warning FS1104: Identifiers containing '@' are reserved for use in F# code generation [/workspaces/tictactoe_spiral/lib_spi/package.fsproj]\r\n",
      "/workspaces/tictactoe_spiral/lib_spi/ui/components'.fsx(1513,42): warning FS1104: Identifiers containing '@' are reserved for use in F# code generation [/workspaces/tictactoe_spiral/lib_spi/package.fsproj]\r\n",
      "\u001b[m\u001b[31m/usr/local/dotnet/7.0.100/sdk/7.0.100/FSharp/Microsoft.FSharp.Targets(325,9): error MSB6006: \"dotnet\" exited with code 137. [/workspaces/tictactoe_spiral/lib_spi/package.fsproj]\r\n",
      "\u001b[m\u001b[m\u001b[33m    4 Warning(s)\r\n",
      "\u001b[m\u001b[m\u001b[31m    1 Error(s)\r\n",
      "\u001b[m\r\n",
      "Time Elapsed 00:01:03.84\r\n"
     ]
    }
   ],
   "source": [
    "!dotnet build ../lib_spi/package.fsproj"
   ]
  }
 ],
 "metadata": {
  "kernelspec": {
   "display_name": "Python 3",
   "language": "python",
   "name": "python3"
  },
  "language_info": {
   "codemirror_mode": {
    "name": "ipython",
    "version": 3
   },
   "file_extension": ".py",
   "mimetype": "text/x-python",
   "name": "python",
   "nbconvert_exporter": "python",
   "pygments_lexer": "ipython3",
   "version": "3.10.4"
  },
  "orig_nbformat": 4,
  "vscode": {
   "interpreter": {
    "hash": "3ad933181bd8a04b432d3370b9dc3b0662ad032c4dfaa4e4f1596c548f763858"
   }
  }
 },
 "nbformat": 4,
 "nbformat_minor": 2
}
