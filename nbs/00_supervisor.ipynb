{
 "cells": [
  {
   "cell_type": "code",
   "execution_count": 1,
   "metadata": {},
   "outputs": [],
   "source": [
    "# default_exp supervisor"
   ]
  },
  {
   "cell_type": "code",
   "execution_count": 2,
   "metadata": {},
   "outputs": [],
   "source": [
    "import sys\n",
    "sys.path.append('..')\n",
    "import lib_py.ipython_magic as ipython_magic"
   ]
  },
  {
   "cell_type": "markdown",
   "metadata": {},
   "source": [
    "### ???"
   ]
  },
  {
   "cell_type": "code",
   "execution_count": 3,
   "metadata": {},
   "outputs": [
    {
     "name": "stdout",
     "output_type": "stream",
     "text": [
      "<magic:9a1cb29d3ac943d6a60d5da72edcfd9b>\n"
     ]
    },
    {
     "data": {
      "application/javascript": "IPython.notebook.save_checkpoint();",
      "text/plain": [
       "<IPython.core.display.Javascript object>"
      ]
     },
     "metadata": {},
     "output_type": "display_data"
    },
    {
     "name": "stdout",
     "output_type": "stream",
     "text": [
      "{'run_build_output': ['[\"> spi_to_fsx ()\"] [\"pwd:\", \"/home/alias/home/fs/repos/tictactoe/lib_spi\", \"spi_path:\", \"../lib_spi/supervisor/supervisor.spi\", \"new_fsx_path:\", \"../lib_spi/supervisor/supervisor.fsx\"] [\"timestamp:\", \"000000\", \"run_id:\", \"76\"]', '[\"> spi_to_fsx ()\"] [\"spi_path_clean:\", \"/home/alias/home/fs/repos/tictactoe/lib_spi/supervisor/supervisor.spi\"] [\"timestamp:\", \"000000\", \"run_id:\", \"140\"]', '[\"> spi_to_fsx ()\"] [\"src_path:\", \"/home/alias/home/fs/repos/tictactoe/lib_spi/supervisor\"] [\"timestamp:\", \"000000\", \"run_id:\", \"116\"]', '[\"> spi_to_fsx ()\"] [\"spiproj_path:\", \"/home/alias/home/fs/repos/tictactoe/lib_spi/package.spiproj\"] [\"timestamp:\", \"000000\", \"run_id:\", \"211\"]', '[\"> spi_to_fsx ()\"] [\"fsx_path:\", \"/home/alias/home/fs/repos/tictactoe/lib_spi/supervisor/supervisor.fsx\"] [\"timestamp:\", \"000000\", \"run_id:\", \"27\"]', '[\"> spi_to_fsx ()\"] > fs_write fsx_path \"\"; ok [\"timestamp:\", \"000000\", \"run_id:\", \"188\"]', '[\"> spiproj_open ()\"] [\"spiproj_path:\", \"/home/alias/home/fs/repos/tictactoe/lib_spi/package.spiproj\", \"spiproj_text.len():\", \"1108\"] [\"timestamp:\", \"000000\", \"run_id:\", \"237\"]', '[\"> spiproj_open ()\"] [\"json.len():\", \"1275\"] [\"timestamp:\", \"000000\", \"run_id:\", \"92\"]', '[\"> zmq_request ()\"] [\"host:\", \"localhost\", \"port:\", \"13805\", \"msg.len():\", \"1275\"] [\"timestamp:\", \"000000\", \"run_id:\", \"36\"]', '[\"> zmq_request ()\"] [\"result.len():\", \"0\"] [\"timestamp:\", \"000000\", \"run_id:\", \"245\"]', '[\"> spi_to_fsx ()\"] > spiproj_open; ok [\"timestamp:\", \"000000\", \"run_id:\", \"26\"]', '[\"> spi_build_file ()\"] [\"spi_path:\", \"/home/alias/home/fs/repos/tictactoe/lib_spi/supervisor/supervisor.spi\", \"backend:\", \"Fsharp\"] [\"timestamp:\", \"000000\", \"run_id:\", \"205\"]', '[\"> spi_build_file ()\"] [\"json.len():\", \"112\"] [\"timestamp:\", \"000000\", \"run_id:\", \"123\"]', '[\"> zmq_request ()\"] [\"host:\", \"localhost\", \"port:\", \"13805\", \"msg.len():\", \"112\"] [\"timestamp:\", \"000000\", \"run_id:\", \"91\"]', '[\"> zmq_request ()\"] [\"result.len():\", \"0\"] [\"timestamp:\", \"000000\", \"run_id:\", \"42\"]', '[\"> spi_to_fsx ()\"] > spi_build_file; ok [\"timestamp:\", \"000000\", \"run_id:\", \"162\"]', '[\"> wait_file_change ()\"] [\"fsx_path:\", \"/home/alias/home/fs/repos/tictactoe/lib_spi/supervisor/supervisor.fsx\", \"start:\", \"SystemTime { tv_sec: 1673633645, tv_nsec: 721384607 }\"] [\"timestamp:\", \"000000\", \"run_id:\", \"235\"]', '[\"> wait_file_change ()\"] [\"i:\", \"0\", \"last_modified:\", \"SystemTime { tv_sec: 1673633645, tv_nsec: 721384607 }\"] [\"timestamp:\", \"000000\", \"run_id:\", \"205\"]', '[\"> wait_file_change ()\"] [\"i:\", \"1\", \"last_modified:\", \"SystemTime { tv_sec: 1673633645, tv_nsec: 721384607 }\"] [\"timestamp:\", \"000000\", \"run_id:\", \"108\"]', '[\"> wait_file_change ()\"] [\"i:\", \"2\", \"last_modified:\", \"SystemTime { tv_sec: 1673633645, tv_nsec: 721384607 }\"] [\"timestamp:\", \"000000\", \"run_id:\", \"93\"]', '[\"> wait_file_change ()\"] [\"i:\", \"3\", \"last_modified:\", \"SystemTime { tv_sec: 1673633645, tv_nsec: 721384607 }\"] [\"timestamp:\", \"000000\", \"run_id:\", \"210\"]', '[\"> wait_file_change ()\"] [\"i:\", \"4\", \"last_modified:\", \"SystemTime { tv_sec: 1673633645, tv_nsec: 721384607 }\"] [\"timestamp:\", \"000000\", \"run_id:\", \"120\"]', '[\"> wait_file_change ()\"] [\"i:\", \"5\", \"last_modified:\", \"SystemTime { tv_sec: 1673633645, tv_nsec: 851385034 }\"] [\"timestamp:\", \"000000\", \"run_id:\", \"73\"]', '[\"> spi_to_fsx ()\"] [\"new_fsx.len():\", \"32768\"] [\"timestamp:\", \"000000\", \"run_id:\", \"89\"]', '[\"> spi_to_fsx ()\"] > fs_write new_fsx_path; ok [\"timestamp:\", \"000000\", \"run_id:\", \"224\"]', 'fsx.len(): 32768'], 'fsx_path': '../lib_spi/supervisor/supervisor.fsx', 'len(new_code_fsx)': 240800, 'new_code_fsx[:100]': 'type [<Struct>] US0 =\\n    | US0_0\\n    | US0_1 of f1_0 : string\\nand Mut0 = {mutable l0 : int32; mutab'}\n"
     ]
    },
    {
     "data": {
      "text/plain": [
       "'../lib_spi/supervisor/supervisor.spi'"
      ]
     },
     "execution_count": 3,
     "metadata": {},
     "output_type": "execute_result"
    }
   ],
   "source": [
    "%%spiral ../lib_spi/supervisor/supervisor.spi\n",
    "\n"
   ]
  },
  {
   "cell_type": "code",
   "execution_count": 4,
   "metadata": {},
   "outputs": [
    {
     "name": "stdout",
     "output_type": "stream",
     "text": [
      "\u001b[?1h\u001b=MSBuild version 17.4.0+18d5aef85 for .NET\n",
      "  Determining projects to restore...\n",
      "  All projects are up-to-date for restore.\n",
      "\u001b[?1h\u001b=  supervisor -> /home/alias/home/fs/repos/tictactoe/lib_spi/supervisor/bin/Debug/net7.0/supervisor.dll\n",
      "\u001b[m\u001b[32m\n",
      "Build succeeded.\n",
      "\u001b[m    0 Warning(s)\n",
      "\u001b[m    0 Error(s)\n",
      "\u001b[m\n",
      "Time Elapsed 00:01:46.46\n"
     ]
    }
   ],
   "source": [
    "!dotnet build ../lib_spi/supervisor/supervisor.fsproj"
   ]
  }
 ],
 "metadata": {
  "kernelspec": {
   "display_name": "Python 3",
   "language": "python",
   "name": "python3"
  },
  "language_info": {
   "codemirror_mode": {
    "name": "ipython",
    "version": 3
   },
   "file_extension": ".py",
   "mimetype": "text/x-python",
   "name": "python",
   "nbconvert_exporter": "python",
   "pygments_lexer": "ipython3",
   "version": "3.10.9"
  },
  "polyglot_notebook": {
   "kernelInfo": {
    "defaultKernelName": "csharp",
    "items": [
     {
      "aliases": [
       "c#",
       "C#"
      ],
      "languageName": "C#",
      "name": "csharp"
     },
     {
      "aliases": [
       "frontend"
      ],
      "name": "vscode"
     },
     {
      "aliases": [],
      "name": ".NET"
     },
     {
      "aliases": [
       "f#",
       "F#"
      ],
      "languageName": "F#",
      "name": "fsharp"
     },
     {
      "aliases": [],
      "languageName": "HTML",
      "name": "html"
     },
     {
      "aliases": [
       "js"
      ],
      "languageName": "JavaScript",
      "name": "javascript"
     },
     {
      "aliases": [],
      "languageName": "KQL",
      "name": "kql"
     },
     {
      "aliases": [],
      "languageName": "Mermaid",
      "name": "mermaid"
     },
     {
      "aliases": [
       "powershell"
      ],
      "languageName": "PowerShell",
      "name": "pwsh"
     },
     {
      "aliases": [],
      "languageName": "SQL",
      "name": "sql"
     },
     {
      "aliases": [],
      "name": "value"
     },
     {
      "aliases": [],
      "name": "webview"
     }
    ]
   }
  },
  "vscode": {
   "interpreter": {
    "hash": "69712e5f5cc18cdb93e82f18d7bfde9a47d7138efae1f4b87f8f55069ac86612"
   }
  }
 },
 "nbformat": 4,
 "nbformat_minor": 2
}
