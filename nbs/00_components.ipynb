{
 "cells": [
  {
   "cell_type": "code",
   "execution_count": 1,
   "metadata": {},
   "outputs": [],
   "source": [
    "# default_exp components"
   ]
  },
  {
   "cell_type": "code",
   "execution_count": 2,
   "metadata": {},
   "outputs": [],
   "source": [
    "import sys\n",
    "sys.path.append('..')\n",
    "import lib_py.ipython_magic as ipython_magic"
   ]
  },
  {
   "cell_type": "markdown",
   "metadata": {},
   "source": [
    "### ???"
   ]
  },
  {
   "cell_type": "code",
   "execution_count": 3,
   "metadata": {
    "vscode": {
     "languageId": "bat"
    }
   },
   "outputs": [
    {
     "name": "stdout",
     "output_type": "stream",
     "text": [
      "<magic:25055b6b05684e1cb014cf0774919512>\n"
     ]
    },
    {
     "data": {
      "application/javascript": "IPython.notebook.save_checkpoint();",
      "text/plain": [
       "<IPython.core.display.Javascript object>"
      ]
     },
     "metadata": {},
     "output_type": "display_data"
    },
    {
     "name": "stdout",
     "output_type": "stream",
     "text": [
      "{'run_build_output': ['src_path: /workspaces/tictactoe_spiral/lib_spi/ui', 'spiproj_path: /workspaces/tictactoe_spiral/lib_spi/package.spiproj', \"fsx_path: /workspaces/tictactoe_spiral/lib_spi/ui/components'.fsx\", \"write ok. fsx_path: /workspaces/tictactoe_spiral/lib_spi/ui/components'.fsx\", 'zmq_request. result: ', 'open ok. spiproj_path: /workspaces/tictactoe_spiral/lib_spi/package.spiproj', 'zmq_request. result: ', \"build ok. spi_path: /workspaces/tictactoe_spiral/lib_spi/ui/components'.spi\", 'waiting for file change. start: SystemTime { tv_sec: 1670719944, tv_nsec: 611651444 }', 'waiting for file change. last_modified: SystemTime { tv_sec: 1670719945, tv_nsec: 791657332 } lines.len(): 753579', 'lines.len(): 753579', \"write ok. new_fsx_path=../lib_spi/ui/components'.fsx fsx_path=/workspaces/tictactoe_spiral/lib_spi/ui/components'.fsx new_fsx.len()=753579\", 'fsx.len(): 753579'], 'fsx_path': \"../lib_spi/ui/components'.fsx\", 'len(new_code_fsx)': 753578, 'new_code_fsx[:100]': 'type Mut0 = {mutable l0 : obj}\\nand [<Struct>] US1 =\\n    | US1_0\\n    | US1_1\\nand [<Struct>] US0 =\\n   '}\n"
     ]
    },
    {
     "data": {
      "text/plain": [
       "\"../lib_spi/ui/components'.spi\""
      ]
     },
     "execution_count": 3,
     "metadata": {},
     "output_type": "execute_result"
    }
   ],
   "source": [
    "%%spiral ../lib_spi/ui/components'.spi\n",
    "\n"
   ]
  },
  {
   "cell_type": "code",
   "execution_count": 4,
   "metadata": {
    "vscode": {
     "languageId": "shellscript"
    }
   },
   "outputs": [
    {
     "name": "stdout",
     "output_type": "stream",
     "text": [
      "\u001b[?1h\u001b=\u001b[6n\u001b[6n\u001b[?1h\u001b=\u001b[?1h\u001b=Fable: F# to TypeScript compiler 4.0.0-theta-018 (status: alpha)\n",
      "Thanks to the contributor! @SCullman\n",
      "Stand with Ukraine! https://standwithukraine.com.ua/\n",
      "\n",
      "Parsing ../lib_spi/package.fsproj...\n",
      "Retrieving project options from cache, in case of issues run `dotnet fable clean` or try `--noCache` option.\n",
      "Project and references (31 source files) parsed in 446ms\n",
      "\n",
      "Started Fable compilation...\n",
      "\u001b[6n\u001b[6n\u001b[1;1HCompiled 1/31: ../lib_ts/fable_modules/Fable.Promise.3.2.0/PromiseImpl.fs\u001b[1;1HCompiled 2/31: ../lib_ts/fable_modules/Fable.Remoting.MsgPack.1.18.0/TypeShape.fs...\u001b[2;1HCompiled 3/31: ../lib_ts/fable_modules/Fable.Remoting.MsgPack.1.18.0/TypeShapeUti...\u001b[3;1HCompiled 4/31: ../lib_ts/fable_modules/Fable.Parsimmon.4.1.0/Parsimmon.fs\u001b[3;1HCompiled 5/31: ../lib_ts/fable_modules/Fable.Promise.3.2.0/Promise.fs    \u001b[3;70H\u001b[3;1HCompiled 6/31: ../lib_ts/fable_modules/Fable.Promise.3.2.0/AsyncIterable.fs\u001b[3;1HCompiled 7/31: ../lib_ts/fable_modules/Fable.Remoting.MsgPack.1.18.0/Format.fs\u001b[3;1HCompiled 8/31: ../lib_ts/fable_modules/Fable.SimpleJson.3.24.0/TypeCheck.fs   \u001b[3;76H\u001b[3;1HCompiled 9/31: ../lib_ts/fable_modules/Fable.SimpleJson.3.24.0/TypeInfo.fs \u001b[3;75H\u001b[3;1HCompiled 10/31: ../lib_ts/fable_modules/Fable.SimpleJson.3.24.0/Json.fs   \u001b[3;72H\u001b[3;1HCompiled 11/31: ../lib_ts/fable_modules/Fable.SimpleJson.3.24.0/TypeInfo.Converte...\u001b[4;1HCompiled 12/31: ../lib_ts/fable_modules/Fable.SimpleJson.3.24.0/SimpleJson.fs\u001b[4;1HCompiled 13/31: ../lib_ts/fable_modules/Fable.Remoting.MsgPack.1.18.0/Write.fs\u001b[4;1HCompiled 14/31: ../lib_ts/fable_modules/Fable.Solid.1.0.0-beta-004/Solid.fs   \u001b[4;76H\u001b[4;1HCompiled 15/31: ../lib_ts/fable_modules/Feliz.JSX.Solid.1.0.0-beta-002/Util.fs\u001b[4;1HCompiled 16/31: ../lib_ts/fable_modules/Feliz.JSX.Solid.1.0.0-beta-002/Css.fs \u001b[4;78H\u001b[4;1HCompiled 17/31: ../lib_ts/fable_modules/Feliz.JSX.Solid.1.0.0-beta-002/Html.fs\u001b[4;1HCompiled 18/31: ../lib_ts/fable_modules/Feliz.JSX.Solid.1.0.0-beta-002/Svg.fs \u001b[4;78H\u001b[4;1HCompiled 19/31: ../lib_ts/fable_modules/Fable.SimpleJson.3.24.0/Parser.fs    \u001b[4;74H\u001b[4;1HCompiled 20/31: ../lib_ts/fable_modules/Fable.Remoting.MsgPack.1.18.0/Read.fs\u001b[4;1HCompiled 21/31: ../lib_ts/fable_modules/Fable.SimpleJson.3.24.0/Json.Converter.fs...\u001b[5;1HCompiled 22/31: ../lib_ts/fable_modules/Feliz.JSX.Solid.1.0.0-beta-002/Attribute....\u001b[6;1HCompiled 23/31: ../lib_ts/fable_modules/Feliz.JSX.Solid.1.0.0-beta-002/Event.fs\u001b[6;1HCompiled 24/31: ../deps/Fable.SignalR/Shared.fs                                \u001b[6;48H\u001b[6;1HCompiled 25/31: ../deps/Fable.SignalR/Types.fs \u001b[6;47H\u001b[6;1HCompiled 26/31: ../deps/Fable.SignalR/HttpClient.fs\u001b[6;1HCompiled 27/31: ../deps/Fable.SignalR/HubConnection.fs\u001b[6;1HCompiled 28/31: ../deps/Fable.SignalR/Protocols.fs    \u001b[6;51H\u001b[6;1HCompiled 29/31: ../deps/Fable.SignalR/SignalR.fs  \u001b[6;49H\u001b[6;1HCompiled 30/31: ../lib_spi/peer.fsx             \u001b[6;36H\u001b[6;1HCompiled 31/31: ../lib_spi/ui/components'.fsx\u001b[6;1H                                             \u001b[6;1HFable compilation finished in 32127ms\n",
      "\n",
      "\u001b[m\u001b[33m./../lib_spi/ui/components'.fsx(1513,26): (1513,35) warning FSHARP: Identifiers containing '@' are reserved for use in F# code generation (code 1104)\n",
      "\u001b[m\u001b[m\u001b[33m./../lib_spi/ui/components'.fsx(1513,42): (1513,49) warning FSHARP: Identifiers containing '@' are reserved for use in F# code generation (code 1104)\n",
      "\u001b[m\u001b[?1h\u001b=\u001b[?1h\u001b=\u001b]0;\u0007\u001b[0m\u001b[2m\u001b[35m$\u001b[0m \u001b[2m\u001b[1mbun run replace-ts1 && bun run replace-ts2\u001b[0m\n",
      "\u001b[0m\u001b[2m\u001b[35m$\u001b[0m \u001b[2m\u001b[1mreplace-in-files --regex='\\.js.;' --replacement='.ts\";' '../lib_ts/fable_modules/fable-library-ts/lib/*.js'\u001b[0m\n",
      "\u001b[0m\u001b[2m\u001b[35m$\u001b[0m \u001b[2m\u001b[1mreplace-in-files --regex='\\.fs\\.js\";' --replacement='.tsx\";' '../lib_ts/**/*.tsx'\u001b[0m\n"
     ]
    }
   ],
   "source": [
    "!pwsh ../lib_spi/build-ts.ps1\n",
    "!cd ../web && bun run pre-build"
   ]
  }
 ],
 "metadata": {
  "kernelspec": {
   "display_name": "Python 3.10.7 64-bit",
   "language": "python",
   "name": "python3"
  },
  "language_info": {
   "codemirror_mode": {
    "name": "ipython",
    "version": 3
   },
   "file_extension": ".py",
   "mimetype": "text/x-python",
   "name": "python",
   "nbconvert_exporter": "python",
   "pygments_lexer": "ipython3",
   "version": "3.10.4"
  },
  "orig_nbformat": 4,
  "vscode": {
   "interpreter": {
    "hash": "3ad933181bd8a04b432d3370b9dc3b0662ad032c4dfaa4e4f1596c548f763858"
   }
  }
 },
 "nbformat": 4,
 "nbformat_minor": 2
}
