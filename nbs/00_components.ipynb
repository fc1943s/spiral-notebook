{
 "cells": [
  {
   "cell_type": "code",
   "execution_count": 41,
   "metadata": {},
   "outputs": [],
   "source": [
    "# default_exp components"
   ]
  },
  {
   "cell_type": "code",
   "execution_count": 42,
   "metadata": {},
   "outputs": [],
   "source": [
    "import sys\n",
    "sys.path.append('..')\n",
    "import lib_py.ipython_magic as ipython_magic"
   ]
  },
  {
   "cell_type": "markdown",
   "metadata": {},
   "source": [
    "# ???"
   ]
  },
  {
   "cell_type": "code",
   "execution_count": 43,
   "metadata": {
    "vscode": {
     "languageId": "bat"
    }
   },
   "outputs": [
    {
     "name": "stdout",
     "output_type": "stream",
     "text": [
      "{'run_node_output': [], 'fsx_path': '/workspaces/tictactoe_spiral/lib_fsx/components_spi.fsx', 'len(new_code_fsx)': 150715, 'new_code_fsx[:100]': '#r \"nuget: Feliz.JSX.Solid, 1.0.0-beta-001\"\\nopen System\\nopen Fable.Core\\nopen Fable.Core.JsInterop\\nop'}\n"
     ]
    },
    {
     "data": {
      "text/plain": [
       "'/workspaces/tictactoe_spiral/main.spi'"
      ]
     },
     "execution_count": 43,
     "metadata": {},
     "output_type": "execute_result"
    }
   ],
   "source": [
    "%%spiral\n",
    "\n",
    "\n",
    "open lib_spi\n",
    "open lib_spi.real_util\n",
    "open lib_spi.console_fsx\n",
    "open lib_spi.js\n",
    "open lib_spi.ui.solid\n",
    "open lib_spi.ui.state\n",
    "open lib_spi.ui.components.base_button\n",
    "open lib_spi.ui.components.base_table\n",
    "open lib_spi.ui.components.external_link\n",
    "open lib_spi.ui.components.links\n",
    "open lib_spi.ui.components.loader\n",
    "open lib_spi.ui.components.row\n",
    "\n",
    "\n",
    "inl imports () =\n",
    "    $\"#r \\\"nuget: Feliz.JSX.Solid, 1.0.0-beta-001\\\"\"\n",
    "    $\"open System\"\n",
    "    $\"open Fable.Core\"\n",
    "    $\"open Fable.Core.JsInterop\"\n",
    "    $\"open Feliz.JSX.Solid\"\n",
    "\n",
    "inl tests () =\n",
    "    typecheck_props ()\n",
    "\n",
    "    inl a = 1i32\n",
    "    inl b = 1i32\n",
    "    test (a = b)\n",
    "\n",
    "\n",
    "inl main () =\n",
    "    print_static \"<>\"\n",
    "\n",
    "    inl result = mut { obj = $\"JS.undefined\" }\n",
    "\n",
    "    imports ()\n",
    "    tests ()\n",
    "\n",
    "    inl empty_state' = empty_state ()\n",
    "    inl store = create_storeon (heap empty_state' |> to_any)\n",
    "\n",
    "    inl result_obj = create_obj (a ;[\n",
    "        new_js_obj_prop \"base_button\" base_button\n",
    "        new_js_obj_prop \"base_table\" base_table\n",
    "        new_js_obj_prop \"create_obj_props\" create_obj_props\n",
    "        new_js_obj_prop \"create_storeon\" create_storeon\n",
    "        new_js_obj_prop \"external_link\" external_link\n",
    "        new_js_obj_prop \"links\" links\n",
    "        new_js_obj_prop \"loader\" loader\n",
    "        new_js_obj_prop \"row\" row\n",
    "        new_js_obj_prop \"store\" store\n",
    "    ])\n",
    "    result.obj <- result_obj\n",
    "\n",
    "    print_static \"</>\"\n"
   ]
  },
  {
   "cell_type": "code",
   "execution_count": 44,
   "metadata": {
    "vscode": {
     "languageId": "shellscript"
    }
   },
   "outputs": [
    {
     "name": "stdout",
     "output_type": "stream",
     "text": [
      "\u001b[?1h\u001b=\u001b[6n\u001b[6n\u001b[?1h\u001b=\u001b[?1h\u001b=Fable: F# to TypeScript compiler 4.0.0-theta-003\n",
      "Thanks to the contributor! @2sComplement\n",
      "Stand with Ukraine! https://standwithukraine.com.ua/\n",
      "\n",
      "Parsing ../lib_fsx/tictactoe_spiral.fsproj...\n",
      "Retrieving project options from cache, in case of issues run `dotnet fable clean` or try `--noCache` option.\n",
      "Project and references (8 source files) parsed in 183ms\n",
      "\n",
      "Started Fable compilation...\n",
      "\u001b[6n\u001b[6n\u001b[1;1HCompiled 1/8: ../lib_ts/fable_modules/Feliz.JSX.Solid.1.0.0-beta-001/Util.fs\u001b[1;1HCompiled 2/8: ../lib_ts/fable_modules/Fable.Solid.1.0.0-beta-001/Solid.fs   \u001b[1;74H\u001b[1;1HCompiled 3/8: ../lib_ts/fable_modules/Feliz.JSX.Solid.1.0.0-beta-001/Html.fs\u001b[1;1HCompiled 4/8: ../lib_ts/fable_modules/Feliz.JSX.Solid.1.0.0-beta-001/Svg.fs \u001b[1;76H\u001b[1;1HCompiled 5/8: ../lib_ts/fable_modules/Feliz.JSX.Solid.1.0.0-beta-001/Attribute.fs...\u001b[2;1HCompiled 6/8: ../lib_ts/fable_modules/Feliz.JSX.Solid.1.0.0-beta-001/Css.fs\u001b[2;1HCompiled 7/8: ../lib_ts/fable_modules/Feliz.JSX.Solid.1.0.0-beta-001/Event.fs\u001b[2;1HCompiled 8/8: ../lib_fsx/components_spi.fsx                                  \u001b[2;44H\u001b[2;1H                                           \u001b[2;1HFable compilation finished in 13926ms\n",
      "\n",
      "\u001b[m\u001b[33m./../lib_fsx/components_spi.fsx(1734,31): (1734,38) warning FSHARP: The identifier 'checked' is reserved for future use by F# (code 46)\n",
      "\u001b[m\u001b[m\u001b[33m./../lib_fsx/components_spi.fsx(2919,43): (2919,55) warning FSHARP: Identifiers containing '@' are reserved for use in F# code generation (code 1104)\n",
      "\u001b[m\u001b[m\u001b[33m./../lib_fsx/components_spi.fsx(2919,63): (2919,70) warning FSHARP: Identifiers containing '@' are reserved for use in F# code generation (code 1104)\n",
      "\u001b[m\u001b[m\u001b[33m./../lib_fsx/components_spi.fsx(3119,27): (3119,39) warning FSHARP: Identifiers containing '@' are reserved for use in F# code generation (code 1104)\n",
      "\u001b[m\u001b[m\u001b[33m./../lib_fsx/components_spi.fsx(3119,47): (3119,54) warning FSHARP: Identifiers containing '@' are reserved for use in F# code generation (code 1104)\n",
      "\u001b[m\u001b[?1h\u001b=\u001b[?1h\u001b=\u001b]0;\u0007"
     ]
    }
   ],
   "source": [
    "!pwsh ../build-fsx-ts.ps1"
   ]
  },
  {
   "cell_type": "code",
   "execution_count": 45,
   "metadata": {
    "vscode": {
     "languageId": "shellscript"
    }
   },
   "outputs": [],
   "source": [
    "# !dotnet build ../lib_fsx"
   ]
  }
 ],
 "metadata": {
  "kernelspec": {
   "display_name": "Python 3.10.7 64-bit",
   "language": "python",
   "name": "python3"
  },
  "language_info": {
   "codemirror_mode": {
    "name": "ipython",
    "version": 3
   },
   "file_extension": ".py",
   "mimetype": "text/x-python",
   "name": "python",
   "nbconvert_exporter": "python",
   "pygments_lexer": "ipython3",
   "version": "3.10.7"
  },
  "orig_nbformat": 4,
  "vscode": {
   "interpreter": {
    "hash": "3ad933181bd8a04b432d3370b9dc3b0662ad032c4dfaa4e4f1596c548f763858"
   }
  }
 },
 "nbformat": 4,
 "nbformat_minor": 2
}
