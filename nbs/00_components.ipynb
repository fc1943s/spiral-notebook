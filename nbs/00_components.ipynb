{
 "cells": [
  {
   "cell_type": "code",
   "execution_count": 1,
   "metadata": {},
   "outputs": [],
   "source": [
    "# default_exp components"
   ]
  },
  {
   "cell_type": "code",
   "execution_count": 2,
   "metadata": {},
   "outputs": [],
   "source": [
    "import sys\n",
    "sys.path.append('..')\n",
    "import lib_py.ipython_magic as ipython_magic"
   ]
  },
  {
   "cell_type": "markdown",
   "metadata": {},
   "source": [
    "# ???"
   ]
  },
  {
   "cell_type": "code",
   "execution_count": 3,
   "metadata": {
    "vscode": {
     "languageId": "bat"
    }
   },
   "outputs": [
    {
     "name": "stdout",
     "output_type": "stream",
     "text": [
      "<magic:0e61ece09bec4ad690f11ddaceb35cfb>\n"
     ]
    },
    {
     "data": {
      "application/javascript": "IPython.notebook.save_checkpoint();",
      "text/plain": [
       "<IPython.core.display.Javascript object>"
      ]
     },
     "metadata": {},
     "output_type": "display_data"
    },
    {
     "name": "stdout",
     "output_type": "stream",
     "text": [
      "{'run_node_output': [], 'fsx_path': '/workspaces/tictactoe_spiral/lib_fsx/components_spi.fsx', 'len(new_code_fsx)': 764637, 'new_code_fsx[:100]': '#r \"nuget: Feliz.JSX.Solid, 1.0.0-beta-002\"\\n#r \"nuget: Fable.Promise, 3.2.0\"\\nopen System\\nopen Fable.'}\n"
     ]
    },
    {
     "data": {
      "text/plain": [
       "'/workspaces/tictactoe_spiral/main.spi'"
      ]
     },
     "execution_count": 3,
     "metadata": {},
     "output_type": "execute_result"
    }
   ],
   "source": [
    "%%spiral\n",
    "\n",
    "\n",
    "open lib_spi\n",
    "open lib_spi.real_util\n",
    "open lib_spi.console_fsx\n",
    "open lib_spi.js\n",
    "open lib_spi.real_js\n",
    "open lib_spi.ui.solid\n",
    "open lib_spi.ui.real_solid\n",
    "open lib_spi.ui.real_state\n",
    "open lib_spi.ui.state\n",
    "open lib_spi.ui.components.content\n",
    "open lib_spi.ui.components.db_listener\n",
    "open lib_spi.ui.components.loader\n",
    "\n",
    "\n",
    "inl imports () =\n",
    "    $\"#r \\\"nuget: Feliz.JSX.Solid, 1.0.0-beta-002\\\"\"\n",
    "    $\"#r \\\"nuget: Fable.Promise, 3.2.0\\\"\"\n",
    "    $\"open System\"\n",
    "    $\"open Fable.Core\"\n",
    "    $\"open Fable.Core.JsInterop\"\n",
    "    $\"open Feliz.JSX.Solid\"\n",
    "\n",
    "inl tests () =\n",
    "    typecheck_props ()\n",
    "\n",
    "    inl a = 1i32\n",
    "    inl b = 1i32\n",
    "    test (a = b)\n",
    "\n",
    "inl main () =\n",
    "    print_static \"<>\"\n",
    "\n",
    "    inl result = mut { obj = $\"JS.undefined\" : any }\n",
    "\n",
    "    imports ()\n",
    "    tests ()\n",
    "\n",
    "    inl env_prop : js_obj_prop = real new_js_obj_prop `any \"env\" ($\"emitJsExpr () \\\"process.env\\\"\" : any)\n",
    "    inl result_obj : any = real\n",
    "        create_obj (a `i32 `js_obj_prop (\n",
    "            ;[\n",
    "                env_prop\n",
    "            ] : array js_obj_prop\n",
    "        ))\n",
    "    $\"Browser.Dom.window?components_spi <- !result_obj\"\n",
    "\n",
    "    inl run_id = real random ()\n",
    "\n",
    "    inl ~state_context = real real_create_context `(`(new_state_context ()))\n",
    "\n",
    "    inl new_state_context_any () : any =\n",
    "        real new_state_context_any ()\n",
    "\n",
    "    inl result_obj : any = real\n",
    "        create_obj (a `i32 `js_obj_prop (\n",
    "            ;[\n",
    "                new_js_obj_prop `(mut solid_props -> jsx_element) \"content\" content\n",
    "                new_js_obj_prop `(mut () -> jsx_element) \"db_listener\" db_listener\n",
    "                new_js_obj_prop `i32 \"run_id\" run_id\n",
    "                new_js_obj_prop `(() -> any) \"new_state_context_any\" new_state_context_any\n",
    "                new_js_obj_prop `any \"state_context\" state_context\n",
    "                env_prop\n",
    "            ] : array js_obj_prop\n",
    "        ))\n",
    "    $\"Browser.Dom.window?components_spi <- !result_obj\"\n",
    "    result.obj <- result_obj\n",
    "\n",
    "    print_static \"</>\"\n"
   ]
  },
  {
   "cell_type": "code",
   "execution_count": 4,
   "metadata": {
    "vscode": {
     "languageId": "shellscript"
    }
   },
   "outputs": [
    {
     "name": "stdout",
     "output_type": "stream",
     "text": [
      "\u001b[?1h\u001b=\u001b[6n\u001b[6n\u001b[?1h\u001b=\u001b[?1h\u001b=Fable: F# to TypeScript compiler 4.0.0-theta-018 (status: alpha)\n",
      "Thanks to the contributor! @pauldorehill\n",
      "Stand with Ukraine! https://standwithukraine.com.ua/\n",
      "\n",
      "Parsing ../lib_fsx/tictactoe_spiral.fsproj...\n",
      "Retrieving project options from cache, in case of issues run `dotnet fable clean` or try `--noCache` option.\n",
      "Project and references (11 source files) parsed in 416ms\n",
      "\n",
      "Started Fable compilation...\n",
      "\u001b[6n\u001b[6n\u001b[1;1HCompiled 1/11: ../lib_ts/fable_modules/Fable.Promise.3.2.0/AsyncIterable.fs\u001b[1;1HCompiled 2/11: ../lib_ts/fable_modules/Fable.Solid.1.0.0-beta-001/Solid.fs \u001b[1;75H\u001b[1;1HCompiled 3/11: ../lib_ts/fable_modules/Fable.Promise.3.2.0/Promise.fs     \u001b[1;70H\u001b[1;1HCompiled 4/11: ../lib_ts/fable_modules/Fable.Promise.3.2.0/PromiseImpl.fs\u001b[1;1HCompiled 5/11: ../lib_ts/fable_modules/Feliz.JSX.Solid.1.0.0-beta-002/Util.fs\u001b[1;1HCompiled 6/11: ../lib_ts/fable_modules/Feliz.JSX.Solid.1.0.0-beta-002/Html.fs\u001b[1;1HCompiled 7/11: ../lib_ts/fable_modules/Feliz.JSX.Solid.1.0.0-beta-002/Svg.fs \u001b[1;77H\u001b[1;1HCompiled 8/11: ../lib_ts/fable_modules/Feliz.JSX.Solid.1.0.0-beta-002/Css.fs\u001b[1;1HCompiled 9/11: ../lib_ts/fable_modules/Feliz.JSX.Solid.1.0.0-beta-002/Attribute.f...\u001b[2;1HCompiled 10/11: ../lib_ts/fable_modules/Feliz.JSX.Solid.1.0.0-beta-002/Event.fs\u001b[2;1HCompiled 11/11: ../lib_fsx/components_spi.fsx                                  \u001b[2;46H\u001b[2;1H                                             \u001b[2;1HFable compilation finished in 34334ms\n",
      "\n",
      "\u001b[m\u001b[33m./../lib_fsx/components_spi.fsx(1593,26): (1593,38) warning FSHARP: Identifiers containing '@' are reserved for use in F# code generation (code 1104)\n",
      "\u001b[m\u001b[m\u001b[33m./../lib_fsx/components_spi.fsx(1593,45): (1593,52) warning FSHARP: Identifiers containing '@' are reserved for use in F# code generation (code 1104)\n",
      "\u001b[m\u001b[m\u001b[33m./../lib_fsx/components_spi.fsx(1596,26): (1596,38) warning FSHARP: Identifiers containing '@' are reserved for use in F# code generation (code 1104)\n",
      "\u001b[m\u001b[m\u001b[33m./../lib_fsx/components_spi.fsx(1596,45): (1596,52) warning FSHARP: Identifiers containing '@' are reserved for use in F# code generation (code 1104)\n",
      "\u001b[m\u001b[m\u001b[33m./../lib_fsx/components_spi.fsx(1646,31): (1646,38) warning FSHARP: The identifier 'checked' is reserved for future use by F# (code 46)\n",
      "\u001b[m\u001b[?1h\u001b=\u001b[?1h\u001b=\u001b]0;\u0007"
     ]
    }
   ],
   "source": [
    "!pwsh ../build-fsx-ts.ps1"
   ]
  },
  {
   "cell_type": "code",
   "execution_count": 5,
   "metadata": {
    "vscode": {
     "languageId": "shellscript"
    }
   },
   "outputs": [],
   "source": [
    "# !dotnet build ../lib_fsx"
   ]
  }
 ],
 "metadata": {
  "kernelspec": {
   "display_name": "Python 3.10.7 64-bit",
   "language": "python",
   "name": "python3"
  },
  "language_info": {
   "codemirror_mode": {
    "name": "ipython",
    "version": 3
   },
   "file_extension": ".py",
   "mimetype": "text/x-python",
   "name": "python",
   "nbconvert_exporter": "python",
   "pygments_lexer": "ipython3",
   "version": "3.10.7"
  },
  "orig_nbformat": 4,
  "vscode": {
   "interpreter": {
    "hash": "eb4a0ac80907d7f44e1a5e88d3d3381b33e3dbedd3a24d113e876f30a0c46bee"
   }
  }
 },
 "nbformat": 4,
 "nbformat_minor": 2
}
