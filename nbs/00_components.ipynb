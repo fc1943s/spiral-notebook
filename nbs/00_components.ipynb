{
 "cells": [
  {
   "cell_type": "code",
   "execution_count": 1,
   "metadata": {},
   "outputs": [],
   "source": [
    "# default_exp components"
   ]
  },
  {
   "cell_type": "code",
   "execution_count": 2,
   "metadata": {},
   "outputs": [],
   "source": [
    "import sys\n",
    "sys.path.append('..')\n",
    "import lib_py.ipython_magic as ipython_magic"
   ]
  },
  {
   "cell_type": "markdown",
   "metadata": {},
   "source": [
    "# ???"
   ]
  },
  {
   "cell_type": "code",
   "execution_count": 3,
   "metadata": {
    "vscode": {
     "languageId": "bat"
    }
   },
   "outputs": [
    {
     "name": "stdout",
     "output_type": "stream",
     "text": [
      "<magic:9731e6c7d4e2485aa50f2ee2bcc3ba89>\n"
     ]
    },
    {
     "data": {
      "application/javascript": "IPython.notebook.save_checkpoint();",
      "text/plain": [
       "<IPython.core.display.Javascript object>"
      ]
     },
     "metadata": {},
     "output_type": "display_data"
    },
    {
     "name": "stdout",
     "output_type": "stream",
     "text": [
      "{'run_node_output': [], 'fsx_path': '/workspaces/tictactoe_spiral/lib_fsx/components_spi.fsx', 'len(new_code_fsx)': 293750, 'new_code_fsx[:100]': '#r \"nuget: Feliz.JSX.Solid, 1.0.0-beta-001\"\\nopen System\\nopen Fable.Core\\nopen Fable.Core.JsInterop\\nop'}\n"
     ]
    },
    {
     "data": {
      "text/plain": [
       "'/workspaces/tictactoe_spiral/main.spi'"
      ]
     },
     "execution_count": 3,
     "metadata": {},
     "output_type": "execute_result"
    }
   ],
   "source": [
    "%%spiral\n",
    "\n",
    "\n",
    "open lib_spi\n",
    "open lib_spi.real_util\n",
    "open lib_spi.console_fsx\n",
    "open lib_spi.js\n",
    "open lib_spi.real_js\n",
    "open lib_spi.ui.solid\n",
    "open lib_spi.ui.real_solid\n",
    "open lib_spi.ui.state\n",
    "open lib_spi.ui.store\n",
    "open lib_spi.ui.components.content\n",
    "open lib_spi.ui.components.db_listener\n",
    "open lib_spi.ui.components.loader\n",
    "\n",
    "\n",
    "inl imports () =\n",
    "    $\"#r \\\"nuget: Feliz.JSX.Solid, 1.0.0-beta-001\\\"\"\n",
    "    $\"open System\"\n",
    "    $\"open Fable.Core\"\n",
    "    $\"open Fable.Core.JsInterop\"\n",
    "    $\"open Feliz.JSX.Solid\"\n",
    "\n",
    "inl tests () =\n",
    "    typecheck_props ()\n",
    "\n",
    "    inl a = 1i32\n",
    "    inl b = 1i32\n",
    "    test (a = b)\n",
    "\n",
    "\n",
    "inl main () =\n",
    "    print_static \"<>\"\n",
    "\n",
    "    inl result = mut { obj = $\"JS.undefined\" : any }\n",
    "\n",
    "    imports ()\n",
    "    tests ()\n",
    "\n",
    "    let store =\n",
    "        empty_state ()\n",
    "        |> mut\n",
    "        |> real to_any `(mut state__)\n",
    "        |> join create_storeon\n",
    "    inl run_id = real random ()\n",
    "\n",
    "    inl result_obj : any = real\n",
    "        create_obj (a `i32 `js_obj_prop (\n",
    "            ;[\n",
    "                real new_js_obj_prop `(mut_props -> jsx_element) \"db_listener\" (db_listener store)\n",
    "                real new_js_obj_prop `(mut_props -> jsx_element) \"content\" content\n",
    "                // real new_js_obj_prop `(mut_props -> jsx_element) \"loader\" loader\n",
    "                real new_js_obj_prop `any \"store\" store\n",
    "                real new_js_obj_prop `i32 \"run_id\" run_id\n",
    "                real new_js_obj_prop `any \"env\" ($\"emitJsExpr () \\\"process.env\\\"\" : any)\n",
    "            ] : array js_obj_prop\n",
    "        ))\n",
    "    result.obj <- result_obj\n",
    "    $\"Browser.Dom.window?components_spi <- !result_obj\"\n",
    "\n",
    "    print_static \"</>\"\n"
   ]
  },
  {
   "cell_type": "code",
   "execution_count": 4,
   "metadata": {
    "vscode": {
     "languageId": "shellscript"
    }
   },
   "outputs": [
    {
     "name": "stdout",
     "output_type": "stream",
     "text": [
      "\u001b[?1h\u001b=\u001b[6n\u001b[6n\u001b[?1h\u001b=\u001b[?1h\u001b=Fable: F# to TypeScript compiler 4.0.0-theta-012 (status: alpha)\n",
      "Thanks to the contributor! @Booksbaum\n",
      "Stand with Ukraine! https://standwithukraine.com.ua/\n",
      "\n",
      "Parsing ../lib_fsx/tictactoe_spiral.fsproj...\n",
      "Retrieving project options from cache, in case of issues run `dotnet fable clean` or try `--noCache` option.\n",
      "Project and references (8 source files) parsed in 145ms\n",
      "\n",
      "Started Fable compilation...\n",
      "\u001b[6n\u001b[6n\u001b[1;1HCompiled 1/8: ../lib_ts/fable_modules/Feliz.JSX.Solid.1.0.0-beta-001/Util.fs\u001b[1;1HCompiled 2/8: ../lib_ts/fable_modules/Fable.Solid.1.0.0-beta-001/Solid.fs   \u001b[1;74H\u001b[1;1HCompiled 3/8: ../lib_ts/fable_modules/Feliz.JSX.Solid.1.0.0-beta-001/Html.fs\u001b[1;1HCompiled 4/8: ../lib_ts/fable_modules/Feliz.JSX.Solid.1.0.0-beta-001/Svg.fs \u001b[1;76H\u001b[1;1HCompiled 5/8: ../lib_ts/fable_modules/Feliz.JSX.Solid.1.0.0-beta-001/Css.fs\u001b[1;1HCompiled 6/8: ../lib_ts/fable_modules/Feliz.JSX.Solid.1.0.0-beta-001/Attribute.fs...\u001b[2;1HCompiled 7/8: ../lib_ts/fable_modules/Feliz.JSX.Solid.1.0.0-beta-001/Event.fs\u001b[2;1HCompiled 8/8: ../lib_fsx/components_spi.fsx                                  \u001b[2;44H\u001b[2;1H                                           \u001b[2;1HFable compilation finished in 17526ms\n",
      "\n",
      "\u001b[m\u001b[33m./../lib_fsx/components_spi.fsx(1397,31): (1397,38) warning FSHARP: The identifier 'checked' is reserved for future use by F# (code 46)\n",
      "\u001b[m\u001b[m\u001b[33m./../lib_fsx/components_spi.fsx(1478,35): (1478,47) warning FSHARP: Identifiers containing '@' are reserved for use in F# code generation (code 1104)\n",
      "\u001b[m\u001b[m\u001b[33m./../lib_fsx/components_spi.fsx(1478,55): (1478,62) warning FSHARP: Identifiers containing '@' are reserved for use in F# code generation (code 1104)\n",
      "\u001b[m\u001b[m\u001b[33m./../lib_fsx/components_spi.fsx(2325,27): (2325,39) warning FSHARP: Identifiers containing '@' are reserved for use in F# code generation (code 1104)\n",
      "\u001b[m\u001b[m\u001b[33m./../lib_fsx/components_spi.fsx(2325,47): (2325,54) warning FSHARP: Identifiers containing '@' are reserved for use in F# code generation (code 1104)\n",
      "\u001b[m\u001b[?1h\u001b=\u001b[?1h\u001b=\u001b]0;\u0007"
     ]
    }
   ],
   "source": [
    "!pwsh ../build-fsx-ts.ps1"
   ]
  },
  {
   "cell_type": "code",
   "execution_count": 5,
   "metadata": {
    "vscode": {
     "languageId": "shellscript"
    }
   },
   "outputs": [],
   "source": [
    "# !dotnet build ../lib_fsx"
   ]
  }
 ],
 "metadata": {
  "kernelspec": {
   "display_name": "Python 3.10.7 64-bit",
   "language": "python",
   "name": "python3"
  },
  "language_info": {
   "codemirror_mode": {
    "name": "ipython",
    "version": 3
   },
   "file_extension": ".py",
   "mimetype": "text/x-python",
   "name": "python",
   "nbconvert_exporter": "python",
   "pygments_lexer": "ipython3",
   "version": "3.10.7"
  },
  "orig_nbformat": 4,
  "vscode": {
   "interpreter": {
    "hash": "3ad933181bd8a04b432d3370b9dc3b0662ad032c4dfaa4e4f1596c548f763858"
   }
  }
 },
 "nbformat": 4,
 "nbformat_minor": 2
}
