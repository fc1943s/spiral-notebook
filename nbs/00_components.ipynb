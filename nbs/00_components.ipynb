{
 "cells": [
  {
   "cell_type": "code",
   "execution_count": 5,
   "metadata": {},
   "outputs": [],
   "source": [
    "# default_exp components"
   ]
  },
  {
   "cell_type": "code",
   "execution_count": 6,
   "metadata": {},
   "outputs": [],
   "source": [
    "import sys\n",
    "sys.path.append('..')\n",
    "import lib_py.ipython_magic as ipython_magic"
   ]
  },
  {
   "cell_type": "markdown",
   "metadata": {},
   "source": [
    "### ???"
   ]
  },
  {
   "cell_type": "code",
   "execution_count": 7,
   "metadata": {
    "vscode": {
     "languageId": "bat"
    }
   },
   "outputs": [
    {
     "name": "stdout",
     "output_type": "stream",
     "text": [
      "{'run_build_output': ['src_path: /workspaces/tictactoe_spiral/lib_spi/ui', 'spiproj_path: /workspaces/tictactoe_spiral/lib_spi/package.spiproj', \"fsx_path: /workspaces/tictactoe_spiral/lib_spi/ui/components'.fsx\", \"write ok. fsx_path: /workspaces/tictactoe_spiral/lib_spi/ui/components'.fsx\", 'zmq_request. result: ', 'open ok. spiproj_path: /workspaces/tictactoe_spiral/lib_spi/package.spiproj', 'zmq_request. result: ', \"build ok. spi_path: /workspaces/tictactoe_spiral/lib_spi/ui/components'.spi\", 'waiting for file change. start: SystemTime { tv_sec: 1670773640, tv_nsec: 841546703 }', 'waiting for file change. last_modified: SystemTime { tv_sec: 1670773642, tv_nsec: 317574168 } lines.len(): 753652', 'lines.len(): 753652', \"write ok. new_fsx_path=../lib_spi/ui/components'.fsx fsx_path=/workspaces/tictactoe_spiral/lib_spi/ui/components'.fsx new_fsx.len()=753652\", 'fsx.len(): 753652'], 'fsx_path': \"../lib_spi/ui/components'.fsx\", 'len(new_code_fsx)': 753651, 'new_code_fsx[:100]': 'type Mut0 = {mutable l0 : obj}\\nand [<Struct>] US1 =\\n    | US1_0\\n    | US1_1\\nand [<Struct>] US0 =\\n   '}\n"
     ]
    },
    {
     "data": {
      "text/plain": [
       "\"../lib_spi/ui/components'.spi\""
      ]
     },
     "execution_count": 7,
     "metadata": {},
     "output_type": "execute_result"
    }
   ],
   "source": [
    "%%spiral ../lib_spi/ui/components'.spi\n",
    "\n"
   ]
  },
  {
   "cell_type": "code",
   "execution_count": 8,
   "metadata": {
    "vscode": {
     "languageId": "shellscript"
    }
   },
   "outputs": [
    {
     "name": "stdout",
     "output_type": "stream",
     "text": [
      "\u001b[?1h\u001b=\u001b[6n\u001b[6n\u001b[?1h\u001b=\u001b[?1h\u001b=Fable: F# to TypeScript compiler 4.0.0-theta-018 (status: alpha)\n",
      "Thanks to the contributor! @theimowski\n",
      "Stand with Ukraine! https://standwithukraine.com.ua/\n",
      "\n",
      "Parsing ../lib_spi/package.fsproj...\n",
      "Retrieving project options from cache, in case of issues run `dotnet fable clean` or try `--noCache` option.\n",
      "Project and references (31 source files) parsed in 332ms\n",
      "\n",
      "Started Fable compilation...\n",
      "\u001b[6n\u001b[6n\u001b[1;1HCompiled 1/31: ../lib_ts/fable_modules/Fable.Promise.3.2.0/PromiseImpl.fs\u001b[1;1HCompiled 2/31: ../lib_ts/fable_modules/Fable.Parsimmon.4.0.0/Parsimmon.fs\u001b[1;1HCompiled 3/31: ../lib_ts/fable_modules/Fable.Remoting.MsgPack.1.18.0/TypeShape.fs...\u001b[2;1HCompiled 4/31: ../lib_ts/fable_modules/Fable.Remoting.MsgPack.1.18.0/TypeShapeUti...\u001b[3;1HCompiled 5/31: ../lib_ts/fable_modules/Fable.Remoting.MsgPack.1.18.0/Format.fs\u001b[3;1HCompiled 6/31: ../lib_ts/fable_modules/Fable.Promise.3.2.0/Promise.fs         \u001b[3;70H\u001b[3;1HCompiled 7/31: ../lib_ts/fable_modules/Fable.Promise.3.2.0/AsyncIterable.fs\u001b[3;1HCompiled 8/31: ../lib_ts/fable_modules/Fable.SimpleJson.3.24.0/TypeCheck.fs\u001b[3;1HCompiled 9/31: ../lib_ts/fable_modules/Fable.SimpleJson.3.24.0/TypeInfo.fs \u001b[3;75H\u001b[3;1HCompiled 10/31: ../lib_ts/fable_modules/Fable.SimpleJson.3.24.0/Json.fs   \u001b[3;72H\u001b[3;1HCompiled 11/31: ../lib_ts/fable_modules/Fable.SimpleJson.3.24.0/Parser.fs\u001b[3;1HCompiled 12/31: ../lib_ts/fable_modules/Fable.SimpleJson.3.24.0/TypeInfo.Converte...\u001b[4;1HCompiled 13/31: ../lib_ts/fable_modules/Fable.Remoting.MsgPack.1.18.0/Write.fs\u001b[4;1HCompiled 14/31: ../lib_ts/fable_modules/Fable.Solid.1.0.0-beta-004/Solid.fs   \u001b[4;76H\u001b[4;1HCompiled 15/31: ../lib_ts/fable_modules/Feliz.JSX.Solid.1.0.0-beta-002/Util.fs\u001b[4;1HCompiled 16/31: ../lib_ts/fable_modules/Fable.Remoting.MsgPack.1.18.0/Read.fs \u001b[4;78H\u001b[4;1HCompiled 17/31: ../lib_ts/fable_modules/Feliz.JSX.Solid.1.0.0-beta-002/Html.fs\u001b[4;1HCompiled 18/31: ../lib_ts/fable_modules/Fable.SimpleJson.3.24.0/SimpleJson.fs \u001b[4;78H\u001b[4;1HCompiled 19/31: ../lib_ts/fable_modules/Feliz.JSX.Solid.1.0.0-beta-002/Svg.fs\u001b[4;1HCompiled 20/31: ../lib_ts/fable_modules/Feliz.JSX.Solid.1.0.0-beta-002/Css.fs\u001b[4;1HCompiled 21/31: ../lib_ts/fable_modules/Fable.SimpleJson.3.24.0/Json.Converter.fs...\u001b[5;1HCompiled 22/31: ../lib_ts/fable_modules/Feliz.JSX.Solid.1.0.0-beta-002/Attribute....\u001b[6;1HCompiled 23/31: ../lib_ts/fable_modules/Feliz.JSX.Solid.1.0.0-beta-002/Event.fs\u001b[6;1HCompiled 24/31: ../deps/Fable.SignalR/Shared.fs                                \u001b[6;48H\u001b[6;1HCompiled 25/31: ../deps/Fable.SignalR/Types.fs \u001b[6;47H\u001b[6;1HCompiled 26/31: ../deps/Fable.SignalR/HttpClient.fs\u001b[6;1HCompiled 27/31: ../deps/Fable.SignalR/HubConnection.fs\u001b[6;1HCompiled 28/31: ../deps/Fable.SignalR/Protocols.fs    \u001b[6;51H\u001b[6;1HCompiled 29/31: ../deps/Fable.SignalR/SignalR.fs  \u001b[6;49H\u001b[6;1HCompiled 30/31: ../lib_spi/peer.fsx             \u001b[6;36H\u001b[6;1HCompiled 31/31: ../lib_spi/ui/components'.fsx\u001b[6;1H                                             \u001b[6;1HFable compilation finished in 32003ms\n",
      "\n",
      "\u001b[m\u001b[33m./../lib_spi/ui/components'.fsx(1513,26): (1513,35) warning FSHARP: Identifiers containing '@' are reserved for use in F# code generation (code 1104)\n",
      "\u001b[m\u001b[m\u001b[33m./../lib_spi/ui/components'.fsx(1513,42): (1513,49) warning FSHARP: Identifiers containing '@' are reserved for use in F# code generation (code 1104)\n",
      "\u001b[m\u001b[?1h\u001b=\u001b[?1h\u001b=\u001b]0;\u0007\u001b[0m\u001b[2m\u001b[35m$\u001b[0m \u001b[2m\u001b[1mbun run replace-ts1 && bun run replace-ts2\u001b[0m\n",
      "\u001b[0m\u001b[2m\u001b[35m$\u001b[0m \u001b[2m\u001b[1mreplace-in-files --regex='\\.js.;' --replacement='.ts\";' '../lib_ts/fable_modules/fable-library-ts/lib/*.js'\u001b[0m\n",
      "\u001b[0m\u001b[2m\u001b[35m$\u001b[0m \u001b[2m\u001b[1mreplace-in-files --regex='\\.fs\\.js\";' --replacement='.tsx\";' '../lib_ts/**/*.tsx'\u001b[0m\n"
     ]
    },
    {
     "name": "stderr",
     "output_type": "stream",
     "text": [
      "Bad pipe message: %s [b'\\xf9\\x06\\xfb\\x02\\x19\\xa8\\xf5\\xcb\\x84]p\\xe6U\\xde\\xa9\\x16q\\xea \\x15\\xf2\\x10RuY\\x00\\x93\\x98\\xc3\\xf1\\xe4\\xdcO\\xc8S\\xd8\\x1db\\x10\\x9b\\xa0\\xeb\\x9aolS\\xb4^\\xa6vB\\x00\\x08\\x13\\x02\\x13\\x03\\x13\\x01\\x00\\xff\\x01\\x00\\x00\\x8f\\x00\\x00\\x00\\x0e\\x00\\x0c\\x00\\x00\\t127.0.0.1\\x00\\x0b\\x00\\x04\\x03\\x00\\x01\\x02\\x00\\n\\x00\\x0c\\x00\\n\\x00\\x1d\\x00\\x17\\x00\\x1e\\x00\\x19\\x00\\x18\\x00#\\x00\\x00\\x00\\x16\\x00\\x00\\x00\\x17\\x00\\x00\\x00\\r\\x00\\x1e\\x00\\x1c\\x04\\x03\\x05']\n",
      "Bad pipe message: %s [b'\\x03\\x08']\n",
      "Bad pipe message: %s [b'\\x08\\x08\\t\\x08\\n\\x08']\n",
      "Bad pipe message: %s [b'\\x04\\x08\\x05\\x08\\x06\\x04\\x01\\x05\\x01\\x06']\n",
      "Bad pipe message: %s [b'']\n",
      "Bad pipe message: %s [b'\\x03\\x02\\x03\\x04\\x00-\\x00\\x02\\x01\\x01\\x003\\x00&\\x00$\\x00\\x1d\\x00 U\\xacJg\\xba2:\\x7f\\xda\\xa3Cp\\x13\\x06k\\xef\\x9ei\\x88\\xb1d}']\n",
      "Bad pipe message: %s [b'H\\x85\\xec\\xc3\\xa2\\x82\\xb4N\\xf0k']\n",
      "Bad pipe message: %s [b'\\x0e\\xd7q\\x9f\\x81Z\\x00\\x00|\\xc0,\\xc00\\x00\\xa3\\x00\\x9f\\xcc\\xa9\\xcc\\xa8\\xcc\\xaa\\xc0\\xaf\\xc0\\xad\\xc0\\xa3\\xc0\\x9f\\xc0]\\xc0a\\xc0W\\xc0S\\xc0+\\xc0/\\x00\\xa2\\x00\\x9e\\xc0\\xae\\xc0\\xac\\xc0\\xa2\\xc0\\x9e\\xc0\\\\\\xc0', b\"V\\xc0R\\xc0$\\xc0(\\x00k\\x00j\\xc0#\\xc0'\\x00g\\x00@\\xc0\\n\\xc0\\x14\\x009\\x008\\xc0\\t\\xc0\\x13\\x003\\x002\\x00\\x9d\\xc0\\xa1\\xc0\\x9d\\xc0Q\\x00\\x9c\\xc0\\xa0\\xc0\\x9c\\xc0P\\x00=\\x00<\\x005\\x00/\\x00\\x9a\\x00\\x99\\xc0\\x07\\xc0\\x11\\x00\\x96\\x00\\x05\\x00\\xff\\x01\\x00\\x00j\\x00\\x00\\x00\\x0e\\x00\\x0c\\x00\\x00\\t127.0.0.1\"]\n",
      "Bad pipe message: %s [b\"\\x1c\\xe6V\\xb6\\xd8+.n>\\xaf\\xedF\\x85\\x94d\\x9f0(\\x00\\x00\\xa6\\xc0,\\xc00\\x00\\xa3\\x00\\x9f\\xcc\\xa9\\xcc\\xa8\\xcc\\xaa\\xc0\\xaf\\xc0\\xad\\xc0\\xa3\\xc0\\x9f\\xc0]\\xc0a\\xc0W\\xc0S\\xc0+\\xc0/\\x00\\xa2\\x00\\x9e\\xc0\\xae\\xc0\\xac\\xc0\\xa2\\xc0\\x9e\\xc0\\\\\\xc0`\\xc0V\\xc0R\\xc0$\\xc0(\\x00k\\x00j\\xc0s\\xc0w\\x00\\xc4\\x00\\xc3\\xc0#\\xc0'\\x00g\\x00@\\xc0r\\xc0v\\x00\\xbe\\x00\\xbd\\xc0\\n\\xc0\\x14\\x009\\x008\\x00\\x88\\x00\\x87\\xc0\\t\\xc0\\x13\\x003\\x002\\x00\\x9a\\x00\\x99\\x00E\\x00D\\xc0\\x07\\xc0\\x11\\xc0\\x08\\xc0\\x12\\x00\\x16\\x00\\x13\\x00\\x9d\\xc0\\xa1\\xc0\\x9d\\xc0Q\\x00\\x9c\\xc0\\xa0\\xc0\\x9c\\xc0P\\x00=\\x00\\xc0\\x00<\\x00\\xba\\x005\\x00\\x84\\x00/\\x00\\x96\\x00A\\x00\\x05\\x00\\n\\x00\\xff\\x01\\x00\\x00j\\x00\\x00\\x00\\x0e\\x00\\x0c\\x00\\x00\\t\"]\n",
      "Bad pipe message: %s [b'7.0.0.1\\x00\\x0b\\x00\\x04\\x03\\x00\\x01\\x02\\x00\\n\\x00\\x0c\\x00\\n\\x00\\x1d\\x00\\x17\\x00\\x1e\\x00\\x19\\x00\\x18\\x00#\\x00\\x00\\x00\\x16\\x00\\x00\\x00\\x17\\x00\\x00\\x00\\r\\x000\\x00']\n",
      "Bad pipe message: %s [b'\\x03\\x05\\x03\\x06\\x03\\x08\\x07\\x08\\x08\\x08\\t\\x08\\n\\x08\\x0b\\x08\\x04\\x08\\x05\\x08\\x06\\x04\\x01\\x05\\x01\\x06\\x01\\x03\\x03\\x02\\x03\\x03\\x01\\x02\\x01\\x03\\x02\\x02\\x02\\x04\\x02\\x05\\x02\\x06\\x02']\n",
      "Bad pipe message: %s [b'\\xae\\x1eW\\xdeuL!\\xc6c\\xac\\x80Oi\\x86\\xa6\\x98^h\\x00\\x00\\xa2\\xc0\\x14\\xc0\\n\\x009\\x008\\x007\\x006\\x00\\x88\\x00\\x87\\x00\\x86\\x00\\x85\\xc0\\x19\\x00:\\x00\\x89\\xc0\\x0f\\xc0\\x05\\x005\\x00\\x84\\xc0\\x13\\xc0\\t\\x003\\x002\\x001\\x000\\x00\\x9a\\x00\\x99\\x00\\x98\\x00\\x97\\x00E\\x00D\\x00C\\x00B\\xc0\\x18\\x004\\x00\\x9b\\x00F\\xc0\\x0e\\xc0\\x04\\x00/\\x00\\x96\\x00A\\x00\\x07\\xc0\\x11\\xc0\\x07\\xc0\\x16\\x00\\x18\\xc0\\x0c\\xc0\\x02\\x00\\x05\\x00\\x04\\xc0\\x12\\xc0\\x08\\x00\\x16\\x00\\x13\\x00\\x10\\x00\\r\\xc0\\x17\\x00\\x1b\\xc0\\r\\xc0\\x03\\x00\\n\\x00\\x15\\x00\\x12\\x00\\x0f\\x00\\x0c\\x00\\x1a\\x00', b'\\x14\\x00\\x11\\x00\\x19\\x00\\x08\\x00']\n",
      "Bad pipe message: %s [b'\\x17\\x00\\x03\\xc0\\x10']\n",
      "Bad pipe message: %s [b'h\\rv~w\\xa8\\xff\\x13BT\\xda=\\xf1\\xd7<\\xbe-]\\x00\\x00\\xa2\\xc0\\x14\\xc0\\n\\x009\\x008\\x007\\x006\\x00\\x88\\x00\\x87\\x00\\x86\\x00\\x85\\xc0\\x19\\x00:\\x00\\x89\\xc0\\x0f\\xc0\\x05\\x005\\x00\\x84\\xc0\\x13\\xc0\\t\\x003\\x002\\x001\\x000\\x00\\x9a\\x00\\x99\\x00\\x98\\x00\\x97\\x00E\\x00D\\x00C\\x00B\\xc0\\x18\\x004\\x00\\x9b\\x00F\\xc0\\x0e\\xc0\\x04\\x00/\\x00\\x96\\x00A\\x00\\x07\\xc0\\x11\\xc0\\x07\\xc0\\x16\\x00\\x18\\xc0\\x0c\\xc0\\x02\\x00\\x05\\x00\\x04\\xc0\\x12\\xc0\\x08\\x00\\x16\\x00\\x13\\x00\\x10\\x00\\r\\xc0\\x17\\x00\\x1b\\xc0\\r\\xc0\\x03\\x00\\n\\x00\\x15\\x00\\x12\\x00\\x0f\\x00\\x0c\\x00\\x1a\\x00\\t\\x00\\x14\\x00\\x11\\x00\\x19\\x00\\x08\\x00\\x06\\x00\\x17\\x00\\x03\\xc0\\x10\\xc0\\x06\\xc0\\x15\\xc0\\x0b\\xc0\\x01\\x00\\x02\\x00\\x01\\x00\\xff\\x02\\x01\\x00\\x00C\\x00\\x00\\x00\\x0e\\x00\\x0c\\x00\\x00\\t127.0.0.1\\x00', b'\\x04\\x03\\x00\\x01\\x02\\x00\\n\\x00\\x1c\\x00']\n",
      "Bad pipe message: %s [b'\\x17\\x00\\x19\\x00\\x1c\\x00\\x1b\\x00\\x18\\x00\\x1a\\x00\\x16\\x00\\x0e\\x00\\r\\x00\\x0b\\x00\\x0c\\x00\\t\\x00\\n']\n",
      "Bad pipe message: %s [b'\\xf7%\\x1f\\x81)\\xcdh\\nJ\\xb5\\xe6\\xac\\x84\\x88']\n",
      "Bad pipe message: %s [b'\\x96m\\x00\\x00\\xa2\\xc0\\x14\\xc0\\n\\x009\\x008\\x007\\x006\\x00\\x88\\x00\\x87\\x00\\x86\\x00']\n",
      "Bad pipe message: %s [b'\\x19\\x00:\\x00\\x89\\xc0\\x0f\\xc0\\x05\\x005\\x00\\x84\\xc0\\x13\\xc0\\t\\x003\\x002\\x001\\x000\\x00\\x9a\\x00\\x99\\x00\\x98\\x00\\x97\\x00E\\x00D\\x00C\\x00B\\xc0\\x18\\x004\\x00\\x9b\\x00F\\xc0\\x0e\\xc0\\x04\\x00/\\x00\\x96\\x00A\\x00\\x07\\xc0\\x11\\xc0\\x07\\xc0\\x16\\x00\\x18\\xc0\\x0c\\xc0\\x02\\x00\\x05\\x00\\x04\\xc0\\x12\\xc0\\x08\\x00\\x16\\x00\\x13\\x00\\x10\\x00\\r\\xc0\\x17\\x00\\x1b\\xc0\\r\\xc0\\x03\\x00\\n\\x00\\x15\\x00\\x12\\x00\\x0f\\x00\\x0c\\x00\\x1a\\x00\\t\\x00\\x14\\x00\\x11\\x00\\x19\\x00\\x08\\x00\\x06\\x00\\x17\\x00\\x03\\xc0\\x10\\xc0\\x06\\xc0\\x15\\xc0']\n",
      "Bad pipe message: %s [b'\\x01\\x00\\x02\\x00\\x01\\x00\\xff\\x02\\x01\\x00']\n",
      "Bad pipe message: %s [b'V\\xa1\\r\\xe7\\xf3\\xe4\\xad>\\x99=k\\x95\\x9e\\xbb\\x1c\\xd5\\x1e\\xbc\\x00\\x00\\x86\\xc00\\xc0,\\xc0(\\xc0$\\xc0\\x14\\xc0\\n\\x00\\xa5\\x00\\xa3\\x00\\xa1\\x00\\x9f\\x00k\\x00j\\x00i\\x00h\\x009\\x008\\x007\\x006', b\"\\xc0.\\xc0*\\xc0&\\xc0\\x0f\\xc0\\x05\\x00\\x9d\\x00=\\x005\\xc0/\\xc0+\\xc0'\\xc0#\\xc0\\x13\\xc0\\t\\x00\\xa4\\x00\\xa2\\x00\\xa0\\x00\\x9e\\x00g\\x00@\\x00?\\x00>\\x003\\x002\\x001\\x000\\xc01\\xc0-\\xc0)\\xc0%\\xc0\\x0e\\xc0\\x04\\x00\\x9c\\x00<\\x00/\\x00\\x9a\\x00\\x99\\x00\\x98\\x00\\x97\\x00\\x96\\x00\\x07\\xc0\\x11\\xc0\\x07\\xc0\\x0c\\xc0\\x02\\x00\\x05\\x00\\x04\\x00\\xff\\x02\\x01\\x00\\x00g\\x00\\x00\\x00\\x0e\\x00\\x0c\\x00\\x00\\t127.0.0.1\\x00\\x0b\\x00\\x04\\x03\\x00\\x01\\x02\\x00\\n\\x00\\x1c\\x00\\x1a\\x00\\x17\\x00\\x19\\x00\\x1c\\x00\\x1b\\x00\\x18\\x00\\x1a\\x00\\x16\\x00\\x0e\\x00\\r\\x00\\x0b\\x00\\x0c\\x00\\t\\x00\\n\\x00#\\x00\\x00\\x00\\r\\x00 \\x00\\x1e\\x06\\x01\\x06\\x02\\x06\\x03\\x05\\x01\\x05\\x02\\x05\\x03\\x04\\x01\\x04\\x02\\x04\\x03\\x03\\x01\\x03\\x02\"]\n",
      "Bad pipe message: %s [b'\\x02\\x01', b'\\x02']\n",
      "Bad pipe message: %s [b'\\x0f\\x00']\n"
     ]
    }
   ],
   "source": [
    "!pwsh ../lib_spi/build-ts.ps1\n",
    "!cd ../web && bun run pre-build"
   ]
  }
 ],
 "metadata": {
  "kernelspec": {
   "display_name": "Python 3.10.7 64-bit",
   "language": "python",
   "name": "python3"
  },
  "language_info": {
   "codemirror_mode": {
    "name": "ipython",
    "version": 3
   },
   "file_extension": ".py",
   "mimetype": "text/x-python",
   "name": "python",
   "nbconvert_exporter": "python",
   "pygments_lexer": "ipython3",
   "version": "3.10.4"
  },
  "orig_nbformat": 4,
  "vscode": {
   "interpreter": {
    "hash": "3ad933181bd8a04b432d3370b9dc3b0662ad032c4dfaa4e4f1596c548f763858"
   }
  }
 },
 "nbformat": 4,
 "nbformat_minor": 2
}
