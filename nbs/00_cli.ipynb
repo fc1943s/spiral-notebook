{
 "cells": [
  {
   "cell_type": "code",
   "execution_count": 1,
   "metadata": {},
   "outputs": [],
   "source": [
    "# default_exp cli"
   ]
  },
  {
   "cell_type": "code",
   "execution_count": 2,
   "metadata": {},
   "outputs": [],
   "source": [
    "import sys\n",
    "sys.path.append('..')\n",
    "import lib_py.ipython_magic as ipython_magic"
   ]
  },
  {
   "cell_type": "markdown",
   "metadata": {},
   "source": [
    "### ???"
   ]
  },
  {
   "cell_type": "code",
   "execution_count": 3,
   "metadata": {
    "vscode": {
     "languageId": "bat"
    }
   },
   "outputs": [
    {
     "name": "stdout",
     "output_type": "stream",
     "text": [
      "<magic:5b750cb60e814c988f78ac448e52c49e>\n"
     ]
    },
    {
     "data": {
      "application/javascript": "IPython.notebook.save_checkpoint();",
      "text/plain": [
       "<IPython.core.display.Javascript object>"
      ]
     },
     "metadata": {},
     "output_type": "display_data"
    },
    {
     "name": "stdout",
     "output_type": "stream",
     "text": [
      "{'run_build_output': ['[\"> spi_to_fsx ()\"] [\"pwd:\", \"/home/alias/home/fs/repos/tictactoe/lib_spi\", \"spi_path:\", \"../lib_spi/cli/cli.spi\", \"new_fsx_path:\", \"../lib_spi/cli/cli.fsx\"] [\"timestamp:\", \"000000\", \"run_id:\", \"166\"]', '[\"> spi_to_fsx ()\"] [\"spi_path_clean:\", \"/home/alias/home/fs/repos/tictactoe/lib_spi/cli/cli.spi\"] [\"timestamp:\", \"000000\", \"run_id:\", \"215\"]', '[\"> spi_to_fsx ()\"] [\"src_path:\", \"/home/alias/home/fs/repos/tictactoe/lib_spi/cli\"] [\"timestamp:\", \"000000\", \"run_id:\", \"54\"]', '[\"> spi_to_fsx ()\"] [\"spiproj_path:\", \"/home/alias/home/fs/repos/tictactoe/lib_spi/package.spiproj\"] [\"timestamp:\", \"000000\", \"run_id:\", \"29\"]', '[\"> spi_to_fsx ()\"] [\"fsx_path:\", \"/home/alias/home/fs/repos/tictactoe/lib_spi/cli/cli.fsx\"] [\"timestamp:\", \"000000\", \"run_id:\", \"27\"]', '[\"> spi_to_fsx ()\"] > fs_write fsx_path \"\"; ok [\"timestamp:\", \"000000\", \"run_id:\", \"35\"]', '[\"> spiproj_open ()\"] [\"spiproj_path:\", \"/home/alias/home/fs/repos/tictactoe/lib_spi/package.spiproj\", \"spiproj_text.len():\", \"1108\"] [\"timestamp:\", \"000000\", \"run_id:\", \"239\"]', '[\"> spiproj_open ()\"] [\"json.len():\", \"1275\"] [\"timestamp:\", \"000000\", \"run_id:\", \"92\"]', '[\"> zmq_request ()\"] [\"host:\", \"localhost\", \"port:\", \"13805\", \"msg.len():\", \"1275\"] [\"timestamp:\", \"000000\", \"run_id:\", \"192\"]', '[\"> zmq_request ()\"] [\"result.len():\", \"0\"] [\"timestamp:\", \"000000\", \"run_id:\", \"238\"]', '[\"> spi_to_fsx ()\"] > spiproj_open; ok [\"timestamp:\", \"000000\", \"run_id:\", \"9\"]', '[\"> spi_build_file ()\"] [\"spi_path:\", \"/home/alias/home/fs/repos/tictactoe/lib_spi/cli/cli.spi\", \"backend:\", \"Fsharp\"] [\"timestamp:\", \"000000\", \"run_id:\", \"61\"]', '[\"> spi_build_file ()\"] [\"json.len():\", \"98\"] [\"timestamp:\", \"000000\", \"run_id:\", \"72\"]', '[\"> zmq_request ()\"] [\"host:\", \"localhost\", \"port:\", \"13805\", \"msg.len():\", \"98\"] [\"timestamp:\", \"000000\", \"run_id:\", \"115\"]', '[\"> zmq_request ()\"] [\"result.len():\", \"0\"] [\"timestamp:\", \"000000\", \"run_id:\", \"160\"]', '[\"> spi_to_fsx ()\"] > spi_build_file; ok [\"timestamp:\", \"000000\", \"run_id:\", \"196\"]', '[\"> wait_file_change ()\"] [\"fsx_path:\", \"/home/alias/home/fs/repos/tictactoe/lib_spi/cli/cli.fsx\", \"start:\", \"SystemTime { tv_sec: 1673633508, tv_nsec: 685979015 }\"] [\"timestamp:\", \"000000\", \"run_id:\", \"219\"]', '[\"> wait_file_change ()\"] [\"i:\", \"0\", \"last_modified:\", \"SystemTime { tv_sec: 1673633508, tv_nsec: 685979015 }\"] [\"timestamp:\", \"000000\", \"run_id:\", \"38\"]', '[\"> wait_file_change ()\"] [\"i:\", \"1\", \"last_modified:\", \"SystemTime { tv_sec: 1673633508, tv_nsec: 685979015 }\"] [\"timestamp:\", \"000000\", \"run_id:\", \"52\"]', '[\"> wait_file_change ()\"] [\"i:\", \"2\", \"last_modified:\", \"SystemTime { tv_sec: 1673633508, tv_nsec: 685979015 }\"] [\"timestamp:\", \"000000\", \"run_id:\", \"100\"]', '[\"> wait_file_change ()\"] [\"i:\", \"3\", \"last_modified:\", \"SystemTime { tv_sec: 1673633508, tv_nsec: 685979015 }\"] [\"timestamp:\", \"000000\", \"run_id:\", \"189\"]', '[\"> wait_file_change ()\"] [\"i:\", \"4\", \"last_modified:\", \"SystemTime { tv_sec: 1673633508, tv_nsec: 685979015 }\"] [\"timestamp:\", \"000000\", \"run_id:\", \"50\"]', '[\"> wait_file_change ()\"] [\"i:\", \"5\", \"last_modified:\", \"SystemTime { tv_sec: 1673633508, tv_nsec: 685979015 }\"] [\"timestamp:\", \"000000\", \"run_id:\", \"87\"]', '[\"> wait_file_change ()\"] [\"i:\", \"6\", \"last_modified:\", \"SystemTime { tv_sec: 1673633508, tv_nsec: 685979015 }\"] [\"timestamp:\", \"000000\", \"run_id:\", \"20\"]', '[\"> wait_file_change ()\"] [\"i:\", \"7\", \"last_modified:\", \"SystemTime { tv_sec: 1673633508, tv_nsec: 685979015 }\"] [\"timestamp:\", \"000000\", \"run_id:\", \"18\"]', '[\"> wait_file_change ()\"] [\"i:\", \"8\", \"last_modified:\", \"SystemTime { tv_sec: 1673633508, tv_nsec: 685979015 }\"] [\"timestamp:\", \"000000\", \"run_id:\", \"219\"]', '[\"> wait_file_change ()\"] [\"i:\", \"9\", \"last_modified:\", \"SystemTime { tv_sec: 1673633508, tv_nsec: 685979015 }\"] [\"timestamp:\", \"000000\", \"run_id:\", \"206\"]', '[\"> wait_file_change ()\"] [\"i:\", \"10\", \"last_modified:\", \"SystemTime { tv_sec: 1673633508, tv_nsec: 685979015 }\"] [\"timestamp:\", \"000000\", \"run_id:\", \"7\"]', '[\"> wait_file_change ()\"] [\"i:\", \"11\", \"last_modified:\", \"SystemTime { tv_sec: 1673633508, tv_nsec: 685979015 }\"] [\"timestamp:\", \"000000\", \"run_id:\", \"106\"]', '[\"> wait_file_change ()\"] [\"i:\", \"12\", \"last_modified:\", \"SystemTime { tv_sec: 1673633508, tv_nsec: 685979015 }\"] [\"timestamp:\", \"000000\", \"run_id:\", \"147\"]', '[\"> wait_file_change ()\"] [\"i:\", \"13\", \"last_modified:\", \"SystemTime { tv_sec: 1673633508, tv_nsec: 685979015 }\"] [\"timestamp:\", \"000001\", \"run_id:\", \"154\"]', '[\"> wait_file_change ()\"] [\"i:\", \"14\", \"last_modified:\", \"SystemTime { tv_sec: 1673633508, tv_nsec: 685979015 }\"] [\"timestamp:\", \"000001\", \"run_id:\", \"94\"]', '[\"> wait_file_change ()\"] [\"i:\", \"15\", \"last_modified:\", \"SystemTime { tv_sec: 1673633508, tv_nsec: 685979015 }\"] [\"timestamp:\", \"000001\", \"run_id:\", \"76\"]', '[\"> wait_file_change ()\"] [\"i:\", \"16\", \"last_modified:\", \"SystemTime { tv_sec: 1673633508, tv_nsec: 685979015 }\"] [\"timestamp:\", \"000001\", \"run_id:\", \"93\"]', '[\"> wait_file_change ()\"] [\"i:\", \"17\", \"last_modified:\", \"SystemTime { tv_sec: 1673633508, tv_nsec: 685979015 }\"] [\"timestamp:\", \"000001\", \"run_id:\", \"232\"]', '[\"> wait_file_change ()\"] [\"i:\", \"18\", \"last_modified:\", \"SystemTime { tv_sec: 1673633508, tv_nsec: 685979015 }\"] [\"timestamp:\", \"000001\", \"run_id:\", \"60\"]', '[\"> wait_file_change ()\"] [\"i:\", \"19\", \"last_modified:\", \"SystemTime { tv_sec: 1673633508, tv_nsec: 685979015 }\"] [\"timestamp:\", \"000001\", \"run_id:\", \"23\"]', '[\"> wait_file_change ()\"] [\"i:\", \"20\", \"last_modified:\", \"SystemTime { tv_sec: 1673633508, tv_nsec: 685979015 }\"] [\"timestamp:\", \"000001\", \"run_id:\", \"162\"]', '[\"> wait_file_change ()\"] [\"i:\", \"21\", \"last_modified:\", \"SystemTime { tv_sec: 1673633508, tv_nsec: 685979015 }\"] [\"timestamp:\", \"000001\", \"run_id:\", \"100\"]', '[\"> wait_file_change ()\"] [\"i:\", \"22\", \"last_modified:\", \"SystemTime { tv_sec: 1673633508, tv_nsec: 685979015 }\"] [\"timestamp:\", \"000001\", \"run_id:\", \"120\"]', '[\"> wait_file_change ()\"] [\"i:\", \"23\", \"last_modified:\", \"SystemTime { tv_sec: 1673633508, tv_nsec: 685979015 }\"] [\"timestamp:\", \"000001\", \"run_id:\", \"118\"]', '[\"> wait_file_change ()\"] [\"i:\", \"24\", \"last_modified:\", \"SystemTime { tv_sec: 1673633508, tv_nsec: 685979015 }\"] [\"timestamp:\", \"000001\", \"run_id:\", \"242\"]', '[\"> wait_file_change ()\"] [\"i:\", \"25\", \"last_modified:\", \"SystemTime { tv_sec: 1673633508, tv_nsec: 685979015 }\"] [\"timestamp:\", \"000001\", \"run_id:\", \"137\"]', '[\"> wait_file_change ()\"] [\"i:\", \"26\", \"last_modified:\", \"SystemTime { tv_sec: 1673633508, tv_nsec: 685979015 }\"] [\"timestamp:\", \"000001\", \"run_id:\", \"102\"]', '[\"> wait_file_change ()\"] [\"i:\", \"27\", \"last_modified:\", \"SystemTime { tv_sec: 1673633508, tv_nsec: 685979015 }\"] [\"timestamp:\", \"000001\", \"run_id:\", \"44\"]', '[\"> wait_file_change ()\"] [\"i:\", \"28\", \"last_modified:\", \"SystemTime { tv_sec: 1673633508, tv_nsec: 685979015 }\"] [\"timestamp:\", \"000001\", \"run_id:\", \"177\"]', '[\"> wait_file_change ()\"] [\"i:\", \"29\", \"last_modified:\", \"SystemTime { tv_sec: 1673633508, tv_nsec: 685979015 }\"] [\"timestamp:\", \"000001\", \"run_id:\", \"151\"]', '[\"> wait_file_change ()\"] [\"i:\", \"30\", \"last_modified:\", \"SystemTime { tv_sec: 1673633508, tv_nsec: 685979015 }\"] [\"timestamp:\", \"000001\", \"run_id:\", \"218\"]', '[\"> wait_file_change ()\"] [\"i:\", \"31\", \"last_modified:\", \"SystemTime { tv_sec: 1673633509, tv_nsec: 449981007 }\"] [\"timestamp:\", \"000001\", \"run_id:\", \"223\"]', '[\"> spi_to_fsx ()\"] [\"new_fsx.len():\", \"50001\"] [\"timestamp:\", \"000001\", \"run_id:\", \"55\"]', '[\"> spi_to_fsx ()\"] > fs_write new_fsx_path; ok [\"timestamp:\", \"000001\", \"run_id:\", \"211\"]', 'fsx.len(): 50001'], 'fsx_path': '../lib_spi/cli/cli.fsx', 'len(new_code_fsx)': 50000, 'new_code_fsx[:100]': 'type UH0 =\\n    | UH0_0 of Types.std.string.String * UH0\\n    | UH0_1\\nand Mut0 = {mutable l0 : UH0}\\nle'}\n"
     ]
    },
    {
     "data": {
      "text/plain": [
       "'../lib_spi/cli/cli.spi'"
      ]
     },
     "execution_count": 3,
     "metadata": {},
     "output_type": "execute_result"
    }
   ],
   "source": [
    "%%spiral ../lib_spi/cli/cli.spi\n",
    "\n"
   ]
  },
  {
   "cell_type": "code",
   "execution_count": 4,
   "metadata": {
    "vscode": {
     "languageId": "shellscript"
    }
   },
   "outputs": [
    {
     "name": "stdout",
     "output_type": "stream",
     "text": [
      "\u001b[?1h\u001b=\u001b[6n\u001b[6n\u001b[?1h\u001b=\u001b[?1h\u001b=Fable: F# to Rust compiler 4.0.0-theta-018 (status: alpha)\n",
      "Thanks to the contributor! @scitesy\n",
      "Stand with Ukraine! https://standwithukraine.com.ua/\n",
      "\n",
      "Parsing ../lib_spi/cli/cli.fsproj...\n",
      "../lib_spi/cli> dotnet restore cli.csproj -p:FABLE_COMPILER=true -p:FABLE_COMPILER_4=true -p:FABLE_COMPILER_RUST=true\n",
      "\u001b[?1h\u001b=  Determining projects to restore...\n",
      "  Paket version 7.2.0+bb14ab674b2748070a624f394cd6796e11aaffa8\n",
      "  The last full restore is still up to date. Nothing left to do.\n",
      "  Total time taken: 0 milliseconds\n",
      "\u001b[?1h\u001b=  Paket version 7.2.0+bb14ab674b2748070a624f394cd6796e11aaffa8\n",
      "  Restoring /home/alias/home/fs/repos/tictactoe/lib_spi/cli/cli.csproj\n",
      "  Starting restore process.\n",
      "  Total time taken: 0 milliseconds\n",
      "\u001b[?1h\u001b=  Restored /home/alias/home/fs/repos/tictactoe/lib_spi/cli/cli.csproj (in 238 ms).\n",
      "\u001b[?1h\u001b=\u001b[?1h\u001b=\u001b[?1h\u001b=Project and references (2 source files) parsed in 5781ms\n",
      "\n",
      "Started Fable compilation...\n",
      "\u001b[6n\u001b[6n\u001b[1;1HCompiled 1/2: ../lib_spi/rust/Types.fs\u001b[1;1HCompiled 2/2: ../lib_spi/cli/cli.fsx  \u001b[1;37H\u001b[1;1H                                    \u001b[1;1HFable compilation finished in 13913ms\n",
      "\n",
      "\u001b[39;49m\u001b[33m./../lib_spi/cli/cli.fsx(786,0): (786,2) warning FABLE: For Rust, support for F# static and module do bindings is disabled by default. It can be enabled with the 'static_do_bindings' feature. Use at your own risk!\n",
      "\u001b[39;49m\u001b[?1h\u001b=\u001b[?1h\u001b=\u001b[2$~\u001b[1$}\u001b[1`\u001b[0$}"
     ]
    }
   ],
   "source": [
    "!pwsh ../lib_spi/cli/build.ps1"
   ]
  }
 ],
 "metadata": {
  "kernelspec": {
   "display_name": "Python 3",
   "language": "python",
   "name": "python3"
  },
  "language_info": {
   "codemirror_mode": {
    "name": "ipython",
    "version": 3
   },
   "file_extension": ".py",
   "mimetype": "text/x-python",
   "name": "python",
   "nbconvert_exporter": "python",
   "pygments_lexer": "ipython3",
   "version": "3.10.9"
  },
  "orig_nbformat": 4,
  "vscode": {
   "interpreter": {
    "hash": "69712e5f5cc18cdb93e82f18d7bfde9a47d7138efae1f4b87f8f55069ac86612"
   }
  }
 },
 "nbformat": 4,
 "nbformat_minor": 2
}
