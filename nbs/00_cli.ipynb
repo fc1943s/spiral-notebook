{
 "cells": [
  {
   "cell_type": "code",
   "execution_count": 1,
   "metadata": {},
   "outputs": [],
   "source": [
    "# default_exp cli"
   ]
  },
  {
   "cell_type": "code",
   "execution_count": 2,
   "metadata": {},
   "outputs": [],
   "source": [
    "import sys\n",
    "sys.path.append('..')\n",
    "import lib_py.ipython_magic as ipython_magic"
   ]
  },
  {
   "cell_type": "markdown",
   "metadata": {},
   "source": [
    "### ???"
   ]
  },
  {
   "cell_type": "code",
   "execution_count": 3,
   "metadata": {
    "vscode": {
     "languageId": "bat"
    }
   },
   "outputs": [
    {
     "name": "stdout",
     "output_type": "stream",
     "text": [
      "<magic:4d6bd22dbcdb49c8aee45c428c06ec60>\n"
     ]
    },
    {
     "data": {
      "application/javascript": "IPython.notebook.save_checkpoint();",
      "text/plain": [
       "<IPython.core.display.Javascript object>"
      ]
     },
     "metadata": {},
     "output_type": "display_data"
    },
    {
     "name": "stdout",
     "output_type": "stream",
     "text": [
      "{'run_build_output': ['[\"> spi_to_fsx ()\"] [\"pwd:\", \"/home/alias/home/fs/repos/tictactoe/lib_spi\", \"spi_path:\", \"../lib_spi/cli/cli.spi\", \"new_fsx_path:\", \"../lib_spi/cli/cli.fsx\"] [\"timestamp:\", \"000000\", \"run_id:\", \"157\"]', '[\"> spi_to_fsx ()\"] [\"spi_path_clean:\", \"/home/alias/home/fs/repos/tictactoe/lib_spi/cli/cli.spi\"] [\"timestamp:\", \"000000\", \"run_id:\", \"145\"]', '[\"> spi_to_fsx ()\"] [\"src_path:\", \"/home/alias/home/fs/repos/tictactoe/lib_spi/cli\"] [\"timestamp:\", \"000000\", \"run_id:\", \"219\"]', '[\"> spi_to_fsx ()\"] [\"spiproj_path:\", \"/home/alias/home/fs/repos/tictactoe/lib_spi/package.spiproj\"] [\"timestamp:\", \"000000\", \"run_id:\", \"116\"]', '[\"> spi_to_fsx ()\"] [\"fsx_path:\", \"/home/alias/home/fs/repos/tictactoe/lib_spi/cli/cli.fsx\"] [\"timestamp:\", \"000000\", \"run_id:\", \"186\"]', '[\"> spi_to_fsx ()\"] > fs_write fsx_path \"\"; ok [\"timestamp:\", \"000000\", \"run_id:\", \"72\"]', '[\"> spiproj_open ()\"] [\"spiproj_path:\", \"/home/alias/home/fs/repos/tictactoe/lib_spi/package.spiproj\", \"spiproj_text.len():\", \"1085\"] [\"timestamp:\", \"000000\", \"run_id:\", \"193\"]', '[\"> spiproj_open ()\"] [\"json.len():\", \"1250\"] [\"timestamp:\", \"000000\", \"run_id:\", \"6\"]', '[\"> zmq_request ()\"] [\"host:\", \"localhost\", \"port:\", \"13805\", \"msg.len():\", \"1250\"] [\"timestamp:\", \"000000\", \"run_id:\", \"11\"]', '[\"> zmq_request ()\"] [\"result.len():\", \"0\"] [\"timestamp:\", \"000000\", \"run_id:\", \"166\"]', '[\"> spi_to_fsx ()\"] > spiproj_open; ok [\"timestamp:\", \"000000\", \"run_id:\", \"105\"]', '[\"> spi_build_file ()\"] [\"spi_path:\", \"/home/alias/home/fs/repos/tictactoe/lib_spi/cli/cli.spi\", \"backend:\", \"Fsharp\"] [\"timestamp:\", \"000000\", \"run_id:\", \"132\"]', '[\"> spi_build_file ()\"] [\"json.len():\", \"98\"] [\"timestamp:\", \"000000\", \"run_id:\", \"150\"]', '[\"> zmq_request ()\"] [\"host:\", \"localhost\", \"port:\", \"13805\", \"msg.len():\", \"98\"] [\"timestamp:\", \"000000\", \"run_id:\", \"188\"]', '[\"> zmq_request ()\"] [\"result.len():\", \"0\"] [\"timestamp:\", \"000000\", \"run_id:\", \"0\"]', '[\"> spi_to_fsx ()\"] > spi_build_file; ok [\"timestamp:\", \"000000\", \"run_id:\", \"26\"]', '[\"> wait_file_change ()\"] [\"fsx_path:\", \"/home/alias/home/fs/repos/tictactoe/lib_spi/cli/cli.fsx\", \"start:\", \"SystemTime { tv_sec: 1672666972, tv_nsec: 154219676 }\"] [\"timestamp:\", \"000000\", \"run_id:\", \"236\"]', '[\"> wait_file_change ()\"] [\"i:\", \"0\", \"last_modified:\", \"SystemTime { tv_sec: 1672666972, tv_nsec: 154219676 }\"] [\"timestamp:\", \"000000\", \"run_id:\", \"43\"]', '[\"> wait_file_change ()\"] [\"i:\", \"1\", \"last_modified:\", \"SystemTime { tv_sec: 1672666972, tv_nsec: 154219676 }\"] [\"timestamp:\", \"000000\", \"run_id:\", \"28\"]', '[\"> wait_file_change ()\"] [\"i:\", \"2\", \"last_modified:\", \"SystemTime { tv_sec: 1672666972, tv_nsec: 194219502 }\"] [\"timestamp:\", \"000000\", \"run_id:\", \"10\"]', '[\"> spi_to_fsx ()\"] [\"new_fsx.len():\", \"143\"] [\"timestamp:\", \"000000\", \"run_id:\", \"53\"]', '[\"> spi_to_fsx ()\"] > fs_write new_fsx_path; ok [\"timestamp:\", \"000000\", \"run_id:\", \"15\"]', 'fsx.len(): 143'], 'fsx_path': '../lib_spi/cli/cli.fsx', 'len(new_code_fsx)': 142, 'new_code_fsx[:100]': 'let rec closure0 () () : int32 =\\n    let v0 : string = \"app ()\"\\n    System.Console.WriteLine v0\\n    '}\n"
     ]
    },
    {
     "data": {
      "text/plain": [
       "'../lib_spi/cli/cli.spi'"
      ]
     },
     "execution_count": 3,
     "metadata": {},
     "output_type": "execute_result"
    }
   ],
   "source": [
    "%%spiral ../lib_spi/cli/cli.spi\n",
    "\n"
   ]
  },
  {
   "cell_type": "code",
   "execution_count": 4,
   "metadata": {
    "vscode": {
     "languageId": "shellscript"
    }
   },
   "outputs": [
    {
     "name": "stdout",
     "output_type": "stream",
     "text": [
      "\u001b[?1h\u001b=\u001b[6n\u001b[6n\u001b[?1h\u001b=\u001b[?1h\u001b=Fable: F# to Rust compiler 4.0.0-theta-018 (status: alpha)\n",
      "Thanks to the contributor! @ctaggart\n",
      "Stand with Ukraine! https://standwithukraine.com.ua/\n",
      "\n",
      "Parsing ../lib_spi/cli/cli.fsproj...\n",
      "Retrieving project options from cache, in case of issues run `dotnet fable clean` or try `--noCache` option.\n",
      "Project and references (2 source files) parsed in 245ms\n",
      "\n",
      "Started Fable compilation...\n",
      "\u001b[6n\u001b[6n\u001b[1;1HCompiled 1/2: ../lib_spi/rust/Types.fs\u001b[1;1HCompiled 2/2: ../lib_spi/cli/cli.fsx  \u001b[1;37H\u001b[1;1H                                    \u001b[1;1HFable compilation finished in 13854ms\n",
      "\n",
      "\u001b[39;49m\u001b[33m./../lib_spi/cli/cli.fsx(6,0): (6,2) warning FABLE: For Rust, support for F# static and module do bindings is disabled by default. It can be enabled with the 'static_do_bindings' feature. Use at your own risk!\n",
      "\u001b[39;49m\u001b[?1h\u001b=\u001b[?1h\u001b=\u001b[2$~\u001b[1$}\u001b[1`\u001b[0$}"
     ]
    }
   ],
   "source": [
    "!pwsh ../lib_spi/cli/build.ps1"
   ]
  }
 ],
 "metadata": {
  "kernelspec": {
   "display_name": "Python 3",
   "language": "python",
   "name": "python3"
  },
  "language_info": {
   "codemirror_mode": {
    "name": "ipython",
    "version": 3
   },
   "file_extension": ".py",
   "mimetype": "text/x-python",
   "name": "python",
   "nbconvert_exporter": "python",
   "pygments_lexer": "ipython3",
   "version": "3.10.9"
  },
  "orig_nbformat": 4,
  "vscode": {
   "interpreter": {
    "hash": "69712e5f5cc18cdb93e82f18d7bfde9a47d7138efae1f4b87f8f55069ac86612"
   }
  }
 },
 "nbformat": 4,
 "nbformat_minor": 2
}
