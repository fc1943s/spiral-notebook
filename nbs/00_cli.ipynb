{
 "cells": [
  {
   "cell_type": "code",
   "execution_count": 1,
   "metadata": {},
   "outputs": [],
   "source": [
    "# default_exp cli"
   ]
  },
  {
   "cell_type": "code",
   "execution_count": 2,
   "metadata": {},
   "outputs": [],
   "source": [
    "import sys\n",
    "sys.path.append('..')\n",
    "import lib_py.ipython_magic as ipython_magic"
   ]
  },
  {
   "cell_type": "markdown",
   "metadata": {},
   "source": [
    "### ???"
   ]
  },
  {
   "cell_type": "code",
   "execution_count": 3,
   "metadata": {
    "vscode": {
     "languageId": "bat"
    }
   },
   "outputs": [
    {
     "name": "stdout",
     "output_type": "stream",
     "text": [
      "<magic:701acbb5ffaf4207b4ceb82573da2a3c>\n"
     ]
    },
    {
     "data": {
      "application/javascript": "IPython.notebook.save_checkpoint();",
      "text/plain": [
       "<IPython.core.display.Javascript object>"
      ]
     },
     "metadata": {},
     "output_type": "display_data"
    },
    {
     "name": "stdout",
     "output_type": "stream",
     "text": [
      "{'run_build_output': ['[> spi_to_fsx ()] \\x1b[38;2;222;136;76m[pwd=/home/alias/home/fs/repos/tictactoe/lib_spi spi_path=../lib_spi/cli/cli.spi new_fsx_path=../lib_spi/cli/cli.fsx]\\x1b[0m \\x1b[38;2;56;87;121m[timestamp=000000 run_id=74 log_level=Debug]\\x1b[0m', '[> spi_to_fsx ()] \\x1b[38;2;222;136;76m[spi_path_clean=/home/alias/home/fs/repos/tictactoe/lib_spi/cli/cli.spi]\\x1b[0m \\x1b[38;2;56;87;121m[timestamp=000000 run_id=214 log_level=Debug]\\x1b[0m', '[> spi_to_fsx ()] \\x1b[38;2;222;136;76m[src_path=/home/alias/home/fs/repos/tictactoe/lib_spi/cli]\\x1b[0m \\x1b[38;2;56;87;121m[timestamp=000000 run_id=158 log_level=Debug]\\x1b[0m', '[> spi_to_fsx ()] \\x1b[38;2;222;136;76m[spiproj_path=/home/alias/home/fs/repos/tictactoe/lib_spi/package.spiproj]\\x1b[0m \\x1b[38;2;56;87;121m[timestamp=000000 run_id=118 log_level=Debug]\\x1b[0m', '[> spi_to_fsx ()] \\x1b[38;2;222;136;76m[fsx_path=/home/alias/home/fs/repos/tictactoe/lib_spi/cli/cli.fsx]\\x1b[0m \\x1b[38;2;56;87;121m[timestamp=000000 run_id=204 log_level=Debug]\\x1b[0m', '[> spi_to_fsx ()] \\x1b[38;2;222;136;76m[> fs_write fsx_path \"\"; ok]\\x1b[0m \\x1b[38;2;56;87;121m[timestamp=000000 run_id=207 log_level=Debug]\\x1b[0m', '[> spiproj_open ()] \\x1b[38;2;227;106;98m[spiproj_path=/home/alias/home/fs/repos/tictactoe/lib_spi/package.spiproj spiproj_text len=1108]\\x1b[0m \\x1b[38;2;56;87;121m[timestamp=000000 run_id=224 log_level=Debug]\\x1b[0m', '[> spiproj_open ()] \\x1b[38;2;227;106;98m[json len==1275]\\x1b[0m \\x1b[38;2;56;87;121m[timestamp=000000 run_id=171 log_level=Debug]\\x1b[0m', '[> zmq_request ()] \\x1b[38;2;252;251;27m[host=localhost port=13805 msg len=1275]\\x1b[0m \\x1b[38;2;56;87;121m[timestamp=000000 run_id=151 log_level=Debug]\\x1b[0m', '[> zmq_request ()] \\x1b[38;2;252;251;27m[result len=0]\\x1b[0m \\x1b[38;2;56;87;121m[timestamp=000000 run_id=36 log_level=Debug]\\x1b[0m', '[> spi_to_fsx ()] \\x1b[38;2;222;136;76m[> spiproj_open; ok]\\x1b[0m \\x1b[38;2;56;87;121m[timestamp=000000 run_id=6 log_level=Debug]\\x1b[0m', '[> spi_build_file ()] \\x1b[38;2;152;213;239m[spi_path=/home/alias/home/fs/repos/tictactoe/lib_spi/cli/cli.spi backend=Fsharp]\\x1b[0m \\x1b[38;2;56;87;121m[timestamp=000000 run_id=220 log_level=Debug]\\x1b[0m', '[> spi_build_file ()] \\x1b[38;2;152;213;239m[json len=98]\\x1b[0m \\x1b[38;2;56;87;121m[timestamp=000000 run_id=60 log_level=Debug]\\x1b[0m', '[> zmq_request ()] \\x1b[38;2;252;251;27m[host=localhost port=13805 msg len=98]\\x1b[0m \\x1b[38;2;56;87;121m[timestamp=000000 run_id=245 log_level=Debug]\\x1b[0m', '[> zmq_request ()] \\x1b[38;2;252;251;27m[result len=0]\\x1b[0m \\x1b[38;2;56;87;121m[timestamp=000000 run_id=23 log_level=Debug]\\x1b[0m', '[> spi_to_fsx ()] \\x1b[38;2;222;136;76m[> spi_build_file; ok]\\x1b[0m \\x1b[38;2;56;87;121m[timestamp=000000 run_id=3 log_level=Debug]\\x1b[0m', '[> wait_file_change ()] \\x1b[38;2;56;121;87m[fsx_path=/home/alias/home/fs/repos/tictactoe/lib_spi/cli/cli.fsx start=SystemTime { tv_sec: 1674646517 tv_nsec: 305652330 }]\\x1b[0m \\x1b[38;2;56;87;121m[timestamp=000000 run_id=152 log_level=Debug]\\x1b[0m', '[> wait_file_change ()] \\x1b[38;2;56;121;87m[i=0 last_modified=SystemTime { tv_sec: 1674646517 tv_nsec: 305652330 }]\\x1b[0m \\x1b[38;2;56;87;121m[timestamp=000000 run_id=79 log_level=Debug]\\x1b[0m', '[> wait_file_change ()] \\x1b[38;2;56;121;87m[i=1 last_modified=SystemTime { tv_sec: 1674646517 tv_nsec: 305652330 }]\\x1b[0m \\x1b[38;2;56;87;121m[timestamp=000000 run_id=101 log_level=Debug]\\x1b[0m', '[> wait_file_change ()] \\x1b[38;2;56;121;87m[i=2 last_modified=SystemTime { tv_sec: 1674646517 tv_nsec: 305652330 }]\\x1b[0m \\x1b[38;2;56;87;121m[timestamp=000000 run_id=244 log_level=Debug]\\x1b[0m', '[> wait_file_change ()] \\x1b[38;2;56;121;87m[i=3 last_modified=SystemTime { tv_sec: 1674646517 tv_nsec: 305652330 }]\\x1b[0m \\x1b[38;2;56;87;121m[timestamp=000000 run_id=203 log_level=Debug]\\x1b[0m', '[> wait_file_change ()] \\x1b[38;2;56;121;87m[i=4 last_modified=SystemTime { tv_sec: 1674646517 tv_nsec: 425658726 }]\\x1b[0m \\x1b[38;2;56;87;121m[timestamp=000000 run_id=74 log_level=Debug]\\x1b[0m', '[> spi_to_fsx ()] \\x1b[38;2;222;136;76m[new_fsx len=46029]\\x1b[0m \\x1b[38;2;56;87;121m[timestamp=000000 run_id=255 log_level=Debug]\\x1b[0m', '[> spi_to_fsx ()] \\x1b[38;2;222;136;76m[> fs_write new_fsx_path; ok]\\x1b[0m \\x1b[38;2;56;87;121m[timestamp=000000 run_id=171 log_level=Debug]\\x1b[0m', 'fsx.len(): 46029'], 'fsx_path': '../lib_spi/cli/cli.fsx', 'len(new_code_fsx)': 46028, 'new_code_fsx[:100]': 'type [<Struct>] US0 =\\n    | US0_0\\n    | US0_1\\nand UH0 =\\n    | UH0_0 of Types.std.string.String * UH0'}\n"
     ]
    },
    {
     "data": {
      "text/plain": [
       "'../lib_spi/cli/cli.spi'"
      ]
     },
     "execution_count": 3,
     "metadata": {},
     "output_type": "execute_result"
    }
   ],
   "source": [
    "%%spiral ../lib_spi/cli/cli.spi\n",
    "\n"
   ]
  },
  {
   "cell_type": "code",
   "execution_count": 4,
   "metadata": {
    "vscode": {
     "languageId": "shellscript"
    }
   },
   "outputs": [
    {
     "name": "stdout",
     "output_type": "stream",
     "text": [
      "\u001b[?1h\u001b=\u001b[6n\u001b[6n\u001b[?1h\u001b=\u001b[?1h\u001b=Fable: F# to Rust compiler 4.0.0-theta-018 (status: alpha)\n",
      "Thanks to the contributor! @jmmk\n",
      "Stand with Ukraine! https://standwithukraine.com.ua/\n",
      "\n",
      "Parsing ../lib_spi/cli/cli.fsproj...\n",
      "Retrieving project options from cache, in case of issues run `dotnet fable clean` or try `--noCache` option.\n",
      "Project and references (2 source files) parsed in 160ms\n",
      "\n",
      "Started Fable compilation...\n",
      "\u001b[6n\u001b[6n\u001b[1;1HCompiled 1/2: ../lib_spi/rust/Types.fs\u001b[1;1HCompiled 2/2: ../lib_spi/cli/cli.fsx  \u001b[1;37H\u001b[1;1H                                    \u001b[1;1HFable compilation finished in 13732ms\n",
      "\n",
      "\u001b[39;49m\u001b[33m./../lib_spi/cli/cli.fsx(843,0): (843,2) warning FABLE: For Rust, support for F# static and module do bindings is disabled by default. It can be enabled with the 'static_do_bindings' feature. Use at your own risk!\n",
      "\u001b[39;49m\u001b[?1h\u001b=\u001b[?1h\u001b=\u001b[2$~\u001b[1$}\u001b[1`\u001b[0$}"
     ]
    }
   ],
   "source": [
    "!pwsh ../lib_spi/cli/build.ps1"
   ]
  }
 ],
 "metadata": {
  "kernelspec": {
   "display_name": "Python 3",
   "language": "python",
   "name": "python3"
  },
  "language_info": {
   "codemirror_mode": {
    "name": "ipython",
    "version": 3
   },
   "file_extension": ".py",
   "mimetype": "text/x-python",
   "name": "python",
   "nbconvert_exporter": "python",
   "pygments_lexer": "ipython3",
   "version": "3.10.9"
  },
  "orig_nbformat": 4,
  "vscode": {
   "interpreter": {
    "hash": "69712e5f5cc18cdb93e82f18d7bfde9a47d7138efae1f4b87f8f55069ac86612"
   }
  }
 },
 "nbformat": 4,
 "nbformat_minor": 2
}
