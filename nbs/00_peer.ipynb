{
 "cells": [
  {
   "cell_type": "code",
   "execution_count": 1,
   "metadata": {},
   "outputs": [],
   "source": [
    "# default_exp peer"
   ]
  },
  {
   "cell_type": "code",
   "execution_count": 2,
   "metadata": {},
   "outputs": [],
   "source": [
    "import sys\n",
    "sys.path.append('..')\n",
    "import lib_py.ipython_magic as ipython_magic"
   ]
  },
  {
   "cell_type": "markdown",
   "metadata": {},
   "source": [
    "# ???"
   ]
  },
  {
   "cell_type": "code",
   "execution_count": 3,
   "metadata": {
    "vscode": {
     "languageId": "bat"
    }
   },
   "outputs": [
    {
     "name": "stdout",
     "output_type": "stream",
     "text": [
      "<magic:dbb3a45c75da4f8fbbffa99862e6e8fa>\n"
     ]
    },
    {
     "data": {
      "application/javascript": "IPython.notebook.save_checkpoint();",
      "text/plain": [
       "<IPython.core.display.Javascript object>"
      ]
     },
     "metadata": {},
     "output_type": "display_data"
    },
    {
     "name": "stdout",
     "output_type": "stream",
     "text": [
      "{'run_build_output': ['src_path: /workspaces/tictactoe_spiral/lib_spi', 'spiproj_path: /workspaces/tictactoe_spiral/lib_spi/package.spiproj', 'fsx_path: /workspaces/tictactoe_spiral/lib_spi/peer.fsx', 'write ok. fsx_path: /workspaces/tictactoe_spiral/lib_spi/peer.fsx', 'zmq_request. result: ', 'open ok. spiproj_path: /workspaces/tictactoe_spiral/lib_spi/package.spiproj', 'zmq_request. result: ', 'build ok. spi_path: /workspaces/tictactoe_spiral/lib_spi/peer.spi', 'waiting for file change. start: SystemTime { tv_sec: 1670720113, tv_nsec: 28726741 }', 'waiting for file change. last_modified: SystemTime { tv_sec: 1670720113, tv_nsec: 568730190 } lines.len(): 974', 'lines.len(): 974', 'write ok. new_fsx_path=../lib_spi/peer.fsx fsx_path=/workspaces/tictactoe_spiral/lib_spi/peer.fsx new_fsx.len()=974', 'fsx.len(): 974'], 'fsx_path': '../lib_spi/peer.fsx', 'len(new_code_fsx)': 973, 'new_code_fsx[:100]': 'type Mut0 = {mutable l0 : obj}\\nand UH0 =\\n    | UH0_0 of string\\n    | UH0_1 of string * string\\n    | '}\n"
     ]
    },
    {
     "data": {
      "text/plain": [
       "'../lib_spi/peer.spi'"
      ]
     },
     "execution_count": 3,
     "metadata": {},
     "output_type": "execute_result"
    }
   ],
   "source": [
    "%%spiral ../lib_spi/peer.spi\n",
    "\n"
   ]
  },
  {
   "cell_type": "code",
   "execution_count": 4,
   "metadata": {},
   "outputs": [
    {
     "name": "stdout",
     "output_type": "stream",
     "text": [
      "\u001b[?1h\u001b=MSBuild version 17.4.0+18d5aef85 for .NET\n",
      "  Determining projects to restore...\n",
      "  All projects are up-to-date for restore.\n",
      "  Fable.SignalR -> /workspaces/tictactoe_spiral/deps/Fable.SignalR/bin/Debug/net7.0/Fable.SignalR.dll\n",
      "\u001b[m\u001b[33m/workspaces/tictactoe_spiral/lib_spi/ui/components'.fsx(1513,26): warning FS1104: Identifiers containing '@' are reserved for use in F# code generation [/workspaces/tictactoe_spiral/lib_spi/package.fsproj]\n",
      "\u001b[m\u001b[m\u001b[33m/workspaces/tictactoe_spiral/lib_spi/ui/components'.fsx(1513,42): warning FS1104: Identifiers containing '@' are reserved for use in F# code generation [/workspaces/tictactoe_spiral/lib_spi/package.fsproj]\n",
      "\u001b[m\u001b[m\u001b[33m/workspaces/tictactoe_spiral/lib_spi/ui/components'.fsx(1513,26): warning FS1104: Identifiers containing '@' are reserved for use in F# code generation [/workspaces/tictactoe_spiral/lib_spi/package.fsproj]\n",
      "\u001b[m\u001b[m\u001b[33m/workspaces/tictactoe_spiral/lib_spi/ui/components'.fsx(1513,42): warning FS1104: Identifiers containing '@' are reserved for use in F# code generation [/workspaces/tictactoe_spiral/lib_spi/package.fsproj]\n",
      "\u001b[m\u001b[?1h\u001b=  package -> /workspaces/tictactoe_spiral/lib_spi/bin/Debug/net7.0/package.dll\n",
      "\u001b[m\u001b[32m\n",
      "Build succeeded.\n",
      "\u001b[m\n",
      "\u001b[m\u001b[33m/workspaces/tictactoe_spiral/lib_spi/ui/components'.fsx(1513,26): warning FS1104: Identifiers containing '@' are reserved for use in F# code generation [/workspaces/tictactoe_spiral/lib_spi/package.fsproj]\n",
      "/workspaces/tictactoe_spiral/lib_spi/ui/components'.fsx(1513,42): warning FS1104: Identifiers containing '@' are reserved for use in F# code generation [/workspaces/tictactoe_spiral/lib_spi/package.fsproj]\n",
      "/workspaces/tictactoe_spiral/lib_spi/ui/components'.fsx(1513,26): warning FS1104: Identifiers containing '@' are reserved for use in F# code generation [/workspaces/tictactoe_spiral/lib_spi/package.fsproj]\n",
      "/workspaces/tictactoe_spiral/lib_spi/ui/components'.fsx(1513,42): warning FS1104: Identifiers containing '@' are reserved for use in F# code generation [/workspaces/tictactoe_spiral/lib_spi/package.fsproj]\n",
      "\u001b[m\u001b[m\u001b[33m    4 Warning(s)\n",
      "\u001b[m    0 Error(s)\n",
      "\u001b[m\n",
      "Time Elapsed 00:00:22.73\n"
     ]
    }
   ],
   "source": [
    "!dotnet build ../lib_spi/package.fsproj"
   ]
  }
 ],
 "metadata": {
  "kernelspec": {
   "display_name": "Python 3.10.4 64-bit",
   "language": "python",
   "name": "python3"
  },
  "language_info": {
   "codemirror_mode": {
    "name": "ipython",
    "version": 3
   },
   "file_extension": ".py",
   "mimetype": "text/x-python",
   "name": "python",
   "nbconvert_exporter": "python",
   "pygments_lexer": "ipython3",
   "version": "3.10.4"
  },
  "orig_nbformat": 4,
  "vscode": {
   "interpreter": {
    "hash": "3ad933181bd8a04b432d3370b9dc3b0662ad032c4dfaa4e4f1596c548f763858"
   }
  }
 },
 "nbformat": 4,
 "nbformat_minor": 2
}
