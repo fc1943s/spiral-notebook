{
 "cells": [
  {
   "cell_type": "code",
   "execution_count": 1,
   "metadata": {},
   "outputs": [],
   "source": [
    "# default_exp peer"
   ]
  },
  {
   "cell_type": "code",
   "execution_count": 2,
   "metadata": {},
   "outputs": [],
   "source": [
    "import sys\n",
    "sys.path.append('..')\n",
    "import lib_py.ipython_magic as ipython_magic"
   ]
  },
  {
   "cell_type": "markdown",
   "metadata": {},
   "source": [
    "# ???"
   ]
  },
  {
   "cell_type": "code",
   "execution_count": 3,
   "metadata": {
    "vscode": {
     "languageId": "bat"
    }
   },
   "outputs": [
    {
     "name": "stdout",
     "output_type": "stream",
     "text": [
      "<magic:cf145592e42148f29ad9fc368c3684dd>\n"
     ]
    },
    {
     "data": {
      "application/javascript": "IPython.notebook.save_checkpoint();",
      "text/plain": [
       "<IPython.core.display.Javascript object>"
      ]
     },
     "metadata": {},
     "output_type": "display_data"
    },
    {
     "name": "stdout",
     "output_type": "stream",
     "text": [
      "{'run_node_output': [], 'fsx_path': '/workspaces/tictactoe_spiral/lib_fsx/peer_spi.fsx', 'len(new_code_fsx)': 857, 'new_code_fsx[:100]': 'type Mut0 = {mutable l0 : obj}\\nand UH0 =\\n    | UH0_0 of string\\n    | UH0_1 of string * string\\n    | '}\n"
     ]
    },
    {
     "data": {
      "text/plain": [
       "'/workspaces/tictactoe_spiral/lib_spi/main.spi'"
      ]
     },
     "execution_count": 3,
     "metadata": {},
     "output_type": "execute_result"
    }
   ],
   "source": [
    "%%spiral\n",
    "\n",
    "\n",
    "open ui.db\n",
    "\n",
    "\n",
    "inl imports () =\n",
    "    ()\n",
    "\n",
    "inl tests () =\n",
    "    inl a = 1i32\n",
    "    inl b = 1i32\n",
    "    test (a = b)\n",
    "\n",
    "inl update (request : request) : response =\n",
    "    console_fsx.inspect \"request:\"\n",
    "    console_fsx.inspect request\n",
    "    null ()\n",
    "\n",
    "type map k v = $\"Map<`k, `v>\"\n",
    "inl new_map forall k v. (items : a i32 (pair k v)) : map k v =\n",
    "    $\"Map !items\"\n",
    "\n",
    "\n",
    "inl main () =\n",
    "    print_static \"<>\"\n",
    "\n",
    "    inl result = mut { obj = null () : any }\n",
    "\n",
    "    imports ()\n",
    "    tests ()\n",
    "\n",
    "    inl result_obj : map string any =\n",
    "        new_map (a ;[\n",
    "            new_pair \"update\" !!update\n",
    "        ])\n",
    "    result.obj <- !!result_obj\n",
    "\n",
    "    print_static \"</>\"\n"
   ]
  },
  {
   "cell_type": "code",
   "execution_count": 4,
   "metadata": {},
   "outputs": [
    {
     "name": "stdout",
     "output_type": "stream",
     "text": [
      "\u001b[?1h\u001b=MSBuild version 17.4.0+18d5aef85 for .NET\n",
      "  Determining projects to restore...\n",
      "  All projects are up-to-date for restore.\n",
      "\u001b[?1h\u001b=  tictactoe_spiral -> /workspaces/tictactoe_spiral/lib_fsx/bin/Debug/net7.0/tictactoe_spiral.dll\n",
      "\u001b[m\u001b[32m\n",
      "Build succeeded.\n",
      "\u001b[m    0 Warning(s)\n",
      "\u001b[m    0 Error(s)\n",
      "\u001b[m\n",
      "Time Elapsed 00:00:10.31\n"
     ]
    }
   ],
   "source": [
    "!dotnet build ../lib_fsx"
   ]
  }
 ],
 "metadata": {
  "kernelspec": {
   "display_name": "Python 3.10.4 64-bit",
   "language": "python",
   "name": "python3"
  },
  "language_info": {
   "codemirror_mode": {
    "name": "ipython",
    "version": 3
   },
   "file_extension": ".py",
   "mimetype": "text/x-python",
   "name": "python",
   "nbconvert_exporter": "python",
   "pygments_lexer": "ipython3",
   "version": "3.10.4"
  },
  "orig_nbformat": 4,
  "vscode": {
   "interpreter": {
    "hash": "3ad933181bd8a04b432d3370b9dc3b0662ad032c4dfaa4e4f1596c548f763858"
   }
  }
 },
 "nbformat": 4,
 "nbformat_minor": 2
}
