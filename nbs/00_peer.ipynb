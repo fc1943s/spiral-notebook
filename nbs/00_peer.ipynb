{
 "cells": [
  {
   "cell_type": "code",
   "execution_count": 1,
   "metadata": {},
   "outputs": [],
   "source": [
    "# default_exp peer"
   ]
  },
  {
   "cell_type": "code",
   "execution_count": 2,
   "metadata": {},
   "outputs": [],
   "source": [
    "import sys\n",
    "sys.path.append('..')\n",
    "import lib_py.ipython_magic as ipython_magic"
   ]
  },
  {
   "cell_type": "markdown",
   "metadata": {},
   "source": [
    "# ???"
   ]
  },
  {
   "cell_type": "code",
   "execution_count": 3,
   "metadata": {
    "vscode": {
     "languageId": "bat"
    }
   },
   "outputs": [
    {
     "name": "stdout",
     "output_type": "stream",
     "text": [
      "<magic:d544fac9e14f4cd2a2d9a11ca30c995b>\n"
     ]
    },
    {
     "data": {
      "application/javascript": "IPython.notebook.save_checkpoint();",
      "text/plain": [
       "<IPython.core.display.Javascript object>"
      ]
     },
     "metadata": {},
     "output_type": "display_data"
    },
    {
     "name": "stdout",
     "output_type": "stream",
     "text": [
      "{'run_build_output': ['[> spi_to_fsx ()] \\x1b[38;2;222;136;76m[pwd=/home/alias/home/fs/repos/tictactoe/lib_spi spi_path=../lib_spi/peer.spi new_fsx_path=../lib_spi/peer.fsx]\\x1b[0m \\x1b[38;2;56;87;121m[timestamp=000000 run_id=101 log_level=Debug]\\x1b[0m', '[> spi_to_fsx ()] \\x1b[38;2;222;136;76m[spi_path_clean=/home/alias/home/fs/repos/tictactoe/lib_spi/peer.spi]\\x1b[0m \\x1b[38;2;56;87;121m[timestamp=000000 run_id=37 log_level=Debug]\\x1b[0m', '[> spi_to_fsx ()] \\x1b[38;2;222;136;76m[src_path=/home/alias/home/fs/repos/tictactoe/lib_spi]\\x1b[0m \\x1b[38;2;56;87;121m[timestamp=000000 run_id=32 log_level=Debug]\\x1b[0m', '[> spi_to_fsx ()] \\x1b[38;2;222;136;76m[spiproj_path=/home/alias/home/fs/repos/tictactoe/lib_spi/package.spiproj]\\x1b[0m \\x1b[38;2;56;87;121m[timestamp=000000 run_id=147 log_level=Debug]\\x1b[0m', '[> spi_to_fsx ()] \\x1b[38;2;222;136;76m[fsx_path=/home/alias/home/fs/repos/tictactoe/lib_spi/peer.fsx]\\x1b[0m \\x1b[38;2;56;87;121m[timestamp=000000 run_id=79 log_level=Debug]\\x1b[0m', '[> spi_to_fsx ()] \\x1b[38;2;222;136;76m[> fs_write fsx_path \"\"; ok]\\x1b[0m \\x1b[38;2;56;87;121m[timestamp=000000 run_id=72 log_level=Debug]\\x1b[0m', '[> spiproj_open ()] \\x1b[38;2;227;106;98m[spiproj_path=/home/alias/home/fs/repos/tictactoe/lib_spi/package.spiproj spiproj_text len=1108]\\x1b[0m \\x1b[38;2;56;87;121m[timestamp=000000 run_id=249 log_level=Debug]\\x1b[0m', '[> spiproj_open ()] \\x1b[38;2;227;106;98m[json len==1275]\\x1b[0m \\x1b[38;2;56;87;121m[timestamp=000000 run_id=104 log_level=Debug]\\x1b[0m', '[> zmq_request ()] \\x1b[38;2;252;251;27m[host=localhost port=13805 msg len=1275]\\x1b[0m \\x1b[38;2;56;87;121m[timestamp=000000 run_id=201 log_level=Debug]\\x1b[0m', '[> zmq_request ()] \\x1b[38;2;252;251;27m[result len=0]\\x1b[0m \\x1b[38;2;56;87;121m[timestamp=000000 run_id=127 log_level=Debug]\\x1b[0m', '[> spi_to_fsx ()] \\x1b[38;2;222;136;76m[> spiproj_open; ok]\\x1b[0m \\x1b[38;2;56;87;121m[timestamp=000000 run_id=181 log_level=Debug]\\x1b[0m', '[> spi_build_file ()] \\x1b[38;2;152;213;239m[spi_path=/home/alias/home/fs/repos/tictactoe/lib_spi/peer.spi backend=Fsharp]\\x1b[0m \\x1b[38;2;56;87;121m[timestamp=000000 run_id=241 log_level=Debug]\\x1b[0m', '[> spi_build_file ()] \\x1b[38;2;152;213;239m[json len=95]\\x1b[0m \\x1b[38;2;56;87;121m[timestamp=000000 run_id=52 log_level=Debug]\\x1b[0m', '[> zmq_request ()] \\x1b[38;2;252;251;27m[host=localhost port=13805 msg len=95]\\x1b[0m \\x1b[38;2;56;87;121m[timestamp=000000 run_id=237 log_level=Debug]\\x1b[0m', '[> zmq_request ()] \\x1b[38;2;252;251;27m[result len=0]\\x1b[0m \\x1b[38;2;56;87;121m[timestamp=000000 run_id=208 log_level=Debug]\\x1b[0m', '[> spi_to_fsx ()] \\x1b[38;2;222;136;76m[> spi_build_file; ok]\\x1b[0m \\x1b[38;2;56;87;121m[timestamp=000000 run_id=230 log_level=Debug]\\x1b[0m', '[> wait_file_change ()] \\x1b[38;2;56;121;87m[fsx_path=/home/alias/home/fs/repos/tictactoe/lib_spi/peer.fsx start=SystemTime { tv_sec: 1674646656 tv_nsec: 191689064 }]\\x1b[0m \\x1b[38;2;56;87;121m[timestamp=000000 run_id=157 log_level=Debug]\\x1b[0m', '[> wait_file_change ()] \\x1b[38;2;56;121;87m[i=0 last_modified=SystemTime { tv_sec: 1674646656 tv_nsec: 191689064 }]\\x1b[0m \\x1b[38;2;56;87;121m[timestamp=000000 run_id=228 log_level=Debug]\\x1b[0m', '[> wait_file_change ()] \\x1b[38;2;56;121;87m[i=1 last_modified=SystemTime { tv_sec: 1674646656 tv_nsec: 191689064 }]\\x1b[0m \\x1b[38;2;56;87;121m[timestamp=000000 run_id=79 log_level=Debug]\\x1b[0m', '[> wait_file_change ()] \\x1b[38;2;56;121;87m[i=2 last_modified=SystemTime { tv_sec: 1674646656 tv_nsec: 191689064 }]\\x1b[0m \\x1b[38;2;56;87;121m[timestamp=000000 run_id=233 log_level=Debug]\\x1b[0m', '[> wait_file_change ()] \\x1b[38;2;56;121;87m[i=3 last_modified=SystemTime { tv_sec: 1674646656 tv_nsec: 191689064 }]\\x1b[0m \\x1b[38;2;56;87;121m[timestamp=000000 run_id=101 log_level=Debug]\\x1b[0m', '[> wait_file_change ()] \\x1b[38;2;56;121;87m[i=4 last_modified=SystemTime { tv_sec: 1674646656 tv_nsec: 191689064 }]\\x1b[0m \\x1b[38;2;56;87;121m[timestamp=000000 run_id=155 log_level=Debug]\\x1b[0m', '[> wait_file_change ()] \\x1b[38;2;56;121;87m[i=5 last_modified=SystemTime { tv_sec: 1674646656 tv_nsec: 191689064 }]\\x1b[0m \\x1b[38;2;56;87;121m[timestamp=000000 run_id=1 log_level=Debug]\\x1b[0m', '[> wait_file_change ()] \\x1b[38;2;56;121;87m[i=6 last_modified=SystemTime { tv_sec: 1674646656 tv_nsec: 191689064 }]\\x1b[0m \\x1b[38;2;56;87;121m[timestamp=000000 run_id=251 log_level=Debug]\\x1b[0m', '[> wait_file_change ()] \\x1b[38;2;56;121;87m[i=7 last_modified=SystemTime { tv_sec: 1674646656 tv_nsec: 191689064 }]\\x1b[0m \\x1b[38;2;56;87;121m[timestamp=000000 run_id=200 log_level=Debug]\\x1b[0m', '[> wait_file_change ()] \\x1b[38;2;56;121;87m[i=8 last_modified=SystemTime { tv_sec: 1674646656 tv_nsec: 191689064 }]\\x1b[0m \\x1b[38;2;56;87;121m[timestamp=000000 run_id=12 log_level=Debug]\\x1b[0m', '[> wait_file_change ()] \\x1b[38;2;56;121;87m[i=9 last_modified=SystemTime { tv_sec: 1674646656 tv_nsec: 191689064 }]\\x1b[0m \\x1b[38;2;56;87;121m[timestamp=000000 run_id=5 log_level=Debug]\\x1b[0m', '[> wait_file_change ()] \\x1b[38;2;56;121;87m[i=10 last_modified=SystemTime { tv_sec: 1674646656 tv_nsec: 191689064 }]\\x1b[0m \\x1b[38;2;56;87;121m[timestamp=000000 run_id=218 log_level=Debug]\\x1b[0m', '[> wait_file_change ()] \\x1b[38;2;56;121;87m[i=11 last_modified=SystemTime { tv_sec: 1674646656 tv_nsec: 191689064 }]\\x1b[0m \\x1b[38;2;56;87;121m[timestamp=000000 run_id=162 log_level=Debug]\\x1b[0m', '[> wait_file_change ()] \\x1b[38;2;56;121;87m[i=12 last_modified=SystemTime { tv_sec: 1674646656 tv_nsec: 191689064 }]\\x1b[0m \\x1b[38;2;56;87;121m[timestamp=000000 run_id=148 log_level=Debug]\\x1b[0m', '[> wait_file_change ()] \\x1b[38;2;56;121;87m[i=13 last_modified=SystemTime { tv_sec: 1674646656 tv_nsec: 191689064 }]\\x1b[0m \\x1b[38;2;56;87;121m[timestamp=000000 run_id=247 log_level=Debug]\\x1b[0m', '[> wait_file_change ()] \\x1b[38;2;56;121;87m[i=14 last_modified=SystemTime { tv_sec: 1674646656 tv_nsec: 191689064 }]\\x1b[0m \\x1b[38;2;56;87;121m[timestamp=000000 run_id=97 log_level=Debug]\\x1b[0m', '[> wait_file_change ()] \\x1b[38;2;56;121;87m[i=15 last_modified=SystemTime { tv_sec: 1674646656 tv_nsec: 191689064 }]\\x1b[0m \\x1b[38;2;56;87;121m[timestamp=000000 run_id=135 log_level=Debug]\\x1b[0m', '[> wait_file_change ()] \\x1b[38;2;56;121;87m[i=16 last_modified=SystemTime { tv_sec: 1674646656 tv_nsec: 191689064 }]\\x1b[0m \\x1b[38;2;56;87;121m[timestamp=000000 run_id=198 log_level=Debug]\\x1b[0m', '[> wait_file_change ()] \\x1b[38;2;56;121;87m[i=17 last_modified=SystemTime { tv_sec: 1674646656 tv_nsec: 191689064 }]\\x1b[0m \\x1b[38;2;56;87;121m[timestamp=000000 run_id=199 log_level=Debug]\\x1b[0m', '[> wait_file_change ()] \\x1b[38;2;56;121;87m[i=18 last_modified=SystemTime { tv_sec: 1674646656 tv_nsec: 191689064 }]\\x1b[0m \\x1b[38;2;56;87;121m[timestamp=000000 run_id=152 log_level=Debug]\\x1b[0m', '[> wait_file_change ()] \\x1b[38;2;56;121;87m[i=19 last_modified=SystemTime { tv_sec: 1674646656 tv_nsec: 191689064 }]\\x1b[0m \\x1b[38;2;56;87;121m[timestamp=000000 run_id=189 log_level=Debug]\\x1b[0m', '[> wait_file_change ()] \\x1b[38;2;56;121;87m[i=20 last_modified=SystemTime { tv_sec: 1674646656 tv_nsec: 191689064 }]\\x1b[0m \\x1b[38;2;56;87;121m[timestamp=000000 run_id=211 log_level=Debug]\\x1b[0m', '[> wait_file_change ()] \\x1b[38;2;56;121;87m[i=21 last_modified=SystemTime { tv_sec: 1674646656 tv_nsec: 191689064 }]\\x1b[0m \\x1b[38;2;56;87;121m[timestamp=000000 run_id=186 log_level=Debug]\\x1b[0m', '[> wait_file_change ()] \\x1b[38;2;56;121;87m[i=22 last_modified=SystemTime { tv_sec: 1674646656 tv_nsec: 191689064 }]\\x1b[0m \\x1b[38;2;56;87;121m[timestamp=000000 run_id=137 log_level=Debug]\\x1b[0m', '[> wait_file_change ()] \\x1b[38;2;56;121;87m[i=23 last_modified=SystemTime { tv_sec: 1674646656 tv_nsec: 191689064 }]\\x1b[0m \\x1b[38;2;56;87;121m[timestamp=000000 run_id=40 log_level=Debug]\\x1b[0m', '[> wait_file_change ()] \\x1b[38;2;56;121;87m[i=24 last_modified=SystemTime { tv_sec: 1674646656 tv_nsec: 801718497 }]\\x1b[0m \\x1b[38;2;56;87;121m[timestamp=000000 run_id=137 log_level=Debug]\\x1b[0m', '[> spi_to_fsx ()] \\x1b[38;2;222;136;76m[new_fsx len=974]\\x1b[0m \\x1b[38;2;56;87;121m[timestamp=000000 run_id=206 log_level=Debug]\\x1b[0m', '[> spi_to_fsx ()] \\x1b[38;2;222;136;76m[> fs_write new_fsx_path; ok]\\x1b[0m \\x1b[38;2;56;87;121m[timestamp=000000 run_id=149 log_level=Debug]\\x1b[0m', 'fsx.len(): 974'], 'fsx_path': '../lib_spi/peer.fsx', 'len(new_code_fsx)': 973, 'new_code_fsx[:100]': 'type Mut0 = {mutable l0 : obj}\\nand UH0 =\\n    | UH0_0 of string\\n    | UH0_1 of string * string\\n    | '}\n"
     ]
    },
    {
     "data": {
      "text/plain": [
       "'../lib_spi/peer.spi'"
      ]
     },
     "execution_count": 3,
     "metadata": {},
     "output_type": "execute_result"
    }
   ],
   "source": [
    "%%spiral ../lib_spi/peer.spi\n",
    "\n"
   ]
  },
  {
   "cell_type": "code",
   "execution_count": 4,
   "metadata": {},
   "outputs": [
    {
     "name": "stdout",
     "output_type": "stream",
     "text": [
      "\u001b[?1h\u001b=MSBuild version 17.4.0+18d5aef85 for .NET\n",
      "  Determining projects to restore...\n",
      "  Paket version 7.2.0+bb14ab674b2748070a624f394cd6796e11aaffa8\n",
      "  The last full restore is still up to date. Nothing left to do.\n",
      "  Total time taken: 0 milliseconds\n",
      "\u001b[?1h\u001b=  Paket version 7.2.0+bb14ab674b2748070a624f394cd6796e11aaffa8\n",
      "  Restoring /home/alias/home/fs/repos/tictactoe/lib_spi/package.fsproj\n",
      "  Starting restore process.\n",
      "  Total time taken: 0 milliseconds\n",
      "\u001b[?1h\u001b=  Restored /home/alias/home/fs/repos/tictactoe/deps/Fable.SignalR/Fable.SignalR.fsproj (in 177 ms).\n",
      "  Restored /home/alias/home/fs/repos/tictactoe/lib_spi/package.fsproj (in 177 ms).\n",
      "\u001b[?1h\u001b=  Fable.SignalR -> /home/alias/home/fs/repos/tictactoe/deps/Fable.SignalR/bin/Debug/net7.0/Fable.SignalR.dll\n",
      "\u001b[m\u001b[33m/home/alias/home/fs/repos/tictactoe/lib_spi/ui/components'.fsx(1514,26): warning FS1104: Identifiers containing '@' are reserved for use in F# code generation [/home/alias/home/fs/repos/tictactoe/lib_spi/package.fsproj]\n",
      "\u001b[m\u001b[m\u001b[33m/home/alias/home/fs/repos/tictactoe/lib_spi/ui/components'.fsx(1514,42): warning FS1104: Identifiers containing '@' are reserved for use in F# code generation [/home/alias/home/fs/repos/tictactoe/lib_spi/package.fsproj]\n",
      "\u001b[m\u001b[m\u001b[33m/home/alias/home/fs/repos/tictactoe/lib_spi/ui/components'.fsx(1514,26): warning FS1104: Identifiers containing '@' are reserved for use in F# code generation [/home/alias/home/fs/repos/tictactoe/lib_spi/package.fsproj]\n",
      "\u001b[m\u001b[m\u001b[33m/home/alias/home/fs/repos/tictactoe/lib_spi/ui/components'.fsx(1514,42): warning FS1104: Identifiers containing '@' are reserved for use in F# code generation [/home/alias/home/fs/repos/tictactoe/lib_spi/package.fsproj]\n",
      "\u001b[m\u001b[?1h\u001b=  package -> /home/alias/home/fs/repos/tictactoe/lib_spi/bin/Debug/net7.0/package.dll\n",
      "\u001b[m\u001b[32m\n",
      "Build succeeded.\n",
      "\u001b[m\n",
      "\u001b[m\u001b[33m/home/alias/home/fs/repos/tictactoe/lib_spi/ui/components'.fsx(1514,26): warning FS1104: Identifiers containing '@' are reserved for use in F# code generation [/home/alias/home/fs/repos/tictactoe/lib_spi/package.fsproj]\n",
      "/home/alias/home/fs/repos/tictactoe/lib_spi/ui/components'.fsx(1514,42): warning FS1104: Identifiers containing '@' are reserved for use in F# code generation [/home/alias/home/fs/repos/tictactoe/lib_spi/package.fsproj]\n",
      "/home/alias/home/fs/repos/tictactoe/lib_spi/ui/components'.fsx(1514,26): warning FS1104: Identifiers containing '@' are reserved for use in F# code generation [/home/alias/home/fs/repos/tictactoe/lib_spi/package.fsproj]\n",
      "/home/alias/home/fs/repos/tictactoe/lib_spi/ui/components'.fsx(1514,42): warning FS1104: Identifiers containing '@' are reserved for use in F# code generation [/home/alias/home/fs/repos/tictactoe/lib_spi/package.fsproj]\n",
      "\u001b[m\u001b[m\u001b[33m    4 Warning(s)\n",
      "\u001b[m    0 Error(s)\n",
      "\u001b[m\n",
      "Time Elapsed 00:00:22.57\n"
     ]
    }
   ],
   "source": [
    "!dotnet build ../lib_spi/package.fsproj"
   ]
  }
 ],
 "metadata": {
  "kernelspec": {
   "display_name": "Python 3",
   "language": "python",
   "name": "python3"
  },
  "language_info": {
   "codemirror_mode": {
    "name": "ipython",
    "version": 3
   },
   "file_extension": ".py",
   "mimetype": "text/x-python",
   "name": "python",
   "nbconvert_exporter": "python",
   "pygments_lexer": "ipython3",
   "version": "3.10.9"
  },
  "orig_nbformat": 4,
  "vscode": {
   "interpreter": {
    "hash": "3fe098a60de41da4d418149dd85333239847aa92272c8f79d3c6f03653219927"
   }
  }
 },
 "nbformat": 4,
 "nbformat_minor": 2
}
