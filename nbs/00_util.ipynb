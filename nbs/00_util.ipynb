{
 "cells": [
  {
   "cell_type": "code",
   "execution_count": 1,
   "metadata": {},
   "outputs": [],
   "source": [
    "# default_exp util"
   ]
  },
  {
   "cell_type": "code",
   "execution_count": 2,
   "metadata": {},
   "outputs": [
    {
     "name": "stdout",
     "output_type": "stream",
     "text": [
      "Note: you may need to restart the kernel to use updated packages.\n"
     ]
    }
   ],
   "source": [
    "%pip install nbdev==1.2.11 | grep -v 'already satisfied'"
   ]
  },
  {
   "cell_type": "code",
   "execution_count": 3,
   "metadata": {},
   "outputs": [],
   "source": [
    "import sys\n",
    "sys.path.append('..')\n",
    "import lib_py.ipython_magic as ipython_magic"
   ]
  },
  {
   "cell_type": "markdown",
   "metadata": {},
   "source": [
    "# spiral"
   ]
  },
  {
   "cell_type": "code",
   "execution_count": 4,
   "metadata": {
    "vscode": {
     "languageId": "shellscript"
    }
   },
   "outputs": [
    {
     "name": "stdout",
     "output_type": "stream",
     "text": [
      "<magic:faedd2b87ae8471cb1fc0cc6c5b0c71d>\n"
     ]
    },
    {
     "data": {
      "application/javascript": "IPython.notebook.save_checkpoint();",
      "text/plain": [
       "<IPython.core.display.Javascript object>"
      ]
     },
     "metadata": {},
     "output_type": "display_data"
    },
    {
     "data": {
      "text/plain": [
       "'/workspaces/spiral-notebook/lib_spi/util.spi'"
      ]
     },
     "execution_count": 4,
     "metadata": {},
     "output_type": "execute_result"
    }
   ],
   "source": [
    "%%spi\n",
    "\n",
    "inl test b = assert b \"test\"\n"
   ]
  },
  {
   "cell_type": "code",
   "execution_count": null,
   "metadata": {},
   "outputs": [],
   "source": []
  },
  {
   "cell_type": "markdown",
   "metadata": {},
   "source": [
    "# node"
   ]
  },
  {
   "cell_type": "code",
   "execution_count": 5,
   "metadata": {
    "vscode": {
     "languageId": "javascript"
    }
   },
   "outputs": [
    {
     "data": {
      "text/plain": [
       "'/workspaces/spiral-notebook/lib_ts/util.ts'"
      ]
     },
     "execution_count": 5,
     "metadata": {},
     "output_type": "execute_result"
    }
   ],
   "source": [
    "%%node export\n",
    "\n",
    "export type PickByType<T, Value> = {\n",
    "    [P in keyof T as T[P] extends Value | undefined ? P : never]: T[P]\n",
    "}\n",
    "\n",
    "type NoneEmptyArray = readonly any[] & { 0: any }\n",
    "type CompareUnionWithArray<P, Q extends NoneEmptyArray> = Exclude<P, Q[number]> extends never\n",
    "    ? (Exclude<Q[number], P> extends never ? Q : ReadonlyArray<P>)\n",
    "    : readonly [...Q, Exclude<P, Q[number]>]\n",
    "export function assertTypeEquals<P, Q extends NoneEmptyArray>(_test: CompareUnionWithArray<P, Q>): void { }"
   ]
  },
  {
   "cell_type": "code",
   "execution_count": 6,
   "metadata": {
    "vscode": {
     "languageId": "javascript"
    }
   },
   "outputs": [
    {
     "data": {
      "text/plain": [
       "'/workspaces/spiral-notebook/lib_ts/util.ts'"
      ]
     },
     "execution_count": 6,
     "metadata": {},
     "output_type": "execute_result"
    }
   ],
   "source": [
    "%%node export\n",
    "\n",
    "\n",
    "export var sleep = (ms: number) => new Promise(resolve => setTimeout(resolve, ms))\n"
   ]
  },
  {
   "cell_type": "code",
   "execution_count": 7,
   "metadata": {
    "vscode": {
     "languageId": "javascript"
    }
   },
   "outputs": [
    {
     "data": {
      "text/plain": [
       "'/workspaces/spiral-notebook/lib_ts/util.ts'"
      ]
     },
     "execution_count": 7,
     "metadata": {},
     "output_type": "execute_result"
    }
   ],
   "source": [
    "%%node export\n",
    "\n",
    "export var timeout = async <T>(prom: Promise<T>, ms: number) => {\n",
    "\tlet timer\n",
    "\ttry {\n",
    "        return await Promise.race([\n",
    "            prom,\n",
    "            new Promise((_r, rej) => timer = setTimeout(rej, ms, new Error('timeout')))\n",
    "        ])\n",
    "    } finally {\n",
    "        return clearTimeout(timer)\n",
    "    }\n",
    "}\n"
   ]
  },
  {
   "cell_type": "code",
   "execution_count": 8,
   "metadata": {
    "vscode": {
     "languageId": "javascript"
    }
   },
   "outputs": [
    {
     "data": {
      "text/plain": [
       "'/workspaces/spiral-notebook/lib_ts/util.ts'"
      ]
     },
     "execution_count": 8,
     "metadata": {},
     "output_type": "execute_result"
    }
   ],
   "source": [
    "%%node export\n",
    "\n",
    "var runId = Math.random().toString(36).substring(2, 5)\n",
    "\n",
    "var startTimestamp = new Date().getTime()\n",
    "export var newTimestamp = () => new Date().getTime() - startTimestamp\n",
    "\n",
    "export var range = (n: number) => Array.from(Array(n).keys())\n",
    "\n",
    "var pad = (n: string, count: number): string => n.length < count ? pad(`0${n}`, count) : `${n}`\n",
    "\n",
    "export var env = process.env\n",
    "export var CODESPACE_NAME = env.CODESPACE_NAME\n",
    "export var IS_TEST = !!env.IS_TEST\n",
    "\n",
    "export var getLog =\n",
    "    (getLocals = () => ({}), argsColor = '#888') =>\n",
    "        (...args: any[]) => {\n",
    "            IS_TEST\n",
    "                ? console.log(\n",
    "                    `[${pad(newTimestamp().toString(), 6)}] ${runId}`,\n",
    "                    JSON.stringify(args),\n",
    "                    JSON.stringify(getLocals())\n",
    "                )\n",
    "                : console.log(\n",
    "                    `[${pad(newTimestamp().toString(), 6)}] ${runId} %c%s %c%s`,\n",
    "                    `font-weight: bold; color: ${argsColor}`,\n",
    "                    JSON.stringify(args),\n",
    "                    'font-weight: bold; color: #444',\n",
    "                    JSON.stringify(getLocals())\n",
    "                )\n",
    "        }"
   ]
  },
  {
   "cell_type": "code",
   "execution_count": 9,
   "metadata": {
    "vscode": {
     "languageId": "javascript"
    }
   },
   "outputs": [
    {
     "data": {
      "text/plain": [
       "['{',\n",
       " \"  envKeys: 'ABCD\\\\n' +\",\n",
       " \"    'APPLICATION_INSIGHTS_NO_DIAGNOSTIC_CHANNEL\\\\n' +\",\n",
       " \"    'BROWSER\\\\n' +\",\n",
       " \"    'BUN_INSTALL\\\\n' +\",\n",
       " \"    'CLICOLOR\\\\n' +\",\n",
       " \"    'CLOUDENV_ENVIRONMENT_ID\\\\n' +\",\n",
       " \"    'CODESPACES\\\\n' +\",\n",
       " \"    'CODESPACE_NAME\\\\n' +\",\n",
       " \"    'CONDA_SCRIPT\\\\n' +\",\n",
       " \"    'ContainerVersion\\\\n' +\",\n",
       " \"    'DEBIAN_FLAVOR\\\\n' +\",\n",
       " \"    'DEBUG\\\\n' +\",\n",
       " \"    'DOCKER_BUILDKIT\\\\n' +\",\n",
       " \"    'DOTNET_ROOT\\\\n' +\",\n",
       " \"    'DOTNET_SKIP_FIRST_TIME_EXPERIENCE\\\\n' +\",\n",
       " \"    'DYNAMIC_INSTALL_ROOT_DIR\\\\n' +\",\n",
       " \"    'ELECTRON_RUN_AS_NODE\\\\n' +\",\n",
       " \"    'ENABLE_DYNAMIC_INSTALL\\\\n' +\",\n",
       " \"    'GITHUB_API_URL\\\\n' +\",\n",
       " \"    'GITHUB_CODESPACE_TOKEN\\\\n' +\",\n",
       " \"    'GITHUB_GRAPHQL_URL\\\\n' +\",\n",
       " \"    'GITHUB_REPOSITORY\\\\n' +\",\n",
       " \"    'GITHUB_SERVER_URL\\\\n' +\",\n",
       " \"    'GITHUB_TOKEN\\\\n' +\",\n",
       " \"    'GITHUB_USER\\\\n' +\",\n",
       " \"    'GIT_PAGER\\\\n' +\",\n",
       " \"    'GOPATH\\\\n' +\",\n",
       " \"    'GOROOT\\\\n' +\",\n",
       " \"    'GRADLE_HOME\\\\n' +\",\n",
       " \"    'GRADLE_USER_HOME\\\\n' +\",\n",
       " \"    'HOME\\\\n' +\",\n",
       " \"    'HOSTNAME\\\\n' +\",\n",
       " \"    'HUGO_ROOT\\\\n' +\",\n",
       " \"    'INTERNAL_VSCS_TARGET_URL\\\\n' +\",\n",
       " \"    'JAVA_HOME\\\\n' +\",\n",
       " \"    'JAVA_ROOT\\\\n' +\",\n",
       " \"    'JUPYTERLAB_PATH\\\\n' +\",\n",
       " \"    'LC_CTYPE\\\\n' +\",\n",
       " \"    'LESSCLOSE\\\\n' +\",\n",
       " \"    'LESSOPEN\\\\n' +\",\n",
       " \"    'LS_COLORS\\\\n' +\",\n",
       " \"    'MAVEN_ROOT\\\\n' +\",\n",
       " \"    'MPLBACKEND\\\\n' +\",\n",
       " \"    'NODE_NO_WARNINGS\\\\n' +\",\n",
       " \"    'NODE_ROOT\\\\n' +\",\n",
       " \"    'NPM_GLOBAL\\\\n' +\",\n",
       " \"    'NUGET_PACKAGES\\\\n' +\",\n",
       " \"    'NUGET_XMLDOC_MODE\\\\n' +\",\n",
       " \"    'NVM_CD_FLAGS\\\\n' +\",\n",
       " \"    'NVM_DIR\\\\n' +\",\n",
       " \"    'NVM_RC_VERSION\\\\n' +\",\n",
       " \"    'NVM_SYMLINK_CURRENT\\\\n' +\",\n",
       " \"    'NVS_HOME\\\\n' +\",\n",
       " \"    'NVS_OS\\\\n' +\",\n",
       " \"    'NVS_ROOT\\\\n' +\",\n",
       " \"    'NVS_USE_XZ\\\\n' +\",\n",
       " \"    'OLDPWD\\\\n' +\",\n",
       " \"    'ORIGINAL_PATH\\\\n' +\",\n",
       " \"    'ORYX_AI_INSTRUMENTATION_KEY\\\\n' +\",\n",
       " \"    'ORYX_ENV_TYPE\\\\n' +\",\n",
       " \"    'ORYX_PATHS\\\\n' +\",\n",
       " \"    'ORYX_PREFER_USER_INSTALLED_SDKS\\\\n' +\",\n",
       " \"    'ORYX_SDK_STORAGE_BASE_URL\\\\n' +\",\n",
       " \"    'PAGER\\\\n' +\",\n",
       " \"    'PATH\\\\n' +\",\n",
       " \"    'PHP_ROOT\\\\n' +\",\n",
       " \"    'PIPX_BIN_DIR\\\\n' +\",\n",
       " \"    'PIPX_HOME\\\\n' +\",\n",
       " \"    'PROMPT_DIRTRIM\\\\n' +\",\n",
       " \"    'PWD\\\\n' +\",\n",
       " \"    'PYDEVD_IPYTHON_COMPATIBLE_DEBUGGING\\\\n' +\",\n",
       " \"    'PYTHONIOENCODING\\\\n' +\",\n",
       " \"    'PYTHONUNBUFFERED\\\\n' +\",\n",
       " \"    'PYTHON_ROOT\\\\n' +\",\n",
       " \"    'RAILS_DEVELOPMENT_HOSTS\\\\n' +\",\n",
       " \"    'RBENV_SHELL\\\\n' +\",\n",
       " \"    'RUBY_HOME\\\\n' +\",\n",
       " \"    'RUBY_ROOT\\\\n' +\",\n",
       " \"    'RVM_PATH\\\\n' +\",\n",
       " \"    'RepositoryName\\\\n' +\",\n",
       " \"    'SDKMAN_CANDIDATES_API\\\\n' +\",\n",
       " \"    'SDKMAN_CANDIDATES_DIR\\\\n' +\",\n",
       " \"    'SDKMAN_DIR\\\\n' +\",\n",
       " \"    'SDKMAN_PLATFORM\\\\n' +\",\n",
       " \"    'SDKMAN_VERSION\\\\n' +\",\n",
       " \"    'SHELL\\\\n' +\",\n",
       " \"    'SHELL_LOGGED_IN\\\\n' +\",\n",
       " \"    'SHLVL\\\\n' +\",\n",
       " \"    'TERM\\\\n' +\",\n",
       " \"    'USER\\\\n' +\",\n",
       " \"    'VSCDC_FIXED_SECRETS\\\\n' +\",\n",
       " \"    'VSCODE_AGENT_FOLDER\\\\n' +\",\n",
       " \"    'VSCODE_AMD_ENTRYPOINT\\\\n' +\",\n",
       " \"    'VSCODE_CWD\\\\n' +\",\n",
       " \"    'VSCODE_HANDLES_SIGPIPE\\\\n' +\",\n",
       " \"    'VSCODE_HANDLES_UNCAUGHT_ERRORS\\\\n' +\",\n",
       " \"    'VSCODE_IPC_HOOK_CLI\\\\n' +\",\n",
       " \"    'VSCODE_NLS_CONFIG\\\\n' +\",\n",
       " \"    '_\\\\n' +\",\n",
       " \"    'rvm_bin_path\\\\n' +\",\n",
       " \"    'rvm_loaded_flag\\\\n' +\",\n",
       " \"    'rvm_path\\\\n' +\",\n",
       " \"    'rvm_prefix\\\\n' +\",\n",
       " \"    'rvm_stored_umask\\\\n' +\",\n",
       " \"    'rvm_user_install_flag\\\\n' +\",\n",
       " \"    'rvm_version'\",\n",
       " '}']"
      ]
     },
     "execution_count": 9,
     "metadata": {},
     "output_type": "execute_result"
    }
   ],
   "source": [
    "%%node run\n",
    "\n",
    "console.log({ envKeys: Object.keys(env).sort().join('\\n') })"
   ]
  },
  {
   "cell_type": "code",
   "execution_count": null,
   "metadata": {
    "vscode": {
     "languageId": "javascript"
    }
   },
   "outputs": [],
   "source": []
  },
  {
   "cell_type": "markdown",
   "metadata": {},
   "source": [
    "# python"
   ]
  },
  {
   "cell_type": "code",
   "execution_count": 10,
   "metadata": {},
   "outputs": [],
   "source": [
    "#export\n",
    "\n",
    "import uuid\n",
    "\n",
    "def new_id():\n",
    "    return uuid.uuid4().hex\n",
    "\n",
    "def list_partition(lines, predicate):\n",
    "    l1, l2 = [], []\n",
    "    for line in lines:\n",
    "        (l1, l2)[not predicate(line)].append(line)\n",
    "    return l1, l2\n",
    "\n",
    "def write_file(filename, text):\n",
    "    with open(filename, 'w') as f:\n",
    "        return f.write(text)\n",
    "\n",
    "def read_file(filename):\n",
    "    with open(filename, 'r') as f:\n",
    "        return f.read()\n"
   ]
  },
  {
   "cell_type": "code",
   "execution_count": 11,
   "metadata": {},
   "outputs": [],
   "source": [
    "#export\n",
    "\n",
    "from time import sleep\n",
    "from IPython.display import display, Javascript\n",
    "import subprocess\n",
    "import os\n",
    "import uuid\n",
    "import re\n",
    "\n",
    "def get_notebook_name():\n",
    "    if '__vsc_ipynb_file__' in globals():\n",
    "        ipynb_path = __vsc_ipynb_file__\n",
    "    else:\n",
    "        magic = new_id()\n",
    "        print(f'<magic:{magic}>')\n",
    "\n",
    "        display(Javascript('IPython.notebook.save_checkpoint();'))\n",
    "\n",
    "        nb_name = None\n",
    "        while nb_name is None:\n",
    "            try:\n",
    "                sleep(0.1)\n",
    "                nb_name = subprocess.check_output(f'grep -l {magic} *.ipynb', shell=True).decode().strip()\n",
    "            except:\n",
    "                pass\n",
    "\n",
    "        ipynb_path = os.path.join(os.getcwd(), nb_name)\n",
    "\n",
    "    ipynb_body = read_file(ipynb_path)\n",
    "    return re.search(r'\\# default_exp (\\w+) *', ipynb_body).group(1)\n",
    "\n",
    "_notebook_name = None\n"
   ]
  },
  {
   "cell_type": "code",
   "execution_count": 12,
   "metadata": {},
   "outputs": [
    {
     "data": {
      "text/plain": [
       "'util'"
      ]
     },
     "execution_count": 12,
     "metadata": {},
     "output_type": "execute_result"
    }
   ],
   "source": [
    "_notebook_name = get_notebook_name()\n",
    "_notebook_name"
   ]
  },
  {
   "cell_type": "code",
   "execution_count": 13,
   "metadata": {},
   "outputs": [],
   "source": [
    "#export\n",
    "\n",
    "import subprocess\n",
    "\n",
    "def run_shell(*args, **kwargs):\n",
    "    try:\n",
    "        return subprocess.run(*args, shell=True, capture_output=True, **kwargs)\n",
    "    except Exception as e:\n",
    "        print(f'util.run_shell() error. args={args} kwargs={kwargs} e={e}')\n",
    "        raise e\n",
    "    \n",
    "def run(*args, **kwargs):\n",
    "    shell = run_shell(*args, **kwargs)\n",
    "    err = shell.stderr.decode()\n",
    "    if err != '':\n",
    "        print(f'util.run() error. args={args} kwargs={kwargs} err={err}')\n",
    "        raise Exception(err)\n",
    "    return shell.stdout.decode().strip('\\n')\n",
    "\n",
    "def run_node(code, timeout=60, *args, **kwargs):\n",
    "    e = ' --input-type=module -e ' if '\\n' in code or '.' not in code else ''\n",
    "    return run(\n",
    "        f'''NODE_NO_WARNINGS=1 node --loader ts-node/esm --es-module-specifier-resolution=node {e} \\'{code}\\'''', \n",
    "        *args, \n",
    "        timeout=timeout, \n",
    "        **kwargs\n",
    "    )\n"
   ]
  },
  {
   "cell_type": "code",
   "execution_count": null,
   "metadata": {},
   "outputs": [],
   "source": []
  },
  {
   "cell_type": "markdown",
   "metadata": {},
   "source": [
    "# py compile"
   ]
  },
  {
   "cell_type": "code",
   "execution_count": 14,
   "metadata": {},
   "outputs": [
    {
     "name": "stdout",
     "output_type": "stream",
     "text": [
      "Converted 00_util.ipynb.\n",
      "Converted 00_util_node.ipynb.\n",
      "Converted 01_spiral_api.ipynb.\n",
      "Converted 02_ipython_magic.ipynb.\n",
      "Converted 03_tictactoe_pyteal.ipynb.\n",
      "Converted 04_algo_network.ipynb.\n",
      "Converted 05_tictactoe_testnet.ipynb.\n",
      "Converted 06_index.ipynb.\n"
     ]
    }
   ],
   "source": [
    "!nbdev_build_lib"
   ]
  }
 ],
 "metadata": {
  "kernelspec": {
   "display_name": "Python 3.10.7 64-bit",
   "language": "python",
   "name": "python3"
  },
  "language_info": {
   "codemirror_mode": {
    "name": "ipython",
    "version": 3
   },
   "file_extension": ".py",
   "mimetype": "text/x-python",
   "name": "python",
   "nbconvert_exporter": "python",
   "pygments_lexer": "ipython3",
   "version": "3.10.7"
  },
  "orig_nbformat": 4,
  "vscode": {
   "interpreter": {
    "hash": "eb4a0ac80907d7f44e1a5e88d3d3381b33e3dbedd3a24d113e876f30a0c46bee"
   }
  }
 },
 "nbformat": 4,
 "nbformat_minor": 2
}
