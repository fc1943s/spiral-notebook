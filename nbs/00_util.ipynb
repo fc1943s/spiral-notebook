{
 "cells": [
  {
   "cell_type": "code",
   "execution_count": 1,
   "metadata": {},
   "outputs": [],
   "source": [
    "# default_exp util"
   ]
  },
  {
   "cell_type": "code",
   "execution_count": 2,
   "metadata": {},
   "outputs": [
    {
     "name": "stdout",
     "output_type": "stream",
     "text": [
      "Note: you may need to restart the kernel to use updated packages.\n"
     ]
    }
   ],
   "source": [
    "%pip install nbdev==1.2.11 | grep -v 'already satisfied'"
   ]
  },
  {
   "cell_type": "code",
   "execution_count": 3,
   "metadata": {},
   "outputs": [],
   "source": [
    "import sys\n",
    "sys.path.append('..')\n",
    "import lib_py.ipython_magic as ipython_magic"
   ]
  },
  {
   "cell_type": "markdown",
   "metadata": {},
   "source": [
    "# spiral"
   ]
  },
  {
   "cell_type": "code",
   "execution_count": 4,
   "metadata": {
    "vscode": {
     "languageId": "shellscript"
    }
   },
   "outputs": [
    {
     "name": "stdout",
     "output_type": "stream",
     "text": [
      "<magic:aa36b2e1d1cc4ec6b7e715e8b1eefae9>\n"
     ]
    },
    {
     "data": {
      "application/javascript": "IPython.notebook.save_checkpoint();",
      "text/plain": [
       "<IPython.core.display.Javascript object>"
      ]
     },
     "metadata": {},
     "output_type": "display_data"
    },
    {
     "data": {
      "text/plain": [
       "'/workspaces/spiral-notebook/lib_spi/util.spi'"
      ]
     },
     "execution_count": 4,
     "metadata": {},
     "output_type": "execute_result"
    }
   ],
   "source": [
    "%%spi\n",
    "\n",
    "nominal _obj = $\"obj\"\n",
    "\n",
    "inl test b = assert b \"test\"\n"
   ]
  },
  {
   "cell_type": "code",
   "execution_count": null,
   "metadata": {},
   "outputs": [],
   "source": []
  },
  {
   "cell_type": "markdown",
   "metadata": {},
   "source": [
    "# node"
   ]
  },
  {
   "cell_type": "code",
   "execution_count": 5,
   "metadata": {
    "vscode": {
     "languageId": "javascript"
    }
   },
   "outputs": [
    {
     "data": {
      "text/plain": [
       "'/workspaces/spiral-notebook/lib_ts/util.ts'"
      ]
     },
     "execution_count": 5,
     "metadata": {},
     "output_type": "execute_result"
    }
   ],
   "source": [
    "%%node export\n",
    "\n",
    "export type PickByType<T, Value> = {\n",
    "    [P in keyof T as T[P] extends Value | undefined ? P : never]: T[P]\n",
    "}\n",
    "\n",
    "type NoneEmptyArray = readonly any[] & { 0: any }\n",
    "type CompareUnionWithArray<P, Q extends NoneEmptyArray> = Exclude<P, Q[number]> extends never\n",
    "    ? (Exclude<Q[number], P> extends never ? Q : ReadonlyArray<P>)\n",
    "    : readonly [...Q, Exclude<P, Q[number]>]\n",
    "export function assertTypeEquals<P, Q extends NoneEmptyArray>(_test: CompareUnionWithArray<P, Q>): void { }"
   ]
  },
  {
   "cell_type": "code",
   "execution_count": 6,
   "metadata": {
    "vscode": {
     "languageId": "javascript"
    }
   },
   "outputs": [
    {
     "data": {
      "text/plain": [
       "'/workspaces/spiral-notebook/lib_ts/util.ts'"
      ]
     },
     "execution_count": 6,
     "metadata": {},
     "output_type": "execute_result"
    }
   ],
   "source": [
    "%%node export\n",
    "\n",
    "import * as fs from \"fs\"\n",
    "\n",
    "var start = process.hrtime()\n",
    "\n",
    "export var elapsed = (start: [number, number]) => process.hrtime(start)[1] / 1000000\n",
    "export var logStep = (note: string) => {\n",
    "    console.log(`${process.hrtime(start)[0]} s, ${elapsed(start).toFixed(3)} ms - ${note}`)\n",
    "    start = process.hrtime()\n",
    "}\n",
    "export var sleep = (ms: number) => new Promise(resolve => setTimeout(resolve, ms))\n",
    "export var waitFileChange = async (path: string) => {\n",
    "    var start = process.hrtime()\n",
    "    const stat_mtime = fs.statSync(path).mtimeMs\n",
    "    const oldLines = fs.readFileSync(path).toString()\n",
    "    let newLines = oldLines\n",
    "    while (elapsed(start) < 30000\n",
    "        && (fs.statSync(path).mtimeMs === stat_mtime\n",
    "            || newLines === oldLines\n",
    "            || newLines.length === 0)) {\n",
    "        await sleep(50)\n",
    "        newLines = fs.readFileSync(path).toString()\n",
    "    }\n",
    "    return newLines\n",
    "}\n"
   ]
  },
  {
   "cell_type": "code",
   "execution_count": 7,
   "metadata": {
    "vscode": {
     "languageId": "javascript"
    }
   },
   "outputs": [
    {
     "data": {
      "text/plain": [
       "'/workspaces/spiral-notebook/lib_ts/util.ts'"
      ]
     },
     "execution_count": 7,
     "metadata": {},
     "output_type": "execute_result"
    }
   ],
   "source": [
    "%%node export\n",
    "\n",
    "export var timeout = async <T>(prom: Promise<T>, ms: number) => {\n",
    "\tlet timer\n",
    "\ttry {\n",
    "        return await Promise.race([\n",
    "            prom,\n",
    "            new Promise((_r, rej) => timer = setTimeout(rej, ms, new Error('timeout')))\n",
    "        ])\n",
    "    } finally {\n",
    "        return clearTimeout(timer)\n",
    "    }\n",
    "}\n"
   ]
  },
  {
   "cell_type": "code",
   "execution_count": null,
   "metadata": {
    "vscode": {
     "languageId": "javascript"
    }
   },
   "outputs": [],
   "source": []
  },
  {
   "cell_type": "markdown",
   "metadata": {},
   "source": [
    "# python"
   ]
  },
  {
   "cell_type": "code",
   "execution_count": 8,
   "metadata": {},
   "outputs": [],
   "source": [
    "#export\n",
    "\n",
    "import uuid\n",
    "\n",
    "def new_id():\n",
    "    return uuid.uuid4().hex\n",
    "\n",
    "def list_partition(lines, predicate):\n",
    "    l1, l2 = [], []\n",
    "    for line in lines:\n",
    "        (l1, l2)[not predicate(line)].append(line)\n",
    "    return l1, l2\n",
    "\n",
    "def write_file(filename, text):\n",
    "    with open(filename, 'w') as f:\n",
    "        return f.write(text)\n",
    "\n",
    "def read_file(filename):\n",
    "    with open(filename, 'r') as f:\n",
    "        return f.read()\n"
   ]
  },
  {
   "cell_type": "code",
   "execution_count": 9,
   "metadata": {},
   "outputs": [],
   "source": [
    "#export\n",
    "\n",
    "from time import sleep\n",
    "from IPython.display import display, Javascript\n",
    "import subprocess\n",
    "import os\n",
    "import uuid\n",
    "import re\n",
    "\n",
    "def get_notebook_name():\n",
    "    if '__vsc_ipynb_file__' in globals():\n",
    "        ipynb_path = __vsc_ipynb_file__\n",
    "    else:\n",
    "        magic = new_id()\n",
    "        print(f'<magic:{magic}>')\n",
    "\n",
    "        display(Javascript('IPython.notebook.save_checkpoint();'))\n",
    "\n",
    "        nb_name = None\n",
    "        while nb_name is None:\n",
    "            try:\n",
    "                sleep(0.1)\n",
    "                nb_name = subprocess.check_output(f'grep -l {magic} *.ipynb', shell=True).decode().strip()\n",
    "            except:\n",
    "                pass\n",
    "\n",
    "        ipynb_path = os.path.join(os.getcwd(), nb_name)\n",
    "\n",
    "    ipynb_body = read_file(ipynb_path)\n",
    "    return re.search(r'\\# default_exp (\\w+) *', ipynb_body).group(1)\n",
    "\n",
    "_notebook_name = None\n"
   ]
  },
  {
   "cell_type": "code",
   "execution_count": 10,
   "metadata": {},
   "outputs": [
    {
     "data": {
      "text/plain": [
       "'util'"
      ]
     },
     "execution_count": 10,
     "metadata": {},
     "output_type": "execute_result"
    }
   ],
   "source": [
    "_notebook_name = get_notebook_name()\n",
    "_notebook_name"
   ]
  },
  {
   "cell_type": "code",
   "execution_count": 11,
   "metadata": {},
   "outputs": [],
   "source": [
    "#export\n",
    "\n",
    "import subprocess\n",
    "\n",
    "def run_shell(*args, **kwargs):\n",
    "    try:\n",
    "        return subprocess.run(*args, shell=True, capture_output=True, **kwargs)\n",
    "    except Exception as e:\n",
    "        print(f'util.run_shell() error. args={args} kwargs={kwargs} e={e}')\n",
    "        raise e\n",
    "    \n",
    "def run(*args, **kwargs):\n",
    "    shell = run_shell(*args, **kwargs)\n",
    "    err = shell.stderr.decode()\n",
    "    if err != '':\n",
    "        print(f'util.run() error. args={args} kwargs={kwargs} err={err}')\n",
    "        raise Exception(err)\n",
    "    return shell.stdout.decode().strip('\\n')\n",
    "\n",
    "def run_node(code, timeout=60, *args, **kwargs):\n",
    "    e = ' --input-type=module -e ' if '\\n' in code or '.' not in code else ''\n",
    "    return run(\n",
    "        f'''NODE_NO_WARNINGS=1 node --loader ts-node/esm --es-module-specifier-resolution=node {e} \\'{code}\\'''', \n",
    "        *args, \n",
    "        timeout=timeout, \n",
    "        **kwargs\n",
    "    )\n"
   ]
  },
  {
   "cell_type": "code",
   "execution_count": null,
   "metadata": {},
   "outputs": [],
   "source": []
  },
  {
   "cell_type": "markdown",
   "metadata": {},
   "source": [
    "# py compile"
   ]
  },
  {
   "cell_type": "code",
   "execution_count": 12,
   "metadata": {},
   "outputs": [
    {
     "name": "stdout",
     "output_type": "stream",
     "text": [
      "Converted 00_util.ipynb.\n",
      "Converted 01_spiral_api.ipynb.\n",
      "Converted 02_ipython_magic.ipynb.\n",
      "Converted 03_tictactoe_pyteal.ipynb.\n",
      "Converted 04_algo_network.ipynb.\n",
      "Converted 05_tictactoe_testnet.ipynb.\n",
      "Converted 06_index.ipynb.\n"
     ]
    },
    {
     "name": "stderr",
     "output_type": "stream",
     "text": [
      "Bad pipe message: %s [b'\\xaaw\\xef\\xbd~\\xe7=\\xe8u\\xb7>\\x12\\xeb\\xb5\\xcc\\xc2\\x8c\\xbe \\x12Aj\\xfc\\x05\\xc0;\\x13\\xc8\\xd3?c\\x14y0T8\\xfe\\xf4\\x83nD\\xf3hX)\\xf1\\xaf\\x1c\\xd7X*\\x00\\x08\\x13\\x02\\x13\\x03\\x13\\x01\\x00\\xff\\x01\\x00\\x00\\x8f\\x00\\x00\\x00\\x0e\\x00\\x0c\\x00\\x00\\t127.0.0.1\\x00\\x0b\\x00\\x04\\x03\\x00\\x01\\x02\\x00\\n\\x00\\x0c\\x00\\n\\x00\\x1d\\x00\\x17\\x00\\x1e\\x00\\x19\\x00\\x18\\x00#\\x00\\x00\\x00\\x16\\x00\\x00\\x00\\x17\\x00\\x00\\x00\\r\\x00\\x1e\\x00\\x1c\\x04\\x03\\x05\\x03\\x06', b'\\x07\\x08']\n",
      "Bad pipe message: %s [b'\\t\\x08\\n\\x08\\x0b\\x08\\x04']\n",
      "Bad pipe message: %s [b')\\x1a\\x9c\\xbdE\\xb3\\x04\\x1cM\\x9d\\xd0P\\x1d\\xbciE\\xd8t \\xfd\\x03^\\xbe\\xc9D?`y1\\x1c\\x1b\\xcd\\x8eQ\\x05\\xa4\\xa2lj\\x00\\xceE]\\xcc\\x8ey\\xff\\x07\\xf3\\xe8\\xc5\\x00\\x08\\x13\\x02\\x13\\x03\\x13\\x01\\x00\\xff\\x01\\x00\\x00\\x8f\\x00\\x00\\x00\\x0e\\x00\\x0c\\x00\\x00\\t127.0.0.1\\x00\\x0b\\x00']\n",
      "Bad pipe message: %s [b\"\\x8eY\\x90\\x8fPV*c\\xee\\x08\\xf3p\\xc5?\\x0e3P2\\x00\\x00|\\xc0,\\xc00\\x00\\xa3\\x00\\x9f\\xcc\\xa9\\xcc\\xa8\\xcc\\xaa\\xc0\\xaf\\xc0\\xad\\xc0\\xa3\\xc0\\x9f\\xc0]\\xc0a\\xc0W\\xc0S\\xc0+\\xc0/\\x00\\xa2\\x00\\x9e\\xc0\\xae\\xc0\\xac\\xc0\\xa2\\xc0\\x9e\\xc0\\\\\\xc0`\\xc0V\\xc0R\\xc0$\\xc0(\\x00k\\x00j\\xc0#\\xc0'\\x00g\\x00@\\xc0\\n\\xc0\\x14\\x009\\x008\\xc0\\t\\xc0\\x13\\x003\\x002\\x00\\x9d\\xc0\\xa1\\xc0\\x9d\\xc0Q\\x00\\x9c\\xc0\\xa0\\xc0\\x9c\\xc0P\\x00=\\x00<\\x005\\x00/\\x00\\x9a\\x00\\x99\\xc0\\x07\\xc0\\x11\\x00\\x96\\x00\\x05\"]\n",
      "Bad pipe message: %s [b\"KYqt5\\x81\\xf00$\\x1b\\x1a\\xabvPM\\x03\\xcd\\x04\\x00\\x00\\xa6\\xc0,\\xc00\\x00\\xa3\\x00\\x9f\\xcc\\xa9\\xcc\\xa8\\xcc\\xaa\\xc0\\xaf\\xc0\\xad\\xc0\\xa3\\xc0\\x9f\\xc0]\\xc0a\\xc0W\\xc0S\\xc0+\\xc0/\\x00\\xa2\\x00\\x9e\\xc0\\xae\\xc0\\xac\\xc0\\xa2\\xc0\\x9e\\xc0\\\\\\xc0`\\xc0V\\xc0R\\xc0$\\xc0(\\x00k\\x00j\\xc0s\\xc0w\\x00\\xc4\\x00\\xc3\\xc0#\\xc0'\\x00g\\x00@\\xc0r\\xc0v\\x00\\xbe\\x00\\xbd\\xc0\\n\\xc0\\x14\\x009\\x008\\x00\\x88\\x00\\x87\\xc0\\t\\xc0\\x13\\x003\\x002\\x00\\x9a\\x00\\x99\\x00E\\x00D\\xc0\\x07\\xc0\\x11\\xc0\\x08\\xc0\\x12\\x00\\x16\\x00\\x13\\x00\\x9d\\xc0\\xa1\\xc0\\x9d\\xc0Q\\x00\\x9c\\xc0\\xa0\\xc0\\x9c\\xc0P\\x00=\\x00\\xc0\\x00<\\x00\\xba\\x005\\x00\\x84\\x00/\\x00\\x96\\x00A\\x00\\x05\\x00\\n\\x00\\xff\\x01\\x00\\x00j\\x00\\x00\\x00\\x0e\\x00\\x0c\\x00\\x00\\t127.0.0.1\\x00\\x0b\\x00\\x04\\x03\\x00\\x01\\x02\\x00\\n\\x00\\x0c\\x00\\n\\x00\\x1d\\x00\\x17\\x00\\x1e\\x00\\x19\\x00\\x18\\x00#\\x00\\x00\\x00\\x16\\x00\\x00\\x00\\x17\\x00\\x00\\x00\\r\\x000\\x00.\\x04\\x03\"]\n",
      "Bad pipe message: %s [b'\\x08\\x06\\x04\\x01\\x05\\x01\\x06', b'']\n",
      "Bad pipe message: %s [b'\\x06\\x03\\x08\\x07', b'\\x08\\t\\x08\\n\\x08\\x0b\\x08']\n",
      "Bad pipe message: %s [b'\\x03\\x02\\x03\\x04\\x00-\\x00\\x02\\x01\\x01\\x003\\x00&\\x00$\\x00\\x1d\\x00 \\xec\\xbb\\x14\\xe5\\xbb\\xb9U\\xe3+~_\\x11\\x1cHP@\\xf5$!H\\xc8\\x1e']\n",
      "Bad pipe message: %s [b'\\x05\\x08\\x06']\n",
      "Bad pipe message: %s [b'\\x05\\x01\\x06', b'', b'\\x03\\x03']\n",
      "Bad pipe message: %s [b'']\n",
      "Bad pipe message: %s [b'', b'\\x02']\n",
      "Bad pipe message: %s [b'\\x05\\x02\\x06']\n",
      "Bad pipe message: %s [b'\\xeb,\\x99\\x91\\xd4T!I\\xe3Wm&\\xe4Xf>c\\x7f\\x00']\n",
      "Bad pipe message: %s [b'\\x84\\x08\\x15)y\\xd1x\\xe4\\x83\\x1d\\\\\\xe4.g\\x83L\\x03k\\x00\\x00\\xa2\\xc0\\x14\\xc0\\n\\x009\\x008\\x007\\x006\\x00\\x88\\x00\\x87\\x00\\x86\\x00\\x85\\xc0\\x19\\x00:\\x00\\x89\\xc0\\x0f']\n",
      "Bad pipe message: %s [b'\\n\\x07Doh\\x0f\\xa8\\x1a!\\xba\\xe7\\xc9\\xa3\\x9f\\xb4\\x8b']\n",
      "Bad pipe message: %s [b\"\\x85\\x80Y\\xde\\x8c\\xdb\\xfa \\xcb\\x990\\x072\\xf5(\\x1a\\xc7\\xa3\\x00\\x00\\x86\\xc00\\xc0,\\xc0(\\xc0$\\xc0\\x14\\xc0\\n\\x00\\xa5\\x00\\xa3\\x00\\xa1\\x00\\x9f\\x00k\\x00j\\x00i\\x00h\\x009\\x008\\x007\\x006\\xc02\\xc0.\\xc0*\\xc0&\\xc0\\x0f\\xc0\\x05\\x00\\x9d\\x00=\\x005\\xc0/\\xc0+\\xc0'\\xc0#\\xc0\\x13\\xc0\\t\\x00\\xa4\\x00\\xa2\\x00\\xa0\\x00\\x9e\\x00g\\x00@\\x00?\\x00>\\x003\\x002\\x001\\x000\\xc01\\xc0-\\xc0)\\xc0%\\xc0\\x0e\\xc0\\x04\\x00\\x9c\\x00<\\x00/\\x00\\x9a\\x00\\x99\\x00\\x98\\x00\\x97\\x00\\x96\\x00\\x07\\xc0\\x11\\xc0\\x07\\xc0\\x0c\\xc0\\x02\\x00\\x05\\x00\\x04\\x00\\xff\\x02\\x01\\x00\\x00g\\x00\\x00\\x00\\x0e\\x00\\x0c\\x00\\x00\\t127.0.0.1\\x00\\x0b\\x00\\x04\\x03\\x00\\x01\\x02\\x00\\n\\x00\\x1c\\x00\\x1a\\x00\\x17\"]\n",
      "Bad pipe message: %s [b\"T\\xa3&r{\\xfb\\xb8\\x0b\\xb5G3$$vI5\\xd0w\\x00\\x00\\xf4\\xc00\\xc0,\\xc0(\\xc0$\\xc0\\x14\\xc0\\n\\x00\\xa5\\x00\\xa3\\x00\\xa1\\x00\\x9f\\x00k\\x00j\\x00i\\x00h\\x009\\x008\\x007\\x006\\x00\\x88\\x00\\x87\\x00\\x86\\x00\\x85\\xc0\\x19\\x00\\xa7\\x00m\\x00:\\x00\\x89\\xc02\\xc0.\\xc0*\\xc0&\\xc0\\x0f\\xc0\\x05\\x00\\x9d\\x00=\\x005\\x00\\x84\\xc0/\\xc0+\\xc0'\\xc0#\\xc0\\x13\\xc0\\t\\x00\\xa4\\x00\\xa2\\x00\\xa0\\x00\\x9e\\x00g\"]\n"
     ]
    }
   ],
   "source": [
    "!nbdev_build_lib"
   ]
  }
 ],
 "metadata": {
  "interpreter": {
   "hash": "3ad933181bd8a04b432d3370b9dc3b0662ad032c4dfaa4e4f1596c548f763858"
  },
  "kernelspec": {
   "display_name": "Python 3.10.4 64-bit",
   "language": "python",
   "name": "python3"
  },
  "language_info": {
   "codemirror_mode": {
    "name": "ipython",
    "version": 3
   },
   "file_extension": ".py",
   "mimetype": "text/x-python",
   "name": "python",
   "nbconvert_exporter": "python",
   "pygments_lexer": "ipython3",
   "version": "3.10.4"
  },
  "orig_nbformat": 4
 },
 "nbformat": 4,
 "nbformat_minor": 2
}
