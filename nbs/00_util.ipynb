{
 "cells": [
  {
   "cell_type": "code",
   "execution_count": 1,
   "metadata": {},
   "outputs": [],
   "source": [
    "# default_exp util"
   ]
  },
  {
   "cell_type": "code",
   "execution_count": 2,
   "metadata": {},
   "outputs": [
    {
     "name": "stdout",
     "output_type": "stream",
     "text": [
      "Note: you may need to restart the kernel to use updated packages.\n"
     ]
    }
   ],
   "source": [
    "%pip install nbdev==1.2.11 | grep -v 'already satisfied'"
   ]
  },
  {
   "cell_type": "code",
   "execution_count": 3,
   "metadata": {},
   "outputs": [],
   "source": [
    "import sys\n",
    "sys.path.append('..')\n",
    "import lib_py.ipython_magic as ipython_magic"
   ]
  },
  {
   "cell_type": "markdown",
   "metadata": {},
   "source": [
    "# spiral"
   ]
  },
  {
   "cell_type": "code",
   "execution_count": 4,
   "metadata": {
    "vscode": {
     "languageId": "shellscript"
    }
   },
   "outputs": [
    {
     "name": "stdout",
     "output_type": "stream",
     "text": [
      "<magic:7a8df3eb2a6440b698e0f802f0da1d52>\n"
     ]
    },
    {
     "data": {
      "application/javascript": "IPython.notebook.save_checkpoint();",
      "text/plain": [
       "<IPython.core.display.Javascript object>"
      ]
     },
     "metadata": {},
     "output_type": "display_data"
    },
    {
     "data": {
      "text/plain": [
       "'/workspaces/spiral-notebook/lib_spi/util.spi'"
      ]
     },
     "execution_count": 4,
     "metadata": {},
     "output_type": "execute_result"
    }
   ],
   "source": [
    "%%spi\n",
    "\n",
    "nominal _obj = $\"obj\"\n",
    "\n",
    "inl test b = assert b \"test\"\n"
   ]
  },
  {
   "cell_type": "code",
   "execution_count": null,
   "metadata": {},
   "outputs": [],
   "source": []
  },
  {
   "cell_type": "markdown",
   "metadata": {},
   "source": [
    "# node"
   ]
  },
  {
   "cell_type": "code",
   "execution_count": 5,
   "metadata": {
    "vscode": {
     "languageId": "javascript"
    }
   },
   "outputs": [
    {
     "data": {
      "text/plain": [
       "'/workspaces/spiral-notebook/lib_ts/util.ts'"
      ]
     },
     "execution_count": 5,
     "metadata": {},
     "output_type": "execute_result"
    }
   ],
   "source": [
    "%%node export\n",
    "\n",
    "export type PickByType<T, Value> = {\n",
    "    [P in keyof T as T[P] extends Value | undefined ? P : never]: T[P]\n",
    "}\n",
    "\n",
    "type NoneEmptyArray = readonly any[] & { 0: any }\n",
    "type CompareUnionWithArray<P, Q extends NoneEmptyArray> = Exclude<P, Q[number]> extends never\n",
    "    ? (Exclude<Q[number], P> extends never ? Q : ReadonlyArray<P>)\n",
    "    : readonly [...Q, Exclude<P, Q[number]>]\n",
    "export function assertTypeEquals<P, Q extends NoneEmptyArray>(_test: CompareUnionWithArray<P, Q>): void { }"
   ]
  },
  {
   "cell_type": "code",
   "execution_count": 6,
   "metadata": {
    "vscode": {
     "languageId": "javascript"
    }
   },
   "outputs": [
    {
     "data": {
      "text/plain": [
       "'/workspaces/spiral-notebook/lib_ts/util.ts'"
      ]
     },
     "execution_count": 6,
     "metadata": {},
     "output_type": "execute_result"
    }
   ],
   "source": [
    "%%node export\n",
    "\n",
    "\n",
    "export var sleep = (ms: number) => new Promise(resolve => setTimeout(resolve, ms))\n"
   ]
  },
  {
   "cell_type": "code",
   "execution_count": 7,
   "metadata": {
    "vscode": {
     "languageId": "javascript"
    }
   },
   "outputs": [
    {
     "data": {
      "text/plain": [
       "'/workspaces/spiral-notebook/lib_ts/util.ts'"
      ]
     },
     "execution_count": 7,
     "metadata": {},
     "output_type": "execute_result"
    }
   ],
   "source": [
    "%%node export\n",
    "\n",
    "export var timeout = async <T>(prom: Promise<T>, ms: number) => {\n",
    "\tlet timer\n",
    "\ttry {\n",
    "        return await Promise.race([\n",
    "            prom,\n",
    "            new Promise((_r, rej) => timer = setTimeout(rej, ms, new Error('timeout')))\n",
    "        ])\n",
    "    } finally {\n",
    "        return clearTimeout(timer)\n",
    "    }\n",
    "}\n"
   ]
  },
  {
   "cell_type": "code",
   "execution_count": 8,
   "metadata": {
    "vscode": {
     "languageId": "javascript"
    }
   },
   "outputs": [
    {
     "data": {
      "text/plain": [
       "'/workspaces/spiral-notebook/lib_ts/util.ts'"
      ]
     },
     "execution_count": 8,
     "metadata": {},
     "output_type": "execute_result"
    }
   ],
   "source": [
    "%%node export\n",
    "\n",
    "var runId = Math.random().toString(36).substring(2, 5)\n",
    "\n",
    "var startTimestamp = new Date().getTime()\n",
    "export var newTimestamp = () => new Date().getTime() - startTimestamp\n",
    "\n",
    "var pad = (n: string, count: number): string => n.length < count ? pad(`0${n}`, count) : `${n}`\n",
    "\n",
    "export var env = process.env\n",
    "export var CODESPACE_NAME = env.CODESPACE_NAME\n",
    "export var IS_TEST = !!env.IS_TEST\n",
    "\n",
    "export var getLog =\n",
    "    (getLocals = () => ({}), argsColor = '#888') =>\n",
    "        (...args: any[]) => {\n",
    "            IS_TEST\n",
    "                ? console.log(\n",
    "                    `[${pad(newTimestamp().toString(), 6)}] ${runId}`,\n",
    "                    JSON.stringify(args),\n",
    "                    JSON.stringify(getLocals())\n",
    "                )\n",
    "                : console.log(\n",
    "                    `[${pad(newTimestamp().toString(), 6)}] ${runId} %c%s %c%s`,\n",
    "                    `font-weight: bold; color: ${argsColor}`,\n",
    "                    JSON.stringify(args),\n",
    "                    'font-weight: bold; color: #444',\n",
    "                    JSON.stringify(getLocals())\n",
    "                )\n",
    "        }"
   ]
  },
  {
   "cell_type": "code",
   "execution_count": 9,
   "metadata": {
    "vscode": {
     "languageId": "javascript"
    }
   },
   "outputs": [
    {
     "data": {
      "text/plain": [
       "['{',\n",
       " \"  envKeys: 'ABCD, APPLICATION_INSIGHTS_NO_DIAGNOSTIC_CHANNEL, BROWSER, BUN_INSTALL, CLICOLOR, CLOUDENV_ENVIRONMENT_ID, CODESPACES, CODESPACE_NAME, CONDA_SCRIPT, ContainerVersion, DEBIAN_FLAVOR, DEBUG, DOCKER_BUILDKIT, DOTNET_ROOT, DOTNET_SKIP_FIRST_TIME_EXPERIENCE, DYNAMIC_INSTALL_ROOT_DIR, ELECTRON_RUN_AS_NODE, ENABLE_DYNAMIC_INSTALL, GITHUB_API_URL, GITHUB_CODESPACE_TOKEN, GITHUB_GRAPHQL_URL, GITHUB_REPOSITORY, GITHUB_SERVER_URL, GITHUB_TOKEN, GITHUB_USER, GIT_PAGER, GOPATH, GOROOT, GRADLE_HOME, GRADLE_USER_HOME, HOME, HOSTNAME, HUGO_ROOT, INTERNAL_VSCS_TARGET_URL, JAVA_HOME, JAVA_ROOT, JUPYTERLAB_PATH, LC_CTYPE, LESSCLOSE, LESSOPEN, LS_COLORS, MAVEN_ROOT, MPLBACKEND, NODE_NO_WARNINGS, NODE_ROOT, NPM_GLOBAL, NUGET_PACKAGES, NUGET_XMLDOC_MODE, NVM_CD_FLAGS, NVM_DIR, NVM_RC_VERSION, NVM_SYMLINK_CURRENT, NVS_HOME, NVS_OS, NVS_ROOT, NVS_USE_XZ, OLDPWD, ORIGINAL_PATH, ORYX_AI_INSTRUMENTATION_KEY, ORYX_ENV_TYPE, ORYX_PATHS, ORYX_PREFER_USER_INSTALLED_SDKS, ORYX_SDK_STORAGE_BASE_URL, PAGER, PATH, PHP_ROOT, PIPX_BIN_DIR, PIPX_HOME, PROMPT_DIRTRIM, PWD, PYTHONIOENCODING, PYTHONUNBUFFERED, PYTHON_ROOT, RAILS_DEVELOPMENT_HOSTS, RBENV_SHELL, RUBY_HOME, RUBY_ROOT, RVM_PATH, RepositoryName, SDKMAN_CANDIDATES_API, SDKMAN_CANDIDATES_DIR, SDKMAN_DIR, SDKMAN_PLATFORM, SDKMAN_VERSION, SHELL, SHELL_LOGGED_IN, SHLVL, TERM, USER, VSCDC_FIXED_SECRETS, VSCODE_AGENT_FOLDER, VSCODE_AMD_ENTRYPOINT, VSCODE_CWD, VSCODE_HANDLES_SIGPIPE, VSCODE_HANDLES_UNCAUGHT_ERRORS, VSCODE_IPC_HOOK_CLI, VSCODE_NLS_CONFIG, _, rvm_bin_path, rvm_loaded_flag, rvm_path, rvm_prefix, rvm_stored_umask, rvm_user_install_flag, rvm_version'\",\n",
       " '}']"
      ]
     },
     "execution_count": 9,
     "metadata": {},
     "output_type": "execute_result"
    }
   ],
   "source": [
    "%%node run\n",
    "\n",
    "console.log({ envKeys: Object.keys(env).sort().join(', ') })"
   ]
  },
  {
   "cell_type": "code",
   "execution_count": null,
   "metadata": {
    "vscode": {
     "languageId": "javascript"
    }
   },
   "outputs": [],
   "source": []
  },
  {
   "cell_type": "markdown",
   "metadata": {},
   "source": [
    "# python"
   ]
  },
  {
   "cell_type": "code",
   "execution_count": 10,
   "metadata": {},
   "outputs": [],
   "source": [
    "#export\n",
    "\n",
    "import uuid\n",
    "\n",
    "def new_id():\n",
    "    return uuid.uuid4().hex\n",
    "\n",
    "def list_partition(lines, predicate):\n",
    "    l1, l2 = [], []\n",
    "    for line in lines:\n",
    "        (l1, l2)[not predicate(line)].append(line)\n",
    "    return l1, l2\n",
    "\n",
    "def write_file(filename, text):\n",
    "    with open(filename, 'w') as f:\n",
    "        return f.write(text)\n",
    "\n",
    "def read_file(filename):\n",
    "    with open(filename, 'r') as f:\n",
    "        return f.read()\n"
   ]
  },
  {
   "cell_type": "code",
   "execution_count": 11,
   "metadata": {},
   "outputs": [],
   "source": [
    "#export\n",
    "\n",
    "from time import sleep\n",
    "from IPython.display import display, Javascript\n",
    "import subprocess\n",
    "import os\n",
    "import uuid\n",
    "import re\n",
    "\n",
    "def get_notebook_name():\n",
    "    if '__vsc_ipynb_file__' in globals():\n",
    "        ipynb_path = __vsc_ipynb_file__\n",
    "    else:\n",
    "        magic = new_id()\n",
    "        print(f'<magic:{magic}>')\n",
    "\n",
    "        display(Javascript('IPython.notebook.save_checkpoint();'))\n",
    "\n",
    "        nb_name = None\n",
    "        while nb_name is None:\n",
    "            try:\n",
    "                sleep(0.1)\n",
    "                nb_name = subprocess.check_output(f'grep -l {magic} *.ipynb', shell=True).decode().strip()\n",
    "            except:\n",
    "                pass\n",
    "\n",
    "        ipynb_path = os.path.join(os.getcwd(), nb_name)\n",
    "\n",
    "    ipynb_body = read_file(ipynb_path)\n",
    "    return re.search(r'\\# default_exp (\\w+) *', ipynb_body).group(1)\n",
    "\n",
    "_notebook_name = None\n"
   ]
  },
  {
   "cell_type": "code",
   "execution_count": 12,
   "metadata": {},
   "outputs": [
    {
     "data": {
      "text/plain": [
       "'util'"
      ]
     },
     "execution_count": 12,
     "metadata": {},
     "output_type": "execute_result"
    }
   ],
   "source": [
    "_notebook_name = get_notebook_name()\n",
    "_notebook_name"
   ]
  },
  {
   "cell_type": "code",
   "execution_count": 13,
   "metadata": {},
   "outputs": [],
   "source": [
    "#export\n",
    "\n",
    "import subprocess\n",
    "\n",
    "def run_shell(*args, **kwargs):\n",
    "    try:\n",
    "        return subprocess.run(*args, shell=True, capture_output=True, **kwargs)\n",
    "    except Exception as e:\n",
    "        print(f'util.run_shell() error. args={args} kwargs={kwargs} e={e}')\n",
    "        raise e\n",
    "    \n",
    "def run(*args, **kwargs):\n",
    "    shell = run_shell(*args, **kwargs)\n",
    "    err = shell.stderr.decode()\n",
    "    if err != '':\n",
    "        print(f'util.run() error. args={args} kwargs={kwargs} err={err}')\n",
    "        raise Exception(err)\n",
    "    return shell.stdout.decode().strip('\\n')\n",
    "\n",
    "def run_node(code, timeout=60, *args, **kwargs):\n",
    "    e = ' --input-type=module -e ' if '\\n' in code or '.' not in code else ''\n",
    "    return run(\n",
    "        f'''NODE_NO_WARNINGS=1 node --loader ts-node/esm --es-module-specifier-resolution=node {e} \\'{code}\\'''', \n",
    "        *args, \n",
    "        timeout=timeout, \n",
    "        **kwargs\n",
    "    )\n"
   ]
  },
  {
   "cell_type": "code",
   "execution_count": null,
   "metadata": {},
   "outputs": [],
   "source": []
  },
  {
   "cell_type": "markdown",
   "metadata": {},
   "source": [
    "# py compile"
   ]
  },
  {
   "cell_type": "code",
   "execution_count": 14,
   "metadata": {},
   "outputs": [
    {
     "name": "stdout",
     "output_type": "stream",
     "text": [
      "Converted 00_util.ipynb.\n",
      "Converted 00_util_node.ipynb.\n",
      "Converted 01_spiral_api.ipynb.\n",
      "Converted 02_ipython_magic.ipynb.\n",
      "Converted 03_tictactoe_pyteal.ipynb.\n",
      "Converted 04_algo_network.ipynb.\n",
      "Converted 05_tictactoe_testnet.ipynb.\n",
      "Converted 06_index.ipynb.\n"
     ]
    }
   ],
   "source": [
    "!nbdev_build_lib"
   ]
  }
 ],
 "metadata": {
  "interpreter": {
   "hash": "3ad933181bd8a04b432d3370b9dc3b0662ad032c4dfaa4e4f1596c548f763858"
  },
  "kernelspec": {
   "display_name": "Python 3.10.4 64-bit",
   "language": "python",
   "name": "python3"
  },
  "language_info": {
   "codemirror_mode": {
    "name": "ipython",
    "version": 3
   },
   "file_extension": ".py",
   "mimetype": "text/x-python",
   "name": "python",
   "nbconvert_exporter": "python",
   "pygments_lexer": "ipython3",
   "version": "3.10.4"
  },
  "orig_nbformat": 4
 },
 "nbformat": 4,
 "nbformat_minor": 2
}
