{
 "cells": [
  {
   "cell_type": "code",
   "execution_count": 1,
   "id": "e58c8f32",
   "metadata": {},
   "outputs": [],
   "source": [
    "# default_exp tictactoe_pyteal\n"
   ]
  },
  {
   "cell_type": "code",
   "execution_count": 2,
   "id": "2e796a6f",
   "metadata": {},
   "outputs": [
    {
     "name": "stdout",
     "output_type": "stream",
     "text": [
      "Note: you may need to restart the kernel to use updated packages.\n"
     ]
    }
   ],
   "source": [
    "%pip install pyteal | grep -v 'already satisfied'\n"
   ]
  },
  {
   "cell_type": "markdown",
   "id": "4515e772",
   "metadata": {},
   "source": [
    "# imports"
   ]
  },
  {
   "cell_type": "code",
   "execution_count": 3,
   "id": "3e0b9d42",
   "metadata": {},
   "outputs": [],
   "source": [
    "# export\n",
    "\n",
    "from pyteal import *\n"
   ]
  },
  {
   "cell_type": "code",
   "execution_count": 4,
   "id": "2a732a22",
   "metadata": {},
   "outputs": [
    {
     "name": "stdout",
     "output_type": "stream",
     "text": [
      "main.spi Loaded\n"
     ]
    }
   ],
   "source": [
    "import sys\n",
    "sys.path.append('..')\n",
    "import lib_py.util as util\n",
    "import lib_py.ipython_magic as ipython_magic\n",
    "\n",
    "import lib_py.tictactoe_pyteal_spi as tictactoe_pyteal_spi\n"
   ]
  },
  {
   "cell_type": "code",
   "execution_count": 5,
   "id": "bc99130a",
   "metadata": {
    "vscode": {
     "languageId": "shellscript"
    }
   },
   "outputs": [
    {
     "name": "stdout",
     "output_type": "stream",
     "text": [
      "<magic:f980a61a3f3b4f45afaa6b18129b6b48>\n"
     ]
    },
    {
     "data": {
      "application/javascript": "IPython.notebook.save_checkpoint();",
      "text/plain": [
       "<IPython.core.display.Javascript object>"
      ]
     },
     "metadata": {},
     "output_type": "display_data"
    },
    {
     "data": {
      "text/plain": [
       "'/workspaces/spiral-notebook/lib_spi/tictactoe_pyteal.spi'"
      ]
     },
     "execution_count": 5,
     "metadata": {},
     "output_type": "execute_result"
    }
   ],
   "source": [
    "%%spi\n",
    "\n",
    "open console_fsx\n",
    "open pyteal"
   ]
  },
  {
   "cell_type": "markdown",
   "id": "d7be5b5e",
   "metadata": {},
   "source": [
    "# numGlobal"
   ]
  },
  {
   "cell_type": "code",
   "execution_count": 6,
   "id": "cc8638c1",
   "metadata": {
    "vscode": {
     "languageId": "javascript"
    }
   },
   "outputs": [
    {
     "data": {
      "text/plain": [
       "'/workspaces/spiral-notebook/lib_ts/tictactoe_pyteal.ts'"
      ]
     },
     "execution_count": 6,
     "metadata": {},
     "output_type": "execute_result"
    }
   ],
   "source": [
    "%%node export\n",
    "\n",
    "export var numGlobalByteSlices = 5\n",
    "export var numGlobalInts = 4\n"
   ]
  },
  {
   "cell_type": "markdown",
   "id": "60906741",
   "metadata": {},
   "source": [
    "# AppVariables, DefaultValues, AppActions"
   ]
  },
  {
   "cell_type": "code",
   "execution_count": 7,
   "id": "38556003",
   "metadata": {},
   "outputs": [],
   "source": [
    "# export\n",
    "\n",
    "class AppVariables:\n",
    "    \"\"\"\n",
    "    All the variables available in the global state of the application.\n",
    "    \"\"\"\n",
    "    PlayerXState = Bytes(\"PlayerXState\")\n",
    "    PlayerOState = Bytes(\"PlayerOState\")\n",
    "\n",
    "    PlayerOAddress = Bytes(\"PlayerOAddress\")\n",
    "    PlayerXAddress = Bytes(\"PlayerXAddress\")\n",
    "    PlayerTurnAddress = Bytes(\"PlayerTurnAddress\")\n",
    "    FundsEscrowAddress = Bytes(\"FundsEscrowAddress\")\n",
    "\n",
    "    BetAmount = Bytes(\"BetAmount\")\n",
    "    ActionTimeout = Bytes(\"ActionTimeout\")\n",
    "    GameStatus = Bytes(\"GameState\")\n",
    "\n",
    "\n",
    "class DefaultValues:\n",
    "    \"\"\"\n",
    "    The default values for the global variables initialized on the transaction that creates the application.\n",
    "    \"\"\"\n",
    "    PlayerXState = Int(0)\n",
    "    PlayerOState = Int(0)\n",
    "    GameStatus = Int(0)\n",
    "    BetAmount = Int(1000000)\n",
    "    GameDurationInSeconds = Int(3600)\n",
    "\n",
    "\n",
    "class AppActions:\n",
    "    \"\"\"\n",
    "    Available actions in the tic-tac-toe application.\n",
    "    \"\"\"\n",
    "    SetupPlayers = Bytes(\"SetupPlayers\")\n",
    "    ActionMove = Bytes(\"ActionMove\")\n",
    "    MoneyRefund = Bytes(\"MoneyRefund\")\n"
   ]
  },
  {
   "cell_type": "code",
   "execution_count": 8,
   "id": "23cc97e5",
   "metadata": {
    "vscode": {
     "languageId": "shellscript"
    }
   },
   "outputs": [
    {
     "data": {
      "text/plain": [
       "'/workspaces/spiral-notebook/lib_spi/tictactoe_pyteal.spi'"
      ]
     },
     "execution_count": 8,
     "metadata": {},
     "output_type": "execute_result"
    }
   ],
   "source": [
    "%%spi\n",
    "\n",
    "let get_bytes () =\n",
    "    {\n",
    "        player_x_state = new_bytes \"PlayerXState\"\n",
    "        player_o_state = new_bytes \"PlayerOState\"\n",
    "        player_x_address = new_bytes \"PlayerXAddress\"\n",
    "        player_o_address = new_bytes \"PlayerOAddress\"\n",
    "        player_turn_address = new_bytes \"PlayerTurnAddress\"\n",
    "        funds_escrow_address = new_bytes \"FundsEscrowAddress\"\n",
    "        action_timeout = new_bytes \"ActionTimeout\"\n",
    "        game_status = new_bytes \"GameState\"\n",
    "        bet_amount = new_bytes \"BetAmount\"\n",
    "    }\n",
    "\n",
    "inl get_default_values () = \n",
    "    {\n",
    "        player_x_state = new_int 0\n",
    "        player_o_state = new_int 0\n",
    "        game_status = new_int 0\n",
    "        bet_amount = new_int 1000000\n",
    "        game_duration_seconds = new_int 3600\n",
    "    }\n",
    "\n",
    "inl get_app_actions () =\n",
    "    {\n",
    "        setup_players = new_bytes \"SetupPlayers\"\n",
    "        action_move = new_bytes \"ActionMove\"\n",
    "        money_refund = new_bytes \"MoneyRefund\"\n",
    "    }"
   ]
  },
  {
   "cell_type": "code",
   "execution_count": null,
   "id": "73a346bf",
   "metadata": {
    "vscode": {
     "languageId": "shellscript"
    }
   },
   "outputs": [],
   "source": []
  },
  {
   "cell_type": "code",
   "execution_count": 9,
   "id": "c6eb8e9b",
   "metadata": {},
   "outputs": [],
   "source": [
    "def test(a, b):\n",
    "    if a != b:\n",
    "        print('\\na:\\n', a)\n",
    "        print('\\nb:\\n', b)\n",
    "        assert a == b\n"
   ]
  },
  {
   "cell_type": "markdown",
   "id": "41ea8412",
   "metadata": {},
   "source": [
    "# clear_program"
   ]
  },
  {
   "cell_type": "code",
   "execution_count": 10,
   "id": "98698cee",
   "metadata": {},
   "outputs": [],
   "source": [
    "# export\n",
    "\n",
    "def clear_program():\n",
    "    print('5:clear_program')\n",
    "    return Return(Int(1))\n"
   ]
  },
  {
   "cell_type": "code",
   "execution_count": 11,
   "id": "53ef4c86",
   "metadata": {
    "vscode": {
     "languageId": "shellscript"
    }
   },
   "outputs": [
    {
     "data": {
      "text/plain": [
       "'/workspaces/spiral-notebook/lib_spi/tictactoe_pyteal.spi'"
      ]
     },
     "execution_count": 11,
     "metadata": {},
     "output_type": "execute_result"
    }
   ],
   "source": [
    "%%spi\n",
    "\n",
    "inl clear_program () =\n",
    "    inspect \"clear_program\"\n",
    "    new_return (new_int 1)"
   ]
  },
  {
   "cell_type": "code",
   "execution_count": 12,
   "id": "c042685c",
   "metadata": {},
   "outputs": [
    {
     "name": "stdout",
     "output_type": "stream",
     "text": [
      "5:clear_program\n"
     ]
    }
   ],
   "source": [
    "clear_program_python_teal = compileTeal(clear_program(), mode=Mode.Application, version=6)\n"
   ]
  },
  {
   "cell_type": "code",
   "execution_count": 13,
   "id": "c516db25",
   "metadata": {},
   "outputs": [
    {
     "name": "stdout",
     "output_type": "stream",
     "text": [
      "clear_program\n"
     ]
    }
   ],
   "source": [
    "clear_program_spiral_teal = compileTeal(tictactoe_pyteal_spi._arrow9(), mode=Mode.Application, version=6)"
   ]
  },
  {
   "cell_type": "code",
   "execution_count": 14,
   "id": "a6829b54",
   "metadata": {},
   "outputs": [
    {
     "name": "stdout",
     "output_type": "stream",
     "text": [
      "#pragma version 6\n",
      "int 1\n",
      "return\n"
     ]
    }
   ],
   "source": [
    "test(clear_program_python_teal, clear_program_spiral_teal)\n",
    "util.write_file('../lib_teal/clear_program.teal', clear_program_spiral_teal)\n",
    "print(clear_program_spiral_teal)\n"
   ]
  },
  {
   "cell_type": "markdown",
   "id": "102fda23",
   "metadata": {},
   "source": [
    "# money_refund_logic"
   ]
  },
  {
   "cell_type": "code",
   "execution_count": 15,
   "id": "33435177",
   "metadata": {},
   "outputs": [],
   "source": [
    "# export\n",
    "\n",
    "def money_refund_logic():\n",
    "    \"\"\"\n",
    "    This function handles the logic for refunding the money in case of a winner, tie or timeout termination. If the\n",
    "    player whose turn it is hasn't made a move for the predefined period of time, the other player is declared as a\n",
    "    winner and can withdraw the money.\n",
    "    This action logic should be performed using an Atomic Transfer of 2 transactions in case of a winner or using an\n",
    "    Atomic Transfer of 3 transactions in case of a tie.\n",
    "    If there is a winner the Atomic Transfer should have the following 2 transactions:\n",
    "    1. Application Call with the appropriate application action argument.\n",
    "    2. Payment from the Escrow to the Winner Address with a amount equal to the 2 * BetAmount.\n",
    "    If there is a tie the Atomic Transfer should have the following 3 transactions:\n",
    "    1. Application Call with the appropriate application action argument.\n",
    "    2. Payment from the Escrow to the PlayerX's Address with a amount equal to the BetAmount.\n",
    "    3. Payment from the Escrow to the PlayerO's Address with a amount equal to the BetAmount.\n",
    "    :return:\n",
    "    \"\"\"\n",
    "    print('5:money_refund_logic')\n",
    "    has_x_won_by_playing = App.globalGet(AppVariables.GameStatus) == Int(1)\n",
    "    has_o_won_by_playing = App.globalGet(AppVariables.GameStatus) == Int(2)\n",
    "\n",
    "    has_x_won_by_timeout = And(App.globalGet(AppVariables.GameStatus) == Int(0),\n",
    "                               Global.latest_timestamp() > App.globalGet(AppVariables.ActionTimeout),\n",
    "                               App.globalGet(AppVariables.PlayerTurnAddress) == App.globalGet(AppVariables.PlayerOAddress))\n",
    "\n",
    "    has_o_won_by_timeout = And(App.globalGet(AppVariables.GameStatus) == Int(0),\n",
    "                               Global.latest_timestamp() > App.globalGet(AppVariables.ActionTimeout),\n",
    "                               App.globalGet(AppVariables.PlayerTurnAddress) == App.globalGet(AppVariables.PlayerXAddress))\n",
    "\n",
    "    has_x_won = Or(has_x_won_by_playing, has_x_won_by_timeout)\n",
    "    has_o_won = Or(has_o_won_by_playing, has_o_won_by_timeout)\n",
    "    game_is_tie = App.globalGet(AppVariables.GameStatus) == Int(3)\n",
    "\n",
    "    x_withdraw = Seq([\n",
    "        Assert(Gtxn[1].receiver() == App.globalGet(AppVariables.PlayerXAddress)),\n",
    "        Assert(Gtxn[1].amount() == Int(2) * App.globalGet(AppVariables.BetAmount)),\n",
    "        App.globalPut(AppVariables.GameStatus, Int(1))\n",
    "    ])\n",
    "\n",
    "    o_withdraw = Seq([\n",
    "        Assert(Gtxn[1].receiver() == App.globalGet(AppVariables.PlayerOAddress)),\n",
    "        Assert(Gtxn[1].amount() == Int(2) * App.globalGet(AppVariables.BetAmount)),\n",
    "        App.globalPut(AppVariables.GameStatus, Int(2))\n",
    "    ])\n",
    "\n",
    "    tie_withdraw = Seq([\n",
    "        Assert(Gtxn[1].receiver() == App.globalGet(AppVariables.PlayerXAddress)),\n",
    "        Assert(Gtxn[1].amount() == App.globalGet(AppVariables.BetAmount)),\n",
    "        Assert(Gtxn[2].type_enum() == TxnType.Payment),\n",
    "        Assert(Gtxn[2].sender() == App.globalGet(AppVariables.FundsEscrowAddress)),\n",
    "        Assert(Gtxn[2].receiver() == App.globalGet(AppVariables.PlayerOAddress)),\n",
    "        Assert(Gtxn[2].amount() == App.globalGet(AppVariables.BetAmount))\n",
    "    ])\n",
    "\n",
    "    return Seq([\n",
    "        Assert(Gtxn[1].type_enum() == TxnType.Payment),\n",
    "        Assert(Gtxn[1].sender() == App.globalGet(AppVariables.FundsEscrowAddress)),\n",
    "        Cond(\n",
    "            [has_x_won, x_withdraw],\n",
    "            [has_o_won, o_withdraw],\n",
    "            [game_is_tie, tie_withdraw]\n",
    "        ),\n",
    "        Return(Int(1))\n",
    "    ])\n"
   ]
  },
  {
   "cell_type": "code",
   "execution_count": 16,
   "id": "da71fb83",
   "metadata": {
    "vscode": {
     "languageId": "shellscript"
    }
   },
   "outputs": [
    {
     "data": {
      "text/plain": [
       "'/workspaces/spiral-notebook/lib_spi/tictactoe_pyteal.spi'"
      ]
     },
     "execution_count": 16,
     "metadata": {},
     "output_type": "execute_result"
    }
   ],
   "source": [
    "%%spi\n",
    "\n",
    "inl money_refund_logic () =\n",
    "    inspect \"money_refund_logic\"\n",
    "\n",
    "    inl bytes = get_bytes ()\n",
    "    \n",
    "    inl has_x_won_by_playing = app_global_get bytes.game_status = new_int 1\n",
    "    inl has_x_won_by_timeout = \n",
    "        new_and3\n",
    "            (app_global_get bytes.game_status = new_int 0)\n",
    "            (global_latest_timestamp () > app_global_get bytes.action_timeout)\n",
    "            (app_global_get bytes.player_turn_address = app_global_get bytes.player_o_address)\n",
    "    inl has_x_won = new_or has_x_won_by_playing has_x_won_by_timeout\n",
    "    inl x_withdraw = \n",
    "        new_seq\n",
    "            ;[\n",
    "                new_assert (get_gtxn_receiver (get_gtxn 1) = app_global_get bytes.player_x_address)\n",
    "                new_assert (get_gtxn_amount (get_gtxn 1) = new_int 2 * app_global_get bytes.bet_amount)\n",
    "                app_global_put bytes.game_status (new_int 1)\n",
    "            ]\n",
    "\n",
    "    inl has_o_won_by_playing = app_global_get bytes.game_status = new_int 2\n",
    "    inl has_o_won_by_timeout = \n",
    "        new_and3\n",
    "            (app_global_get bytes.game_status = new_int 0)\n",
    "            (global_latest_timestamp () > app_global_get bytes.action_timeout)\n",
    "            (app_global_get bytes.player_turn_address = app_global_get bytes.player_x_address)\n",
    "    inl has_o_won = new_or has_o_won_by_playing has_o_won_by_timeout\n",
    "    inl o_withdraw =\n",
    "        new_seq\n",
    "            ;[\n",
    "                new_assert (get_gtxn_receiver (get_gtxn 1) = app_global_get bytes.player_o_address)\n",
    "                new_assert (get_gtxn_amount (get_gtxn 1) = new_int 2 * app_global_get bytes.bet_amount)\n",
    "                app_global_put bytes.game_status (new_int 2)\n",
    "            ]\n",
    "            \n",
    "    inl game_is_tie = app_global_get bytes.game_status = new_int 3\n",
    "    inl tie_withdraw =\n",
    "        new_seq\n",
    "            ;[\n",
    "                new_assert (get_gtxn_receiver (get_gtxn 1) = app_global_get bytes.player_x_address)\n",
    "                new_assert (get_gtxn_amount (get_gtxn 1) = app_global_get bytes.bet_amount)\n",
    "                new_assert (get_gtxn_type_enum (get_gtxn 2) = get_txn_type Payment)\n",
    "                new_assert (get_gtxn_sender (get_gtxn 2) = app_global_get bytes.funds_escrow_address)\n",
    "                new_assert (get_gtxn_receiver (get_gtxn 2) = app_global_get bytes.player_o_address)\n",
    "                new_assert (get_gtxn_amount (get_gtxn 2) = app_global_get bytes.bet_amount)\n",
    "            ]\n",
    "\n",
    "    new_seq\n",
    "        ;[\n",
    "            new_assert (get_gtxn_type_enum (get_gtxn 1) = get_txn_type Payment)\n",
    "            new_assert (get_gtxn_sender (get_gtxn 1) = app_global_get bytes.funds_escrow_address)\n",
    "            new_cond3\n",
    "                ;[has_x_won; x_withdraw]\n",
    "                ;[has_o_won; o_withdraw]\n",
    "                ;[game_is_tie; tie_withdraw]\n",
    "            new_return (new_int 1)\n",
    "        ]\n"
   ]
  },
  {
   "cell_type": "code",
   "execution_count": 17,
   "id": "de409f4c",
   "metadata": {},
   "outputs": [
    {
     "name": "stdout",
     "output_type": "stream",
     "text": [
      "5:money_refund_logic\n"
     ]
    }
   ],
   "source": [
    "money_refund_logic_python_teal = compileTeal(money_refund_logic(), mode=Mode.Application, version=6)\n"
   ]
  },
  {
   "cell_type": "code",
   "execution_count": 18,
   "id": "acd48f98",
   "metadata": {},
   "outputs": [
    {
     "name": "stdout",
     "output_type": "stream",
     "text": [
      "money_refund_logic\n"
     ]
    }
   ],
   "source": [
    "money_refund_logic_spiral_teal = compileTeal(tictactoe_pyteal_spi._arrow8(), mode=Mode.Application, version=6)\n"
   ]
  },
  {
   "cell_type": "code",
   "execution_count": 19,
   "id": "1aad8e7c",
   "metadata": {},
   "outputs": [],
   "source": [
    "test(money_refund_logic_python_teal, money_refund_logic_spiral_teal)\n"
   ]
  },
  {
   "cell_type": "markdown",
   "id": "8c029612",
   "metadata": {},
   "source": [
    "# game_funds_escrow"
   ]
  },
  {
   "cell_type": "code",
   "execution_count": 20,
   "id": "dcfddbb3",
   "metadata": {},
   "outputs": [],
   "source": [
    "# export\n",
    "\n",
    "def game_funds_escrow(app_id: int):\n",
    "    print('3:game_funds_escrow')\n",
    "\n",
    "    win_refund = Seq([\n",
    "        Assert(Gtxn[0].application_id() == Int(app_id)),\n",
    "        Assert(Gtxn[1].fee() <= Int(1000)),\n",
    "        Assert(Gtxn[1].asset_close_to() == Global.zero_address()),\n",
    "        Assert(Gtxn[1].rekey_to() == Global.zero_address())\n",
    "    ])\n",
    "\n",
    "    tie_refund = Seq([\n",
    "        Assert(Gtxn[0].application_id() == Int(app_id)),\n",
    "        Assert(Gtxn[1].fee() <= Int(1000)),\n",
    "        Assert(Gtxn[1].asset_close_to() == Global.zero_address()),\n",
    "        Assert(Gtxn[1].rekey_to() == Global.zero_address()),\n",
    "        Assert(Gtxn[2].fee() <= Int(1000)),\n",
    "        Assert(Gtxn[2].asset_close_to() == Global.zero_address()),\n",
    "        Assert(Gtxn[2].rekey_to() == Global.zero_address())\n",
    "    ])\n",
    "\n",
    "    return Seq([\n",
    "        Cond(\n",
    "            [Global.group_size() == Int(2), win_refund],\n",
    "            [Global.group_size() == Int(3), tie_refund],\n",
    "        ),\n",
    "        Return(Int(1))\n",
    "    ])\n"
   ]
  },
  {
   "cell_type": "code",
   "execution_count": 21,
   "id": "9d995983",
   "metadata": {
    "vscode": {
     "languageId": "shellscript"
    }
   },
   "outputs": [
    {
     "data": {
      "text/plain": [
       "'/workspaces/spiral-notebook/lib_spi/tictactoe_pyteal.spi'"
      ]
     },
     "execution_count": 21,
     "metadata": {},
     "output_type": "execute_result"
    }
   ],
   "source": [
    "%%spi\n",
    "\n",
    "inl game_funds_escrow app_id =\n",
    "    inspect \"game_funds_escrow\"\n",
    "\n",
    "    inl win_refund = new_seq ;[\n",
    "        new_assert (get_gtxn_application_id (get_gtxn 0) = new_int app_id)\n",
    "        new_assert (get_gtxn_fee (get_gtxn 1) <= new_int 1000)\n",
    "        new_assert (get_gtxn_asset_close_to (get_gtxn 1) = global_zero_address ())\n",
    "        new_assert (get_gtxn_rekey_to (get_gtxn 1) = global_zero_address ())\n",
    "    ]\n",
    "\n",
    "    inl tie_refund = new_seq ;[\n",
    "        new_assert (get_gtxn_application_id (get_gtxn 0) = new_int app_id)\n",
    "        new_assert (get_gtxn_fee (get_gtxn 1) <= new_int 1000)\n",
    "        new_assert (get_gtxn_asset_close_to (get_gtxn 1) = global_zero_address ())\n",
    "        new_assert (get_gtxn_rekey_to (get_gtxn 1) = global_zero_address ())\n",
    "        new_assert (get_gtxn_fee (get_gtxn 2) <= new_int 1000)\n",
    "        new_assert (get_gtxn_asset_close_to (get_gtxn 2) = global_zero_address ())\n",
    "        new_assert (get_gtxn_rekey_to (get_gtxn 2) = global_zero_address ())\n",
    "    ]\n",
    "\n",
    "    new_seq ;[\n",
    "        new_cond\n",
    "            ;[global_group_size () = new_int 2; win_refund]\n",
    "            ;[global_group_size () = new_int 3; tie_refund]\n",
    "        new_return (new_int 1)\n",
    "    ]\n"
   ]
  },
  {
   "cell_type": "code",
   "execution_count": 22,
   "id": "c042685c",
   "metadata": {},
   "outputs": [
    {
     "name": "stdout",
     "output_type": "stream",
     "text": [
      "3:game_funds_escrow\n"
     ]
    }
   ],
   "source": [
    "game_funds_escrow_python_teal = compileTeal(game_funds_escrow(999), mode=Mode.Signature, version=6)\n"
   ]
  },
  {
   "cell_type": "code",
   "execution_count": 23,
   "id": "c516db25",
   "metadata": {},
   "outputs": [
    {
     "name": "stdout",
     "output_type": "stream",
     "text": [
      "game_funds_escrow\n"
     ]
    }
   ],
   "source": [
    "game_funds_escrow_spiral_teal = compileTeal(tictactoe_pyteal_spi._arrow7(999), mode=Mode.Signature, version=6)\n"
   ]
  },
  {
   "cell_type": "code",
   "execution_count": 24,
   "id": "a6829b54",
   "metadata": {},
   "outputs": [
    {
     "name": "stdout",
     "output_type": "stream",
     "text": [
      "#pragma version 6\n",
      "global GroupSize\n",
      "int 2\n",
      "==\n",
      "bnz main_l4\n",
      "global GroupSize\n",
      "int 3\n",
      "==\n",
      "bnz main_l3\n",
      "err\n",
      "main_l3:\n",
      "gtxn 0 ApplicationID\n",
      "int 999\n",
      "==\n",
      "assert\n",
      "gtxn 1 Fee\n",
      "int 1000\n",
      "<=\n",
      "assert\n",
      "gtxn 1 AssetCloseTo\n",
      "global ZeroAddress\n",
      "==\n",
      "assert\n",
      "gtxn 1 RekeyTo\n",
      "global ZeroAddress\n",
      "==\n",
      "assert\n",
      "gtxn 2 Fee\n",
      "int 1000\n",
      "<=\n",
      "assert\n",
      "gtxn 2 AssetCloseTo\n",
      "global ZeroAddress\n",
      "==\n",
      "assert\n",
      "gtxn 2 RekeyTo\n",
      "global ZeroAddress\n",
      "==\n",
      "assert\n",
      "b main_l5\n",
      "main_l4:\n",
      "gtxn 0 ApplicationID\n",
      "int 999\n",
      "==\n",
      "assert\n",
      "gtxn 1 Fee\n",
      "int 1000\n",
      "<=\n",
      "assert\n",
      "gtxn 1 AssetCloseTo\n",
      "global ZeroAddress\n",
      "==\n",
      "assert\n",
      "gtxn 1 RekeyTo\n",
      "global ZeroAddress\n",
      "==\n",
      "assert\n",
      "main_l5:\n",
      "int 1\n",
      "return\n"
     ]
    }
   ],
   "source": [
    "test(game_funds_escrow_python_teal, game_funds_escrow_spiral_teal)\n",
    "util.write_file('../lib_teal/game_funds_escrow.teal', game_funds_escrow_spiral_teal)\n",
    "print(game_funds_escrow_spiral_teal)\n"
   ]
  },
  {
   "cell_type": "markdown",
   "id": "edb1209d",
   "metadata": {},
   "source": [
    "# has_player_won"
   ]
  },
  {
   "cell_type": "code",
   "execution_count": 25,
   "id": "f0b4196b",
   "metadata": {},
   "outputs": [],
   "source": [
    "# export\n",
    "\n",
    "def has_player_won(state):\n",
    "    \"\"\"\n",
    "    Checks whether the passed state as an argument is a winning state. There are 8 possible winning states in which\n",
    "    a specific pattern of bits needs to be activated.\n",
    "    :param state:\n",
    "    :return:\n",
    "    \"\"\"\n",
    "    print('5:has_player_won')\n",
    "    WINNING_STATES = [448, 56, 7, 292, 146, 73, 273, 84]\n",
    "    return If(Or(BitwiseAnd(state, Int(WINNING_STATES[0])) == Int(WINNING_STATES[0]),\n",
    "                 BitwiseAnd(state, Int(WINNING_STATES[1])) == Int(WINNING_STATES[1]),\n",
    "                 BitwiseAnd(state, Int(WINNING_STATES[2])) == Int(WINNING_STATES[2]),\n",
    "                 BitwiseAnd(state, Int(WINNING_STATES[3])) == Int(WINNING_STATES[3]),\n",
    "                 BitwiseAnd(state, Int(WINNING_STATES[4])) == Int(WINNING_STATES[4]),\n",
    "                 BitwiseAnd(state, Int(WINNING_STATES[5])) == Int(WINNING_STATES[5]),\n",
    "                 BitwiseAnd(state, Int(WINNING_STATES[6])) == Int(WINNING_STATES[6]),\n",
    "                 BitwiseAnd(state, Int(WINNING_STATES[7])) == Int(WINNING_STATES[7])), Int(1), Int(0))\n"
   ]
  },
  {
   "cell_type": "code",
   "execution_count": 26,
   "id": "ef46133b",
   "metadata": {
    "vscode": {
     "languageId": "shellscript"
    }
   },
   "outputs": [
    {
     "data": {
      "text/plain": [
       "'/workspaces/spiral-notebook/lib_spi/tictactoe_pyteal.spi'"
      ]
     },
     "execution_count": 26,
     "metadata": {},
     "output_type": "execute_result"
    }
   ],
   "source": [
    "%%spi\n",
    "\n",
    "inl _get_winning_moves () =\n",
    "    ;[\n",
    "        ;[1; 2; 3]\n",
    "        ;[4; 5; 6]\n",
    "        ;[7; 8; 9]\n",
    "        ;[1; 4; 7]\n",
    "        ;[2; 5; 8]\n",
    "        ;[3; 6; 9]\n",
    "        ;[1; 5; 9]\n",
    "        ;[3; 5; 7]\n",
    "    ]\n",
    "\n",
    "inl get_win_state (i : i32) : i32 =\n",
    "    match i with\n",
    "    | 0 => 448\n",
    "    | 1 => 56\n",
    "    | 2 => 7\n",
    "    | 3 => 292\n",
    "    | 4 => 146\n",
    "    | 5 => 73\n",
    "    | 6 => 273\n",
    "    | 7 => 84\n",
    "    |> new_int\n",
    "\n",
    "inl has_player_won (state : i32) =\n",
    "    inspect \"has_player_won\"\n",
    "\n",
    "    new_if_else\n",
    "        (new_or8 \n",
    "            (new_bitwise_and state (get_win_state 0) = get_win_state 0)\n",
    "            (new_bitwise_and state (get_win_state 1) = get_win_state 1)\n",
    "            (new_bitwise_and state (get_win_state 2) = get_win_state 2)\n",
    "            (new_bitwise_and state (get_win_state 3) = get_win_state 3)\n",
    "            (new_bitwise_and state (get_win_state 4) = get_win_state 4)\n",
    "            (new_bitwise_and state (get_win_state 5) = get_win_state 5)\n",
    "            (new_bitwise_and state (get_win_state 6) = get_win_state 6)\n",
    "            (new_bitwise_and state (get_win_state 7) = get_win_state 7))\n",
    "        (new_int 1) \n",
    "        (new_int 0)"
   ]
  },
  {
   "cell_type": "code",
   "execution_count": 27,
   "id": "a0da432f",
   "metadata": {},
   "outputs": [
    {
     "name": "stdout",
     "output_type": "stream",
     "text": [
      "5:has_player_won\n"
     ]
    }
   ],
   "source": [
    "has_player_won_python_teal = compileTeal(has_player_won(Int(999)), mode=Mode.Application, version=6)\n"
   ]
  },
  {
   "cell_type": "code",
   "execution_count": 28,
   "id": "42afd435",
   "metadata": {},
   "outputs": [
    {
     "name": "stdout",
     "output_type": "stream",
     "text": [
      "has_player_won\n"
     ]
    }
   ],
   "source": [
    "has_player_won_spiral_teal = compileTeal(tictactoe_pyteal_spi._arrow6(Int(999)), mode=Mode.Application, version=6)\n"
   ]
  },
  {
   "cell_type": "code",
   "execution_count": 29,
   "id": "16bb93e2",
   "metadata": {},
   "outputs": [],
   "source": [
    "test(has_player_won_python_teal, has_player_won_spiral_teal)\n"
   ]
  },
  {
   "cell_type": "markdown",
   "id": "a1fcf8c9",
   "metadata": {},
   "source": [
    "# is_tie"
   ]
  },
  {
   "cell_type": "code",
   "execution_count": 30,
   "id": "08edb7d8",
   "metadata": {},
   "outputs": [],
   "source": [
    "#export\n",
    "\n",
    "def is_tie():\n",
    "    \"\"\"\n",
    "    Checks whether the game has ended with a tie. Tie state is represented with the number 511 which is the number where\n",
    "    the first 9 bits are active.\n",
    "    :return:\n",
    "    \"\"\"\n",
    "    print('5:is_tie')\n",
    "    state_x = App.globalGet(AppVariables.PlayerXState)\n",
    "    state_o = App.globalGet(AppVariables.PlayerOState)\n",
    "    return Int(511) == BitwiseOr(state_x, state_o)\n"
   ]
  },
  {
   "cell_type": "code",
   "execution_count": 31,
   "id": "d43d31aa",
   "metadata": {
    "vscode": {
     "languageId": "shellscript"
    }
   },
   "outputs": [
    {
     "data": {
      "text/plain": [
       "'/workspaces/spiral-notebook/lib_spi/tictactoe_pyteal.spi'"
      ]
     },
     "execution_count": 31,
     "metadata": {},
     "output_type": "execute_result"
    }
   ],
   "source": [
    "%%spi\n",
    "\n",
    "inl is_tie () =\n",
    "    inspect \"is_tie\"\n",
    "\n",
    "    inl bytes = get_bytes ()\n",
    "\n",
    "    inl state_x = app_global_get bytes.player_x_state\n",
    "    inl state_o = app_global_get bytes.player_o_state\n",
    "    new_int 511 = new_bitwise_or state_x state_o\n"
   ]
  },
  {
   "cell_type": "code",
   "execution_count": 32,
   "id": "4e94004b",
   "metadata": {},
   "outputs": [
    {
     "name": "stdout",
     "output_type": "stream",
     "text": [
      "5:is_tie\n"
     ]
    }
   ],
   "source": [
    "is_tie_python_teal = compileTeal(is_tie(), mode=Mode.Application, version=6)\n"
   ]
  },
  {
   "cell_type": "code",
   "execution_count": 33,
   "id": "9a0b6a13",
   "metadata": {},
   "outputs": [
    {
     "name": "stdout",
     "output_type": "stream",
     "text": [
      "is_tie\n"
     ]
    }
   ],
   "source": [
    "is_tie_spiral_teal = compileTeal(tictactoe_pyteal_spi._arrow5(), mode=Mode.Application, version=6)\n"
   ]
  },
  {
   "cell_type": "code",
   "execution_count": 34,
   "id": "b0c4e607",
   "metadata": {},
   "outputs": [],
   "source": [
    "test(is_tie_python_teal, is_tie_spiral_teal)\n"
   ]
  },
  {
   "cell_type": "markdown",
   "id": "2f66956e",
   "metadata": {},
   "source": [
    "# play_action_logic"
   ]
  },
  {
   "cell_type": "code",
   "execution_count": 35,
   "id": "0de33bb8",
   "metadata": {},
   "outputs": [],
   "source": [
    "# export\n",
    "\n",
    "def play_action_logic():\n",
    "    \"\"\"\n",
    "    Executes an action for the current player in the game and accordingly updates the state of the game. The action\n",
    "    is passed as an argument to the application call.\n",
    "    :return:\n",
    "    \"\"\"\n",
    "    print('5:play_action_logic')\n",
    "    position_index = Btoi(Txn.application_args[1])\n",
    "\n",
    "    state_x = App.globalGet(AppVariables.PlayerXState)\n",
    "    state_o = App.globalGet(AppVariables.PlayerOState)\n",
    "\n",
    "    game_action = ShiftLeft(Int(1), position_index)\n",
    "\n",
    "    player_x_move = Seq([\n",
    "        App.globalPut(AppVariables.PlayerXState, BitwiseOr(state_x, game_action)),\n",
    "        If(has_player_won(App.globalGet(AppVariables.PlayerXState)), App.globalPut(AppVariables.GameStatus, Int(1))),\n",
    "        App.globalPut(AppVariables.PlayerTurnAddress, App.globalGet(AppVariables.PlayerOAddress)),\n",
    "    ])\n",
    "\n",
    "    player_o_move = Seq([\n",
    "        App.globalPut(AppVariables.PlayerOState, BitwiseOr(state_o, game_action)),\n",
    "        If(has_player_won(App.globalGet(AppVariables.PlayerOState)), App.globalPut(AppVariables.GameStatus, Int(2))),\n",
    "        App.globalPut(AppVariables.PlayerTurnAddress, App.globalGet(AppVariables.PlayerXAddress)),\n",
    "    ])\n",
    "\n",
    "    return Seq([\n",
    "        Assert(position_index >= Int(0)),\n",
    "        Assert(position_index <= Int(8)),\n",
    "        Assert(Global.latest_timestamp() <= App.globalGet(AppVariables.ActionTimeout)),\n",
    "        Assert(App.globalGet(AppVariables.GameStatus) == DefaultValues.GameStatus),\n",
    "        Assert(Txn.sender() == App.globalGet(AppVariables.PlayerTurnAddress)),\n",
    "        Assert(And(BitwiseAnd(state_x, game_action) == Int(0), \n",
    "                   BitwiseAnd(state_o, game_action) == Int(0))),\n",
    "        Cond(\n",
    "            [Txn.sender() == App.globalGet(AppVariables.PlayerXAddress), player_x_move],\n",
    "            [Txn.sender() == App.globalGet(AppVariables.PlayerOAddress), player_o_move],\n",
    "        ),\n",
    "        If(is_tie(), App.globalPut(AppVariables.GameStatus, Int(3))),\n",
    "        Return(Int(1))\n",
    "    ])\n"
   ]
  },
  {
   "cell_type": "code",
   "execution_count": 36,
   "id": "d1891635",
   "metadata": {
    "vscode": {
     "languageId": "shellscript"
    }
   },
   "outputs": [
    {
     "data": {
      "text/plain": [
       "'/workspaces/spiral-notebook/lib_spi/tictactoe_pyteal.spi'"
      ]
     },
     "execution_count": 36,
     "metadata": {},
     "output_type": "execute_result"
    }
   ],
   "source": [
    "%%spi\n",
    "\n",
    "inl play_action_logic () =\n",
    "    inspect \"play_action_logic\"\n",
    "\n",
    "    inl bytes = get_bytes ()\n",
    "    inl default_values = get_default_values ()\n",
    "    inl position_index = new_btoi (get_txn_application_args 1)\n",
    "    inl state_x = app_global_get bytes.player_x_state\n",
    "    inl state_o = app_global_get bytes.player_o_state\n",
    "\n",
    "    inl game_action = new_shift_left (new_int 1) position_index\n",
    "\n",
    "    inl player_x_move =\n",
    "        new_seq\n",
    "            ;[\n",
    "                app_global_put bytes.player_x_state (new_bitwise_or state_x game_action)\n",
    "                new_if \n",
    "                    (has_player_won (app_global_get bytes.player_x_state))\n",
    "                    (app_global_put bytes.game_status (new_int 1))\n",
    "                app_global_put bytes.player_turn_address (app_global_get bytes.player_o_address)\n",
    "            ]\n",
    "\n",
    "    inl player_o_move =\n",
    "        new_seq\n",
    "            ;[\n",
    "                app_global_put bytes.player_o_state (new_bitwise_or state_o game_action)\n",
    "                new_if \n",
    "                    (has_player_won (app_global_get bytes.player_o_state))\n",
    "                    (app_global_put bytes.game_status (new_int 2))\n",
    "                app_global_put bytes.player_turn_address (app_global_get bytes.player_x_address)\n",
    "            ]\n",
    "\n",
    "    new_seq\n",
    "        ;[\n",
    "            new_assert (position_index >= new_int 0)\n",
    "            new_assert (position_index <= new_int 8)\n",
    "            new_assert (global_latest_timestamp () <= app_global_get bytes.action_timeout)\n",
    "            new_assert (app_global_get bytes.game_status = default_values.game_status)\n",
    "            new_assert (get_txn_sender () = app_global_get bytes.player_turn_address)\n",
    "            new_assert \n",
    "                (new_and \n",
    "                    (new_bitwise_and state_x game_action = new_int 0)\n",
    "                    (new_bitwise_and state_o game_action = new_int 0))\n",
    "            new_cond\n",
    "                ;[get_txn_sender () = app_global_get bytes.player_x_address; player_x_move]\n",
    "                ;[get_txn_sender () = app_global_get bytes.player_o_address; player_o_move]\n",
    "            new_if \n",
    "                (is_tie ())\n",
    "                (app_global_put bytes.game_status (new_int 3))\n",
    "            new_return (new_int 1)\n",
    "        ]\n"
   ]
  },
  {
   "cell_type": "code",
   "execution_count": 37,
   "id": "ba6856a0",
   "metadata": {},
   "outputs": [
    {
     "name": "stdout",
     "output_type": "stream",
     "text": [
      "5:play_action_logic\n",
      "5:has_player_won\n",
      "5:has_player_won\n",
      "5:is_tie\n"
     ]
    }
   ],
   "source": [
    "play_action_logic_python_teal = compileTeal(play_action_logic(), mode=Mode.Application, version=6)\n"
   ]
  },
  {
   "cell_type": "code",
   "execution_count": 38,
   "id": "24a46ccd",
   "metadata": {},
   "outputs": [
    {
     "name": "stdout",
     "output_type": "stream",
     "text": [
      "play_action_logic\n",
      "has_player_won\n",
      "has_player_won\n",
      "is_tie\n"
     ]
    }
   ],
   "source": [
    "play_action_logic_spiral_teal = compileTeal(tictactoe_pyteal_spi._arrow4(), mode=Mode.Application, version=6)\n"
   ]
  },
  {
   "cell_type": "code",
   "execution_count": 39,
   "id": "f300cb46",
   "metadata": {},
   "outputs": [],
   "source": [
    "test(play_action_logic_python_teal, play_action_logic_spiral_teal)\n"
   ]
  },
  {
   "cell_type": "markdown",
   "id": "21ba8225",
   "metadata": {},
   "source": [
    "# initialize_players_logic"
   ]
  },
  {
   "cell_type": "code",
   "execution_count": 40,
   "id": "7d98fab1",
   "metadata": {},
   "outputs": [],
   "source": [
    "# export\n",
    "\n",
    "def initialize_players_logic():\n",
    "    \"\"\"\n",
    "    This function initializes all the other global variables. The end of the execution of this function defines the game\n",
    "    start. We expect that this logic is performed within an Atomic Transfer of 3 transactions:\n",
    "    1. Application Call with the appropriate application action argument.\n",
    "    2. Payment transaction from Player X that funds the Escrow account. The address of this sender is represents the\n",
    "    PlayerX address.\n",
    "    3. Payment transaction from Player O that funds the Escrow account. The address of this sender is represents the\n",
    "    PlayerO address.\n",
    "    :return:\n",
    "    \"\"\"\n",
    "    print('5:initialize_players_logic')\n",
    "    player_x_address = App.globalGetEx(Int(0), AppVariables.PlayerXAddress)\n",
    "    player_o_address = App.globalGetEx(Int(0), AppVariables.PlayerOAddress)\n",
    "\n",
    "    setup_failed = Seq([\n",
    "        Return(Int(0))\n",
    "    ])\n",
    "\n",
    "    setup_players = Seq([\n",
    "        Assert(Gtxn[1].type_enum() == TxnType.Payment),\n",
    "        Assert(Gtxn[2].type_enum() == TxnType.Payment),\n",
    "        Assert(Gtxn[1].receiver() == Gtxn[2].receiver()),\n",
    "        Assert(Gtxn[1].amount() == App.globalGet(AppVariables.BetAmount)),\n",
    "        Assert(Gtxn[2].amount() == App.globalGet(AppVariables.BetAmount)),\n",
    "        App.globalPut(AppVariables.PlayerXAddress, Gtxn[1].sender()),\n",
    "        App.globalPut(AppVariables.PlayerOAddress, Gtxn[2].sender()),\n",
    "        App.globalPut(AppVariables.PlayerTurnAddress, Gtxn[1].sender()),\n",
    "        App.globalPut(AppVariables.FundsEscrowAddress, Gtxn[1].receiver()),\n",
    "        App.globalPut(AppVariables.ActionTimeout, Global.latest_timestamp() + DefaultValues.GameDurationInSeconds),\n",
    "        Return(Int(1))\n",
    "    ])\n",
    "\n",
    "    return Seq([\n",
    "        player_x_address,\n",
    "        player_o_address,\n",
    "        If(Or(player_x_address.hasValue(), player_o_address.hasValue()),\n",
    "           setup_failed, setup_players)\n",
    "    ])\n"
   ]
  },
  {
   "cell_type": "code",
   "execution_count": 41,
   "id": "194b3068",
   "metadata": {
    "vscode": {
     "languageId": "shellscript"
    }
   },
   "outputs": [
    {
     "data": {
      "text/plain": [
       "'/workspaces/spiral-notebook/lib_spi/tictactoe_pyteal.spi'"
      ]
     },
     "execution_count": 41,
     "metadata": {},
     "output_type": "execute_result"
    }
   ],
   "source": [
    "%%spi\n",
    "\n",
    "inl initialize_players_logic game_duration_seconds =\n",
    "    inspect \"initialize_players_logic\"\n",
    "\n",
    "    inl bytes = get_bytes ()\n",
    "    inl default_values = get_default_values ()\n",
    "    inl player_x_address = app_global_get_ex (new_int 0) bytes.player_x_address\n",
    "    inl player_o_address = app_global_get_ex (new_int 0) bytes.player_o_address\n",
    "    inl setup_failed = new_seq ;[new_return (new_int 0)]\n",
    "\n",
    "    inl game_duration_int =\n",
    "        match game_duration_seconds with\n",
    "        | Some duration => new_int duration\n",
    "        | None => default_values.game_duration_seconds\n",
    "    \n",
    "    inl setup_players = \n",
    "        new_seq \n",
    "            ;[\n",
    "                new_assert (get_gtxn_type_enum (get_gtxn 1) = get_txn_type Payment)\n",
    "                new_assert (get_gtxn_type_enum (get_gtxn 2) = get_txn_type Payment)\n",
    "                new_assert (get_gtxn_receiver (get_gtxn 1) = get_gtxn_receiver (get_gtxn 2))\n",
    "                new_assert (get_gtxn_amount (get_gtxn 1) = app_global_get bytes.bet_amount)\n",
    "                new_assert (get_gtxn_amount (get_gtxn 2) = app_global_get bytes.bet_amount)\n",
    "                app_global_put bytes.player_x_address (get_gtxn_sender (get_gtxn 1))\n",
    "                app_global_put bytes.player_o_address (get_gtxn_sender (get_gtxn 2))\n",
    "                app_global_put bytes.player_turn_address (get_gtxn_sender (get_gtxn 1))\n",
    "                app_global_put bytes.funds_escrow_address (get_gtxn_receiver (get_gtxn 1))\n",
    "                app_global_put bytes.action_timeout (global_latest_timestamp () + game_duration_int)\n",
    "                new_return (new_int 1)\n",
    "            ]\n",
    "\n",
    "    new_seq3\n",
    "        player_x_address\n",
    "        player_o_address\n",
    "        (new_if_else\n",
    "            (new_or \n",
    "                (app_global_has_value player_x_address)\n",
    "                (app_global_has_value player_o_address))\n",
    "            setup_failed\n",
    "            setup_players)\n"
   ]
  },
  {
   "cell_type": "code",
   "execution_count": 42,
   "id": "30818b63",
   "metadata": {},
   "outputs": [
    {
     "name": "stdout",
     "output_type": "stream",
     "text": [
      "5:initialize_players_logic\n"
     ]
    }
   ],
   "source": [
    "initialize_players_logic_python_teal = compileTeal(initialize_players_logic(), mode=Mode.Application, version=6)\n"
   ]
  },
  {
   "cell_type": "code",
   "execution_count": 43,
   "id": "b80a65ea",
   "metadata": {},
   "outputs": [
    {
     "name": "stdout",
     "output_type": "stream",
     "text": [
      "initialize_players_logic\n"
     ]
    }
   ],
   "source": [
    "initialize_players_logic_spiral_teal = compileTeal(tictactoe_pyteal_spi._arrow3(tictactoe_pyteal_spi.US0(0)), mode=Mode.Application, version=6)\n"
   ]
  },
  {
   "cell_type": "code",
   "execution_count": 44,
   "id": "fdbcf0f1",
   "metadata": {},
   "outputs": [],
   "source": [
    "test(initialize_players_logic_python_teal, initialize_players_logic_spiral_teal)\n"
   ]
  },
  {
   "cell_type": "markdown",
   "id": "1828caae",
   "metadata": {},
   "source": [
    "# app_initialization_logic"
   ]
  },
  {
   "cell_type": "code",
   "execution_count": 45,
   "id": "9f91bf19",
   "metadata": {},
   "outputs": [],
   "source": [
    "# export\n",
    "\n",
    "def app_initialization_logic():\n",
    "    \"\"\"\n",
    "    Initialization of the default global variables.\n",
    "    \"\"\"\n",
    "    print('5:app_initialization_logic')\n",
    "    return Seq([\n",
    "        App.globalPut(AppVariables.PlayerXState, DefaultValues.PlayerXState),\n",
    "        App.globalPut(AppVariables.PlayerOState, DefaultValues.PlayerOState),\n",
    "        App.globalPut(AppVariables.GameStatus, DefaultValues.GameStatus),\n",
    "        App.globalPut(AppVariables.BetAmount, DefaultValues.BetAmount),\n",
    "        Return(Int(1))\n",
    "    ])\n"
   ]
  },
  {
   "cell_type": "code",
   "execution_count": 46,
   "id": "6b954360",
   "metadata": {
    "vscode": {
     "languageId": "shellscript"
    }
   },
   "outputs": [
    {
     "data": {
      "text/plain": [
       "'/workspaces/spiral-notebook/lib_spi/tictactoe_pyteal.spi'"
      ]
     },
     "execution_count": 46,
     "metadata": {},
     "output_type": "execute_result"
    }
   ],
   "source": [
    "%%spi\n",
    "\n",
    "inl app_initialization_logic () =\n",
    "    inspect \"app_initialization_logic\"\n",
    "\n",
    "    inl default_values = get_default_values ()\n",
    "    inl bytes = get_bytes ()\n",
    "\n",
    "    new_seq \n",
    "        ;[\n",
    "            app_global_put bytes.player_x_state default_values.player_x_state\n",
    "            app_global_put bytes.player_o_state default_values.player_o_state\n",
    "            app_global_put bytes.game_status default_values.game_status\n",
    "            app_global_put bytes.bet_amount default_values.bet_amount\n",
    "            new_return (new_int 1)\n",
    "        ]\n"
   ]
  },
  {
   "cell_type": "code",
   "execution_count": 47,
   "id": "2828e5d7",
   "metadata": {},
   "outputs": [
    {
     "name": "stdout",
     "output_type": "stream",
     "text": [
      "5:app_initialization_logic\n"
     ]
    }
   ],
   "source": [
    "app_initialization_logic_python_teal = compileTeal(app_initialization_logic(), mode=Mode.Application, version=6)\n"
   ]
  },
  {
   "cell_type": "code",
   "execution_count": 48,
   "id": "630d7ecf",
   "metadata": {},
   "outputs": [
    {
     "name": "stdout",
     "output_type": "stream",
     "text": [
      "app_initialization_logic\n"
     ]
    }
   ],
   "source": [
    "app_initialization_logic_spiral_teal = compileTeal(tictactoe_pyteal_spi._arrow2(), mode=Mode.Application, version=6)\n"
   ]
  },
  {
   "cell_type": "code",
   "execution_count": 49,
   "id": "d0ff456a",
   "metadata": {},
   "outputs": [],
   "source": [
    "test(app_initialization_logic_python_teal, app_initialization_logic_spiral_teal)\n"
   ]
  },
  {
   "cell_type": "markdown",
   "id": "f2002ac6",
   "metadata": {},
   "source": [
    "# application_start"
   ]
  },
  {
   "cell_type": "code",
   "execution_count": 50,
   "id": "dc12bc02",
   "metadata": {},
   "outputs": [],
   "source": [
    "# export\n",
    "\n",
    "def application_start():\n",
    "    \"\"\"\n",
    "    This function represents the start of the application. Here we decide which action will be executed in the current\n",
    "    application call. If we are creating the application for the very first time we are going to initialize some\n",
    "    of the global values with their appropriate default values.\n",
    "    \"\"\"\n",
    "    print('5:application_start')\n",
    "    is_app_initialization = Txn.application_id() == Int(0)\n",
    "\n",
    "    actions = Cond(\n",
    "        [Txn.application_args[0] == AppActions.SetupPlayers, initialize_players_logic()],\n",
    "        [And(Txn.application_args[0] == AppActions.ActionMove, Global.group_size() == Int(1)), \n",
    "             play_action_logic()],\n",
    "        [Txn.application_args[0] == AppActions.MoneyRefund, money_refund_logic()]\n",
    "    )\n",
    "\n",
    "    return If(is_app_initialization, app_initialization_logic(), actions)\n"
   ]
  },
  {
   "cell_type": "code",
   "execution_count": 51,
   "id": "7c1dd941",
   "metadata": {
    "vscode": {
     "languageId": "shellscript"
    }
   },
   "outputs": [
    {
     "data": {
      "text/plain": [
       "'/workspaces/spiral-notebook/lib_spi/tictactoe_pyteal.spi'"
      ]
     },
     "execution_count": 51,
     "metadata": {},
     "output_type": "execute_result"
    }
   ],
   "source": [
    "%%spi\n",
    "\n",
    "inl application_start game_duration_seconds =\n",
    "    inspect \"application_start\"\n",
    "    \n",
    "    inl app_actions = get_app_actions ()\n",
    "\n",
    "    inl is_app_initialization = get_txn_application_id () = new_int 0\n",
    "    inl actions =\n",
    "        new_cond3\n",
    "            ;[get_txn_application_args 0 = app_actions.setup_players; initialize_players_logic game_duration_seconds]\n",
    "            ;[new_and \n",
    "                (get_txn_application_args 0 = app_actions.action_move) \n",
    "                (global_group_size () = new_int 1)\n",
    "              play_action_logic ()]\n",
    "            ;[get_txn_application_args 0 = app_actions.money_refund; money_refund_logic ()]\n",
    "\n",
    "    new_if_else is_app_initialization (app_initialization_logic ()) actions"
   ]
  },
  {
   "cell_type": "code",
   "execution_count": 52,
   "id": "47ea8451",
   "metadata": {},
   "outputs": [
    {
     "name": "stdout",
     "output_type": "stream",
     "text": [
      "5:application_start\n",
      "5:initialize_players_logic\n",
      "5:play_action_logic\n",
      "5:has_player_won\n",
      "5:has_player_won\n",
      "5:is_tie\n",
      "5:money_refund_logic\n",
      "5:app_initialization_logic\n"
     ]
    }
   ],
   "source": [
    "application_start_python_teal = compileTeal(application_start(), mode=Mode.Application, version=6)\n"
   ]
  },
  {
   "cell_type": "code",
   "execution_count": 53,
   "id": "b5f1b0b3",
   "metadata": {},
   "outputs": [
    {
     "name": "stdout",
     "output_type": "stream",
     "text": [
      "application_start\n",
      "initialize_players_logic\n",
      "play_action_logic\n",
      "has_player_won\n",
      "has_player_won\n",
      "is_tie\n",
      "money_refund_logic\n",
      "app_initialization_logic\n"
     ]
    }
   ],
   "source": [
    "application_start_spiral_teal = compileTeal(tictactoe_pyteal_spi._arrow1(tictactoe_pyteal_spi.US0(0)), mode=Mode.Application, version=6)\n"
   ]
  },
  {
   "cell_type": "code",
   "execution_count": 54,
   "id": "df7a9342",
   "metadata": {},
   "outputs": [
    {
     "name": "stdout",
     "output_type": "stream",
     "text": [
      "#pragma version 6\n",
      "txn ApplicationID\n",
      "int 0\n",
      "==\n",
      "bnz main_l34\n",
      "txna ApplicationArgs 0\n",
      "byte \"SetupPlayers\"\n",
      "==\n",
      "bnz main_l31\n",
      "txna ApplicationArgs 0\n",
      "byte \"ActionMove\"\n",
      "==\n",
      "global GroupSize\n",
      "int 1\n",
      "==\n",
      "&&\n",
      "bnz main_l13\n",
      "txna ApplicationArgs 0\n",
      "byte \"MoneyRefund\"\n",
      "==\n",
      "bnz main_l5\n",
      "err\n",
      "main_l5:\n",
      "gtxn 1 TypeEnum\n",
      "int pay\n",
      "==\n",
      "assert\n",
      "gtxn 1 Sender\n",
      "byte \"FundsEscrowAddress\"\n",
      "app_global_get\n",
      "==\n",
      "assert\n",
      "byte \"GameState\"\n",
      "app_global_get\n",
      "int 1\n",
      "==\n",
      "byte \"GameState\"\n",
      "app_global_get\n",
      "int 0\n",
      "==\n",
      "global LatestTimestamp\n",
      "byte \"ActionTimeout\"\n",
      "app_global_get\n",
      ">\n",
      "&&\n",
      "byte \"PlayerTurnAddress\"\n",
      "app_global_get\n",
      "byte \"PlayerOAddress\"\n",
      "app_global_get\n",
      "==\n",
      "&&\n",
      "||\n",
      "bnz main_l12\n",
      "byte \"GameState\"\n",
      "app_global_get\n",
      "int 2\n",
      "==\n",
      "byte \"GameState\"\n",
      "app_global_get\n",
      "int 0\n",
      "==\n",
      "global LatestTimestamp\n",
      "byte \"ActionTimeout\"\n",
      "app_global_get\n",
      ">\n",
      "&&\n",
      "byte \"PlayerTurnAddress\"\n",
      "app_global_get\n",
      "byte \"PlayerXAddress\"\n",
      "app_global_get\n",
      "==\n",
      "&&\n",
      "||\n",
      "bnz main_l11\n",
      "byte \"GameState\"\n",
      "app_global_get\n",
      "int 3\n",
      "==\n",
      "bnz main_l9\n",
      "err\n",
      "main_l9:\n",
      "gtxn 1 Receiver\n",
      "byte \"PlayerXAddress\"\n",
      "app_global_get\n",
      "==\n",
      "assert\n",
      "gtxn 1 Amount\n",
      "byte \"BetAmount\"\n",
      "app_global_get\n",
      "==\n",
      "assert\n",
      "gtxn 2 TypeEnum\n",
      "int pay\n",
      "==\n",
      "assert\n",
      "gtxn 2 Sender\n",
      "byte \"FundsEscrowAddress\"\n",
      "app_global_get\n",
      "==\n",
      "assert\n",
      "gtxn 2 Receiver\n",
      "byte \"PlayerOAddress\"\n",
      "app_global_get\n",
      "==\n",
      "assert\n",
      "gtxn 2 Amount\n",
      "byte \"BetAmount\"\n",
      "app_global_get\n",
      "==\n",
      "assert\n",
      "main_l10:\n",
      "int 1\n",
      "return\n",
      "main_l11:\n",
      "gtxn 1 Receiver\n",
      "byte \"PlayerOAddress\"\n",
      "app_global_get\n",
      "==\n",
      "assert\n",
      "gtxn 1 Amount\n",
      "int 2\n",
      "byte \"BetAmount\"\n",
      "app_global_get\n",
      "*\n",
      "==\n",
      "assert\n",
      "byte \"GameState\"\n",
      "int 2\n",
      "app_global_put\n",
      "b main_l10\n",
      "main_l12:\n",
      "gtxn 1 Receiver\n",
      "byte \"PlayerXAddress\"\n",
      "app_global_get\n",
      "==\n",
      "assert\n",
      "gtxn 1 Amount\n",
      "int 2\n",
      "byte \"BetAmount\"\n",
      "app_global_get\n",
      "*\n",
      "==\n",
      "assert\n",
      "byte \"GameState\"\n",
      "int 1\n",
      "app_global_put\n",
      "b main_l10\n",
      "main_l13:\n",
      "txna ApplicationArgs 1\n",
      "btoi\n",
      "int 0\n",
      ">=\n",
      "assert\n",
      "txna ApplicationArgs 1\n",
      "btoi\n",
      "int 8\n",
      "<=\n",
      "assert\n",
      "global LatestTimestamp\n",
      "byte \"ActionTimeout\"\n",
      "app_global_get\n",
      "<=\n",
      "assert\n",
      "byte \"GameState\"\n",
      "app_global_get\n",
      "int 0\n",
      "==\n",
      "assert\n",
      "txn Sender\n",
      "byte \"PlayerTurnAddress\"\n",
      "app_global_get\n",
      "==\n",
      "assert\n",
      "byte \"PlayerXState\"\n",
      "app_global_get\n",
      "int 1\n",
      "txna ApplicationArgs 1\n",
      "btoi\n",
      "shl\n",
      "&\n",
      "int 0\n",
      "==\n",
      "byte \"PlayerOState\"\n",
      "app_global_get\n",
      "int 1\n",
      "txna ApplicationArgs 1\n",
      "btoi\n",
      "shl\n",
      "&\n",
      "int 0\n",
      "==\n",
      "&&\n",
      "assert\n",
      "txn Sender\n",
      "byte \"PlayerXAddress\"\n",
      "app_global_get\n",
      "==\n",
      "bnz main_l25\n",
      "txn Sender\n",
      "byte \"PlayerOAddress\"\n",
      "app_global_get\n",
      "==\n",
      "bnz main_l16\n",
      "err\n",
      "main_l16:\n",
      "byte \"PlayerOState\"\n",
      "byte \"PlayerOState\"\n",
      "app_global_get\n",
      "int 1\n",
      "txna ApplicationArgs 1\n",
      "btoi\n",
      "shl\n",
      "|\n",
      "app_global_put\n",
      "byte \"PlayerOState\"\n",
      "app_global_get\n",
      "int 448\n",
      "&\n",
      "int 448\n",
      "==\n",
      "byte \"PlayerOState\"\n",
      "app_global_get\n",
      "int 56\n",
      "&\n",
      "int 56\n",
      "==\n",
      "||\n",
      "byte \"PlayerOState\"\n",
      "app_global_get\n",
      "int 7\n",
      "&\n",
      "int 7\n",
      "==\n",
      "||\n",
      "byte \"PlayerOState\"\n",
      "app_global_get\n",
      "int 292\n",
      "&\n",
      "int 292\n",
      "==\n",
      "||\n",
      "byte \"PlayerOState\"\n",
      "app_global_get\n",
      "int 146\n",
      "&\n",
      "int 146\n",
      "==\n",
      "||\n",
      "byte \"PlayerOState\"\n",
      "app_global_get\n",
      "int 73\n",
      "&\n",
      "int 73\n",
      "==\n",
      "||\n",
      "byte \"PlayerOState\"\n",
      "app_global_get\n",
      "int 273\n",
      "&\n",
      "int 273\n",
      "==\n",
      "||\n",
      "byte \"PlayerOState\"\n",
      "app_global_get\n",
      "int 84\n",
      "&\n",
      "int 84\n",
      "==\n",
      "||\n",
      "bnz main_l24\n",
      "int 0\n",
      "main_l18:\n",
      "bnz main_l23\n",
      "main_l19:\n",
      "byte \"PlayerTurnAddress\"\n",
      "byte \"PlayerXAddress\"\n",
      "app_global_get\n",
      "app_global_put\n",
      "main_l20:\n",
      "int 511\n",
      "byte \"PlayerXState\"\n",
      "app_global_get\n",
      "byte \"PlayerOState\"\n",
      "app_global_get\n",
      "|\n",
      "==\n",
      "bnz main_l22\n",
      "main_l21:\n",
      "int 1\n",
      "return\n",
      "main_l22:\n",
      "byte \"GameState\"\n",
      "int 3\n",
      "app_global_put\n",
      "b main_l21\n",
      "main_l23:\n",
      "byte \"GameState\"\n",
      "int 2\n",
      "app_global_put\n",
      "b main_l19\n",
      "main_l24:\n",
      "int 1\n",
      "b main_l18\n",
      "main_l25:\n",
      "byte \"PlayerXState\"\n",
      "byte \"PlayerXState\"\n",
      "app_global_get\n",
      "int 1\n",
      "txna ApplicationArgs 1\n",
      "btoi\n",
      "shl\n",
      "|\n",
      "app_global_put\n",
      "byte \"PlayerXState\"\n",
      "app_global_get\n",
      "int 448\n",
      "&\n",
      "int 448\n",
      "==\n",
      "byte \"PlayerXState\"\n",
      "app_global_get\n",
      "int 56\n",
      "&\n",
      "int 56\n",
      "==\n",
      "||\n",
      "byte \"PlayerXState\"\n",
      "app_global_get\n",
      "int 7\n",
      "&\n",
      "int 7\n",
      "==\n",
      "||\n",
      "byte \"PlayerXState\"\n",
      "app_global_get\n",
      "int 292\n",
      "&\n",
      "int 292\n",
      "==\n",
      "||\n",
      "byte \"PlayerXState\"\n",
      "app_global_get\n",
      "int 146\n",
      "&\n",
      "int 146\n",
      "==\n",
      "||\n",
      "byte \"PlayerXState\"\n",
      "app_global_get\n",
      "int 73\n",
      "&\n",
      "int 73\n",
      "==\n",
      "||\n",
      "byte \"PlayerXState\"\n",
      "app_global_get\n",
      "int 273\n",
      "&\n",
      "int 273\n",
      "==\n",
      "||\n",
      "byte \"PlayerXState\"\n",
      "app_global_get\n",
      "int 84\n",
      "&\n",
      "int 84\n",
      "==\n",
      "||\n",
      "bnz main_l30\n",
      "int 0\n",
      "main_l27:\n",
      "bnz main_l29\n",
      "main_l28:\n",
      "byte \"PlayerTurnAddress\"\n",
      "byte \"PlayerOAddress\"\n",
      "app_global_get\n",
      "app_global_put\n",
      "b main_l20\n",
      "main_l29:\n",
      "byte \"GameState\"\n",
      "int 1\n",
      "app_global_put\n",
      "b main_l28\n",
      "main_l30:\n",
      "int 1\n",
      "b main_l27\n",
      "main_l31:\n",
      "int 0\n",
      "byte \"PlayerXAddress\"\n",
      "app_global_get_ex\n",
      "store 1\n",
      "store 0\n",
      "int 0\n",
      "byte \"PlayerOAddress\"\n",
      "app_global_get_ex\n",
      "store 3\n",
      "store 2\n",
      "load 1\n",
      "load 3\n",
      "||\n",
      "bnz main_l33\n",
      "gtxn 1 TypeEnum\n",
      "int pay\n",
      "==\n",
      "assert\n",
      "gtxn 2 TypeEnum\n",
      "int pay\n",
      "==\n",
      "assert\n",
      "gtxn 1 Receiver\n",
      "gtxn 2 Receiver\n",
      "==\n",
      "assert\n",
      "gtxn 1 Amount\n",
      "byte \"BetAmount\"\n",
      "app_global_get\n",
      "==\n",
      "assert\n",
      "gtxn 2 Amount\n",
      "byte \"BetAmount\"\n",
      "app_global_get\n",
      "==\n",
      "assert\n",
      "byte \"PlayerXAddress\"\n",
      "gtxn 1 Sender\n",
      "app_global_put\n",
      "byte \"PlayerOAddress\"\n",
      "gtxn 2 Sender\n",
      "app_global_put\n",
      "byte \"PlayerTurnAddress\"\n",
      "gtxn 1 Sender\n",
      "app_global_put\n",
      "byte \"FundsEscrowAddress\"\n",
      "gtxn 1 Receiver\n",
      "app_global_put\n",
      "byte \"ActionTimeout\"\n",
      "global LatestTimestamp\n",
      "int 3600\n",
      "+\n",
      "app_global_put\n",
      "int 1\n",
      "return\n",
      "main_l33:\n",
      "int 0\n",
      "return\n",
      "main_l34:\n",
      "byte \"PlayerXState\"\n",
      "int 0\n",
      "app_global_put\n",
      "byte \"PlayerOState\"\n",
      "int 0\n",
      "app_global_put\n",
      "byte \"GameState\"\n",
      "int 0\n",
      "app_global_put\n",
      "byte \"BetAmount\"\n",
      "int 1000000\n",
      "app_global_put\n",
      "int 1\n",
      "return\n"
     ]
    }
   ],
   "source": [
    "test(application_start_python_teal, application_start_spiral_teal)\n",
    "util.write_file('../lib_teal/application_start.teal', application_start_spiral_teal)\n",
    "print(application_start_spiral_teal)\n"
   ]
  },
  {
   "cell_type": "markdown",
   "id": "04f9f5e1",
   "metadata": {},
   "source": [
    "# main"
   ]
  },
  {
   "cell_type": "code",
   "execution_count": 55,
   "id": "9a3f082a",
   "metadata": {
    "vscode": {
     "languageId": "shellscript"
    }
   },
   "outputs": [
    {
     "name": "stdout",
     "output_type": "stream",
     "text": [
      "{'run_node_output': [], 'fsx_path': '/workspaces/spiral-notebook/lib_fsx/tictactoe_pyteal_spi.fsx', 'len(new_code_fsx)': 48509, 'new_code_fsx[:100]': '#r \"nuget: Fable.Python\"\\nopen Fable.Core.PyInterop\\nopen Fable.Core\\n\\ntype [<Struct>] US0 =\\n    | US0_'}\n"
     ]
    },
    {
     "data": {
      "text/plain": [
       "'/workspaces/spiral-notebook/main.spi'"
      ]
     },
     "execution_count": 55,
     "metadata": {},
     "output_type": "execute_result"
    }
   ],
   "source": [
    "%%spiral\n",
    "\n",
    "open lib_spi.util\n",
    "open lib_spi.console_fsx\n",
    "open lib_spi.tictactoe_pyteal\n",
    "\n",
    "inl imports () =\n",
    "    $\"#r \\\"nuget: Fable.Python\\\"\"\n",
    "    $\"open Fable.Core.PyInterop\"\n",
    "    $\"open Fable.Core\"\n",
    "\n",
    "inl tests () =\n",
    "    inl a = 1i32\n",
    "    inl b = 1i32\n",
    "    test (a = b)\n",
    "\n",
    "inl main () =\n",
    "    inspect \"main.spi Loaded\"\n",
    "\n",
    "    imports ()\n",
    "    tests ()\n",
    "\n",
    "    (\n",
    "        application_start,\n",
    "        app_initialization_logic,\n",
    "        initialize_players_logic,\n",
    "        play_action_logic,\n",
    "        is_tie,\n",
    "        has_player_won,\n",
    "        game_funds_escrow,\n",
    "        money_refund_logic,\n",
    "        clear_program\n",
    "    )\n",
    "    |> dyn\n",
    "    |> ignore\n"
   ]
  },
  {
   "cell_type": "code",
   "execution_count": 56,
   "id": "d27ef959",
   "metadata": {
    "vscode": {
     "languageId": "javascript"
    }
   },
   "outputs": [
    {
     "data": {
      "text/plain": [
       "[]"
      ]
     },
     "execution_count": 56,
     "metadata": {},
     "output_type": "execute_result"
    }
   ],
   "source": [
    "%%node run\n",
    "\n",
    "import * as spiral_api from \"./spiral_api\"\n",
    "\n",
    "await spiral_api.spiToFsx()"
   ]
  },
  {
   "cell_type": "code",
   "execution_count": 57,
   "id": "f89b4f0d",
   "metadata": {
    "vscode": {
     "languageId": "shellscript"
    }
   },
   "outputs": [
    {
     "name": "stdout",
     "output_type": "stream",
     "text": [
      "{'run_node_output': [], 'fsx_path': '/workspaces/spiral-notebook/lib_fsx/_ipython_spi.fsx', 'len(new_code_fsx)': 46, 'new_code_fsx[:100]': 'let v0 : string = \"test2\"\\nprintfn $\"%A{v0}\"\\n()'}\n"
     ]
    },
    {
     "data": {
      "text/plain": [
       "'/workspaces/spiral-notebook/main.spi'"
      ]
     },
     "execution_count": 57,
     "metadata": {},
     "output_type": "execute_result"
    }
   ],
   "source": [
    "%%spiral run\n",
    "\n",
    "inspect \"test2\"\n"
   ]
  },
  {
   "cell_type": "code",
   "execution_count": null,
   "id": "75b98430",
   "metadata": {},
   "outputs": [],
   "source": []
  }
 ],
 "metadata": {
  "interpreter": {
   "hash": "3ad933181bd8a04b432d3370b9dc3b0662ad032c4dfaa4e4f1596c548f763858"
  },
  "kernelspec": {
   "display_name": "Python 3.10.4 64-bit",
   "language": "python",
   "name": "python3"
  },
  "language_info": {
   "codemirror_mode": {
    "name": "ipython",
    "version": 3
   },
   "file_extension": ".py",
   "mimetype": "text/x-python",
   "name": "python",
   "nbconvert_exporter": "python",
   "pygments_lexer": "ipython3",
   "version": "3.10.7"
  }
 },
 "nbformat": 4,
 "nbformat_minor": 5
}
