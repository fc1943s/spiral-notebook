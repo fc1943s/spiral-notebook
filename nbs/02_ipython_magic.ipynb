{
 "cells": [
  {
   "cell_type": "code",
   "execution_count": 1,
   "metadata": {},
   "outputs": [],
   "source": [
    "# default_exp ipython_magic"
   ]
  },
  {
   "cell_type": "markdown",
   "metadata": {},
   "source": [
    "# node magic"
   ]
  },
  {
   "cell_type": "code",
   "execution_count": 2,
   "metadata": {},
   "outputs": [],
   "source": [
    "#export\n",
    "\n",
    "import sys\n",
    "sys.path.append('..')\n",
    "import lib_py.util as util\n",
    "from IPython.core.magic import register_cell_magic\n",
    "\n",
    "_node_cache = ''\n",
    "_notebook_name = None\n",
    "\n",
    "@register_cell_magic\n",
    "def node(arg, cell, test=False):\n",
    "    global _node_cache\n",
    "    global _notebook_name\n",
    "\n",
    "    ipython_node_path = '_ipython_node.ts'\n",
    "    \n",
    "    def split_imports(code): return util.list_partition(code.splitlines(), lambda line: line.startswith('import '))\n",
    "    cache_imports, cache_exports = split_imports(_node_cache)\n",
    "    cell_imports, cell_exports = split_imports(cell)\n",
    "    cell_exports = '\\n'.join(cell_exports).strip('\\n').split('\\n')\n",
    "\n",
    "    if arg == 'run':\n",
    "        ts_imports = cache_imports\n",
    "        ipython_imports = cache_imports + cell_imports\n",
    "\n",
    "        ts_exports = cache_exports\n",
    "        ipython_exports = cache_exports \\\n",
    "            + ([] if cell_exports == [''] \n",
    "            else (['', '// cell', 'var run = async (arg: string) => {'] + cell_exports + ['}', f'await run(\"{arg}\")']))\n",
    "    elif arg == 'export':\n",
    "        ts_imports = cache_imports + cell_imports\n",
    "        ipython_imports = ts_imports\n",
    "\n",
    "        ts_exports = cache_exports + ([] if cell_exports == [''] else (['', '// cell'] + cell_exports))\n",
    "        ipython_exports = ts_exports\n",
    "\n",
    "    def join_imports(imports, exports): \n",
    "        return ''.join([\n",
    "            '\\n'.join(list(dict.fromkeys(imports))),\n",
    "            '' if len(imports) == 0 or len(exports) == 0 else '\\n\\n\\n',\n",
    "            '\\n'.join(exports).strip('\\n') + '\\n'\n",
    "        ])\n",
    "    new_code_ts = join_imports(ts_imports, ts_exports)\n",
    "    new_code_ipython = join_imports(ipython_imports, ipython_exports)\n",
    "\n",
    "    def cwpath(arg): return os.path.abspath(os.path.join(os.getcwd(), '..', 'lib_ts', arg))\n",
    "\n",
    "    util.write_file(cwpath(ipython_node_path), new_code_ipython)\n",
    "\n",
    "    result = util.run_node(cwpath(ipython_node_path)).splitlines() if arg == 'run' else []\n",
    "\n",
    "    _node_cache = new_code_ts\n",
    "\n",
    "    if test:\n",
    "        return result, new_code_ts, new_code_ipython\n",
    "    else:\n",
    "        if new_code_ts != '\\n':\n",
    "            if _notebook_name is None:\n",
    "                _notebook_name = util.get_notebook_name()\n",
    "\n",
    "            ts_node_path = cwpath(f'{_notebook_name}.ts')\n",
    "\n",
    "            util.write_file(ts_node_path, new_code_ts)\n",
    "            \n",
    "            return result if arg == 'run' else ts_node_path\n",
    "        \n",
    "        return result\n"
   ]
  },
  {
   "cell_type": "markdown",
   "metadata": {},
   "source": [
    "# node test"
   ]
  },
  {
   "cell_type": "code",
   "execution_count": 3,
   "metadata": {},
   "outputs": [
    {
     "name": "stdout",
     "output_type": "stream",
     "text": [
      "arg: export result: []\n",
      "arg: export result: []\n",
      "arg: export result: []\n",
      "arg: run result: []\n",
      "arg: run result: ['0']\n",
      "arg: export result: []\n"
     ]
    }
   ],
   "source": [
    "_node_cache = ''\n",
    "\n",
    "def test_cell_node(arg, cell, expected_ts, expected_ipython, expected_result):\n",
    "    result, new_code_ts, new_code_ipython = node(arg, cell, test=True)\n",
    "    if new_code_ts != expected_ts or new_code_ipython != expected_ipython or result != expected_result:\n",
    "        raise Exception('\\n' + '\\n'.join(['\\n|||arg:', arg, '\\n|||cell:', cell, \n",
    "                        '\\n|||new_code_ts:', new_code_ts, '\\n|||expected_ts:', expected_ts, \n",
    "                        '\\n|||new_code_ipython:', new_code_ipython, '\\n|||expected_ipython:', expected_ipython, \n",
    "                        '\\n|||result:', str(result), '\\n|||expected_result:', str(expected_result)]))\n",
    "    else:\n",
    "        print('arg:', arg, 'result:', expected_result)\n",
    "\n",
    "test_cell_node(\n",
    "    'export',\n",
    "    'import * as os from \"os\"',\n",
    "    'import * as os from \"os\"\\n',\n",
    "    'import * as os from \"os\"\\n',\n",
    "    [])\n",
    "\n",
    "test_cell_node(\n",
    "    'export',\n",
    "    'import * as os from \"os\"\\nvar a = os.EOL',\n",
    "    'import * as os from \"os\"\\n\\n\\n// cell\\nvar a = os.EOL\\n',\n",
    "    'import * as os from \"os\"\\n\\n\\n// cell\\nvar a = os.EOL\\n',\n",
    "    [])\n",
    "\n",
    "test_cell_node(\n",
    "    'export',\n",
    "    'import * as fs from \"fs\"\\nvar b = fs.constants.F_OK',\n",
    "    'import * as os from \"os\"\\nimport * as fs from \"fs\"\\n\\n\\n// cell\\nvar a = os.EOL\\n\\n// cell\\nvar b = fs.constants.F_OK\\n',\n",
    "    'import * as os from \"os\"\\nimport * as fs from \"fs\"\\n\\n\\n// cell\\nvar a = os.EOL\\n\\n// cell\\nvar b = fs.constants.F_OK\\n',\n",
    "    [])\n",
    "\n",
    "test_cell_node(\n",
    "    'run',\n",
    "    'console.log(a)',\n",
    "    'import * as os from \"os\"\\nimport * as fs from \"fs\"\\n\\n\\n// cell\\nvar a = os.EOL\\n\\n// cell\\nvar b = fs.constants.F_OK\\n',\n",
    "    'import * as os from \"os\"\\nimport * as fs from \"fs\"\\n\\n\\n// cell\\nvar a = os.EOL\\n\\n// cell\\nvar b = fs.constants.F_OK\\n\\n// cell\\nvar run = async (arg: string) => {\\nconsole.log(a)\\n}\\nawait run(\"run\")\\n',\n",
    "    [])\n",
    "\n",
    "test_cell_node(\n",
    "    'run',\n",
    "    'console.log(b)',\n",
    "    'import * as os from \"os\"\\nimport * as fs from \"fs\"\\n\\n\\n// cell\\nvar a = os.EOL\\n\\n// cell\\nvar b = fs.constants.F_OK\\n',\n",
    "    'import * as os from \"os\"\\nimport * as fs from \"fs\"\\n\\n\\n// cell\\nvar a = os.EOL\\n\\n// cell\\nvar b = fs.constants.F_OK\\n\\n// cell\\nvar run = async (arg: string) => {\\nconsole.log(b)\\n}\\nawait run(\"run\")\\n',\n",
    "    ['0'])\n",
    "\n",
    "test_cell_node(\n",
    "    'export',\n",
    "    'import * as fs from \"fs\"\\nvar c = fs.constants.X_OK',\n",
    "    'import * as os from \"os\"\\nimport * as fs from \"fs\"\\n\\n\\n// cell\\nvar a = os.EOL\\n\\n// cell\\nvar b = fs.constants.F_OK\\n\\n// cell\\nvar c = fs.constants.X_OK\\n',\n",
    "    'import * as os from \"os\"\\nimport * as fs from \"fs\"\\n\\n\\n// cell\\nvar a = os.EOL\\n\\n// cell\\nvar b = fs.constants.F_OK\\n\\n// cell\\nvar c = fs.constants.X_OK\\n',\n",
    "    [])\n",
    "\n",
    "_node_cache = ''"
   ]
  },
  {
   "cell_type": "markdown",
   "metadata": {},
   "source": [
    "# spiral magic"
   ]
  },
  {
   "cell_type": "code",
   "execution_count": 4,
   "metadata": {},
   "outputs": [],
   "source": [
    "#export\n",
    "\n",
    "import shutil\n",
    "import os\n",
    "import time\n",
    "from IPython.core.magic import register_cell_magic\n",
    "\n",
    "def _get_spiral_cache_empty(): return {'spi': '', 'spir': '', 'run': '', '': ''}\n",
    "_spiral_cache = _get_spiral_cache_empty()\n",
    "\n",
    "@register_cell_magic\n",
    "def spiral(arg, cell, test=False):\n",
    "    global _spiral_cache\n",
    "    global _notebook_name\n",
    "\n",
    "    last_spiral_cache = _spiral_cache\n",
    "\n",
    "    args = arg.split(' ')\n",
    "    def get_arg(i, d=''): return next(iter(args[i:i+1]), d)\n",
    "    arg = args[0]\n",
    "\n",
    "    def split_imports(code): return util.list_partition(code.splitlines(), lambda line: line.startswith('open '))\n",
    "    cache_imports, cache_exports = split_imports(_spiral_cache.get(arg, ''))\n",
    "    \n",
    "    def cwpath(*arg): return os.path.abspath(os.path.join(os.getcwd(), '..', *arg))\n",
    "\n",
    "    if arg not in ['spi', 'spir', 'run'] and not arg.startswith('.'):\n",
    "        raise Exception('invalid arg: ' + arg)\n",
    "        \n",
    "    file_arg = ''\n",
    "    if arg.startswith('.'):\n",
    "        file_arg = arg\n",
    "\n",
    "    if arg.startswith('.'):\n",
    "        new_code_spi = util.read_file(arg)\n",
    "    else:\n",
    "        cell_imports, cell_exports = split_imports(cell)\n",
    "        cell_exports = '\\n'.join(cell_exports).strip('\\n').split('\\n')\n",
    "\n",
    "        if arg == 'run':\n",
    "            cell_imports = ['open console_fsx'] + cell_imports\n",
    "            cell_exports = ['inl main () : () = '] + list(map(lambda l: f'    {l}', cell_exports))\n",
    "\n",
    "        spi_imports = cache_imports + cell_imports\n",
    "        spi_exports = cache_exports + ([] if cell_exports == [''] else (['', '// cell'] + cell_exports))\n",
    "\n",
    "        def join_imports(imports, exports): \n",
    "            return ''.join([\n",
    "                '\\n'.join(list(dict.fromkeys(imports))),\n",
    "                '' if len(imports) == 0 or len(exports) == 0 else '\\n\\n\\n',\n",
    "                '\\n'.join(exports).strip('\\n') + '\\n'\n",
    "            ])\n",
    "        new_code_spi = join_imports(spi_imports, spi_exports)\n",
    "    \n",
    "    if _notebook_name is None:\n",
    "        _notebook_name = util.get_notebook_name()\n",
    "\n",
    "    spi_path = cwpath(\n",
    "        'lib_spi', \n",
    "        'ipython.spi' if arg == 'run' else f'{_notebook_name}.{arg}'\n",
    "    ) if arg in ['spi', 'spir', 'run'] else arg\n",
    "    \n",
    "    if not os.path.exists(spi_path):\n",
    "        util.write_file(spi_path, '')\n",
    "\n",
    "    _spiral_cache[arg] = new_code_spi\n",
    "\n",
    "    if test:\n",
    "        return new_code_spi\n",
    "    else:\n",
    "        def build():\n",
    "            fsx_path = cwpath(\n",
    "                \"lib_spi\", \n",
    "                \"ipython.fsx\" if arg == 'run' else f'{_notebook_name}_spi.fsx'\n",
    "            ) if arg in ['spi', 'spir', 'run'] else arg.replace('.spir', '.spi').replace('.spi', '.fsx')\n",
    "            util.write_file(fsx_path, '')\n",
    "            \n",
    "            timeout_seconds = 20\n",
    "            # run_node_output = util.run_node(\n",
    "            #     '\\n'.join([\n",
    "            #         f'import * as spiral_api from \"../lib_ts/spiral_api\"',\n",
    "            #         f'await spiral_api.spiToFsx(\"{spi_path}\", \"{fsx_path}\")'\n",
    "            #     ]), \n",
    "            #     timeout=int(get_arg(1, timeout_seconds))\n",
    "            # ).splitlines()\n",
    "            run_build_output = util.run(\n",
    "                f\"cd ../lib_rs && cargo build --release && ./target/release/tictactoe_spiral --spi-path=\\\"{spi_path}\\\" --fsx-path=\\\"{fsx_path}\\\"\"\n",
    "            ).splitlines()\n",
    "\n",
    "            new_code_fsx = ''\n",
    "            start = time.time()\n",
    "            \n",
    "            def read_fsx():\n",
    "                time.sleep(0.5)\n",
    "                return util.read_file(fsx_path).strip(\" \\n\")\n",
    "                \n",
    "            while new_code_fsx == '' and time.time() - start < timeout_seconds:\n",
    "                new_code_fsx = read_fsx()\n",
    "            new_code_fsx = read_fsx()\n",
    "\n",
    "            print({\n",
    "                'run_build_output': run_build_output,\n",
    "                'fsx_path': fsx_path,\n",
    "                'len(new_code_fsx)': len(new_code_fsx),\n",
    "                'new_code_fsx[:100]': new_code_fsx[:100],\n",
    "            })\n",
    "        \n",
    "        \n",
    "        try:\n",
    "            if arg.startswith('.'):\n",
    "                build()\n",
    "            else:\n",
    "                old_code_spi = util.read_file(spi_path)\n",
    "                if new_code_spi != old_code_spi:\n",
    "                    util.write_file(spi_path, new_code_spi)\n",
    "\n",
    "                    if arg in ['run', file_arg]:\n",
    "                        build()\n",
    "\n",
    "                        if arg == 'run':\n",
    "                            util.write_file(spi_path, '')\n",
    "                            util.write_file(fsx_path, '')\n",
    "\n",
    "        except Exception as e:\n",
    "            print(f'ipython_magic.spiral() error. new_code_spi={new_code_spi[:100]}')\n",
    "            _spiral_cache = last_spiral_cache\n",
    "            raise e\n",
    "\n",
    "        return spi_path\n",
    "\n",
    "@register_cell_magic\n",
    "def spi(arg, cell, test=False):\n",
    "    return spiral('spi', cell, test)\n",
    "\n",
    "@register_cell_magic\n",
    "def spir(arg, cell, test=False):\n",
    "    return spiral('spir', cell, test)\n"
   ]
  },
  {
   "cell_type": "markdown",
   "metadata": {},
   "source": [
    "# spiral test"
   ]
  },
  {
   "cell_type": "code",
   "execution_count": 5,
   "metadata": {},
   "outputs": [
    {
     "name": "stdout",
     "output_type": "stream",
     "text": [
      "<magic:b87e257e20d74858af3103125bfd1506>\n"
     ]
    },
    {
     "data": {
      "application/javascript": "IPython.notebook.save_checkpoint();",
      "text/plain": [
       "<IPython.core.display.Javascript object>"
      ]
     },
     "metadata": {},
     "output_type": "display_data"
    },
    {
     "name": "stdout",
     "output_type": "stream",
     "text": [
      "arg: spi\n",
      "arg: spi\n",
      "arg: spi\n",
      "arg: run\n",
      "arg: spi\n"
     ]
    }
   ],
   "source": [
    "_spiral_cache = _get_spiral_cache_empty()\n",
    "\n",
    "def test_cell_spiral(arg, cell, expected_spi):\n",
    "    new_code_spi = spiral(arg, cell, test=True)\n",
    "\n",
    "    if new_code_spi != expected_spi:\n",
    "        raise Exception('\\n' + '\\n'.join(['\\n|||arg:', arg, '\\n|||cell:', cell, \n",
    "                        '\\n|||new_code_spi:', new_code_spi, '\\n|||expected_spi:', expected_spi]))\n",
    "    else:\n",
    "        print('arg:', arg)\n",
    "\n",
    "test_cell_spiral(\n",
    "    'spi',\n",
    "    'open a',\n",
    "    'open a\\n'\n",
    ")\n",
    "\n",
    "test_cell_spiral(\n",
    "    'spi',\n",
    "    'open a\\ninl get1 () = 1i32',\n",
    "    'open a\\n\\n\\n// cell\\ninl get1 () = 1i32\\n'\n",
    ")\n",
    "\n",
    "test_cell_spiral(\n",
    "    'spi',\n",
    "    'open b\\ninl get2 () = 2i32',\n",
    "    'open a\\nopen b\\n\\n\\n// cell\\ninl get1 () = 1i32\\n\\n// cell\\ninl get2 () = 2i32\\n'\n",
    ")\n",
    "\n",
    "test_cell_spiral(\n",
    "    'run',\n",
    "    'open b\\ninspect 1i32',\n",
    "    'open console_fsx\\nopen b\\n\\n\\n// cell\\ninl main () : () = \\n    inspect 1i32\\n'\n",
    ")\n",
    "\n",
    "test_cell_spiral(\n",
    "    'spi',\n",
    "    'open b\\ninl get3 () = 3i32',\n",
    "    'open a\\nopen b\\n\\n\\n// cell\\ninl get1 () = 1i32\\n\\n// cell\\ninl get2 () = 2i32\\n\\n// cell\\ninl get3 () = 3i32\\n'\n",
    ")\n",
    "\n",
    "_spiral_cache = _get_spiral_cache_empty()"
   ]
  },
  {
   "cell_type": "markdown",
   "metadata": {},
   "source": [
    "# spiral run"
   ]
  },
  {
   "cell_type": "code",
   "execution_count": 6,
   "metadata": {
    "vscode": {
     "languageId": "javascript"
    }
   },
   "outputs": [
    {
     "data": {
      "text/plain": [
       "['{',\n",
       " \"  spiPath: '/workspaces/tictactoe_spiral/lib_spi/peer.spi',\",\n",
       " '  fsxLength: 968',\n",
       " '}',\n",
       " '{',\n",
       " '  spiPath: \"/workspaces/tictactoe_spiral/lib_spi/ui/components\\'.spi\",',\n",
       " '  fsxLength: 756078',\n",
       " '}']"
      ]
     },
     "execution_count": 6,
     "metadata": {},
     "output_type": "execute_result"
    }
   ],
   "source": [
    "%%node run\n",
    "\n",
    "import * as spiral_api from \"./spiral_api\"\n",
    "import * as path from \"path\"\n",
    "\n",
    "await Promise.all(\n",
    "    [\n",
    "        path.join(process.cwd(), '..', 'lib_spi', 'peer.spi'),\n",
    "        path.join(process.cwd(), '..', 'lib_spi', 'ui', 'components\\'.spi')\n",
    "    ].map(async (spi) => {\n",
    "        const fsx = await spiral_api.spiToFsx(spi)\n",
    "        console.log({ spiPath: spi, fsxLength: fsx.length })\n",
    "    })\n",
    ")"
   ]
  },
  {
   "cell_type": "code",
   "execution_count": 7,
   "metadata": {
    "vscode": {
     "languageId": "shellscript"
    }
   },
   "outputs": [
    {
     "name": "stdout",
     "output_type": "stream",
     "text": [
      "{'run_node_output': [], 'fsx_path': '/workspaces/tictactoe_spiral/lib_spi/ipython.fsx', 'len(new_code_fsx)': 45, 'new_code_fsx[:100]': 'let v0 : string = \"test\"\\nprintfn $\"%A{v0}\"\\n()'}\n"
     ]
    },
    {
     "data": {
      "text/plain": [
       "'/workspaces/tictactoe_spiral/lib_spi/ipython.spi'"
      ]
     },
     "execution_count": 7,
     "metadata": {},
     "output_type": "execute_result"
    }
   ],
   "source": [
    "%%spiral run\n",
    "\n",
    "inspect \"test\"\n"
   ]
  }
 ],
 "metadata": {
  "interpreter": {
   "hash": "3ad933181bd8a04b432d3370b9dc3b0662ad032c4dfaa4e4f1596c548f763858"
  },
  "kernelspec": {
   "display_name": "Python 3.10.4 64-bit",
   "language": "python",
   "name": "python3"
  },
  "language_info": {
   "codemirror_mode": {
    "name": "ipython",
    "version": 3
   },
   "file_extension": ".py",
   "mimetype": "text/x-python",
   "name": "python",
   "nbconvert_exporter": "python",
   "pygments_lexer": "ipython3",
   "version": "3.10.4"
  },
  "orig_nbformat": 4
 },
 "nbformat": 4,
 "nbformat_minor": 2
}
