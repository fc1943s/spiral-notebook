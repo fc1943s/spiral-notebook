{
 "cells": [
  {
   "cell_type": "code",
   "execution_count": 1,
   "metadata": {},
   "outputs": [],
   "source": [
    "# default_exp client"
   ]
  },
  {
   "cell_type": "code",
   "execution_count": 2,
   "metadata": {},
   "outputs": [],
   "source": [
    "import sys\n",
    "sys.path.append('..')\n",
    "import lib_py.ipython_magic as ipython_magic"
   ]
  },
  {
   "cell_type": "markdown",
   "metadata": {},
   "source": [
    "### ???"
   ]
  },
  {
   "cell_type": "code",
   "execution_count": 3,
   "metadata": {
    "vscode": {
     "languageId": "bat"
    }
   },
   "outputs": [
    {
     "name": "stdout",
     "output_type": "stream",
     "text": [
      "<magic:93b552a325a14cc6a32432e8825e753d>\n"
     ]
    },
    {
     "data": {
      "application/javascript": "IPython.notebook.save_checkpoint();",
      "text/plain": [
       "<IPython.core.display.Javascript object>"
      ]
     },
     "metadata": {},
     "output_type": "display_data"
    },
    {
     "name": "stdout",
     "output_type": "stream",
     "text": [
      "{'run_build_output': ['[\"> spi_to_fsx ()\"] [\"pwd:\", \"/workspaces/tictactoe_spiral/lib_spi\", \"spi_path:\", \"../lib_spi/client/src/client.spi\", \"new_fsx_path:\", \"../lib_spi/client/src/client.fsx\"] [\"timestamp:\", \"000000\", \"run_id:\", \"195\"]', '[\"> spi_to_fsx ()\"] [\"spi_path_clean:\", \"/workspaces/tictactoe_spiral/lib_spi/client/src/client.spi\"] [\"timestamp:\", \"000000\", \"run_id:\", \"84\"]', '[\"> spi_to_fsx ()\"] [\"src_path:\", \"/workspaces/tictactoe_spiral/lib_spi/client/src\"] [\"timestamp:\", \"000000\", \"run_id:\", \"13\"]', '[\"> spi_to_fsx ()\"] [\"spiproj_path:\", \"/workspaces/tictactoe_spiral/lib_spi/package.spiproj\"] [\"timestamp:\", \"000000\", \"run_id:\", \"207\"]', '[\"> spi_to_fsx ()\"] [\"fsx_path:\", \"/workspaces/tictactoe_spiral/lib_spi/client/src/client.fsx\"] [\"timestamp:\", \"000000\", \"run_id:\", \"168\"]', '[\"> spi_to_fsx ()\"] > fs_write fsx_path \"\"; ok [\"timestamp:\", \"000000\", \"run_id:\", \"30\"]', '[\"> spiproj_open ()\"] [\"spiproj_path:\", \"/workspaces/tictactoe_spiral/lib_spi/package.spiproj\", \"spiproj_text.len():\", \"1098\"] [\"timestamp:\", \"000000\", \"run_id:\", \"252\"]', '[\"> spiproj_open ()\"] [\"json.len():\", \"1256\"] [\"timestamp:\", \"000000\", \"run_id:\", \"218\"]', '[\"> zmq_request ()\"] [\"host:\", \"localhost\", \"port:\", \"13805\", \"msg.len():\", \"1256\"] [\"timestamp:\", \"000000\", \"run_id:\", \"28\"]', '[\"> zmq_request ()\"] [\"result.len():\", \"0\"] [\"timestamp:\", \"000000\", \"run_id:\", \"71\"]', '[\"> spi_to_fsx ()\"] > spiproj_open; ok [\"timestamp:\", \"000000\", \"run_id:\", \"218\"]', '[\"> spi_build_file ()\"] [\"spi_path:\", \"/workspaces/tictactoe_spiral/lib_spi/client/src/client.spi\", \"backend:\", \"Fsharp\"] [\"timestamp:\", \"000000\", \"run_id:\", \"51\"]', '[\"> spi_build_file ()\"] [\"json.len():\", \"101\"] [\"timestamp:\", \"000000\", \"run_id:\", \"128\"]', '[\"> zmq_request ()\"] [\"host:\", \"localhost\", \"port:\", \"13805\", \"msg.len():\", \"101\"] [\"timestamp:\", \"000000\", \"run_id:\", \"239\"]', '[\"> zmq_request ()\"] [\"result.len():\", \"0\"] [\"timestamp:\", \"000000\", \"run_id:\", \"254\"]', '[\"> spi_to_fsx ()\"] > spi_build_file; ok [\"timestamp:\", \"000000\", \"run_id:\", \"200\"]', '[\"> wait_file_change ()\"] [\"fsx_path:\", \"/workspaces/tictactoe_spiral/lib_spi/client/src/client.fsx\", \"start:\", \"SystemTime { tv_sec: 1671998851, tv_nsec: 572974073 }\"] [\"timestamp:\", \"000000\", \"run_id:\", \"39\"]', '[\"> wait_file_change ()\"] [\"i:\", \"0\", \"last_modified:\", \"SystemTime { tv_sec: 1671998851, tv_nsec: 572974073 }\"] [\"timestamp:\", \"000000\", \"run_id:\", \"43\"]', '[\"> wait_file_change ()\"] [\"i:\", \"1\", \"last_modified:\", \"SystemTime { tv_sec: 1671998851, tv_nsec: 628975115 }\"] [\"timestamp:\", \"000000\", \"run_id:\", \"248\"]', '[\"> spi_to_fsx ()\"] [\"new_fsx.len():\", \"3\"] [\"timestamp:\", \"000000\", \"run_id:\", \"132\"]', '[\"> spi_to_fsx ()\"] > fs_write new_fsx_path; ok [\"timestamp:\", \"000000\", \"run_id:\", \"2\"]', 'fsx.len(): 3'], 'fsx_path': '../lib_spi/client/src/client.fsx', 'len(new_code_fsx)': 2, 'new_code_fsx[:100]': '()'}\n"
     ]
    },
    {
     "data": {
      "text/plain": [
       "'../lib_spi/client/src/client.spi'"
      ]
     },
     "execution_count": 3,
     "metadata": {},
     "output_type": "execute_result"
    }
   ],
   "source": [
    "%%spiral ../lib_spi/client/src/client.spi\n",
    "\n"
   ]
  },
  {
   "cell_type": "code",
   "execution_count": 4,
   "metadata": {},
   "outputs": [
    {
     "name": "stdout",
     "output_type": "stream",
     "text": [
      "\u001b[?1h\u001b=\u001b[6n\u001b[6n\u001b[?1h\u001b=\u001b[?1h\u001b=Fable: F# to Rust compiler 4.0.0-theta-018 (status: alpha)\n",
      "Thanks to the contributor! @Shmew\n",
      "Stand with Ukraine! https://standwithukraine.com.ua/\n",
      "\n",
      "Parsing ../lib_spi/client/client.fsproj...\n",
      "../lib_spi/client> dotnet restore client.csproj -p:FABLE_COMPILER=true -p:FABLE_COMPILER_4=true -p:FABLE_COMPILER_RUST=true\n",
      "\u001b[?1h\u001b=  Determining projects to restore...\n",
      "  Paket version 7.2.0+bb14ab674b2748070a624f394cd6796e11aaffa8\n",
      "  The last full restore is still up to date. Nothing left to do.\n",
      "  Total time taken: 0 milliseconds\n",
      "\u001b[?1h\u001b=  Paket version 7.2.0+bb14ab674b2748070a624f394cd6796e11aaffa8\n",
      "  Restoring /workspaces/tictactoe_spiral/lib_spi/client/client.csproj\n",
      "  Starting restore process.\n",
      "  Total time taken: 0 milliseconds\n",
      "\u001b[?1h\u001b=  Restored /workspaces/tictactoe_spiral/lib_spi/client/client.csproj (in 298 ms).\n",
      "\u001b[?1h\u001b=\u001b[?1h\u001b=\u001b[?1h\u001b=Project and references (2 source files) parsed in 10300ms\n",
      "\n",
      "Started Fable compilation...\n",
      "\u001b[6n\u001b[6n\u001b[1;1HCompiled 1/2: ../lib_spi/supervisor/src/Types.fs\u001b[1;1HCompiled 2/2: ../lib_spi/client/src/client.fsx  \u001b[1;47H\u001b[1;1H                                              \u001b[1;1HFable compilation finished in 12457ms\n",
      "\n",
      "\u001b[m\u001b[33m./../lib_spi/client/src/client.fsx(1,0): (1,2) warning FABLE: For Rust, support for F# static and module do bindings is disabled by default. It can be enabled with the 'static_do_bindings' feature. Use at your own risk!\n",
      "\u001b[m\u001b[?1h\u001b=\u001b[?1h\u001b=\u001b]0;\u0007"
     ]
    }
   ],
   "source": [
    "!pwsh ../lib_spi/client/build.ps1"
   ]
  }
 ],
 "metadata": {
  "kernelspec": {
   "display_name": "Python 3",
   "language": "python",
   "name": "python3"
  },
  "language_info": {
   "codemirror_mode": {
    "name": "ipython",
    "version": 3
   },
   "file_extension": ".py",
   "mimetype": "text/x-python",
   "name": "python",
   "nbconvert_exporter": "python",
   "pygments_lexer": "ipython3",
   "version": "3.10.4"
  },
  "orig_nbformat": 4,
  "vscode": {
   "interpreter": {
    "hash": "3ad933181bd8a04b432d3370b9dc3b0662ad032c4dfaa4e4f1596c548f763858"
   }
  }
 },
 "nbformat": 4,
 "nbformat_minor": 2
}
