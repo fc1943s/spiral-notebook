{
 "cells": [
  {
   "cell_type": "code",
   "execution_count": 1,
   "metadata": {},
   "outputs": [],
   "source": [
    "# default_exp client"
   ]
  },
  {
   "cell_type": "code",
   "execution_count": 2,
   "metadata": {},
   "outputs": [],
   "source": [
    "import sys\n",
    "sys.path.append('..')\n",
    "import lib_py.ipython_magic as ipython_magic"
   ]
  },
  {
   "cell_type": "markdown",
   "metadata": {},
   "source": [
    "### ???"
   ]
  },
  {
   "cell_type": "code",
   "execution_count": 3,
   "metadata": {
    "vscode": {
     "languageId": "bat"
    }
   },
   "outputs": [
    {
     "name": "stdout",
     "output_type": "stream",
     "text": [
      "<magic:e02a28ae5dab462ea2d0aa3a4bcdc97f>\n"
     ]
    },
    {
     "data": {
      "application/javascript": "IPython.notebook.save_checkpoint();",
      "text/plain": [
       "<IPython.core.display.Javascript object>"
      ]
     },
     "metadata": {},
     "output_type": "display_data"
    },
    {
     "name": "stdout",
     "output_type": "stream",
     "text": [
      "{'run_build_output': ['[\"> spi_to_fsx ()\"] [\"pwd:\", \"/home/alias/home/fs/repos/tictactoe/lib_spi\", \"spi_path:\", \"../lib_spi/client/src/client.spi\", \"new_fsx_path:\", \"../lib_spi/client/src/client.fsx\"] [\"timestamp:\", \"000000\", \"run_id:\", \"13\"]', '[\"> spi_to_fsx ()\"] [\"spi_path_clean:\", \"/home/alias/home/fs/repos/tictactoe/lib_spi/client/src/client.spi\"] [\"timestamp:\", \"000000\", \"run_id:\", \"59\"]', '[\"> spi_to_fsx ()\"] [\"src_path:\", \"/home/alias/home/fs/repos/tictactoe/lib_spi/client/src\"] [\"timestamp:\", \"000000\", \"run_id:\", \"255\"]', '[\"> spi_to_fsx ()\"] [\"spiproj_path:\", \"/home/alias/home/fs/repos/tictactoe/lib_spi/package.spiproj\"] [\"timestamp:\", \"000000\", \"run_id:\", \"30\"]', '[\"> spi_to_fsx ()\"] [\"fsx_path:\", \"/home/alias/home/fs/repos/tictactoe/lib_spi/client/src/client.fsx\"] [\"timestamp:\", \"000000\", \"run_id:\", \"32\"]', '[\"> spi_to_fsx ()\"] > fs_write fsx_path \"\"; ok [\"timestamp:\", \"000000\", \"run_id:\", \"203\"]', '[\"> spiproj_open ()\"] [\"spiproj_path:\", \"/home/alias/home/fs/repos/tictactoe/lib_spi/package.spiproj\", \"spiproj_text.len():\", \"1098\"] [\"timestamp:\", \"000000\", \"run_id:\", \"167\"]', '[\"> spiproj_open ()\"] [\"json.len():\", \"1263\"] [\"timestamp:\", \"000000\", \"run_id:\", \"36\"]', '[\"> zmq_request ()\"] [\"host:\", \"localhost\", \"port:\", \"13805\", \"msg.len():\", \"1263\"] [\"timestamp:\", \"000000\", \"run_id:\", \"24\"]', '[\"> zmq_request ()\"] [\"result.len():\", \"0\"] [\"timestamp:\", \"000005\", \"run_id:\", \"4\"]', '[\"> spi_to_fsx ()\"] > spiproj_open; ok [\"timestamp:\", \"000005\", \"run_id:\", \"15\"]', '[\"> spi_build_file ()\"] [\"spi_path:\", \"/home/alias/home/fs/repos/tictactoe/lib_spi/client/src/client.spi\", \"backend:\", \"Fsharp\"] [\"timestamp:\", \"000000\", \"run_id:\", \"229\"]', '[\"> spi_build_file ()\"] [\"json.len():\", \"108\"] [\"timestamp:\", \"000000\", \"run_id:\", \"13\"]', '[\"> zmq_request ()\"] [\"host:\", \"localhost\", \"port:\", \"13805\", \"msg.len():\", \"108\"] [\"timestamp:\", \"000000\", \"run_id:\", \"150\"]', '[\"> zmq_request ()\"] [\"result.len():\", \"0\"] [\"timestamp:\", \"000000\", \"run_id:\", \"13\"]', '[\"> spi_to_fsx ()\"] > spi_build_file; ok [\"timestamp:\", \"000005\", \"run_id:\", \"27\"]', '[\"> wait_file_change ()\"] [\"fsx_path:\", \"/home/alias/home/fs/repos/tictactoe/lib_spi/client/src/client.fsx\", \"start:\", \"SystemTime { tv_sec: 1672602782, tv_nsec: 944087975 }\"] [\"timestamp:\", \"000000\", \"run_id:\", \"121\"]', '[\"> wait_file_change ()\"] [\"i:\", \"0\", \"last_modified:\", \"SystemTime { tv_sec: 1672602782, tv_nsec: 944087975 }\"] [\"timestamp:\", \"000000\", \"run_id:\", \"158\"]', '[\"> wait_file_change ()\"] [\"i:\", \"1\", \"last_modified:\", \"SystemTime { tv_sec: 1672602782, tv_nsec: 944087975 }\"] [\"timestamp:\", \"000000\", \"run_id:\", \"42\"]', '[\"> wait_file_change ()\"] [\"i:\", \"2\", \"last_modified:\", \"SystemTime { tv_sec: 1672602782, tv_nsec: 944087975 }\"] [\"timestamp:\", \"000000\", \"run_id:\", \"197\"]', '[\"> wait_file_change ()\"] [\"i:\", \"3\", \"last_modified:\", \"SystemTime { tv_sec: 1672602782, tv_nsec: 944087975 }\"] [\"timestamp:\", \"000000\", \"run_id:\", \"174\"]', '[\"> wait_file_change ()\"] [\"i:\", \"4\", \"last_modified:\", \"SystemTime { tv_sec: 1672602782, tv_nsec: 944087975 }\"] [\"timestamp:\", \"000000\", \"run_id:\", \"179\"]', '[\"> wait_file_change ()\"] [\"i:\", \"5\", \"last_modified:\", \"SystemTime { tv_sec: 1672602782, tv_nsec: 944087975 }\"] [\"timestamp:\", \"000000\", \"run_id:\", \"227\"]', '[\"> wait_file_change ()\"] [\"i:\", \"6\", \"last_modified:\", \"SystemTime { tv_sec: 1672602782, tv_nsec: 944087975 }\"] [\"timestamp:\", \"000000\", \"run_id:\", \"254\"]', '[\"> wait_file_change ()\"] [\"i:\", \"7\", \"last_modified:\", \"SystemTime { tv_sec: 1672602782, tv_nsec: 944087975 }\"] [\"timestamp:\", \"000000\", \"run_id:\", \"49\"]', '[\"> wait_file_change ()\"] [\"i:\", \"8\", \"last_modified:\", \"SystemTime { tv_sec: 1672602782, tv_nsec: 944087975 }\"] [\"timestamp:\", \"000000\", \"run_id:\", \"183\"]', '[\"> wait_file_change ()\"] [\"i:\", \"9\", \"last_modified:\", \"SystemTime { tv_sec: 1672602782, tv_nsec: 944087975 }\"] [\"timestamp:\", \"000000\", \"run_id:\", \"249\"]', '[\"> wait_file_change ()\"] [\"i:\", \"10\", \"last_modified:\", \"SystemTime { tv_sec: 1672602782, tv_nsec: 944087975 }\"] [\"timestamp:\", \"000000\", \"run_id:\", \"106\"]', '[\"> wait_file_change ()\"] [\"i:\", \"11\", \"last_modified:\", \"SystemTime { tv_sec: 1672602782, tv_nsec: 944087975 }\"] [\"timestamp:\", \"000000\", \"run_id:\", \"201\"]', '[\"> wait_file_change ()\"] [\"i:\", \"12\", \"last_modified:\", \"SystemTime { tv_sec: 1672602782, tv_nsec: 944087975 }\"] [\"timestamp:\", \"000000\", \"run_id:\", \"194\"]', '[\"> wait_file_change ()\"] [\"i:\", \"13\", \"last_modified:\", \"SystemTime { tv_sec: 1672602782, tv_nsec: 944087975 }\"] [\"timestamp:\", \"000000\", \"run_id:\", \"84\"]', '[\"> wait_file_change ()\"] [\"i:\", \"14\", \"last_modified:\", \"SystemTime { tv_sec: 1672602782, tv_nsec: 944087975 }\"] [\"timestamp:\", \"000000\", \"run_id:\", \"146\"]', '[\"> wait_file_change ()\"] [\"i:\", \"15\", \"last_modified:\", \"SystemTime { tv_sec: 1672602782, tv_nsec: 944087975 }\"] [\"timestamp:\", \"000000\", \"run_id:\", \"151\"]', '[\"> wait_file_change ()\"] [\"i:\", \"16\", \"last_modified:\", \"SystemTime { tv_sec: 1672602782, tv_nsec: 944087975 }\"] [\"timestamp:\", \"000000\", \"run_id:\", \"84\"]', '[\"> wait_file_change ()\"] [\"i:\", \"17\", \"last_modified:\", \"SystemTime { tv_sec: 1672602782, tv_nsec: 944087975 }\"] [\"timestamp:\", \"000000\", \"run_id:\", \"186\"]', '[\"> wait_file_change ()\"] [\"i:\", \"18\", \"last_modified:\", \"SystemTime { tv_sec: 1672602782, tv_nsec: 944087975 }\"] [\"timestamp:\", \"000000\", \"run_id:\", \"190\"]', '[\"> wait_file_change ()\"] [\"i:\", \"19\", \"last_modified:\", \"SystemTime { tv_sec: 1672602782, tv_nsec: 944087975 }\"] [\"timestamp:\", \"000001\", \"run_id:\", \"207\"]', '[\"> wait_file_change ()\"] [\"i:\", \"20\", \"last_modified:\", \"SystemTime { tv_sec: 1672602782, tv_nsec: 944087975 }\"] [\"timestamp:\", \"000001\", \"run_id:\", \"4\"]', '[\"> wait_file_change ()\"] [\"i:\", \"21\", \"last_modified:\", \"SystemTime { tv_sec: 1672602782, tv_nsec: 944087975 }\"] [\"timestamp:\", \"000001\", \"run_id:\", \"93\"]', '[\"> wait_file_change ()\"] [\"i:\", \"22\", \"last_modified:\", \"SystemTime { tv_sec: 1672602782, tv_nsec: 944087975 }\"] [\"timestamp:\", \"000001\", \"run_id:\", \"146\"]', '[\"> wait_file_change ()\"] [\"i:\", \"23\", \"last_modified:\", \"SystemTime { tv_sec: 1672602782, tv_nsec: 944087975 }\"] [\"timestamp:\", \"000001\", \"run_id:\", \"232\"]', '[\"> wait_file_change ()\"] [\"i:\", \"24\", \"last_modified:\", \"SystemTime { tv_sec: 1672602782, tv_nsec: 944087975 }\"] [\"timestamp:\", \"000001\", \"run_id:\", \"28\"]', '[\"> wait_file_change ()\"] [\"i:\", \"25\", \"last_modified:\", \"SystemTime { tv_sec: 1672602782, tv_nsec: 944087975 }\"] [\"timestamp:\", \"000001\", \"run_id:\", \"196\"]', '[\"> wait_file_change ()\"] [\"i:\", \"26\", \"last_modified:\", \"SystemTime { tv_sec: 1672602782, tv_nsec: 944087975 }\"] [\"timestamp:\", \"000001\", \"run_id:\", \"239\"]', '[\"> wait_file_change ()\"] [\"i:\", \"27\", \"last_modified:\", \"SystemTime { tv_sec: 1672602782, tv_nsec: 944087975 }\"] [\"timestamp:\", \"000001\", \"run_id:\", \"14\"]', '[\"> wait_file_change ()\"] [\"i:\", \"28\", \"last_modified:\", \"SystemTime { tv_sec: 1672602782, tv_nsec: 944087975 }\"] [\"timestamp:\", \"000001\", \"run_id:\", \"97\"]', '[\"> wait_file_change ()\"] [\"i:\", \"29\", \"last_modified:\", \"SystemTime { tv_sec: 1672602782, tv_nsec: 944087975 }\"] [\"timestamp:\", \"000001\", \"run_id:\", \"159\"]', '[\"> wait_file_change ()\"] [\"i:\", \"30\", \"last_modified:\", \"SystemTime { tv_sec: 1672602782, tv_nsec: 944087975 }\"] [\"timestamp:\", \"000001\", \"run_id:\", \"14\"]', '[\"> wait_file_change ()\"] [\"i:\", \"31\", \"last_modified:\", \"SystemTime { tv_sec: 1672602782, tv_nsec: 944087975 }\"] [\"timestamp:\", \"000001\", \"run_id:\", \"80\"]', '[\"> wait_file_change ()\"] [\"i:\", \"32\", \"last_modified:\", \"SystemTime { tv_sec: 1672602782, tv_nsec: 944087975 }\"] [\"timestamp:\", \"000001\", \"run_id:\", \"50\"]', '[\"> wait_file_change ()\"] [\"i:\", \"33\", \"last_modified:\", \"SystemTime { tv_sec: 1672602782, tv_nsec: 944087975 }\"] [\"timestamp:\", \"000001\", \"run_id:\", \"242\"]', '[\"> wait_file_change ()\"] [\"i:\", \"34\", \"last_modified:\", \"SystemTime { tv_sec: 1672602782, tv_nsec: 944087975 }\"] [\"timestamp:\", \"000001\", \"run_id:\", \"96\"]', '[\"> wait_file_change ()\"] [\"i:\", \"35\", \"last_modified:\", \"SystemTime { tv_sec: 1672602782, tv_nsec: 944087975 }\"] [\"timestamp:\", \"000001\", \"run_id:\", \"38\"]', '[\"> wait_file_change ()\"] [\"i:\", \"36\", \"last_modified:\", \"SystemTime { tv_sec: 1672602782, tv_nsec: 944087975 }\"] [\"timestamp:\", \"000001\", \"run_id:\", \"242\"]', '[\"> wait_file_change ()\"] [\"i:\", \"37\", \"last_modified:\", \"SystemTime { tv_sec: 1672602782, tv_nsec: 944087975 }\"] [\"timestamp:\", \"000001\", \"run_id:\", \"54\"]', '[\"> wait_file_change ()\"] [\"i:\", \"38\", \"last_modified:\", \"SystemTime { tv_sec: 1672602782, tv_nsec: 944087975 }\"] [\"timestamp:\", \"000001\", \"run_id:\", \"232\"]', '[\"> wait_file_change ()\"] [\"i:\", \"39\", \"last_modified:\", \"SystemTime { tv_sec: 1672602782, tv_nsec: 944087975 }\"] [\"timestamp:\", \"000001\", \"run_id:\", \"154\"]', '[\"> wait_file_change ()\"] [\"i:\", \"40\", \"last_modified:\", \"SystemTime { tv_sec: 1672602782, tv_nsec: 944087975 }\"] [\"timestamp:\", \"000001\", \"run_id:\", \"90\"]', '[\"> wait_file_change ()\"] [\"i:\", \"41\", \"last_modified:\", \"SystemTime { tv_sec: 1672602782, tv_nsec: 944087975 }\"] [\"timestamp:\", \"000001\", \"run_id:\", \"180\"]', '[\"> wait_file_change ()\"] [\"i:\", \"42\", \"last_modified:\", \"SystemTime { tv_sec: 1672602782, tv_nsec: 944087975 }\"] [\"timestamp:\", \"000001\", \"run_id:\", \"8\"]', '[\"> wait_file_change ()\"] [\"i:\", \"43\", \"last_modified:\", \"SystemTime { tv_sec: 1672602782, tv_nsec: 944087975 }\"] [\"timestamp:\", \"000001\", \"run_id:\", \"220\"]', '[\"> wait_file_change ()\"] [\"i:\", \"44\", \"last_modified:\", \"SystemTime { tv_sec: 1672602782, tv_nsec: 944087975 }\"] [\"timestamp:\", \"000001\", \"run_id:\", \"7\"]', '[\"> wait_file_change ()\"] [\"i:\", \"45\", \"last_modified:\", \"SystemTime { tv_sec: 1672602782, tv_nsec: 944087975 }\"] [\"timestamp:\", \"000001\", \"run_id:\", \"32\"]', '[\"> wait_file_change ()\"] [\"i:\", \"46\", \"last_modified:\", \"SystemTime { tv_sec: 1672602782, tv_nsec: 944087975 }\"] [\"timestamp:\", \"000001\", \"run_id:\", \"48\"]', '[\"> wait_file_change ()\"] [\"i:\", \"47\", \"last_modified:\", \"SystemTime { tv_sec: 1672602782, tv_nsec: 944087975 }\"] [\"timestamp:\", \"000001\", \"run_id:\", \"107\"]', '[\"> wait_file_change ()\"] [\"i:\", \"48\", \"last_modified:\", \"SystemTime { tv_sec: 1672602782, tv_nsec: 944087975 }\"] [\"timestamp:\", \"000001\", \"run_id:\", \"98\"]', '[\"> wait_file_change ()\"] [\"i:\", \"49\", \"last_modified:\", \"SystemTime { tv_sec: 1672602782, tv_nsec: 944087975 }\"] [\"timestamp:\", \"000001\", \"run_id:\", \"43\"]', '[\"> wait_file_change ()\"] [\"i:\", \"50\", \"last_modified:\", \"SystemTime { tv_sec: 1672602782, tv_nsec: 944087975 }\"] [\"timestamp:\", \"000001\", \"run_id:\", \"134\"]', '[\"> spi_to_fsx ()\"] [\"new_fsx.len():\", \"0\"] [\"timestamp:\", \"000006\", \"run_id:\", \"229\"]', '[\"> spi_to_fsx ()\"] > fs_write new_fsx_path; ok [\"timestamp:\", \"000006\", \"run_id:\", \"121\"]', 'fsx.len(): 0'], 'fsx_path': '../lib_spi/client/src/client.fsx', 'len(new_code_fsx)': 257, 'new_code_fsx[:100]': 'let rec closure0 () () : int32 =\\n    let v0 : string = \"app ()\"\\n    System.Console.WriteLine v0\\n    '}\n"
     ]
    },
    {
     "data": {
      "text/plain": [
       "'../lib_spi/client/src/client.spi'"
      ]
     },
     "execution_count": 3,
     "metadata": {},
     "output_type": "execute_result"
    }
   ],
   "source": [
    "%%spiral ../lib_spi/client/src/client.spi\n",
    "\n"
   ]
  },
  {
   "cell_type": "code",
   "execution_count": 4,
   "metadata": {
    "vscode": {
     "languageId": "shellscript"
    }
   },
   "outputs": [
    {
     "name": "stdout",
     "output_type": "stream",
     "text": [
      "\u001b[?1h\u001b=\u001b[6n\u001b[6n\u001b[?1h\u001b=\u001b[?1h\u001b=Fable: F# to Rust compiler 4.0.0-theta-018 (status: alpha)\n",
      "Thanks to the contributor! @davedawkins\n",
      "Stand with Ukraine! https://standwithukraine.com.ua/\n",
      "\n",
      "Parsing ../lib_spi/client/client.fsproj...\n",
      "Retrieving project options from cache, in case of issues run `dotnet fable clean` or try `--noCache` option.\n",
      "Project and references (2 source files) parsed in 237ms\n",
      "\n",
      "Started Fable compilation...\n",
      "\u001b[6n\u001b[6n\u001b[1;1HCompiled 1/2: ../lib_spi/supervisor/src/Types.fs\u001b[1;1HCompiled 2/2: ../lib_spi/client/src/client.fsx  \u001b[1;47H\u001b[1;1H                                              \u001b[1;1HFable compilation finished in 14070ms\n",
      "\n",
      "\u001b[39;49m\u001b[33m./../lib_spi/client/src/client.fsx(9,0): (9,2) warning FABLE: For Rust, support for F# static and module do bindings is disabled by default. It can be enabled with the 'static_do_bindings' feature. Use at your own risk!\n",
      "\u001b[39;49m\u001b[?1h\u001b=\u001b[?1h\u001b=\u001b[2$~\u001b[1$}\u001b[1`\u001b[0$}\u001b[1m\u001b[2m[INFO]\u001b[0m: Checking for the Wasm target...\n",
      "\u001b[1m\u001b[2m[INFO]\u001b[0m: Compiling to Wasm...\n",
      "\u001b[0m\u001b[0m\u001b[1m\u001b[32m   Compiling\u001b[0m client v0.0.1 (/home/alias/home/fs/repos/tictactoe/lib_spi/client)\n",
      "\u001b[K\u001b[0m\u001b[0m\u001b[1m\u001b[32m    Finished\u001b[0m dev [unoptimized + debuginfo] target(s) in 1.01s              \n",
      "\u001b[1m\u001b[2m[WARN]\u001b[0m: :-) origin crate has no README\n",
      "\u001b[1m\u001b[2m[INFO]\u001b[0m: Installing wasm-bindgen...\n",
      "\u001b[1m\u001b[2m[INFO]\u001b[0m: Optional fields missing from Cargo.toml: 'description', 'repository', and 'license'. These are not necessary, but recommended\n",
      "\u001b[1m\u001b[2m[INFO]\u001b[0m: :-) Done in 1.75s\n",
      "\u001b[1m\u001b[2m[INFO]\u001b[0m: :-) Your wasm pkg is ready to publish at /home/alias/home/fs/repos/tictactoe/lib_spi/client/pkg.\n",
      "\u001b[?1h\u001b=\u001b[2$~\u001b[1$}\u001b[1`\u001b[0$}"
     ]
    }
   ],
   "source": [
    "!pwsh ../lib_spi/client/build.ps1"
   ]
  }
 ],
 "metadata": {
  "kernelspec": {
   "display_name": "Python 3",
   "language": "python",
   "name": "python3"
  },
  "language_info": {
   "codemirror_mode": {
    "name": "ipython",
    "version": 3
   },
   "file_extension": ".py",
   "mimetype": "text/x-python",
   "name": "python",
   "nbconvert_exporter": "python",
   "pygments_lexer": "ipython3",
   "version": "3.10.9"
  },
  "orig_nbformat": 4,
  "vscode": {
   "interpreter": {
    "hash": "69712e5f5cc18cdb93e82f18d7bfde9a47d7138efae1f4b87f8f55069ac86612"
   }
  }
 },
 "nbformat": 4,
 "nbformat_minor": 2
}
