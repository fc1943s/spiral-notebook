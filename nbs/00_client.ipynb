{
 "cells": [
  {
   "cell_type": "code",
   "execution_count": 1,
   "metadata": {},
   "outputs": [],
   "source": [
    "# default_exp client"
   ]
  },
  {
   "cell_type": "code",
   "execution_count": 2,
   "metadata": {},
   "outputs": [],
   "source": [
    "import sys\n",
    "sys.path.append('..')\n",
    "import lib_py.ipython_magic as ipython_magic"
   ]
  },
  {
   "cell_type": "markdown",
   "metadata": {},
   "source": [
    "### ???"
   ]
  },
  {
   "cell_type": "code",
   "execution_count": 3,
   "metadata": {
    "vscode": {
     "languageId": "bat"
    }
   },
   "outputs": [
    {
     "name": "stdout",
     "output_type": "stream",
     "text": [
      "<magic:7106c062e52f44878a3e3c06fb930a88>\n"
     ]
    },
    {
     "data": {
      "application/javascript": "IPython.notebook.save_checkpoint();",
      "text/plain": [
       "<IPython.core.display.Javascript object>"
      ]
     },
     "metadata": {},
     "output_type": "display_data"
    },
    {
     "name": "stdout",
     "output_type": "stream",
     "text": [
      "{'run_build_output': ['[\"> spi_to_fsx ()\"] [\"pwd:\", \"/home/alias/home/fs/repos/tictactoe/lib_spi\", \"spi_path:\", \"../lib_spi/client/client.spi\", \"new_fsx_path:\", \"../lib_spi/client/client.fsx\"] [\"timestamp:\", \"000000\", \"run_id:\", \"183\"]', '[\"> spi_to_fsx ()\"] [\"spi_path_clean:\", \"/home/alias/home/fs/repos/tictactoe/lib_spi/client/client.spi\"] [\"timestamp:\", \"000000\", \"run_id:\", \"9\"]', '[\"> spi_to_fsx ()\"] [\"src_path:\", \"/home/alias/home/fs/repos/tictactoe/lib_spi/client\"] [\"timestamp:\", \"000000\", \"run_id:\", \"103\"]', '[\"> spi_to_fsx ()\"] [\"spiproj_path:\", \"/home/alias/home/fs/repos/tictactoe/lib_spi/package.spiproj\"] [\"timestamp:\", \"000000\", \"run_id:\", \"169\"]', '[\"> spi_to_fsx ()\"] [\"fsx_path:\", \"/home/alias/home/fs/repos/tictactoe/lib_spi/client/client.fsx\"] [\"timestamp:\", \"000000\", \"run_id:\", \"174\"]', '[\"> spi_to_fsx ()\"] > fs_write fsx_path \"\"; ok [\"timestamp:\", \"000000\", \"run_id:\", \"47\"]', '[\"> spiproj_open ()\"] [\"spiproj_path:\", \"/home/alias/home/fs/repos/tictactoe/lib_spi/package.spiproj\", \"spiproj_text.len():\", \"1085\"] [\"timestamp:\", \"000000\", \"run_id:\", \"255\"]', '[\"> spiproj_open ()\"] [\"json.len():\", \"1250\"] [\"timestamp:\", \"000000\", \"run_id:\", \"131\"]', '[\"> zmq_request ()\"] [\"host:\", \"localhost\", \"port:\", \"13805\", \"msg.len():\", \"1250\"] [\"timestamp:\", \"000000\", \"run_id:\", \"166\"]', '[\"> zmq_request ()\"] [\"result.len():\", \"0\"] [\"timestamp:\", \"000000\", \"run_id:\", \"112\"]', '[\"> spi_to_fsx ()\"] > spiproj_open; ok [\"timestamp:\", \"000000\", \"run_id:\", \"94\"]', '[\"> spi_build_file ()\"] [\"spi_path:\", \"/home/alias/home/fs/repos/tictactoe/lib_spi/client/client.spi\", \"backend:\", \"Fsharp\"] [\"timestamp:\", \"000000\", \"run_id:\", \"241\"]', '[\"> spi_build_file ()\"] [\"json.len():\", \"104\"] [\"timestamp:\", \"000000\", \"run_id:\", \"25\"]', '[\"> zmq_request ()\"] [\"host:\", \"localhost\", \"port:\", \"13805\", \"msg.len():\", \"104\"] [\"timestamp:\", \"000000\", \"run_id:\", \"238\"]', '[\"> zmq_request ()\"] [\"result.len():\", \"0\"] [\"timestamp:\", \"000000\", \"run_id:\", \"38\"]', '[\"> spi_to_fsx ()\"] > spi_build_file; ok [\"timestamp:\", \"000000\", \"run_id:\", \"146\"]', '[\"> wait_file_change ()\"] [\"fsx_path:\", \"/home/alias/home/fs/repos/tictactoe/lib_spi/client/client.fsx\", \"start:\", \"SystemTime { tv_sec: 1672667037, tv_nsec: 379983935 }\"] [\"timestamp:\", \"000000\", \"run_id:\", \"246\"]', '[\"> wait_file_change ()\"] [\"i:\", \"0\", \"last_modified:\", \"SystemTime { tv_sec: 1672667037, tv_nsec: 379983935 }\"] [\"timestamp:\", \"000000\", \"run_id:\", \"221\"]', '[\"> wait_file_change ()\"] [\"i:\", \"1\", \"last_modified:\", \"SystemTime { tv_sec: 1672667037, tv_nsec: 379983935 }\"] [\"timestamp:\", \"000000\", \"run_id:\", \"98\"]', '[\"> wait_file_change ()\"] [\"i:\", \"2\", \"last_modified:\", \"SystemTime { tv_sec: 1672667037, tv_nsec: 440983760 }\"] [\"timestamp:\", \"000000\", \"run_id:\", \"103\"]', '[\"> spi_to_fsx ()\"] [\"new_fsx.len():\", \"232\"] [\"timestamp:\", \"000000\", \"run_id:\", \"112\"]', '[\"> spi_to_fsx ()\"] > fs_write new_fsx_path; ok [\"timestamp:\", \"000000\", \"run_id:\", \"205\"]', 'fsx.len(): 232'], 'fsx_path': '../lib_spi/client/client.fsx', 'len(new_code_fsx)': 231, 'new_code_fsx[:100]': 'let rec closure0 () () : int32 =\\n    let v0 : string = \"app ()\"\\n    let v1 : string = \"web_sys::cons'}\n"
     ]
    },
    {
     "data": {
      "text/plain": [
       "'../lib_spi/client/client.spi'"
      ]
     },
     "execution_count": 3,
     "metadata": {},
     "output_type": "execute_result"
    }
   ],
   "source": [
    "%%spiral ../lib_spi/client/client.spi\n",
    "\n"
   ]
  },
  {
   "cell_type": "code",
   "execution_count": 4,
   "metadata": {
    "vscode": {
     "languageId": "shellscript"
    }
   },
   "outputs": [
    {
     "name": "stdout",
     "output_type": "stream",
     "text": [
      "\u001b[?1h\u001b=\u001b[6n\u001b[6n\u001b[?1h\u001b=\u001b[?1h\u001b=Fable: F# to Rust compiler 4.0.0-theta-018 (status: alpha)\n",
      "Thanks to the contributor! @Kurren123\n",
      "Stand with Ukraine! https://standwithukraine.com.ua/\n",
      "\n",
      "Parsing ../lib_spi/client/client.fsproj...\n",
      "Retrieving project options from cache, in case of issues run `dotnet fable clean` or try `--noCache` option.\n",
      "Project and references (3 source files) parsed in 331ms\n",
      "\n",
      "Started Fable compilation...\n",
      "\u001b[6n\u001b[6n\u001b[1;1HCompiled 1/2: ../lib_spi/client/node_modules/node-gyp/lib/Find-VisualStudio.cs\u001b[1;1HCompiled 2/2: ../lib_spi/rust/Types.fs                                        \u001b[1;39H\u001b[1;1HCompiled 3/2: ../lib_spi/client/client.fsx\u001b[1;1H                                          \u001b[1;1HFable compilation finished in 12904ms\n",
      "\n",
      "\u001b[39;49m\u001b[33m./../lib_spi/client/client.fsx(7,0): (7,2) warning FABLE: For Rust, support for F# static and module do bindings is disabled by default. It can be enabled with the 'static_do_bindings' feature. Use at your own risk!\n",
      "\u001b[39;49m\u001b[?1h\u001b=\u001b[?1h\u001b=\u001b[2$~\u001b[1$}\u001b[1`\u001b[0$}\u001b[1m\u001b[2m[INFO]\u001b[0m: Checking for the Wasm target...\n",
      "\u001b[1m\u001b[2m[INFO]\u001b[0m: Compiling to Wasm...\n",
      "\u001b[0m\u001b[0m\u001b[1m\u001b[32m   Compiling\u001b[0m client v0.0.1 (/home/alias/home/fs/repos/tictactoe/lib_spi/client)\n",
      "\u001b[K\u001b[0m\u001b[1m\u001b[38;5;9merror\u001b[0m\u001b[0m\u001b[1m: expected item, found `using`\u001b[0mclient                      \n",
      "\u001b[0m \u001b[0m\u001b[0m\u001b[1m\u001b[38;5;12m--> \u001b[0m\u001b[0m./node_modules/node-gyp/lib/Find-VisualStudio.cs:9:1\u001b[0m\n",
      "\u001b[0m  \u001b[0m\u001b[0m\u001b[1m\u001b[38;5;12m|\u001b[0m\n",
      "\u001b[0m\u001b[1m\u001b[38;5;12m9\u001b[0m\u001b[0m \u001b[0m\u001b[0m\u001b[1m\u001b[38;5;12m|\u001b[0m\u001b[0m \u001b[0m\u001b[0musing System;\u001b[0m\n",
      "\u001b[0m  \u001b[0m\u001b[0m\u001b[1m\u001b[38;5;12m| \u001b[0m\u001b[0m\u001b[1m\u001b[38;5;9m^^^^^\u001b[0m\u001b[0m \u001b[0m\u001b[0m\u001b[1m\u001b[38;5;9mhelp: items are imported using the `use` keyword\u001b[0m\n",
      "\n",
      "\u001b[K\u001b[0m\u001b[1m\u001b[38;5;9merror\u001b[0m\u001b[0m\u001b[1m: expected item, found `using`\u001b[0mclient                      \n",
      "\u001b[0m  \u001b[0m\u001b[0m\u001b[1m\u001b[38;5;12m--> \u001b[0m\u001b[0m./node_modules/node-gyp/lib/Find-VisualStudio.cs:10:1\u001b[0m\n",
      "\u001b[0m   \u001b[0m\u001b[0m\u001b[1m\u001b[38;5;12m|\u001b[0m\n",
      "\u001b[0m\u001b[1m\u001b[38;5;12m10\u001b[0m\u001b[0m \u001b[0m\u001b[0m\u001b[1m\u001b[38;5;12m|\u001b[0m\u001b[0m \u001b[0m\u001b[0musing System.Text;\u001b[0m\n",
      "\u001b[0m   \u001b[0m\u001b[0m\u001b[1m\u001b[38;5;12m| \u001b[0m\u001b[0m\u001b[1m\u001b[38;5;9m^^^^^\u001b[0m\u001b[0m \u001b[0m\u001b[0m\u001b[1m\u001b[38;5;9mexpected item\u001b[0m\n",
      "\n",
      "\u001b[K\u001b[0m\u001b[0m\u001b[1m\u001b[31merror\u001b[0m\u001b[1m:\u001b[0m could not compile `client` due to 2 previous errors         \n",
      "Error: Compiling your crate to WebAssembly failed\n",
      "Caused by: failed to execute `cargo build`: exited with exit status: 101\n",
      "  full command: cd \"/home/alias/home/fs/repos/tictactoe/lib_spi/client\" && \"cargo\" \"build\" \"--lib\" \"--target\" \"wasm32-unknown-unknown\"\n",
      "\u001b[?1h\u001b=\u001b[2$~\u001b[1$}\u001b[1`\u001b[0$}"
     ]
    }
   ],
   "source": [
    "!pwsh ../lib_spi/client/build.ps1"
   ]
  }
 ],
 "metadata": {
  "kernelspec": {
   "display_name": "Python 3",
   "language": "python",
   "name": "python3"
  },
  "language_info": {
   "codemirror_mode": {
    "name": "ipython",
    "version": 3
   },
   "file_extension": ".py",
   "mimetype": "text/x-python",
   "name": "python",
   "nbconvert_exporter": "python",
   "pygments_lexer": "ipython3",
   "version": "3.10.9"
  },
  "orig_nbformat": 4,
  "vscode": {
   "interpreter": {
    "hash": "69712e5f5cc18cdb93e82f18d7bfde9a47d7138efae1f4b87f8f55069ac86612"
   }
  }
 },
 "nbformat": 4,
 "nbformat_minor": 2
}
