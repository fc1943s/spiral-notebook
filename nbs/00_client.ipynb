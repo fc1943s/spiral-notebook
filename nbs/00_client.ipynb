{
 "cells": [
  {
   "cell_type": "code",
   "execution_count": 1,
   "metadata": {},
   "outputs": [],
   "source": [
    "# default_exp client"
   ]
  },
  {
   "cell_type": "code",
   "execution_count": 2,
   "metadata": {},
   "outputs": [],
   "source": [
    "import sys\n",
    "sys.path.append('..')\n",
    "import lib_py.ipython_magic as ipython_magic"
   ]
  },
  {
   "cell_type": "markdown",
   "metadata": {},
   "source": [
    "### ???"
   ]
  },
  {
   "cell_type": "code",
   "execution_count": 3,
   "metadata": {
    "vscode": {
     "languageId": "bat"
    }
   },
   "outputs": [
    {
     "name": "stdout",
     "output_type": "stream",
     "text": [
      "<magic:2f33b85c9e5b49e6ad87a9889999f73e>\n"
     ]
    },
    {
     "data": {
      "application/javascript": "IPython.notebook.save_checkpoint();",
      "text/plain": [
       "<IPython.core.display.Javascript object>"
      ]
     },
     "metadata": {},
     "output_type": "display_data"
    },
    {
     "name": "stdout",
     "output_type": "stream",
     "text": [
      "{'run_build_output': ['[\"> spi_to_fsx ()\"] [\"pwd:\", \"/home/alias/home/fs/repos/tictactoe/lib_spi\", \"spi_path:\", \"../lib_spi/client/client.spi\", \"new_fsx_path:\", \"../lib_spi/client/client.fsx\"] [\"timestamp:\", \"000000\", \"run_id:\", \"64\"]', '[\"> spi_to_fsx ()\"] [\"spi_path_clean:\", \"/home/alias/home/fs/repos/tictactoe/lib_spi/client/client.spi\"] [\"timestamp:\", \"000000\", \"run_id:\", \"246\"]', '[\"> spi_to_fsx ()\"] [\"src_path:\", \"/home/alias/home/fs/repos/tictactoe/lib_spi/client\"] [\"timestamp:\", \"000000\", \"run_id:\", \"52\"]', '[\"> spi_to_fsx ()\"] [\"spiproj_path:\", \"/home/alias/home/fs/repos/tictactoe/lib_spi/package.spiproj\"] [\"timestamp:\", \"000000\", \"run_id:\", \"116\"]', '[\"> spi_to_fsx ()\"] [\"fsx_path:\", \"/home/alias/home/fs/repos/tictactoe/lib_spi/client/client.fsx\"] [\"timestamp:\", \"000000\", \"run_id:\", \"210\"]', '[\"> spi_to_fsx ()\"] > fs_write fsx_path \"\"; ok [\"timestamp:\", \"000000\", \"run_id:\", \"158\"]', '[\"> spiproj_open ()\"] [\"spiproj_path:\", \"/home/alias/home/fs/repos/tictactoe/lib_spi/package.spiproj\", \"spiproj_text.len():\", \"1108\"] [\"timestamp:\", \"000000\", \"run_id:\", \"34\"]', '[\"> spiproj_open ()\"] [\"json.len():\", \"1275\"] [\"timestamp:\", \"000000\", \"run_id:\", \"112\"]', '[\"> zmq_request ()\"] [\"host:\", \"localhost\", \"port:\", \"13805\", \"msg.len():\", \"1275\"] [\"timestamp:\", \"000000\", \"run_id:\", \"207\"]', '[\"> zmq_request ()\"] [\"result.len():\", \"0\"] [\"timestamp:\", \"000000\", \"run_id:\", \"103\"]', '[\"> spi_to_fsx ()\"] > spiproj_open; ok [\"timestamp:\", \"000000\", \"run_id:\", \"120\"]', '[\"> spi_build_file ()\"] [\"spi_path:\", \"/home/alias/home/fs/repos/tictactoe/lib_spi/client/client.spi\", \"backend:\", \"Fsharp\"] [\"timestamp:\", \"000000\", \"run_id:\", \"55\"]', '[\"> spi_build_file ()\"] [\"json.len():\", \"104\"] [\"timestamp:\", \"000000\", \"run_id:\", \"203\"]', '[\"> zmq_request ()\"] [\"host:\", \"localhost\", \"port:\", \"13805\", \"msg.len():\", \"104\"] [\"timestamp:\", \"000000\", \"run_id:\", \"44\"]', '[\"> zmq_request ()\"] [\"result.len():\", \"0\"] [\"timestamp:\", \"000000\", \"run_id:\", \"75\"]', '[\"> spi_to_fsx ()\"] > spi_build_file; ok [\"timestamp:\", \"000000\", \"run_id:\", \"169\"]', '[\"> wait_file_change ()\"] [\"fsx_path:\", \"/home/alias/home/fs/repos/tictactoe/lib_spi/client/client.fsx\", \"start:\", \"SystemTime { tv_sec: 1673702463, tv_nsec: 612486407 }\"] [\"timestamp:\", \"000000\", \"run_id:\", \"89\"]', '[\"> wait_file_change ()\"] [\"i:\", \"0\", \"last_modified:\", \"SystemTime { tv_sec: 1673702463, tv_nsec: 612486407 }\"] [\"timestamp:\", \"000000\", \"run_id:\", \"1\"]', '[\"> wait_file_change ()\"] [\"i:\", \"1\", \"last_modified:\", \"SystemTime { tv_sec: 1673702463, tv_nsec: 636486099 }\"] [\"timestamp:\", \"000000\", \"run_id:\", \"231\"]', '[\"> spi_to_fsx ()\"] [\"new_fsx.len():\", \"232\"] [\"timestamp:\", \"000000\", \"run_id:\", \"52\"]', '[\"> spi_to_fsx ()\"] > fs_write new_fsx_path; ok [\"timestamp:\", \"000000\", \"run_id:\", \"227\"]', 'fsx.len(): 232'], 'fsx_path': '../lib_spi/client/client.fsx', 'len(new_code_fsx)': 231, 'new_code_fsx[:100]': 'let rec closure0 () () : int32 =\\n    let v0 : string = \"app ()\"\\n    let v1 : string = \"web_sys::cons'}\n"
     ]
    },
    {
     "data": {
      "text/plain": [
       "'../lib_spi/client/client.spi'"
      ]
     },
     "execution_count": 3,
     "metadata": {},
     "output_type": "execute_result"
    }
   ],
   "source": [
    "%%spiral ../lib_spi/client/client.spi\n",
    "\n"
   ]
  },
  {
   "cell_type": "code",
   "execution_count": 4,
   "metadata": {
    "vscode": {
     "languageId": "shellscript"
    }
   },
   "outputs": [
    {
     "name": "stdout",
     "output_type": "stream",
     "text": [
      "\u001b[?1h\u001b=\u001b[6n\u001b[6n\u001b[?1h\u001b=\u001b[?1h\u001b=Fable: F# to Rust compiler 4.0.0-theta-018 (status: alpha)\n",
      "Thanks to the contributor! @FrankBro\n",
      "Stand with Ukraine! https://standwithukraine.com.ua/\n",
      "\n",
      "Parsing ../lib_spi/client/client.fsproj...\n",
      "Retrieving project options from cache, in case of issues run `dotnet fable clean` or try `--noCache` option.\n",
      "Project and references (3 source files) parsed in 159ms\n",
      "\n",
      "Started Fable compilation...\n",
      "File does not exist: /home/alias/home/fs/repos/tictactoe/nbs/node_modules/node-gyp/lib/Find-VisualStudio.cs\n",
      "\u001b[6n\u001b[6n\u001b[1;1HCompiled 1/2: node_modules/node-gyp/lib/Find-VisualStudio.cs\u001b[1;1HCompiled 2/2: ../lib_spi/rust/Types.fs                      \u001b[1;39H\u001b[1;1HCompiled 3/2: ../lib_spi/client/client.fsx\u001b[1;1H                                          \u001b[1;1HFable compilation finished in 12105ms\n",
      "\n",
      "\u001b[39;49m\u001b[33m./../lib_spi/client/client.fsx(7,0): (7,2) warning FABLE: For Rust, support for F# static and module do bindings is disabled by default. It can be enabled with the 'static_do_bindings' feature. Use at your own risk!\n",
      "\u001b[39;49m\u001b[?1h\u001b=\u001b[?1h\u001b=\u001b[2$~\u001b[1$}\u001b[1`\u001b[0$}\u001b[?1h\u001b=\u001b[?1h\u001b=Fable: F# to Rust compiler 4.0.0-theta-018 (status: alpha)\n",
      "Thanks to the contributor! @ncave\n",
      "Stand with Ukraine! https://standwithukraine.com.ua/\n",
      "\n",
      "Parsing ../lib_spi/cli/cli.fsproj...\n",
      "Retrieving project options from cache, in case of issues run `dotnet fable clean` or try `--noCache` option.\n",
      "Project and references (2 source files) parsed in 189ms\n",
      "\n",
      "Skipped compilation because all generated files are up-to-date!\n",
      "\u001b[?1h\u001b=\u001b[?1h\u001b=\u001b[2$~\u001b[1$}\u001b[1`\u001b[0$}\u001b[35m[> app ()]\u001b[0m \u001b[38;2;102;102;102m[rs_path_clean=\\/home/alias/home/fs/repos/tictactoe/lib_spi/client/client.rs\\\"\"]\u001b[0m \u001b[38;2;34;34;34m[timestamp=000000 run_id=115 log_level=Debug]\u001b[0m\n",
      "\u001b[35m[> read_lines ()]\u001b[0m \u001b[38;2;102;102;102m[path_clean=/home/alias/home/fs/repos/tictactoe/lib_spi/client/client.rs]\u001b[0m \u001b[38;2;34;34;34m[timestamp=000000 run_id=20 log_level=Debug]\u001b[0m\n",
      "\u001b[35m[> read_lines ()]\u001b[0m \u001b[38;2;102;102;102m[reader=RefCell { value: LineReader { delimiter: 10 pos: 0 end_of_complete: 0 end_of_buffer: 0 } }]\u001b[0m \u001b[38;2;34;34;34m[timestamp=000000 run_id=32 log_level=Debug]\u001b[0m\n",
      "\u001b[35m[> read_lines ()]\u001b[0m \u001b[38;2;102;102;102m[lines len=30]\u001b[0m \u001b[38;2;34;34;34m[timestamp=000000 run_id=207 log_level=Debug]\u001b[0m\n",
      "\u001b[35m[> app ()]\u001b[0m \u001b[38;2;102;102;102m[found line. removing.= line \"#[path = \\\"../../nbs/node_modules/node-gyp/lib/Find-VisualStudio.cs\\\"]\\n\"]\u001b[0m \u001b[38;2;34;34;34m[timestamp=000000 run_id=97 log_level=Debug]\u001b[0m\n",
      "\u001b[35m[> app ()]\u001b[0m \u001b[38;2;102;102;102m[text len=887]\u001b[0m \u001b[38;2;34;34;34m[timestamp=000000 run_id=96 log_level=Debug]\u001b[0m\n",
      "\u001b[35m[> app ()]\u001b[0m \u001b[38;2;102;102;102m> fs_write rs_path_clean text; ok\u001b[0m \u001b[38;2;34;34;34m[timestamp=000000 run_id=138 log_level=Debug]\u001b[0m\n",
      "app=0\n",
      "\u001b[?1h\u001b=\u001b[2$~\u001b[1$}\u001b[1`\u001b[0$}\u001b[1m\u001b[2m[INFO]\u001b[0m: Checking for the Wasm target...\n",
      "\u001b[1m\u001b[2m[INFO]\u001b[0m: Compiling to Wasm...\n",
      "\u001b[0m\u001b[0m\u001b[1m\u001b[32m   Compiling\u001b[0m client v0.0.1 (/home/alias/home/fs/repos/tictactoe/lib_spi/client)\n",
      "\u001b[K\u001b[0m\u001b[0m\u001b[1m\u001b[32m    Finished\u001b[0m dev [unoptimized + debuginfo] target(s) in 0.34s              \n",
      "\u001b[1m\u001b[2m[WARN]\u001b[0m: :-) origin crate has no README\n",
      "\u001b[1m\u001b[2m[INFO]\u001b[0m: Installing wasm-bindgen...\n",
      "\u001b[1m\u001b[2m[INFO]\u001b[0m: Optional fields missing from Cargo.toml: 'description', 'repository', and 'license'. These are not necessary, but recommended\n",
      "\u001b[1m\u001b[2m[INFO]\u001b[0m: :-) Done in 0.69s\n",
      "\u001b[1m\u001b[2m[INFO]\u001b[0m: :-) Your wasm pkg is ready to publish at /home/alias/home/fs/repos/tictactoe/lib_spi/client/pkg.\n",
      "\u001b[?1h\u001b=\u001b[2$~\u001b[1$}\u001b[1`\u001b[0$}"
     ]
    }
   ],
   "source": [
    "!pwsh ../lib_spi/client/build.ps1"
   ]
  }
 ],
 "metadata": {
  "kernelspec": {
   "display_name": "Python 3",
   "language": "python",
   "name": "python3"
  },
  "language_info": {
   "codemirror_mode": {
    "name": "ipython",
    "version": 3
   },
   "file_extension": ".py",
   "mimetype": "text/x-python",
   "name": "python",
   "nbconvert_exporter": "python",
   "pygments_lexer": "ipython3",
   "version": "3.10.9"
  },
  "orig_nbformat": 4,
  "vscode": {
   "interpreter": {
    "hash": "69712e5f5cc18cdb93e82f18d7bfde9a47d7138efae1f4b87f8f55069ac86612"
   }
  }
 },
 "nbformat": 4,
 "nbformat_minor": 2
}
