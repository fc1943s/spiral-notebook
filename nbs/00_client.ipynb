{
 "cells": [
  {
   "cell_type": "code",
   "execution_count": 1,
   "metadata": {},
   "outputs": [],
   "source": [
    "# default_exp client"
   ]
  },
  {
   "cell_type": "code",
   "execution_count": 2,
   "metadata": {},
   "outputs": [],
   "source": [
    "import sys\n",
    "sys.path.append('..')\n",
    "import lib_py.ipython_magic as ipython_magic"
   ]
  },
  {
   "cell_type": "markdown",
   "metadata": {},
   "source": [
    "### ???"
   ]
  },
  {
   "cell_type": "code",
   "execution_count": 3,
   "metadata": {
    "vscode": {
     "languageId": "bat"
    }
   },
   "outputs": [
    {
     "name": "stdout",
     "output_type": "stream",
     "text": [
      "<magic:fc36262ed6054aefa5671ac358c198a3>\n"
     ]
    },
    {
     "data": {
      "application/javascript": "IPython.notebook.save_checkpoint();",
      "text/plain": [
       "<IPython.core.display.Javascript object>"
      ]
     },
     "metadata": {},
     "output_type": "display_data"
    },
    {
     "name": "stdout",
     "output_type": "stream",
     "text": [
      "{'run_build_output': ['[> spi_to_fsx ()] \\x1b[38;2;222;136;76m[pwd=/home/alias/home/fs/repos/tictactoe/lib_spi spi_path=../lib_spi/client/client.spi new_fsx_path=../lib_spi/client/client.fsx]\\x1b[0m \\x1b[38;2;56;87;121m[timestamp=000000 run_id=212 log_level=Debug]\\x1b[0m', '[> spi_to_fsx ()] \\x1b[38;2;222;136;76m[spi_path_clean=/home/alias/home/fs/repos/tictactoe/lib_spi/client/client.spi]\\x1b[0m \\x1b[38;2;56;87;121m[timestamp=000000 run_id=208 log_level=Debug]\\x1b[0m', '[> spi_to_fsx ()] \\x1b[38;2;222;136;76m[src_path=/home/alias/home/fs/repos/tictactoe/lib_spi/client]\\x1b[0m \\x1b[38;2;56;87;121m[timestamp=000000 run_id=168 log_level=Debug]\\x1b[0m', '[> spi_to_fsx ()] \\x1b[38;2;222;136;76m[spiproj_path=/home/alias/home/fs/repos/tictactoe/lib_spi/package.spiproj]\\x1b[0m \\x1b[38;2;56;87;121m[timestamp=000000 run_id=179 log_level=Debug]\\x1b[0m', '[> spi_to_fsx ()] \\x1b[38;2;222;136;76m[fsx_path=/home/alias/home/fs/repos/tictactoe/lib_spi/client/client.fsx]\\x1b[0m \\x1b[38;2;56;87;121m[timestamp=000000 run_id=124 log_level=Debug]\\x1b[0m', '[> spi_to_fsx ()] \\x1b[38;2;222;136;76m[> fs_write fsx_path \"\"; ok]\\x1b[0m \\x1b[38;2;56;87;121m[timestamp=000000 run_id=206 log_level=Debug]\\x1b[0m', '[> spiproj_open ()] \\x1b[38;2;227;106;98m[spiproj_path=/home/alias/home/fs/repos/tictactoe/lib_spi/package.spiproj spiproj_text len=1108]\\x1b[0m \\x1b[38;2;56;87;121m[timestamp=000000 run_id=115 log_level=Debug]\\x1b[0m', '[> spiproj_open ()] \\x1b[38;2;227;106;98m[json len==1275]\\x1b[0m \\x1b[38;2;56;87;121m[timestamp=000000 run_id=30 log_level=Debug]\\x1b[0m', '[> zmq_request ()] \\x1b[38;2;252;251;27m[host=localhost port=13805 msg len=1275]\\x1b[0m \\x1b[38;2;56;87;121m[timestamp=000000 run_id=221 log_level=Debug]\\x1b[0m', '[> zmq_request ()] \\x1b[38;2;252;251;27m[result len=0]\\x1b[0m \\x1b[38;2;56;87;121m[timestamp=000000 run_id=251 log_level=Debug]\\x1b[0m', '[> spi_to_fsx ()] \\x1b[38;2;222;136;76m[> spiproj_open; ok]\\x1b[0m \\x1b[38;2;56;87;121m[timestamp=000000 run_id=194 log_level=Debug]\\x1b[0m', '[> spi_build_file ()] \\x1b[38;2;152;213;239m[spi_path=/home/alias/home/fs/repos/tictactoe/lib_spi/client/client.spi backend=Fsharp]\\x1b[0m \\x1b[38;2;56;87;121m[timestamp=000000 run_id=92 log_level=Debug]\\x1b[0m', '[> spi_build_file ()] \\x1b[38;2;152;213;239m[json len=104]\\x1b[0m \\x1b[38;2;56;87;121m[timestamp=000000 run_id=203 log_level=Debug]\\x1b[0m', '[> zmq_request ()] \\x1b[38;2;252;251;27m[host=localhost port=13805 msg len=104]\\x1b[0m \\x1b[38;2;56;87;121m[timestamp=000000 run_id=4 log_level=Debug]\\x1b[0m', '[> zmq_request ()] \\x1b[38;2;252;251;27m[result len=0]\\x1b[0m \\x1b[38;2;56;87;121m[timestamp=000000 run_id=58 log_level=Debug]\\x1b[0m', '[> spi_to_fsx ()] \\x1b[38;2;222;136;76m[> spi_build_file; ok]\\x1b[0m \\x1b[38;2;56;87;121m[timestamp=000000 run_id=37 log_level=Debug]\\x1b[0m', '[> wait_file_change ()] \\x1b[38;2;56;121;87m[fsx_path=/home/alias/home/fs/repos/tictactoe/lib_spi/client/client.fsx start=SystemTime { tv_sec: 1674646453 tv_nsec: 262150092 }]\\x1b[0m \\x1b[38;2;56;87;121m[timestamp=000000 run_id=196 log_level=Debug]\\x1b[0m', '[> wait_file_change ()] \\x1b[38;2;56;121;87m[i=0 last_modified=SystemTime { tv_sec: 1674646453 tv_nsec: 262150092 }]\\x1b[0m \\x1b[38;2;56;87;121m[timestamp=000000 run_id=215 log_level=Debug]\\x1b[0m', '[> wait_file_change ()] \\x1b[38;2;56;121;87m[i=1 last_modified=SystemTime { tv_sec: 1674646453 tv_nsec: 262150092 }]\\x1b[0m \\x1b[38;2;56;87;121m[timestamp=000000 run_id=199 log_level=Debug]\\x1b[0m', '[> wait_file_change ()] \\x1b[38;2;56;121;87m[i=2 last_modified=SystemTime { tv_sec: 1674646453 tv_nsec: 262150092 }]\\x1b[0m \\x1b[38;2;56;87;121m[timestamp=000000 run_id=244 log_level=Debug]\\x1b[0m', '[> wait_file_change ()] \\x1b[38;2;56;121;87m[i=3 last_modified=SystemTime { tv_sec: 1674646453 tv_nsec: 262150092 }]\\x1b[0m \\x1b[38;2;56;87;121m[timestamp=000000 run_id=218 log_level=Debug]\\x1b[0m', '[> wait_file_change ()] \\x1b[38;2;56;121;87m[i=4 last_modified=SystemTime { tv_sec: 1674646453 tv_nsec: 262150092 }]\\x1b[0m \\x1b[38;2;56;87;121m[timestamp=000000 run_id=84 log_level=Debug]\\x1b[0m', '[> wait_file_change ()] \\x1b[38;2;56;121;87m[i=5 last_modified=SystemTime { tv_sec: 1674646453 tv_nsec: 262150092 }]\\x1b[0m \\x1b[38;2;56;87;121m[timestamp=000000 run_id=126 log_level=Debug]\\x1b[0m', '[> wait_file_change ()] \\x1b[38;2;56;121;87m[i=6 last_modified=SystemTime { tv_sec: 1674646453 tv_nsec: 262150092 }]\\x1b[0m \\x1b[38;2;56;87;121m[timestamp=000000 run_id=9 log_level=Debug]\\x1b[0m', '[> wait_file_change ()] \\x1b[38;2;56;121;87m[i=7 last_modified=SystemTime { tv_sec: 1674646453 tv_nsec: 262150092 }]\\x1b[0m \\x1b[38;2;56;87;121m[timestamp=000000 run_id=8 log_level=Debug]\\x1b[0m', '[> wait_file_change ()] \\x1b[38;2;56;121;87m[i=8 last_modified=SystemTime { tv_sec: 1674646453 tv_nsec: 262150092 }]\\x1b[0m \\x1b[38;2;56;87;121m[timestamp=000000 run_id=149 log_level=Debug]\\x1b[0m', '[> wait_file_change ()] \\x1b[38;2;56;121;87m[i=9 last_modified=SystemTime { tv_sec: 1674646453 tv_nsec: 262150092 }]\\x1b[0m \\x1b[38;2;56;87;121m[timestamp=000000 run_id=238 log_level=Debug]\\x1b[0m', '[> wait_file_change ()] \\x1b[38;2;56;121;87m[i=10 last_modified=SystemTime { tv_sec: 1674646453 tv_nsec: 262150092 }]\\x1b[0m \\x1b[38;2;56;87;121m[timestamp=000000 run_id=208 log_level=Debug]\\x1b[0m', '[> wait_file_change ()] \\x1b[38;2;56;121;87m[i=11 last_modified=SystemTime { tv_sec: 1674646453 tv_nsec: 262150092 }]\\x1b[0m \\x1b[38;2;56;87;121m[timestamp=000000 run_id=213 log_level=Debug]\\x1b[0m', '[> wait_file_change ()] \\x1b[38;2;56;121;87m[i=12 last_modified=SystemTime { tv_sec: 1674646453 tv_nsec: 262150092 }]\\x1b[0m \\x1b[38;2;56;87;121m[timestamp=000000 run_id=42 log_level=Debug]\\x1b[0m', '[> wait_file_change ()] \\x1b[38;2;56;121;87m[i=13 last_modified=SystemTime { tv_sec: 1674646453 tv_nsec: 262150092 }]\\x1b[0m \\x1b[38;2;56;87;121m[timestamp=000000 run_id=102 log_level=Debug]\\x1b[0m', '[> wait_file_change ()] \\x1b[38;2;56;121;87m[i=14 last_modified=SystemTime { tv_sec: 1674646453 tv_nsec: 262150092 }]\\x1b[0m \\x1b[38;2;56;87;121m[timestamp=000000 run_id=104 log_level=Debug]\\x1b[0m', '[> wait_file_change ()] \\x1b[38;2;56;121;87m[i=15 last_modified=SystemTime { tv_sec: 1674646453 tv_nsec: 262150092 }]\\x1b[0m \\x1b[38;2;56;87;121m[timestamp=000000 run_id=246 log_level=Debug]\\x1b[0m', '[> wait_file_change ()] \\x1b[38;2;56;121;87m[i=16 last_modified=SystemTime { tv_sec: 1674646453 tv_nsec: 262150092 }]\\x1b[0m \\x1b[38;2;56;87;121m[timestamp=000000 run_id=36 log_level=Debug]\\x1b[0m', '[> wait_file_change ()] \\x1b[38;2;56;121;87m[i=17 last_modified=SystemTime { tv_sec: 1674646453 tv_nsec: 695174392 }]\\x1b[0m \\x1b[38;2;56;87;121m[timestamp=000000 run_id=18 log_level=Debug]\\x1b[0m', '[> spi_to_fsx ()] \\x1b[38;2;222;136;76m[new_fsx len=27650]\\x1b[0m \\x1b[38;2;56;87;121m[timestamp=000000 run_id=76 log_level=Debug]\\x1b[0m', '[> spi_to_fsx ()] \\x1b[38;2;222;136;76m[> fs_write new_fsx_path; ok]\\x1b[0m \\x1b[38;2;56;87;121m[timestamp=000000 run_id=53 log_level=Debug]\\x1b[0m', 'fsx.len(): 27650'], 'fsx_path': '../lib_spi/client/client.fsx', 'len(new_code_fsx)': 27649, 'new_code_fsx[:100]': 'type [<Struct>] US0 =\\n    | US0_0\\n    | US0_1\\nlet rec method0 () : struct (string * string * string '}\n"
     ]
    },
    {
     "data": {
      "text/plain": [
       "'../lib_spi/client/client.spi'"
      ]
     },
     "execution_count": 3,
     "metadata": {},
     "output_type": "execute_result"
    }
   ],
   "source": [
    "%%spiral ../lib_spi/client/client.spi\n",
    "\n"
   ]
  },
  {
   "cell_type": "code",
   "execution_count": 4,
   "metadata": {
    "vscode": {
     "languageId": "shellscript"
    }
   },
   "outputs": [
    {
     "name": "stdout",
     "output_type": "stream",
     "text": [
      "\u001b[?1h\u001b=\u001b[6n\u001b[6n\u001b[?1h\u001b=\u001b[?1h\u001b=Fable: F# to Rust compiler 4.0.0-theta-018 (status: alpha)\n",
      "Thanks to the contributor! @FrankBro\n",
      "Stand with Ukraine! https://standwithukraine.com.ua/\n",
      "\n",
      "Parsing ../lib_spi/client/client.fsproj...\n",
      "Retrieving project options from cache, in case of issues run `dotnet fable clean` or try `--noCache` option.\n",
      "Project and references (3 source files) parsed in 188ms\n",
      "\n",
      "Started Fable compilation...\n",
      "File does not exist: /home/alias/home/fs/repos/tictactoe/nbs/node_modules/node-gyp/lib/Find-VisualStudio.cs\n",
      "\u001b[6n\u001b[6n\u001b[1;1HCompiled 1/2: node_modules/node-gyp/lib/Find-VisualStudio.cs\u001b[1;1HCompiled 2/2: ../lib_spi/rust/Types.fs                      \u001b[1;39H\u001b[1;1HCompiled 3/2: ../lib_spi/client/client.fsx\u001b[1;1H                                          \u001b[1;1HFable compilation finished in 12717ms\n",
      "\n",
      "\u001b[39;49m\u001b[33m./../lib_spi/client/client.fsx(495,0): (495,2) warning FABLE: For Rust, support for F# static and module do bindings is disabled by default. It can be enabled with the 'static_do_bindings' feature. Use at your own risk!\n",
      "\u001b[39;49m\u001b[?1h\u001b=\u001b[?1h\u001b=\u001b[2$~\u001b[1$}\u001b[1`\u001b[0$}\u001b[?1h\u001b=\u001b[?1h\u001b=Fable: F# to Rust compiler 4.0.0-theta-018 (status: alpha)\n",
      "Thanks to the contributor! @rfrerebe\n",
      "Stand with Ukraine! https://standwithukraine.com.ua/\n",
      "\n",
      "Parsing ../lib_spi/cli/cli.fsproj...\n",
      "Retrieving project options from cache, in case of issues run `dotnet fable clean` or try `--noCache` option.\n",
      "Project and references (2 source files) parsed in 174ms\n",
      "\n",
      "Skipped compilation because all generated files are up-to-date!\n",
      "\u001b[?1h\u001b=\u001b[?1h\u001b=\u001b[2$~\u001b[1$}\u001b[1`\u001b[0$}\u001b[0m\u001b[0m\u001b[1m\u001b[32m    Finished\u001b[0m release [optimized] target(s) in 0.12s\n",
      "\u001b[?1h\u001b=\u001b[2$~\u001b[1$}\u001b[1`\u001b[0$}[> app ()] \u001b[38;2;56;121;87m[rs_path_clean=\\/home/alias/home/fs/repos/tictactoe/lib_spi/client/client.rs\"\"]\u001b[0m \u001b[38;2;56;87;121m[timestamp=000000 run_id=73 log_level=Debug]\u001b[0m\n",
      "[> read_lines ()] \u001b[38;2;136;23;73m[path_clean=/home/alias/home/fs/repos/tictactoe/lib_spi/client/client.rs]\u001b[0m \u001b[38;2;56;87;121m[timestamp=000000 run_id=80 log_level=Debug]\u001b[0m\n",
      "[> read_lines ()] \u001b[38;2;136;23;73m[reader=RefCell { value: LineReader { delimiter: 10 pos: 0 end_of_complete: 0 end_of_buffer: 0 } }]\u001b[0m \u001b[38;2;56;87;121m[timestamp=000000 run_id=52 log_level=Debug]\u001b[0m\n",
      "[> read_lines ()] \u001b[38;2;136;23;73m[lines len=426]\u001b[0m \u001b[38;2;56;87;121m[timestamp=000000 run_id=186 log_level=Debug]\u001b[0m\n",
      "[> app ()] \u001b[38;2;56;121;87m[found line. removing.= line \"#[path = \"../../nbs/node_modules/node-gyp/lib/Find-VisualStudio.cs\"]\\n\"]\u001b[0m \u001b[38;2;56;87;121m[timestamp=000000 run_id=238 log_level=Debug]\u001b[0m\n",
      "[> app ()] \u001b[38;2;56;121;87m[text len=22287]\u001b[0m \u001b[38;2;56;87;121m[timestamp=000000 run_id=235 log_level=Debug]\u001b[0m\n",
      "[> app ()] \u001b[38;2;56;121;87m[> fs_write rs_path_clean text; ok]\u001b[0m \u001b[38;2;56;87;121m[timestamp=000000 run_id=46 log_level=Debug]\u001b[0m\n",
      "app=0\n",
      "\u001b[?1h\u001b=\u001b[2$~\u001b[1$}\u001b[1`\u001b[0$}\u001b[1m\u001b[2m[INFO]\u001b[0m: Checking for the Wasm target...\n",
      "\u001b[1m\u001b[2m[INFO]\u001b[0m: Compiling to Wasm...\n",
      "\u001b[0m\u001b[0m\u001b[1m\u001b[32m   Compiling\u001b[0m client v0.0.1 (/home/alias/home/fs/repos/tictactoe/lib_spi/client)\n",
      "\u001b[K\u001b[0m\u001b[0m\u001b[1m\u001b[32m    Finished\u001b[0m dev [unoptimized + debuginfo] target(s) in 0.88s              \n",
      "\u001b[1m\u001b[2m[WARN]\u001b[0m: :-) origin crate has no README\n",
      "\u001b[1m\u001b[2m[INFO]\u001b[0m: Installing wasm-bindgen...\n",
      "\u001b[1m\u001b[2m[INFO]\u001b[0m: Optional fields missing from Cargo.toml: 'description', 'repository', and 'license'. These are not necessary, but recommended\n",
      "\u001b[1m\u001b[2m[INFO]\u001b[0m: :-) Done in 1.69s\n",
      "\u001b[1m\u001b[2m[INFO]\u001b[0m: :-) Your wasm pkg is ready to publish at /home/alias/home/fs/repos/tictactoe/lib_spi/client/pkg.\n",
      "\u001b[?1h\u001b=\u001b[2$~\u001b[1$}\u001b[1`\u001b[0$}"
     ]
    }
   ],
   "source": [
    "!pwsh ../lib_spi/client/build.ps1"
   ]
  }
 ],
 "metadata": {
  "kernelspec": {
   "display_name": "Python 3",
   "language": "python",
   "name": "python3"
  },
  "language_info": {
   "codemirror_mode": {
    "name": "ipython",
    "version": 3
   },
   "file_extension": ".py",
   "mimetype": "text/x-python",
   "name": "python",
   "nbconvert_exporter": "python",
   "pygments_lexer": "ipython3",
   "version": "3.10.9"
  },
  "orig_nbformat": 4,
  "vscode": {
   "interpreter": {
    "hash": "69712e5f5cc18cdb93e82f18d7bfde9a47d7138efae1f4b87f8f55069ac86612"
   }
  }
 },
 "nbformat": 4,
 "nbformat_minor": 2
}
