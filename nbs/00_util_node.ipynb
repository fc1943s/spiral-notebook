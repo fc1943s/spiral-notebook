{
 "cells": [
  {
   "cell_type": "code",
   "execution_count": 1,
   "metadata": {},
   "outputs": [],
   "source": [
    "# default_exp util_node"
   ]
  },
  {
   "cell_type": "code",
   "execution_count": 2,
   "metadata": {},
   "outputs": [],
   "source": [
    "import sys\n",
    "sys.path.append('..')\n",
    "import lib_py.ipython_magic as ipython_magic"
   ]
  },
  {
   "cell_type": "markdown",
   "metadata": {},
   "source": [
    "# util_node"
   ]
  },
  {
   "cell_type": "code",
   "execution_count": 3,
   "metadata": {
    "vscode": {
     "languageId": "javascript"
    }
   },
   "outputs": [
    {
     "name": "stdout",
     "output_type": "stream",
     "text": [
      "<magic:63b1d54632214feabed2da6426dd9de9>\n"
     ]
    },
    {
     "data": {
      "application/javascript": "IPython.notebook.save_checkpoint();",
      "text/plain": [
       "<IPython.core.display.Javascript object>"
      ]
     },
     "metadata": {},
     "output_type": "display_data"
    },
    {
     "data": {
      "text/plain": [
       "'/workspaces/spiral-notebook/lib_ts/util_node.ts'"
      ]
     },
     "execution_count": 3,
     "metadata": {},
     "output_type": "execute_result"
    }
   ],
   "source": [
    "%%node export\n",
    "\n",
    "import * as fs from \"fs\"\n",
    "import * as util from \"./util\"\n",
    "\n",
    "var start = process.hrtime()\n",
    "\n",
    "export var elapsed = (start: [number, number]) => process.hrtime(start)[1] / 1000000\n",
    "export var logStep = (note: string) => {\n",
    "    console.log(`${process.hrtime(start)[0]} s, ${elapsed(start).toFixed(3)} ms - ${note}`)\n",
    "    start = process.hrtime()\n",
    "}\n",
    "export var waitFileChange = async (path: string) => {\n",
    "    var start = process.hrtime()\n",
    "    const stat_mtime = fs.statSync(path).mtimeMs\n",
    "    const oldLines = fs.readFileSync(path).toString()\n",
    "    let newLines = oldLines\n",
    "    while (elapsed(start) < 30000\n",
    "        && (fs.statSync(path).mtimeMs === stat_mtime\n",
    "            || newLines === oldLines\n",
    "            || newLines.length === 0)) {\n",
    "        await util.sleep(50)\n",
    "        newLines = fs.readFileSync(path).toString()\n",
    "    }\n",
    "    return newLines\n",
    "}\n"
   ]
  },
  {
   "cell_type": "code",
   "execution_count": null,
   "metadata": {},
   "outputs": [],
   "source": []
  }
 ],
 "metadata": {
  "interpreter": {
   "hash": "3ad933181bd8a04b432d3370b9dc3b0662ad032c4dfaa4e4f1596c548f763858"
  },
  "kernelspec": {
   "display_name": "Python 3.10.4 64-bit",
   "language": "python",
   "name": "python3"
  },
  "language_info": {
   "codemirror_mode": {
    "name": "ipython",
    "version": 3
   },
   "file_extension": ".py",
   "mimetype": "text/x-python",
   "name": "python",
   "nbconvert_exporter": "python",
   "pygments_lexer": "ipython3",
   "version": "3.10.4"
  },
  "orig_nbformat": 4
 },
 "nbformat": 4,
 "nbformat_minor": 2
}
