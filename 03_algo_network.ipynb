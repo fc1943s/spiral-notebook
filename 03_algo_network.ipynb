{
 "cells": [
  {
   "cell_type": "code",
   "execution_count": 1,
   "metadata": {},
   "outputs": [],
   "source": [
    "# default_exp algo_network"
   ]
  },
  {
   "cell_type": "markdown",
   "metadata": {},
   "source": [
    "# python"
   ]
  },
  {
   "cell_type": "code",
   "execution_count": 2,
   "metadata": {},
   "outputs": [],
   "source": [
    "import ipython_magic"
   ]
  },
  {
   "cell_type": "markdown",
   "metadata": {},
   "source": [
    "# node"
   ]
  },
  {
   "cell_type": "code",
   "execution_count": 3,
   "metadata": {
    "vscode": {
     "languageId": "javascript"
    }
   },
   "outputs": [
    {
     "name": "stdout",
     "output_type": "stream",
     "text": [
      "09ef7dbf10814fc78c34849be3d54f3f\n"
     ]
    },
    {
     "data": {
      "application/javascript": "IPython.notebook.save_checkpoint();",
      "text/plain": [
       "<IPython.core.display.Javascript object>"
      ]
     },
     "metadata": {},
     "output_type": "display_data"
    },
    {
     "data": {
      "text/plain": [
       "'algo_network.ts'"
      ]
     },
     "execution_count": 3,
     "metadata": {},
     "output_type": "execute_result"
    }
   ],
   "source": [
    "%%node export\n",
    "\n",
    "import buffer from \"buffer\"\n",
    "\n",
    "export var encode = (value: string) => {\n",
    "    return new Uint8Array(buffer.Buffer.from(value, \"base64\"))\n",
    "}\n"
   ]
  },
  {
   "cell_type": "code",
   "execution_count": 4,
   "metadata": {
    "vscode": {
     "languageId": "javascript"
    }
   },
   "outputs": [
    {
     "data": {
      "text/plain": [
       "'algo_network.ts'"
      ]
     },
     "execution_count": 4,
     "metadata": {},
     "output_type": "execute_result"
    }
   ],
   "source": [
    "%%node export\n",
    "\n",
    "import algosdk from \"algosdk\"\n",
    "\n",
    "export var newClient = (token: string, server: string, port: number) => {\n",
    "    return new algosdk.Algodv2(token, server, port)\n",
    "}\n"
   ]
  },
  {
   "cell_type": "code",
   "execution_count": 5,
   "metadata": {
    "vscode": {
     "languageId": "javascript"
    }
   },
   "outputs": [
    {
     "data": {
      "text/plain": [
       "'algo_network.ts'"
      ]
     },
     "execution_count": 5,
     "metadata": {},
     "output_type": "execute_result"
    }
   ],
   "source": [
    "%%node export\n",
    "\n",
    "export var deployApplication = async (\n",
    "    client: algosdk.Algodv2,\n",
    "    address: string,\n",
    "    privateKey: string,\n",
    "    applicationStartTeal: string, \n",
    "    clearProgramTeal: string, \n",
    "    options = {\n",
    "        numGlobalByteSlices: 0,\n",
    "        numGlobalInts: 0,\n",
    "        numLocalByteSlices: 0,\n",
    "        numLocalInts: 0\n",
    "    }) => {\n",
    "    try {\n",
    "        const suggestedParams = await client.getTransactionParams().do()\n",
    "        suggestedParams.flatFee = true\n",
    "        suggestedParams.fee = 1000\n",
    "\n",
    "        const applicationStartCompiled = await client.compile(applicationStartTeal).do()\n",
    "        const clearProgramCompiled = await client.compile(clearProgramTeal).do()\n",
    "\n",
    "        const txn = algosdk.makeApplicationCreateTxnFromObject({\n",
    "            suggestedParams,\n",
    "            from: address,\n",
    "            onComplete: algosdk.OnApplicationComplete.NoOpOC,\n",
    "            approvalProgram: encode(applicationStartCompiled.result),\n",
    "            clearProgram: encode(clearProgramCompiled.result),\n",
    "            ...options\n",
    "        })\n",
    "\n",
    "        const txnSigned = txn.signTxn(encode(privateKey))\n",
    "        const { txId } = await client.sendRawTransaction(txnSigned).do()\n",
    "        const transactionResponse = await algosdk.waitForConfirmation(client, txId, 5)\n",
    "        const appId = transactionResponse[\"application-index\"]\n",
    "\n",
    "        return {\n",
    "            suggestedParams,\n",
    "            applicationStartCompiled,\n",
    "            clearProgramCompiled,\n",
    "            txn,\n",
    "            txnSigned,\n",
    "            txId,\n",
    "            transactionResponse,\n",
    "            appId\n",
    "        }\n",
    "    } catch (e) {\n",
    "        console.log(`algo_network.deployApplication() rethrowing error: ${e}`)\n",
    "        throw e\n",
    "    }\n",
    "}\n"
   ]
  },
  {
   "cell_type": "code",
   "execution_count": null,
   "metadata": {
    "vscode": {
     "languageId": "javascript"
    }
   },
   "outputs": [],
   "source": []
  }
 ],
 "metadata": {
  "interpreter": {
   "hash": "3ad933181bd8a04b432d3370b9dc3b0662ad032c4dfaa4e4f1596c548f763858"
  },
  "kernelspec": {
   "display_name": "Python 3.10.4 64-bit",
   "language": "python",
   "name": "python3"
  },
  "language_info": {
   "codemirror_mode": {
    "name": "ipython",
    "version": 3
   },
   "file_extension": ".py",
   "mimetype": "text/x-python",
   "name": "python",
   "nbconvert_exporter": "python",
   "pygments_lexer": "ipython3",
   "version": "3.10.4"
  },
  "orig_nbformat": 4
 },
 "nbformat": 4,
 "nbformat_minor": 2
}
