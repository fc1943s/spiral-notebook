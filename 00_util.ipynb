{
 "cells": [
  {
   "cell_type": "code",
   "execution_count": 1,
   "metadata": {},
   "outputs": [],
   "source": [
    "# default_exp util"
   ]
  },
  {
   "cell_type": "markdown",
   "metadata": {},
   "source": [
    "# install"
   ]
  },
  {
   "cell_type": "code",
   "execution_count": 2,
   "metadata": {},
   "outputs": [
    {
     "name": "stdout",
     "output_type": "stream",
     "text": [
      "Requirement already satisfied: nbdev in /opt/python/3.10.4/lib/python3.10/site-packages (1.2.8)\n",
      "Requirement already satisfied: jupyter in /opt/python/3.10.4/lib/python3.10/site-packages (from nbdev) (1.0.0)\n",
      "Requirement already satisfied: Jinja2<3.1.0 in /opt/python/3.10.4/lib/python3.10/site-packages (from nbdev) (3.0.3)\n",
      "Requirement already satisfied: fastrelease in /opt/python/3.10.4/lib/python3.10/site-packages (from nbdev) (0.1.16)\n",
      "Requirement already satisfied: nbconvert>=6.1 in /opt/python/3.10.4/lib/python3.10/site-packages (from nbdev) (6.5.0)\n",
      "Requirement already satisfied: ghapi in /opt/python/3.10.4/lib/python3.10/site-packages (from nbdev) (0.1.20)\n",
      "Requirement already satisfied: ipykernel in /opt/python/3.10.4/lib/python3.10/site-packages (from nbdev) (6.13.0)\n",
      "Requirement already satisfied: pip in /opt/python/3.10.4/lib/python3.10/site-packages (from nbdev) (22.0.4)\n",
      "Requirement already satisfied: packaging in /opt/python/3.10.4/lib/python3.10/site-packages (from nbdev) (21.3)\n",
      "Requirement already satisfied: nbformat>=4.4.0 in /opt/python/3.10.4/lib/python3.10/site-packages (from nbdev) (5.4.0)\n",
      "Requirement already satisfied: fastcore>=1.4.1 in /opt/python/3.10.4/lib/python3.10/site-packages (from nbdev) (1.4.3)\n",
      "Requirement already satisfied: jupyter-client<8 in /opt/python/3.10.4/lib/python3.10/site-packages (from nbdev) (7.3.0)\n",
      "Requirement already satisfied: pyyaml in /opt/python/3.10.4/lib/python3.10/site-packages (from nbdev) (6.0)\n",
      "Requirement already satisfied: MarkupSafe>=2.0 in /opt/python/3.10.4/lib/python3.10/site-packages (from Jinja2<3.1.0->nbdev) (2.1.1)\n",
      "Requirement already satisfied: nest-asyncio>=1.5.4 in /opt/python/3.10.4/lib/python3.10/site-packages (from jupyter-client<8->nbdev) (1.5.5)\n",
      "Requirement already satisfied: traitlets in /opt/python/3.10.4/lib/python3.10/site-packages (from jupyter-client<8->nbdev) (5.1.1)\n",
      "Requirement already satisfied: pyzmq>=22.3 in /opt/python/3.10.4/lib/python3.10/site-packages (from jupyter-client<8->nbdev) (22.3.0)\n",
      "Requirement already satisfied: python-dateutil>=2.8.2 in /opt/python/3.10.4/lib/python3.10/site-packages (from jupyter-client<8->nbdev) (2.8.2)\n",
      "Requirement already satisfied: tornado>=6.0 in /opt/python/3.10.4/lib/python3.10/site-packages (from jupyter-client<8->nbdev) (6.1)\n",
      "Requirement already satisfied: entrypoints in /opt/python/3.10.4/lib/python3.10/site-packages (from jupyter-client<8->nbdev) (0.4)\n",
      "Requirement already satisfied: jupyter-core>=4.9.2 in /opt/python/3.10.4/lib/python3.10/site-packages (from jupyter-client<8->nbdev) (4.10.0)\n",
      "Requirement already satisfied: nbclient>=0.5.0 in /opt/python/3.10.4/lib/python3.10/site-packages (from nbconvert>=6.1->nbdev) (0.6.2)\n",
      "Requirement already satisfied: mistune<2,>=0.8.1 in /opt/python/3.10.4/lib/python3.10/site-packages (from nbconvert>=6.1->nbdev) (0.8.4)\n",
      "Requirement already satisfied: bleach in /opt/python/3.10.4/lib/python3.10/site-packages (from nbconvert>=6.1->nbdev) (5.0.0)\n",
      "Requirement already satisfied: pygments>=2.4.1 in /opt/python/3.10.4/lib/python3.10/site-packages (from nbconvert>=6.1->nbdev) (2.12.0)\n",
      "Requirement already satisfied: pandocfilters>=1.4.1 in /opt/python/3.10.4/lib/python3.10/site-packages (from nbconvert>=6.1->nbdev) (1.5.0)\n",
      "Requirement already satisfied: tinycss2 in /opt/python/3.10.4/lib/python3.10/site-packages (from nbconvert>=6.1->nbdev) (1.1.1)\n",
      "Requirement already satisfied: defusedxml in /opt/python/3.10.4/lib/python3.10/site-packages (from nbconvert>=6.1->nbdev) (0.7.1)\n",
      "Requirement already satisfied: beautifulsoup4 in /opt/python/3.10.4/lib/python3.10/site-packages (from nbconvert>=6.1->nbdev) (4.11.1)\n",
      "Requirement already satisfied: jupyterlab-pygments in /opt/python/3.10.4/lib/python3.10/site-packages (from nbconvert>=6.1->nbdev) (0.2.2)\n",
      "Requirement already satisfied: jsonschema>=2.6 in /opt/python/3.10.4/lib/python3.10/site-packages (from nbformat>=4.4.0->nbdev) (4.4.0)\n",
      "Requirement already satisfied: fastjsonschema in /opt/python/3.10.4/lib/python3.10/site-packages (from nbformat>=4.4.0->nbdev) (2.15.3)\n",
      "Requirement already satisfied: psutil in /opt/python/3.10.4/lib/python3.10/site-packages (from ipykernel->nbdev) (5.9.0)\n",
      "Requirement already satisfied: debugpy>=1.0 in /opt/python/3.10.4/lib/python3.10/site-packages (from ipykernel->nbdev) (1.6.0)\n",
      "Requirement already satisfied: ipython>=7.23.1 in /opt/python/3.10.4/lib/python3.10/site-packages (from ipykernel->nbdev) (8.3.0)\n",
      "Requirement already satisfied: matplotlib-inline>=0.1 in /opt/python/3.10.4/lib/python3.10/site-packages (from ipykernel->nbdev) (0.1.3)\n",
      "Requirement already satisfied: notebook in /opt/python/3.10.4/lib/python3.10/site-packages (from jupyter->nbdev) (6.4.11)\n",
      "Requirement already satisfied: qtconsole in /opt/python/3.10.4/lib/python3.10/site-packages (from jupyter->nbdev) (5.3.0)\n",
      "Requirement already satisfied: jupyter-console in /opt/python/3.10.4/lib/python3.10/site-packages (from jupyter->nbdev) (6.4.3)\n",
      "Requirement already satisfied: ipywidgets in /opt/python/3.10.4/lib/python3.10/site-packages (from jupyter->nbdev) (7.7.0)\n",
      "Requirement already satisfied: pyparsing!=3.0.5,>=2.0.2 in /opt/python/3.10.4/lib/python3.10/site-packages (from packaging->nbdev) (3.0.8)\n",
      "Requirement already satisfied: pickleshare in /opt/python/3.10.4/lib/python3.10/site-packages (from ipython>=7.23.1->ipykernel->nbdev) (0.7.5)\n",
      "Requirement already satisfied: decorator in /opt/python/3.10.4/lib/python3.10/site-packages (from ipython>=7.23.1->ipykernel->nbdev) (5.1.1)\n",
      "Requirement already satisfied: stack-data in /opt/python/3.10.4/lib/python3.10/site-packages (from ipython>=7.23.1->ipykernel->nbdev) (0.2.0)\n",
      "Requirement already satisfied: setuptools>=18.5 in /opt/python/3.10.4/lib/python3.10/site-packages (from ipython>=7.23.1->ipykernel->nbdev) (61.3.0)\n",
      "Requirement already satisfied: backcall in /opt/python/3.10.4/lib/python3.10/site-packages (from ipython>=7.23.1->ipykernel->nbdev) (0.2.0)\n",
      "Requirement already satisfied: pexpect>4.3 in /opt/python/3.10.4/lib/python3.10/site-packages (from ipython>=7.23.1->ipykernel->nbdev) (4.8.0)\n",
      "Requirement already satisfied: jedi>=0.16 in /opt/python/3.10.4/lib/python3.10/site-packages (from ipython>=7.23.1->ipykernel->nbdev) (0.18.1)\n",
      "Requirement already satisfied: prompt-toolkit!=3.0.0,!=3.0.1,<3.1.0,>=2.0.0 in /opt/python/3.10.4/lib/python3.10/site-packages (from ipython>=7.23.1->ipykernel->nbdev) (3.0.29)\n",
      "Requirement already satisfied: pyrsistent!=0.17.0,!=0.17.1,!=0.17.2,>=0.14.0 in /opt/python/3.10.4/lib/python3.10/site-packages (from jsonschema>=2.6->nbformat>=4.4.0->nbdev) (0.18.1)\n",
      "Requirement already satisfied: attrs>=17.4.0 in /opt/python/3.10.4/lib/python3.10/site-packages (from jsonschema>=2.6->nbformat>=4.4.0->nbdev) (21.4.0)\n",
      "Requirement already satisfied: six>=1.5 in /opt/python/3.10.4/lib/python3.10/site-packages (from python-dateutil>=2.8.2->jupyter-client<8->nbdev) (1.16.0)\n",
      "Requirement already satisfied: soupsieve>1.2 in /opt/python/3.10.4/lib/python3.10/site-packages (from beautifulsoup4->nbconvert>=6.1->nbdev) (2.3.2.post1)\n",
      "Requirement already satisfied: webencodings in /opt/python/3.10.4/lib/python3.10/site-packages (from bleach->nbconvert>=6.1->nbdev) (0.5.1)\n",
      "Requirement already satisfied: jupyterlab-widgets>=1.0.0 in /opt/python/3.10.4/lib/python3.10/site-packages (from ipywidgets->jupyter->nbdev) (1.1.0)\n",
      "Requirement already satisfied: ipython-genutils~=0.2.0 in /opt/python/3.10.4/lib/python3.10/site-packages (from ipywidgets->jupyter->nbdev) (0.2.0)\n",
      "Requirement already satisfied: widgetsnbextension~=3.6.0 in /opt/python/3.10.4/lib/python3.10/site-packages (from ipywidgets->jupyter->nbdev) (3.6.0)\n",
      "Requirement already satisfied: prometheus-client in /opt/python/3.10.4/lib/python3.10/site-packages (from notebook->jupyter->nbdev) (0.14.1)\n",
      "Requirement already satisfied: terminado>=0.8.3 in /opt/python/3.10.4/lib/python3.10/site-packages (from notebook->jupyter->nbdev) (0.13.3)\n",
      "Requirement already satisfied: Send2Trash>=1.8.0 in /opt/python/3.10.4/lib/python3.10/site-packages (from notebook->jupyter->nbdev) (1.8.0)\n",
      "Requirement already satisfied: argon2-cffi in /opt/python/3.10.4/lib/python3.10/site-packages (from notebook->jupyter->nbdev) (21.3.0)\n",
      "Requirement already satisfied: qtpy>=2.0.1 in /opt/python/3.10.4/lib/python3.10/site-packages (from qtconsole->jupyter->nbdev) (2.1.0)\n",
      "Requirement already satisfied: parso<0.9.0,>=0.8.0 in /opt/python/3.10.4/lib/python3.10/site-packages (from jedi>=0.16->ipython>=7.23.1->ipykernel->nbdev) (0.8.3)\n",
      "Requirement already satisfied: ptyprocess>=0.5 in /opt/python/3.10.4/lib/python3.10/site-packages (from pexpect>4.3->ipython>=7.23.1->ipykernel->nbdev) (0.7.0)\n",
      "Requirement already satisfied: wcwidth in /opt/python/3.10.4/lib/python3.10/site-packages (from prompt-toolkit!=3.0.0,!=3.0.1,<3.1.0,>=2.0.0->ipython>=7.23.1->ipykernel->nbdev) (0.2.5)\n",
      "Requirement already satisfied: argon2-cffi-bindings in /opt/python/3.10.4/lib/python3.10/site-packages (from argon2-cffi->notebook->jupyter->nbdev) (21.2.0)\n",
      "Requirement already satisfied: executing in /opt/python/3.10.4/lib/python3.10/site-packages (from stack-data->ipython>=7.23.1->ipykernel->nbdev) (0.8.3)\n",
      "Requirement already satisfied: asttokens in /opt/python/3.10.4/lib/python3.10/site-packages (from stack-data->ipython>=7.23.1->ipykernel->nbdev) (2.0.5)\n",
      "Requirement already satisfied: pure-eval in /opt/python/3.10.4/lib/python3.10/site-packages (from stack-data->ipython>=7.23.1->ipykernel->nbdev) (0.2.2)\n",
      "Requirement already satisfied: cffi>=1.0.1 in /opt/python/3.10.4/lib/python3.10/site-packages (from argon2-cffi-bindings->argon2-cffi->notebook->jupyter->nbdev) (1.15.0)\n",
      "Requirement already satisfied: pycparser in /opt/python/3.10.4/lib/python3.10/site-packages (from cffi>=1.0.1->argon2-cffi-bindings->argon2-cffi->notebook->jupyter->nbdev) (2.21)\n",
      "\u001b[33mWARNING: You are using pip version 22.0.4; however, version 22.1.1 is available.\n",
      "You should consider upgrading via the '/home/codespace/.python/current/bin/python3 -m pip install --upgrade pip' command.\u001b[0m\u001b[33m\n",
      "\u001b[0mNote: you may need to restart the kernel to use updated packages.\n"
     ]
    }
   ],
   "source": [
    "%pip install nbdev"
   ]
  },
  {
   "cell_type": "markdown",
   "metadata": {},
   "source": [
    "# python"
   ]
  },
  {
   "cell_type": "code",
   "execution_count": 3,
   "metadata": {},
   "outputs": [],
   "source": [
    "#export\n",
    "\n",
    "import uuid\n",
    "\n",
    "def new_id():\n",
    "    return uuid.uuid4().hex\n",
    "\n",
    "def list_partition(lines, predicate):\n",
    "    l1, l2 = [], []\n",
    "    for line in lines:\n",
    "        (l1, l2)[not predicate(line)].append(line)\n",
    "    return l1, l2\n",
    "\n",
    "def write_file(filename, text):\n",
    "    with open(filename, 'w') as f:\n",
    "        return f.write(text)\n",
    "\n",
    "def read_file(filename):\n",
    "    with open(filename, 'r') as f:\n",
    "        return f.read()\n"
   ]
  },
  {
   "cell_type": "code",
   "execution_count": 4,
   "metadata": {},
   "outputs": [],
   "source": [
    "#export\n",
    "\n",
    "from time import sleep\n",
    "from IPython.display import display, Javascript\n",
    "import subprocess\n",
    "import os\n",
    "import uuid\n",
    "import re\n",
    "\n",
    "def _get_notebook_path_and_save():\n",
    "    magic = new_id()\n",
    "    print(magic)\n",
    "    # saves it (ctrl+S)\n",
    "    display(Javascript('IPython.notebook.save_checkpoint();'))\n",
    "    nb_name = None\n",
    "    while nb_name is None:\n",
    "        try:\n",
    "            sleep(0.1)\n",
    "            nb_name = subprocess.check_output(\n",
    "                f'grep -l {magic} *.ipynb', shell=True).decode().strip()\n",
    "        except:\n",
    "            pass\n",
    "    return os.path.join(os.getcwd(), nb_name)\n",
    "\n",
    "def get_notebook_name():\n",
    "    ipynb_path = _get_notebook_path_and_save()\n",
    "    return re.search(r'\\# default_exp (\\w+) *', read_file(ipynb_path)).group(1)\n",
    "\n",
    "_notebook_name = None\n"
   ]
  },
  {
   "cell_type": "code",
   "execution_count": 5,
   "metadata": {},
   "outputs": [
    {
     "name": "stdout",
     "output_type": "stream",
     "text": [
      "e5e1d4a1261f4e5c8b38d8b371062099\n"
     ]
    },
    {
     "data": {
      "application/javascript": "IPython.notebook.save_checkpoint();",
      "text/plain": [
       "<IPython.core.display.Javascript object>"
      ]
     },
     "metadata": {},
     "output_type": "display_data"
    },
    {
     "data": {
      "text/plain": [
       "'util'"
      ]
     },
     "execution_count": 5,
     "metadata": {},
     "output_type": "execute_result"
    }
   ],
   "source": [
    "_notebook_name = get_notebook_name()\n",
    "_notebook_name"
   ]
  },
  {
   "cell_type": "code",
   "execution_count": 6,
   "metadata": {},
   "outputs": [],
   "source": [
    "#export\n",
    "\n",
    "import subprocess\n",
    "\n",
    "def run_shell(*args, **kwargs):\n",
    "    return subprocess.run(*args, shell=True, capture_output=True, **kwargs)\n",
    "    \n",
    "def run(*args, **kwargs):\n",
    "    shell = run_shell(*args, **kwargs)\n",
    "    err = shell.stderr.decode()\n",
    "    return f'run() error: {err}' if err != '' else shell.stdout.decode()\n"
   ]
  },
  {
   "cell_type": "code",
   "execution_count": 7,
   "metadata": {},
   "outputs": [],
   "source": [
    "#export\n",
    "\n",
    "from IPython.core.magic import register_cell_magic\n",
    "\n",
    "_node_cache = ''\n",
    "\n",
    "@register_cell_magic\n",
    "def node(arg, cell, test=False):\n",
    "    global _node_cache\n",
    "    global _notebook_name\n",
    "\n",
    "    ipython_node_path = '_ipython_node.ts'\n",
    "    \n",
    "    cache_imports, cache_exports = list_partition(_node_cache.splitlines(), lambda line: line.startswith('import '))\n",
    "    cell_imports, cell_exports = list_partition(cell.splitlines(), lambda line: line.startswith('import '))\n",
    "    cell_exports = '\\n'.join(cell_exports).strip('\\n').split('\\n')\n",
    "\n",
    "    if arg == 'run':\n",
    "        ts_imports = cache_imports\n",
    "        ipython_imports = cache_imports + cell_imports\n",
    "\n",
    "        ts_exports = cache_exports\n",
    "        ipython_exports = cache_exports + ['', '// cell', 'var run = async (...args) => {'] + cell_exports + ['}', f'await run(\"{arg}\")']\n",
    "    elif arg == 'export':\n",
    "        ts_imports = cache_imports + cell_imports\n",
    "        ipython_imports = ts_imports\n",
    "\n",
    "        ts_exports = cache_exports + ['', '// cell'] + cell_exports\n",
    "        ipython_exports = ts_exports\n",
    "\n",
    "    new_code_ts = '\\n'.join(list(dict.fromkeys(ts_imports))) + '\\n\\n\\n' + '\\n'.join(ts_exports).strip('\\n')\n",
    "    new_code_ipython = '\\n'.join(list(dict.fromkeys(ipython_imports))) + '\\n\\n\\n' + '\\n'.join(ipython_exports).strip('\\n')\n",
    "\n",
    "    write_file(ipython_node_path, new_code_ipython)\n",
    "\n",
    "    if arg == 'run':\n",
    "        result = run(f'NODE_NO_WARNINGS=1 node --loader ts-node/esm --es-module-specifier-resolution=node {ipython_node_path}').splitlines()\n",
    "    else:\n",
    "        result = []\n",
    "\n",
    "    _node_cache = new_code_ts\n",
    "\n",
    "    if test:\n",
    "        return result, new_code_ts, new_code_ipython\n",
    "    else:\n",
    "        if _notebook_name is None:\n",
    "            _notebook_name = get_notebook_name()\n",
    "\n",
    "        ts_node_path = f'{_notebook_name}.ts'\n",
    "\n",
    "        write_file(ts_node_path, new_code_ts)\n",
    "        return result if result != [] else ts_node_path\n"
   ]
  },
  {
   "cell_type": "code",
   "execution_count": 8,
   "metadata": {},
   "outputs": [
    {
     "name": "stdout",
     "output_type": "stream",
     "text": [
      "arg: export result: []\n",
      "arg: export result: []\n",
      "arg: run result: ['', '']\n",
      "arg: run result: ['0']\n",
      "arg: export result: []\n"
     ]
    }
   ],
   "source": [
    "_node_cache = ''\n",
    "\n",
    "def test_cell_node(arg, cell, expected_ts, expected_ipython, expected_result):\n",
    "    result, new_code_ts, new_code_ipython = node(arg, cell, test=True)\n",
    "    if new_code_ts != expected_ts or new_code_ipython != expected_ipython or result != expected_result:\n",
    "        print('\\n' + '\\n'.join(['\\n|arg:', arg, '\\n|cell:', cell, \n",
    "                     '\\n|new_code_ts:', new_code_ts, '\\n|expected_ts:', expected_ts, \n",
    "                     '\\n|new_code_ipython:', new_code_ipython, '\\n|expected_ipython:', expected_ipython, \n",
    "                     '\\n|result:', str(result), '\\n|expected_result:', str(expected_result)]))\n",
    "    else:\n",
    "        print('arg:', arg, 'result:', expected_result)\n",
    "\n",
    "test_cell_node(\n",
    "    'export',\n",
    "    'import * as os from \"os\"\\nvar a = os.EOL',\n",
    "    'import * as os from \"os\"\\n\\n\\n// cell\\nvar a = os.EOL',\n",
    "    'import * as os from \"os\"\\n\\n\\n// cell\\nvar a = os.EOL',\n",
    "    [])\n",
    "\n",
    "test_cell_node(\n",
    "    'export',\n",
    "    'import * as fs from \"fs\"\\nvar b = fs.constants.F_OK',\n",
    "    'import * as os from \"os\"\\nimport * as fs from \"fs\"\\n\\n\\n// cell\\nvar a = os.EOL\\n\\n// cell\\nvar b = fs.constants.F_OK',\n",
    "    'import * as os from \"os\"\\nimport * as fs from \"fs\"\\n\\n\\n// cell\\nvar a = os.EOL\\n\\n// cell\\nvar b = fs.constants.F_OK',\n",
    "    [])\n",
    "\n",
    "test_cell_node(\n",
    "    'run',\n",
    "    'console.log(a)',\n",
    "    'import * as os from \"os\"\\nimport * as fs from \"fs\"\\n\\n\\n// cell\\nvar a = os.EOL\\n\\n// cell\\nvar b = fs.constants.F_OK',\n",
    "    'import * as os from \"os\"\\nimport * as fs from \"fs\"\\n\\n\\n// cell\\nvar a = os.EOL\\n\\n// cell\\nvar b = fs.constants.F_OK\\n\\n// cell\\nvar run = async (...args) => {\\nconsole.log(a)\\n}\\nawait run(\"run\")',\n",
    "    ['', ''])\n",
    "\n",
    "test_cell_node(\n",
    "    'run',\n",
    "    'console.log(b)',\n",
    "    'import * as os from \"os\"\\nimport * as fs from \"fs\"\\n\\n\\n// cell\\nvar a = os.EOL\\n\\n// cell\\nvar b = fs.constants.F_OK',\n",
    "    'import * as os from \"os\"\\nimport * as fs from \"fs\"\\n\\n\\n// cell\\nvar a = os.EOL\\n\\n// cell\\nvar b = fs.constants.F_OK\\n\\n// cell\\nvar run = async (...args) => {\\nconsole.log(b)\\n}\\nawait run(\"run\")',\n",
    "    ['0'])\n",
    "\n",
    "test_cell_node(\n",
    "    'export',\n",
    "    'import * as fs from \"fs\"\\nvar c = fs.constants.X_OK',\n",
    "    'import * as os from \"os\"\\nimport * as fs from \"fs\"\\n\\n\\n// cell\\nvar a = os.EOL\\n\\n// cell\\nvar b = fs.constants.F_OK\\n\\n// cell\\nvar c = fs.constants.X_OK',\n",
    "    'import * as os from \"os\"\\nimport * as fs from \"fs\"\\n\\n\\n// cell\\nvar a = os.EOL\\n\\n// cell\\nvar b = fs.constants.F_OK\\n\\n// cell\\nvar c = fs.constants.X_OK',\n",
    "    [])\n",
    "\n",
    "_node_cache = ''"
   ]
  },
  {
   "cell_type": "code",
   "execution_count": 9,
   "metadata": {},
   "outputs": [],
   "source": [
    "#export\n",
    "\n",
    "from IPython.core.magic import register_cell_magic\n",
    "\n",
    "_spiral_cache = ''\n",
    "\n",
    "@register_cell_magic\n",
    "def spiral(arg, cell, test=False):\n",
    "    global _spiral_cache\n",
    "    print(arg, cell)\n",
    "    return None\n"
   ]
  },
  {
   "cell_type": "code",
   "execution_count": 10,
   "metadata": {},
   "outputs": [],
   "source": [
    "_spiral_cache = ''\n",
    "\n",
    "def test_cell_spiral(arg, cell, expected):\n",
    "    result = spiral(arg, cell, test=True)\n",
    "    print(result)\n",
    "\n",
    "_spiral_cache = ''"
   ]
  },
  {
   "cell_type": "code",
   "execution_count": 11,
   "metadata": {
    "vscode": {
     "languageId": "shellscript"
    }
   },
   "outputs": [
    {
     "name": "stdout",
     "output_type": "stream",
     "text": [
      "a b c \n",
      "inl main () : () =\n",
      "    ()\n",
      "\n"
     ]
    }
   ],
   "source": [
    "%%spiral a b c\n",
    "\n",
    "inl main () : () =\n",
    "    ()\n"
   ]
  },
  {
   "cell_type": "code",
   "execution_count": null,
   "metadata": {},
   "outputs": [],
   "source": []
  },
  {
   "cell_type": "markdown",
   "metadata": {},
   "source": [
    "# node"
   ]
  },
  {
   "cell_type": "code",
   "execution_count": 12,
   "metadata": {
    "vscode": {
     "languageId": "javascript"
    }
   },
   "outputs": [
    {
     "data": {
      "text/plain": [
       "'util.ts'"
      ]
     },
     "execution_count": 12,
     "metadata": {},
     "output_type": "execute_result"
    }
   ],
   "source": [
    "%%node export\n",
    "\n",
    "import * as fs from \"fs\"\n",
    "\n",
    "var start = process.hrtime()\n",
    "\n",
    "export var elapsed = (start: [number, number]) => process.hrtime(start)[1] / 1000000\n",
    "export var logStep = (note: string) => {\n",
    "    console.log(`${process.hrtime(start)[0]} s, ${elapsed(start).toFixed(3)} ms - ${note}`)\n",
    "    start = process.hrtime()\n",
    "}\n",
    "export var sleep = (ms: number) => new Promise(resolve => setTimeout(resolve, ms))\n",
    "export var waitFileChange = async (path: string) => {\n",
    "    start = process.hrtime()\n",
    "    const stat_mtime = fs.statSync(path).mtimeMs\n",
    "    while (elapsed(start) < 30000\n",
    "        && (fs.statSync(path).mtimeMs === stat_mtime\n",
    "            || fs.readFileSync(path).length === 0)) {\n",
    "        await sleep(50)\n",
    "    }\n",
    "}"
   ]
  },
  {
   "cell_type": "code",
   "execution_count": null,
   "metadata": {
    "vscode": {
     "languageId": "javascript"
    }
   },
   "outputs": [],
   "source": []
  },
  {
   "cell_type": "markdown",
   "metadata": {},
   "source": [
    "# py compile"
   ]
  },
  {
   "cell_type": "code",
   "execution_count": null,
   "metadata": {},
   "outputs": [],
   "source": [
    "!nbdev_build_lib"
   ]
  }
 ],
 "metadata": {
  "interpreter": {
   "hash": "3ad933181bd8a04b432d3370b9dc3b0662ad032c4dfaa4e4f1596c548f763858"
  },
  "kernelspec": {
   "display_name": "Python 3.10.4 64-bit",
   "language": "python",
   "name": "python3"
  },
  "language_info": {
   "codemirror_mode": {
    "name": "ipython",
    "version": 3
   },
   "file_extension": ".py",
   "mimetype": "text/x-python",
   "name": "python",
   "nbconvert_exporter": "python",
   "pygments_lexer": "ipython3",
   "version": "3.10.4"
  },
  "orig_nbformat": 4
 },
 "nbformat": 4,
 "nbformat_minor": 2
}
