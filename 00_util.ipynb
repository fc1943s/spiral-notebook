{
 "cells": [
  {
   "cell_type": "code",
   "execution_count": 1,
   "metadata": {},
   "outputs": [],
   "source": [
    "# default_exp util"
   ]
  },
  {
   "cell_type": "markdown",
   "metadata": {},
   "source": [
    "# install"
   ]
  },
  {
   "cell_type": "code",
   "execution_count": 1,
   "metadata": {},
   "outputs": [
    {
     "name": "stdout",
     "output_type": "stream",
     "text": [
      "\u001b[33mWARNING: Ignoring invalid distribution -ip (/opt/python/3.10.4/lib/python3.10/site-packages)\u001b[0m\u001b[33m\n",
      "\u001b[0m\u001b[33mWARNING: Ignoring invalid distribution -ip (/opt/python/3.10.4/lib/python3.10/site-packages)\u001b[0m\u001b[33m\n",
      "\u001b[0m\u001b[33mWARNING: Ignoring invalid distribution -ip (/opt/python/3.10.4/lib/python3.10/site-packages)\u001b[0m\u001b[33m\n",
      "\u001b[0m\u001b[33mWARNING: Ignoring invalid distribution -ip (/opt/python/3.10.4/lib/python3.10/site-packages)\u001b[0m\u001b[33m\n",
      "\u001b[0m\u001b[33mWARNING: Ignoring invalid distribution -ip (/opt/python/3.10.4/lib/python3.10/site-packages)\u001b[0m\u001b[33m\n",
      "\u001b[0m\u001b[33mWARNING: Ignoring invalid distribution -ip (/opt/python/3.10.4/lib/python3.10/site-packages)\u001b[0m\u001b[33m\n",
      "\u001b[0mNote: you may need to restart the kernel to use updated packages.\n"
     ]
    }
   ],
   "source": [
    "%pip install nbdev | grep -v 'already satisfied'"
   ]
  },
  {
   "cell_type": "markdown",
   "metadata": {},
   "source": [
    "# python"
   ]
  },
  {
   "cell_type": "code",
   "execution_count": 3,
   "metadata": {},
   "outputs": [],
   "source": [
    "#export\n",
    "\n",
    "import uuid\n",
    "\n",
    "def new_id():\n",
    "    return uuid.uuid4().hex\n",
    "\n",
    "def list_partition(lines, predicate):\n",
    "    l1, l2 = [], []\n",
    "    for line in lines:\n",
    "        (l1, l2)[not predicate(line)].append(line)\n",
    "    return l1, l2\n",
    "\n",
    "def write_file(filename, text):\n",
    "    with open(filename, 'w') as f:\n",
    "        return f.write(text)\n",
    "\n",
    "def read_file(filename):\n",
    "    with open(filename, 'r') as f:\n",
    "        return f.read()\n"
   ]
  },
  {
   "cell_type": "code",
   "execution_count": 4,
   "metadata": {},
   "outputs": [],
   "source": [
    "#export\n",
    "\n",
    "from time import sleep\n",
    "from IPython.display import display, Javascript\n",
    "import subprocess\n",
    "import os\n",
    "import uuid\n",
    "import re\n",
    "\n",
    "def _get_notebook_path_and_save():\n",
    "    magic = new_id()\n",
    "    print(magic)\n",
    "    # saves it (ctrl+S)\n",
    "    display(Javascript('IPython.notebook.save_checkpoint();'))\n",
    "    nb_name = None\n",
    "    while nb_name is None:\n",
    "        try:\n",
    "            sleep(0.1)\n",
    "            nb_name = subprocess.check_output(\n",
    "                f'grep -l {magic} *.ipynb', shell=True).decode().strip()\n",
    "        except:\n",
    "            pass\n",
    "    return os.path.join(os.getcwd(), nb_name)\n",
    "\n",
    "def get_notebook_name():\n",
    "    ipynb_path = _get_notebook_path_and_save()\n",
    "    return re.search(r'\\# default_exp (\\w+) *', read_file(ipynb_path)).group(1)\n",
    "\n",
    "_notebook_name = None\n"
   ]
  },
  {
   "cell_type": "code",
   "execution_count": 5,
   "metadata": {},
   "outputs": [
    {
     "name": "stdout",
     "output_type": "stream",
     "text": [
      "fb6090d7ea5442cf8ccf019f342ea338\n"
     ]
    },
    {
     "data": {
      "application/javascript": "IPython.notebook.save_checkpoint();",
      "text/plain": [
       "<IPython.core.display.Javascript object>"
      ]
     },
     "metadata": {},
     "output_type": "display_data"
    },
    {
     "data": {
      "text/plain": [
       "'util'"
      ]
     },
     "execution_count": 5,
     "metadata": {},
     "output_type": "execute_result"
    }
   ],
   "source": [
    "_notebook_name = get_notebook_name()\n",
    "_notebook_name"
   ]
  },
  {
   "cell_type": "code",
   "execution_count": 6,
   "metadata": {},
   "outputs": [],
   "source": [
    "#export\n",
    "\n",
    "import subprocess\n",
    "\n",
    "def run_shell(*args, **kwargs):\n",
    "    return subprocess.run(*args, shell=True, capture_output=True, **kwargs)\n",
    "    \n",
    "def run(*args, **kwargs):\n",
    "    shell = run_shell(*args, **kwargs)\n",
    "    err = shell.stderr.decode()\n",
    "    return f'run() error: {err}' if err != '' else shell.stdout.decode()\n"
   ]
  },
  {
   "cell_type": "code",
   "execution_count": 7,
   "metadata": {},
   "outputs": [],
   "source": [
    "#export\n",
    "\n",
    "from IPython.core.magic import register_cell_magic\n",
    "\n",
    "_node_cache = ''\n",
    "\n",
    "@register_cell_magic\n",
    "def node(arg, cell, test=False):\n",
    "    global _node_cache\n",
    "    global _notebook_name\n",
    "\n",
    "    ipython_node_path = '_ipython_node.ts'\n",
    "    \n",
    "    def split_imports(code): return list_partition(code.splitlines(), lambda line: line.startswith('import '))\n",
    "    cache_imports, cache_exports = split_imports(_node_cache)\n",
    "    cell_imports, cell_exports = split_imports(cell)\n",
    "    cell_exports = '\\n'.join(cell_exports).strip('\\n').split('\\n')\n",
    "\n",
    "    if arg == 'run':\n",
    "        ts_imports = cache_imports\n",
    "        ipython_imports = cache_imports + cell_imports\n",
    "\n",
    "        ts_exports = cache_exports\n",
    "        ipython_exports = cache_exports + ([] if cell_exports == [''] else (['', '// cell', 'var run = async (...args) => {'] + cell_exports + ['}', f'await run(\"{arg}\")']))\n",
    "    elif arg == 'export':\n",
    "        ts_imports = cache_imports + cell_imports\n",
    "        ipython_imports = ts_imports\n",
    "\n",
    "        ts_exports = cache_exports + ([] if cell_exports == [''] else (['', '// cell'] + cell_exports))\n",
    "        ipython_exports = ts_exports\n",
    "\n",
    "    def join_imports(imports, exports): \n",
    "        return ''.join([\n",
    "            '\\n'.join(list(dict.fromkeys(imports))),\n",
    "            '' if len(imports) == 0 or len(exports) == 0 else '\\n\\n\\n',\n",
    "            '\\n'.join(exports).strip('\\n') + '\\n'\n",
    "        ])\n",
    "    new_code_ts = join_imports(ts_imports, ts_exports)\n",
    "    new_code_ipython = join_imports(ipython_imports, ipython_exports)\n",
    "\n",
    "    write_file(ipython_node_path, new_code_ipython)\n",
    "\n",
    "    if arg == 'run':\n",
    "        result = run(f'NODE_NO_WARNINGS=1 node --loader ts-node/esm --es-module-specifier-resolution=node {ipython_node_path}').splitlines()\n",
    "    else:\n",
    "        result = []\n",
    "\n",
    "    _node_cache = new_code_ts\n",
    "\n",
    "    if test:\n",
    "        return result, new_code_ts, new_code_ipython\n",
    "    else:\n",
    "        if _notebook_name is None:\n",
    "            _notebook_name = get_notebook_name()\n",
    "\n",
    "        ts_node_path = f'{_notebook_name}.ts'\n",
    "\n",
    "        write_file(ts_node_path, new_code_ts)\n",
    "        return result if result != [] else ts_node_path\n"
   ]
  },
  {
   "cell_type": "code",
   "execution_count": 8,
   "metadata": {},
   "outputs": [
    {
     "name": "stdout",
     "output_type": "stream",
     "text": [
      "arg: export result: []\n",
      "arg: export result: []\n",
      "arg: export result: []\n",
      "arg: run result: ['', '']\n",
      "arg: run result: ['0']\n",
      "arg: export result: []\n"
     ]
    }
   ],
   "source": [
    "_node_cache = ''\n",
    "\n",
    "def test_cell_node(arg, cell, expected_ts, expected_ipython, expected_result):\n",
    "    result, new_code_ts, new_code_ipython = node(arg, cell, test=True)\n",
    "    if new_code_ts != expected_ts or new_code_ipython != expected_ipython or result != expected_result:\n",
    "        print('\\n' + '\\n'.join(['\\n|arg:', arg, '\\n|cell:', cell, \n",
    "                     '\\n|new_code_ts:', new_code_ts, '\\n|expected_ts:', expected_ts, \n",
    "                     '\\n|new_code_ipython:', new_code_ipython, '\\n|expected_ipython:', expected_ipython, \n",
    "                     '\\n|result:', str(result), '\\n|expected_result:', str(expected_result)]))\n",
    "    else:\n",
    "        print('arg:', arg, 'result:', expected_result)\n",
    "\n",
    "test_cell_node(\n",
    "    'export',\n",
    "    'import * as os from \"os\"',\n",
    "    'import * as os from \"os\"\\n',\n",
    "    'import * as os from \"os\"\\n',\n",
    "    [])\n",
    "\n",
    "test_cell_node(\n",
    "    'export',\n",
    "    'import * as os from \"os\"\\nvar a = os.EOL',\n",
    "    'import * as os from \"os\"\\n\\n\\n// cell\\nvar a = os.EOL\\n',\n",
    "    'import * as os from \"os\"\\n\\n\\n// cell\\nvar a = os.EOL\\n',\n",
    "    [])\n",
    "\n",
    "test_cell_node(\n",
    "    'export',\n",
    "    'import * as fs from \"fs\"\\nvar b = fs.constants.F_OK',\n",
    "    'import * as os from \"os\"\\nimport * as fs from \"fs\"\\n\\n\\n// cell\\nvar a = os.EOL\\n\\n// cell\\nvar b = fs.constants.F_OK\\n',\n",
    "    'import * as os from \"os\"\\nimport * as fs from \"fs\"\\n\\n\\n// cell\\nvar a = os.EOL\\n\\n// cell\\nvar b = fs.constants.F_OK\\n',\n",
    "    [])\n",
    "\n",
    "test_cell_node(\n",
    "    'run',\n",
    "    'console.log(a)',\n",
    "    'import * as os from \"os\"\\nimport * as fs from \"fs\"\\n\\n\\n// cell\\nvar a = os.EOL\\n\\n// cell\\nvar b = fs.constants.F_OK\\n',\n",
    "    'import * as os from \"os\"\\nimport * as fs from \"fs\"\\n\\n\\n// cell\\nvar a = os.EOL\\n\\n// cell\\nvar b = fs.constants.F_OK\\n\\n// cell\\nvar run = async (...args) => {\\nconsole.log(a)\\n}\\nawait run(\"run\")\\n',\n",
    "    ['', ''])\n",
    "\n",
    "test_cell_node(\n",
    "    'run',\n",
    "    'console.log(b)',\n",
    "    'import * as os from \"os\"\\nimport * as fs from \"fs\"\\n\\n\\n// cell\\nvar a = os.EOL\\n\\n// cell\\nvar b = fs.constants.F_OK\\n',\n",
    "    'import * as os from \"os\"\\nimport * as fs from \"fs\"\\n\\n\\n// cell\\nvar a = os.EOL\\n\\n// cell\\nvar b = fs.constants.F_OK\\n\\n// cell\\nvar run = async (...args) => {\\nconsole.log(b)\\n}\\nawait run(\"run\")\\n',\n",
    "    ['0'])\n",
    "\n",
    "test_cell_node(\n",
    "    'export',\n",
    "    'import * as fs from \"fs\"\\nvar c = fs.constants.X_OK',\n",
    "    'import * as os from \"os\"\\nimport * as fs from \"fs\"\\n\\n\\n// cell\\nvar a = os.EOL\\n\\n// cell\\nvar b = fs.constants.F_OK\\n\\n// cell\\nvar c = fs.constants.X_OK\\n',\n",
    "    'import * as os from \"os\"\\nimport * as fs from \"fs\"\\n\\n\\n// cell\\nvar a = os.EOL\\n\\n// cell\\nvar b = fs.constants.F_OK\\n\\n// cell\\nvar c = fs.constants.X_OK\\n',\n",
    "    [])\n",
    "\n",
    "_node_cache = ''"
   ]
  },
  {
   "cell_type": "code",
   "execution_count": 9,
   "metadata": {},
   "outputs": [],
   "source": [
    "#export\n",
    "\n",
    "from IPython.core.magic import register_cell_magic\n",
    "\n",
    "def _get_spiral_cache_empty(): return {'spi': '', 'spir': '', '': ''}\n",
    "_spiral_cache = _get_spiral_cache_empty()\n",
    "\n",
    "@register_cell_magic\n",
    "def spiral(arg, cell, test=False):\n",
    "    global _spiral_cache\n",
    "    global _notebook_name\n",
    "\n",
    "    def split_imports(code): return list_partition(code.splitlines(), lambda line: line.startswith('open '))\n",
    "    cache_imports, cache_exports = split_imports(_spiral_cache[arg])\n",
    "    cell_imports, cell_exports = split_imports(cell)\n",
    "    cell_exports = '\\n'.join(cell_exports).strip('\\n').split('\\n')\n",
    "    spi_imports = cache_imports + cell_imports\n",
    "    spi_exports = cache_exports + ([] if cell_exports == [''] else (['', '// cell'] + cell_exports))\n",
    "\n",
    "    def join_imports(imports, exports): \n",
    "        return ''.join([\n",
    "            '\\n'.join(list(dict.fromkeys(imports))),\n",
    "            '' if len(imports) == 0 or len(exports) == 0 else '\\n\\n\\n',\n",
    "            '\\n'.join(exports).strip('\\n') + '\\n'\n",
    "        ])\n",
    "    new_code_spi = join_imports(spi_imports, spi_exports)\n",
    "    \n",
    "    if arg in ['spi', 'spir']:\n",
    "        if _notebook_name is None:\n",
    "            _notebook_name = get_notebook_name()\n",
    "        spi_path = f'{_notebook_name}.{arg}'\n",
    "    else:\n",
    "        spi_path = f'main.spi'\n",
    "    \n",
    "    _spiral_cache[arg] = new_code_spi\n",
    "\n",
    "    if test:\n",
    "        return new_code_spi\n",
    "    else:\n",
    "        write_file(spi_path, new_code_spi)\n",
    "        return spi_path\n",
    "\n",
    "@register_cell_magic\n",
    "def spi(arg, cell, test=False):\n",
    "    return spiral('spi', cell, test)\n",
    "\n",
    "@register_cell_magic\n",
    "def spir(arg, cell, test=False):\n",
    "    return spiral('spir', cell, test)\n"
   ]
  },
  {
   "cell_type": "code",
   "execution_count": 10,
   "metadata": {},
   "outputs": [
    {
     "name": "stdout",
     "output_type": "stream",
     "text": [
      "arg: spi\n",
      "arg: spi\n",
      "arg: spi\n",
      "arg: spi\n"
     ]
    }
   ],
   "source": [
    "_spiral_cache = _get_spiral_cache_empty()\n",
    "\n",
    "def test_cell_spiral(arg, cell, expected_spi):\n",
    "    new_code_spi = spiral(arg, cell, test=True)\n",
    "\n",
    "    if new_code_spi != expected_spi:\n",
    "        print('\\n' + '\\n'.join(['\\n|arg:', arg, '\\n|cell:', cell, \n",
    "                     '\\n|new_code_spi:', new_code_spi, '\\n|expected_spi:', expected_spi]))\n",
    "    else:\n",
    "        print('arg:', arg)\n",
    "\n",
    "test_cell_spiral(\n",
    "    'spi',\n",
    "    'open a',\n",
    "    'open a\\n'\n",
    ")\n",
    "\n",
    "test_cell_spiral(\n",
    "    'spi',\n",
    "    'open a\\ninl get1 () = 1i32',\n",
    "    'open a\\n\\n\\n// cell\\ninl get1 () = 1i32\\n'\n",
    ")\n",
    "\n",
    "test_cell_spiral(\n",
    "    'spi',\n",
    "    'open b\\ninl get2 () = 2i32',\n",
    "    'open a\\nopen b\\n\\n\\n// cell\\ninl get1 () = 1i32\\n\\n// cell\\ninl get2 () = 2i32\\n'\n",
    ")\n",
    "\n",
    "test_cell_spiral(\n",
    "    'spi',\n",
    "    'open b\\ninl get3 () = 3i32',\n",
    "    'open a\\nopen b\\n\\n\\n// cell\\ninl get1 () = 1i32\\n\\n// cell\\ninl get2 () = 2i32\\n\\n// cell\\ninl get3 () = 3i32\\n'\n",
    ")\n",
    "\n",
    "_spiral_cache = _get_spiral_cache_empty()"
   ]
  },
  {
   "cell_type": "code",
   "execution_count": 11,
   "metadata": {
    "vscode": {
     "languageId": "shellscript"
    }
   },
   "outputs": [
    {
     "data": {
      "text/plain": [
       "'util.spi'"
      ]
     },
     "execution_count": 11,
     "metadata": {},
     "output_type": "execute_result"
    }
   ],
   "source": [
    "%%spi\n",
    "\n",
    "nominal _obj = $\"obj\"\n",
    "\n",
    "inl test b = assert b \"test\"\n"
   ]
  },
  {
   "cell_type": "code",
   "execution_count": null,
   "metadata": {},
   "outputs": [],
   "source": []
  },
  {
   "cell_type": "markdown",
   "metadata": {},
   "source": [
    "# node"
   ]
  },
  {
   "cell_type": "code",
   "execution_count": 12,
   "metadata": {
    "vscode": {
     "languageId": "javascript"
    }
   },
   "outputs": [
    {
     "data": {
      "text/plain": [
       "'util.ts'"
      ]
     },
     "execution_count": 12,
     "metadata": {},
     "output_type": "execute_result"
    }
   ],
   "source": [
    "%%node export\n",
    "\n",
    "import * as fs from \"fs\"\n",
    "\n",
    "var start = process.hrtime()\n",
    "\n",
    "export var elapsed = (start: [number, number]) => process.hrtime(start)[1] / 1000000\n",
    "export var logStep = (note: string) => {\n",
    "    console.log(`${process.hrtime(start)[0]} s, ${elapsed(start).toFixed(3)} ms - ${note}`)\n",
    "    start = process.hrtime()\n",
    "}\n",
    "export var sleep = (ms: number) => new Promise(resolve => setTimeout(resolve, ms))\n",
    "export var waitFileChange = async (path: string) => {\n",
    "    start = process.hrtime()\n",
    "    const stat_mtime = fs.statSync(path).mtimeMs\n",
    "    while (elapsed(start) < 30000\n",
    "        && (fs.statSync(path).mtimeMs === stat_mtime\n",
    "            || fs.readFileSync(path).length === 0)) {\n",
    "        await sleep(50)\n",
    "    }\n",
    "}"
   ]
  },
  {
   "cell_type": "code",
   "execution_count": null,
   "metadata": {
    "vscode": {
     "languageId": "javascript"
    }
   },
   "outputs": [],
   "source": []
  },
  {
   "cell_type": "markdown",
   "metadata": {},
   "source": [
    "# py compile"
   ]
  },
  {
   "cell_type": "code",
   "execution_count": null,
   "metadata": {},
   "outputs": [],
   "source": [
    "!nbdev_build_lib"
   ]
  }
 ],
 "metadata": {
  "interpreter": {
   "hash": "3ad933181bd8a04b432d3370b9dc3b0662ad032c4dfaa4e4f1596c548f763858"
  },
  "kernelspec": {
   "display_name": "Python 3.10.4 64-bit",
   "language": "python",
   "name": "python3"
  },
  "language_info": {
   "codemirror_mode": {
    "name": "ipython",
    "version": 3
   },
   "file_extension": ".py",
   "mimetype": "text/x-python",
   "name": "python",
   "nbconvert_exporter": "python",
   "pygments_lexer": "ipython3",
   "version": "3.10.4"
  },
  "orig_nbformat": 4
 },
 "nbformat": 4,
 "nbformat_minor": 2
}
