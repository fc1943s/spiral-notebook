{
 "cells": [
  {
   "cell_type": "code",
   "execution_count": 1,
   "id": "2e796a6f",
   "metadata": {},
   "outputs": [
    {
     "name": "stdout",
     "output_type": "stream",
     "text": [
      "Requirement already satisfied: pyteal in /opt/python/3.10.4/lib/python3.10/site-packages (0.13.0)\n",
      "Requirement already satisfied: py-algorand-sdk in /opt/python/3.10.4/lib/python3.10/site-packages (from pyteal) (1.13.1)\n",
      "Requirement already satisfied: msgpack<2,>=1.0.0 in /opt/python/3.10.4/lib/python3.10/site-packages (from py-algorand-sdk->pyteal) (1.0.3)\n",
      "Requirement already satisfied: pycryptodomex<4,>=3.6.0 in /opt/python/3.10.4/lib/python3.10/site-packages (from py-algorand-sdk->pyteal) (3.14.1)\n",
      "Requirement already satisfied: pynacl<2,>=1.4.0 in /opt/python/3.10.4/lib/python3.10/site-packages (from py-algorand-sdk->pyteal) (1.5.0)\n",
      "Requirement already satisfied: cffi>=1.4.1 in /opt/python/3.10.4/lib/python3.10/site-packages (from pynacl<2,>=1.4.0->py-algorand-sdk->pyteal) (1.15.0)\n",
      "Requirement already satisfied: pycparser in /opt/python/3.10.4/lib/python3.10/site-packages (from cffi>=1.4.1->pynacl<2,>=1.4.0->py-algorand-sdk->pyteal) (2.21)\n",
      "\u001b[33mWARNING: You are using pip version 22.0.4; however, version 22.1.1 is available.\n",
      "You should consider upgrading via the '/opt/python/latest/bin/python -m pip install --upgrade pip' command.\u001b[0m\u001b[33m\n",
      "\u001b[0mNote: you may need to restart the kernel to use updated packages.\n"
     ]
    }
   ],
   "source": [
    "%pip install pyteal"
   ]
  },
  {
   "cell_type": "code",
   "execution_count": 2,
   "id": "dcfddbb3",
   "metadata": {},
   "outputs": [],
   "source": [
    "#export\n",
    "\n",
    "from pyteal import *\n",
    "\n",
    "\n",
    "def game_funds_escrow(app_id: int):\n",
    "    print('3:game_funds_escrow')\n",
    "\n",
    "    win_refund = Seq([\n",
    "        Assert(Gtxn[0].application_id() == Int(app_id)),\n",
    "        Assert(Gtxn[1].fee() <= Int(1000)),\n",
    "        Assert(Gtxn[1].asset_close_to() == Global.zero_address()),\n",
    "        Assert(Gtxn[1].rekey_to() == Global.zero_address())\n",
    "    ])\n",
    "\n",
    "    tie_refund = Seq([\n",
    "        Assert(Gtxn[0].application_id() == Int(app_id)),\n",
    "        Assert(Gtxn[1].fee() <= Int(1000)),\n",
    "        Assert(Gtxn[1].asset_close_to() == Global.zero_address()),\n",
    "        Assert(Gtxn[1].rekey_to() == Global.zero_address()),\n",
    "        Assert(Gtxn[2].fee() <= Int(1000)),\n",
    "        Assert(Gtxn[2].asset_close_to() == Global.zero_address()),\n",
    "        Assert(Gtxn[2].rekey_to() == Global.zero_address())\n",
    "    ])\n",
    "\n",
    "    return Seq([\n",
    "        Cond(\n",
    "            [Global.group_size() == Int(2), win_refund],\n",
    "            [Global.group_size() == Int(3), tie_refund],\n",
    "        ),\n",
    "        Return(Int(1))\n",
    "    ])\n"
   ]
  },
  {
   "cell_type": "code",
   "execution_count": 3,
   "id": "f0d632f3",
   "metadata": {},
   "outputs": [],
   "source": [
    "#export\n",
    "\n",
    "from pyteal import *\n",
    "\n",
    "\n",
    "class AppVariables:\n",
    "    \"\"\"\n",
    "    All the variables available in the global state of the application.\n",
    "    \"\"\"\n",
    "    PlayerXState = Bytes(\"PlayerXState\")\n",
    "    PlayerOState = Bytes(\"PlayerOState\")\n",
    "\n",
    "    PlayerOAddress = Bytes(\"PlayerOAddress\")\n",
    "    PlayerXAddress = Bytes(\"PlayerXAddress\")\n",
    "    PlayerTurnAddress = Bytes(\"PlayerTurnAddress\")\n",
    "    FundsEscrowAddress = Bytes(\"FundsEscrowAddress\")\n",
    "\n",
    "    BetAmount = Bytes(\"BetAmount\")\n",
    "    ActionTimeout = Bytes(\"ActionTimeout\")\n",
    "    GameStatus = Bytes(\"GameState\")\n",
    "\n",
    "class DefaultValues:\n",
    "    \"\"\"\n",
    "    The default values for the global variables initialized on the transaction that creates the application.\n",
    "    \"\"\"\n",
    "    PlayerXState = Int(0)\n",
    "    PlayerOState = Int(0)\n",
    "    GameStatus = Int(0)\n",
    "    BetAmount = Int(1000000)\n",
    "    GameDurationInSeconds = Int(3600)\n",
    "\n",
    "\n",
    "class AppActions:\n",
    "    \"\"\"\n",
    "    Available actions in the tic-tac-toe application.\n",
    "    \"\"\"\n",
    "    SetupPlayers = Bytes(\"SetupPlayers\")\n",
    "    ActionMove = Bytes(\"ActionMove\")\n",
    "    MoneyRefund = Bytes(\"MoneyRefund\")\n",
    "\n",
    "\n",
    "WINING_STATES = [448, 56, 7, 292, 146, 73, 273, 84]\n",
    "\n",
    "\n",
    "def app_initialization_logic():\n",
    "    \"\"\"\n",
    "    Initialization of the default global variables.\n",
    "    \"\"\"\n",
    "    print('5:app_initialization_logic')\n",
    "    return Seq([\n",
    "        App.globalPut(AppVariables.PlayerXState, DefaultValues.PlayerXState),\n",
    "        App.globalPut(AppVariables.PlayerOState, DefaultValues.PlayerOState),\n",
    "        App.globalPut(AppVariables.GameStatus, DefaultValues.GameStatus),\n",
    "        App.globalPut(AppVariables.BetAmount, DefaultValues.BetAmount),\n",
    "        Return(Int(1))\n",
    "    ])\n",
    "\n",
    "def money_refund_logic():\n",
    "    \"\"\"\n",
    "    This function handles the logic for refunding the money in case of a winner, tie or timeout termination. If the\n",
    "    player whose turn it is hasn't made a move for the predefined period of time, the other player is declared as a\n",
    "    winner and can withdraw the money.\n",
    "    This action logic should be performed using an Atomic Transfer of 2 transactions in case of a winner or using an\n",
    "    Atomic Transfer of 3 transactions in case of a tie.\n",
    "    If there is a winner the Atomic Transfer should have the following 2 transactions:\n",
    "    1. Application Call with the appropriate application action argument.\n",
    "    2. Payment from the Escrow to the Winner Address with a amount equal to the 2 * BetAmount.\n",
    "    If there is a tie the Atomic Transfer should have the following 3 transactions:\n",
    "    1. Application Call with the appropriate application action argument.\n",
    "    2. Payment from the Escrow to the PlayerX's Address with a amount equal to the BetAmount.\n",
    "    3. Payment from the Escrow to the PlayerO's Address with a amount equal to the BetAmount.\n",
    "    :return:\n",
    "    \"\"\"\n",
    "    print('5:money_refund_logic')\n",
    "    has_x_won_by_playing = App.globalGet(AppVariables.GameStatus) == Int(1)\n",
    "    has_o_won_by_playing = App.globalGet(AppVariables.GameStatus) == Int(2)\n",
    "\n",
    "    has_x_won_by_timeout = And(App.globalGet(AppVariables.GameStatus) == Int(0),\n",
    "                               Global.latest_timestamp() > App.globalGet(AppVariables.ActionTimeout),\n",
    "                               App.globalGet(AppVariables.PlayerTurnAddress) == App.globalGet(\n",
    "                                   AppVariables.PlayerOAddress))\n",
    "\n",
    "    has_o_won_by_timeout = And(App.globalGet(AppVariables.GameStatus) == Int(0),\n",
    "                               Global.latest_timestamp() > App.globalGet(AppVariables.ActionTimeout),\n",
    "                               App.globalGet(AppVariables.PlayerTurnAddress) == App.globalGet(\n",
    "                                   AppVariables.PlayerXAddress))\n",
    "\n",
    "    has_x_won = Or(has_x_won_by_playing, has_x_won_by_timeout)\n",
    "    has_o_won = Or(has_o_won_by_playing, has_o_won_by_timeout)\n",
    "    game_is_tie = App.globalGet(AppVariables.GameStatus) == Int(3)\n",
    "\n",
    "    x_withdraw = Seq([\n",
    "        Assert(Gtxn[1].receiver() == App.globalGet(AppVariables.PlayerXAddress)),\n",
    "        Assert(Gtxn[1].amount() == Int(2) * App.globalGet(AppVariables.BetAmount)),\n",
    "        App.globalPut(AppVariables.GameStatus, Int(1))\n",
    "    ])\n",
    "\n",
    "    o_withdraw = Seq([\n",
    "        Assert(Gtxn[1].receiver() == App.globalGet(AppVariables.PlayerOAddress)),\n",
    "        Assert(Gtxn[1].amount() == Int(2) * App.globalGet(AppVariables.BetAmount)),\n",
    "        App.globalPut(AppVariables.GameStatus, Int(2))\n",
    "    ])\n",
    "\n",
    "    tie_withdraw = Seq([\n",
    "        Assert(Gtxn[1].receiver() == App.globalGet(AppVariables.PlayerXAddress)),\n",
    "        Assert(Gtxn[1].amount() == App.globalGet(AppVariables.BetAmount)),\n",
    "        Assert(Gtxn[2].type_enum() == TxnType.Payment),\n",
    "        Assert(Gtxn[2].sender() == App.globalGet(AppVariables.FundsEscrowAddress)),\n",
    "        Assert(Gtxn[2].receiver() == App.globalGet(AppVariables.PlayerOAddress)),\n",
    "        Assert(Gtxn[2].amount() == App.globalGet(AppVariables.BetAmount))\n",
    "    ])\n",
    "\n",
    "    return Seq([\n",
    "        Assert(Gtxn[1].type_enum() == TxnType.Payment),\n",
    "        Assert(Gtxn[1].sender() == App.globalGet(AppVariables.FundsEscrowAddress)),\n",
    "        Cond(\n",
    "            [has_x_won, x_withdraw],\n",
    "            [has_o_won, o_withdraw],\n",
    "            [game_is_tie, tie_withdraw]\n",
    "        ),\n",
    "        Return(Int(1))\n",
    "    ])\n",
    "\n",
    "def is_tie():\n",
    "    \"\"\"\n",
    "    Checks whether the game has ended with a tie. Tie state is represented with the number 511 which is the number where\n",
    "    the first 9 bits are active.\n",
    "    :return:\n",
    "    \"\"\"\n",
    "    print('5:is_tie')\n",
    "    state_x = App.globalGet(AppVariables.PlayerXState)\n",
    "    state_o = App.globalGet(AppVariables.PlayerOState)\n",
    "    return Int(511) == BitwiseOr(state_x, state_o)\n",
    "\n",
    "def has_player_won(state):\n",
    "    \"\"\"\n",
    "    Checks whether the passed state as an argument is a winning state. There are 8 possible winning states in which\n",
    "    a specific pattern of bits needs to be activated.\n",
    "    :param state:\n",
    "    :return:\n",
    "    \"\"\"\n",
    "    print('5:has_player_won')\n",
    "    return If(Or(BitwiseAnd(state, Int(WINING_STATES[0])) == Int(WINING_STATES[0]),\n",
    "                 BitwiseAnd(state, Int(WINING_STATES[1])) == Int(WINING_STATES[1]),\n",
    "                 BitwiseAnd(state, Int(WINING_STATES[2])) == Int(WINING_STATES[2]),\n",
    "                 BitwiseAnd(state, Int(WINING_STATES[3])) == Int(WINING_STATES[3]),\n",
    "                 BitwiseAnd(state, Int(WINING_STATES[4])) == Int(WINING_STATES[4]),\n",
    "                 BitwiseAnd(state, Int(WINING_STATES[5])) == Int(WINING_STATES[5]),\n",
    "                 BitwiseAnd(state, Int(WINING_STATES[6])) == Int(WINING_STATES[6]),\n",
    "                 BitwiseAnd(state, Int(WINING_STATES[7])) == Int(WINING_STATES[7])), Int(1), Int(0))\n",
    "    \n",
    "def play_action_logic():\n",
    "    \"\"\"\n",
    "    Executes an action for the current player in the game and accordingly updates the state of the game. The action\n",
    "    is passed as an argument to the application call.\n",
    "    :return:\n",
    "    \"\"\"\n",
    "    print('5:play_action_logic')\n",
    "    position_index = Btoi(Txn.application_args[1])\n",
    "\n",
    "    state_x = App.globalGet(AppVariables.PlayerXState)\n",
    "    state_o = App.globalGet(AppVariables.PlayerOState)\n",
    "\n",
    "    game_action = ShiftLeft(Int(1), position_index)\n",
    "\n",
    "    player_x_move = Seq([\n",
    "        App.globalPut(AppVariables.PlayerXState, BitwiseOr(state_x, game_action)),\n",
    "\n",
    "        If(\n",
    "            has_player_won(App.globalGet(AppVariables.PlayerXState)),\n",
    "           App.globalPut(AppVariables.GameStatus, Int(1))\n",
    "           ),\n",
    "\n",
    "        App.globalPut(AppVariables.PlayerTurnAddress, App.globalGet(AppVariables.PlayerOAddress)),\n",
    "    ])\n",
    "\n",
    "    player_o_move = Seq([\n",
    "        App.globalPut(AppVariables.PlayerOState, BitwiseOr(state_o, game_action)),\n",
    "\n",
    "        If(has_player_won(App.globalGet(AppVariables.PlayerOState)),\n",
    "           App.globalPut(AppVariables.GameStatus, Int(2))),\n",
    "\n",
    "        App.globalPut(AppVariables.PlayerTurnAddress, App.globalGet(AppVariables.PlayerXAddress)),\n",
    "    ])\n",
    "\n",
    "    return Seq([\n",
    "        Assert(position_index >= Int(0)),\n",
    "        Assert(position_index <= Int(8)),\n",
    "        Assert(Global.latest_timestamp() <= App.globalGet(AppVariables.ActionTimeout)),\n",
    "        Assert(App.globalGet(AppVariables.GameStatus) == DefaultValues.GameStatus),\n",
    "        Assert(Txn.sender() == App.globalGet(AppVariables.PlayerTurnAddress)),\n",
    "        Assert(And(BitwiseAnd(state_x, game_action) == Int(0),\n",
    "                   BitwiseAnd(state_o, game_action) == Int(0))),\n",
    "        Cond(\n",
    "            [Txn.sender() == App.globalGet(AppVariables.PlayerXAddress), player_x_move],\n",
    "            [Txn.sender() == App.globalGet(AppVariables.PlayerOAddress), player_o_move],\n",
    "        ),\n",
    "        If(is_tie(), App.globalPut(AppVariables.GameStatus, Int(3))),\n",
    "        Return(Int(1))\n",
    "    ])\n",
    "\n",
    "def initialize_players_logic():\n",
    "    \"\"\"\n",
    "    This function initializes all the other global variables. The end of the execution of this function defines the game\n",
    "    start. We expect that this logic is performed within an Atomic Transfer of 3 transactions:\n",
    "    1. Application Call with the appropriate application action argument.\n",
    "    2. Payment transaction from Player X that funds the Escrow account. The address of this sender is represents the\n",
    "    PlayerX address.\n",
    "    3. Payment transaction from Player O that funds the Escrow account. The address of this sender is represents the\n",
    "    PlayerO address.\n",
    "    :return:\n",
    "    \"\"\"\n",
    "    print('5:initialize_players_logic')\n",
    "    player_x_address = App.globalGetEx(Int(0), AppVariables.PlayerXAddress)\n",
    "    player_o_address = App.globalGetEx(Int(0), AppVariables.PlayerOAddress)\n",
    "\n",
    "    setup_failed = Seq([\n",
    "        Return(Int(0))\n",
    "    ])\n",
    "\n",
    "    setup_players = Seq([\n",
    "        Assert(Gtxn[1].type_enum() == TxnType.Payment),\n",
    "        Assert(Gtxn[2].type_enum() == TxnType.Payment),\n",
    "        Assert(Gtxn[1].receiver() == Gtxn[2].receiver()),\n",
    "        Assert(Gtxn[1].amount() == App.globalGet(AppVariables.BetAmount)),\n",
    "        Assert(Gtxn[2].amount() == App.globalGet(AppVariables.BetAmount)),\n",
    "        App.globalPut(AppVariables.PlayerXAddress, Gtxn[1].sender()),\n",
    "        App.globalPut(AppVariables.PlayerOAddress, Gtxn[2].sender()),\n",
    "        App.globalPut(AppVariables.PlayerTurnAddress, Gtxn[1].sender()),\n",
    "        App.globalPut(AppVariables.FundsEscrowAddress, Gtxn[1].receiver()),\n",
    "        App.globalPut(AppVariables.ActionTimeout, Global.latest_timestamp() + DefaultValues.GameDurationInSeconds),\n",
    "        Return(Int(1))\n",
    "    ])\n",
    "\n",
    "    return Seq([\n",
    "        player_x_address,\n",
    "        player_o_address,\n",
    "        If(Or(player_x_address.hasValue(), player_o_address.hasValue()), setup_failed, setup_players)\n",
    "    ])\n",
    "\n",
    "def application_start():\n",
    "    \"\"\"\n",
    "    This function represents the start of the application. Here we decide which action will be executed in the current\n",
    "    application call. If we are creating the application for the very first time we are going to initialize some\n",
    "    of the global values with their appropriate default values.\n",
    "    \"\"\"\n",
    "    print('5:application_start')\n",
    "    is_app_initialization = Txn.application_id() == Int(0)\n",
    "\n",
    "    actions = Cond(\n",
    "        [Txn.application_args[0] == AppActions.SetupPlayers, initialize_players_logic()],\n",
    "        [And(Txn.application_args[0] == AppActions.ActionMove,\n",
    "             Global.group_size() == Int(1)), play_action_logic()],\n",
    "        [Txn.application_args[0] == AppActions.MoneyRefund, money_refund_logic()]\n",
    "    )\n",
    "\n",
    "    return If(is_app_initialization, app_initialization_logic(), actions)\n",
    "\n",
    "\n",
    "# def approval_program():\n",
    "#     print('5:approval_program')\n",
    "#     return application_start()\n",
    "\n",
    "\n",
    "# def clear_program():\n",
    "#     print('5:clear_program')\n",
    "#     return Return(Int(1))"
   ]
  },
  {
   "cell_type": "code",
   "execution_count": null,
   "id": "41050cfb",
   "metadata": {},
   "outputs": [],
   "source": []
  },
  {
   "cell_type": "code",
   "execution_count": null,
   "id": "f1399d24",
   "metadata": {},
   "outputs": [],
   "source": []
  },
  {
   "cell_type": "code",
   "execution_count": null,
   "id": "9abce574",
   "metadata": {},
   "outputs": [],
   "source": []
  },
  {
   "cell_type": "markdown",
   "id": "99298040",
   "metadata": {},
   "source": [
    "# tests"
   ]
  },
  {
   "cell_type": "code",
   "execution_count": null,
   "id": "1704d3e2",
   "metadata": {},
   "outputs": [],
   "source": []
  },
  {
   "cell_type": "code",
   "execution_count": null,
   "id": "42f4bf70",
   "metadata": {},
   "outputs": [],
   "source": []
  },
  {
   "cell_type": "code",
   "execution_count": null,
   "metadata": {},
   "outputs": [],
   "source": []
  },
  {
   "cell_type": "code",
   "execution_count": 4,
   "id": "f9a1dad8",
   "metadata": {},
   "outputs": [],
   "source": [
    "def test(a, b):\n",
    "    if a != b:\n",
    "        print('\\na:\\n', a)\n",
    "        print('\\nb:\\n', b)\n",
    "        assert a == b"
   ]
  },
  {
   "cell_type": "code",
   "execution_count": 5,
   "id": "349a79d9",
   "metadata": {},
   "outputs": [
    {
     "name": "stdout",
     "output_type": "stream",
     "text": [
      "main.spi Loaded\n"
     ]
    }
   ],
   "source": [
    "import main"
   ]
  },
  {
   "cell_type": "code",
   "execution_count": null,
   "id": "bf3909c3",
   "metadata": {},
   "outputs": [],
   "source": []
  },
  {
   "cell_type": "code",
   "execution_count": null,
   "metadata": {},
   "outputs": [],
   "source": []
  },
  {
   "cell_type": "code",
   "execution_count": null,
   "metadata": {},
   "outputs": [],
   "source": []
  },
  {
   "cell_type": "code",
   "execution_count": null,
   "metadata": {},
   "outputs": [],
   "source": []
  },
  {
   "cell_type": "code",
   "execution_count": 6,
   "metadata": {},
   "outputs": [
    {
     "name": "stdout",
     "output_type": "stream",
     "text": [
      "3:game_funds_escrow\n"
     ]
    }
   ],
   "source": [
    "game_funds_escrow_python_teal = compileTeal(game_funds_escrow(999), mode=Mode.Application, version=6)"
   ]
  },
  {
   "cell_type": "code",
   "execution_count": 7,
   "metadata": {},
   "outputs": [
    {
     "name": "stdout",
     "output_type": "stream",
     "text": [
      "game_funds_escrow\n"
     ]
    }
   ],
   "source": [
    "game_funds_escrow_spiral_teal = compileTeal(main.arrow_8(999), mode=Mode.Application, version=6)"
   ]
  },
  {
   "cell_type": "code",
   "execution_count": 8,
   "id": "a6829b54",
   "metadata": {},
   "outputs": [],
   "source": [
    "test(game_funds_escrow_python_teal, game_funds_escrow_spiral_teal)"
   ]
  },
  {
   "cell_type": "code",
   "execution_count": null,
   "id": "5a25466c",
   "metadata": {},
   "outputs": [],
   "source": []
  },
  {
   "cell_type": "code",
   "execution_count": 9,
   "id": "2828e5d7",
   "metadata": {},
   "outputs": [
    {
     "name": "stdout",
     "output_type": "stream",
     "text": [
      "5:app_initialization_logic\n"
     ]
    }
   ],
   "source": [
    "app_initialization_logic_python_teal = compileTeal(app_initialization_logic(), mode=Mode.Application, version=6)"
   ]
  },
  {
   "cell_type": "code",
   "execution_count": 10,
   "id": "630d7ecf",
   "metadata": {},
   "outputs": [
    {
     "name": "stdout",
     "output_type": "stream",
     "text": [
      "app_initialization_logic\n"
     ]
    }
   ],
   "source": [
    "app_initialization_logic_spiral_teal = compileTeal(main.arrow_1(), mode=Mode.Application, version=6)"
   ]
  },
  {
   "cell_type": "code",
   "execution_count": 11,
   "id": "d0ff456a",
   "metadata": {},
   "outputs": [],
   "source": [
    "test(app_initialization_logic_python_teal, app_initialization_logic_spiral_teal)"
   ]
  },
  {
   "cell_type": "code",
   "execution_count": null,
   "id": "89b6b86b",
   "metadata": {},
   "outputs": [],
   "source": []
  },
  {
   "cell_type": "code",
   "execution_count": 12,
   "id": "4e94004b",
   "metadata": {},
   "outputs": [
    {
     "name": "stdout",
     "output_type": "stream",
     "text": [
      "5:is_tie\n"
     ]
    }
   ],
   "source": [
    "is_tie_python_teal = compileTeal(is_tie(), mode=Mode.Application, version=6)"
   ]
  },
  {
   "cell_type": "code",
   "execution_count": 13,
   "metadata": {},
   "outputs": [
    {
     "name": "stdout",
     "output_type": "stream",
     "text": [
      "is_tie\n"
     ]
    }
   ],
   "source": [
    "is_tie_spiral_teal = compileTeal(main.arrow_2(), mode=Mode.Application, version=6)"
   ]
  },
  {
   "cell_type": "code",
   "execution_count": 14,
   "metadata": {},
   "outputs": [],
   "source": [
    "test(is_tie_python_teal, is_tie_spiral_teal)"
   ]
  },
  {
   "cell_type": "code",
   "execution_count": null,
   "id": "b7500844",
   "metadata": {},
   "outputs": [],
   "source": []
  },
  {
   "cell_type": "code",
   "execution_count": 15,
   "id": "a0da432f",
   "metadata": {},
   "outputs": [
    {
     "name": "stdout",
     "output_type": "stream",
     "text": [
      "5:has_player_won\n"
     ]
    }
   ],
   "source": [
    "has_player_won_python_teal = compileTeal(has_player_won(Int(999)), mode=Mode.Application, version=6)"
   ]
  },
  {
   "cell_type": "code",
   "execution_count": 16,
   "metadata": {},
   "outputs": [
    {
     "name": "stdout",
     "output_type": "stream",
     "text": [
      "has_player_won\n"
     ]
    }
   ],
   "source": [
    "has_player_won_spiral_teal = compileTeal(main.arrow_3(Int(999)), mode=Mode.Application, version=6)"
   ]
  },
  {
   "cell_type": "code",
   "execution_count": 17,
   "metadata": {},
   "outputs": [],
   "source": [
    "test(has_player_won_python_teal, has_player_won_spiral_teal)"
   ]
  },
  {
   "cell_type": "code",
   "execution_count": null,
   "id": "461ffe81",
   "metadata": {},
   "outputs": [],
   "source": []
  },
  {
   "cell_type": "code",
   "execution_count": 18,
   "id": "de409f4c",
   "metadata": {},
   "outputs": [
    {
     "name": "stdout",
     "output_type": "stream",
     "text": [
      "5:money_refund_logic\n"
     ]
    }
   ],
   "source": [
    "money_refund_logic_python_teal = compileTeal(money_refund_logic(), mode=Mode.Application, version=6)"
   ]
  },
  {
   "cell_type": "code",
   "execution_count": 19,
   "metadata": {},
   "outputs": [
    {
     "name": "stdout",
     "output_type": "stream",
     "text": [
      "money_refund_logic\n"
     ]
    }
   ],
   "source": [
    "money_refund_logic_spiral_teal = compileTeal(main.arrow_4(), mode=Mode.Application, version=6)"
   ]
  },
  {
   "cell_type": "code",
   "execution_count": 20,
   "id": "1aad8e7c",
   "metadata": {},
   "outputs": [],
   "source": [
    "test(money_refund_logic_python_teal, money_refund_logic_spiral_teal)"
   ]
  },
  {
   "cell_type": "code",
   "execution_count": null,
   "metadata": {},
   "outputs": [],
   "source": []
  },
  {
   "cell_type": "code",
   "execution_count": 21,
   "id": "ba6856a0",
   "metadata": {},
   "outputs": [
    {
     "name": "stdout",
     "output_type": "stream",
     "text": [
      "5:play_action_logic\n",
      "5:has_player_won\n",
      "5:has_player_won\n",
      "5:is_tie\n"
     ]
    }
   ],
   "source": [
    "play_action_logic_python_teal = compileTeal(play_action_logic(), mode=Mode.Application, version=6)"
   ]
  },
  {
   "cell_type": "code",
   "execution_count": 22,
   "id": "24a46ccd",
   "metadata": {},
   "outputs": [
    {
     "name": "stdout",
     "output_type": "stream",
     "text": [
      "play_action_logic\n",
      "has_player_won\n",
      "has_player_won\n",
      "is_tie\n"
     ]
    }
   ],
   "source": [
    "play_action_logic_spiral_teal = compileTeal(main.arrow_5(), mode=Mode.Application, version=6)"
   ]
  },
  {
   "cell_type": "code",
   "execution_count": 23,
   "metadata": {},
   "outputs": [],
   "source": [
    "test(play_action_logic_python_teal, play_action_logic_spiral_teal)"
   ]
  },
  {
   "cell_type": "code",
   "execution_count": null,
   "id": "bcbb4874",
   "metadata": {},
   "outputs": [],
   "source": []
  },
  {
   "cell_type": "code",
   "execution_count": 24,
   "id": "30818b63",
   "metadata": {},
   "outputs": [
    {
     "name": "stdout",
     "output_type": "stream",
     "text": [
      "5:initialize_players_logic\n"
     ]
    }
   ],
   "source": [
    "initialize_players_logic_python_teal = compileTeal(initialize_players_logic(), mode=Mode.Application, version=6)"
   ]
  },
  {
   "cell_type": "code",
   "execution_count": 25,
   "metadata": {},
   "outputs": [
    {
     "name": "stdout",
     "output_type": "stream",
     "text": [
      "initialize_players_logic\n"
     ]
    }
   ],
   "source": [
    "initialize_players_logic_spiral_teal = compileTeal(main.arrow_6(main.US0(0)), mode=Mode.Application, version=6)"
   ]
  },
  {
   "cell_type": "code",
   "execution_count": 26,
   "metadata": {},
   "outputs": [],
   "source": [
    "test(initialize_players_logic_python_teal, initialize_players_logic_spiral_teal)"
   ]
  },
  {
   "cell_type": "code",
   "execution_count": null,
   "metadata": {},
   "outputs": [],
   "source": []
  },
  {
   "cell_type": "code",
   "execution_count": 27,
   "metadata": {},
   "outputs": [
    {
     "name": "stdout",
     "output_type": "stream",
     "text": [
      "5:application_start\n",
      "5:initialize_players_logic\n",
      "5:play_action_logic\n",
      "5:has_player_won\n",
      "5:has_player_won\n",
      "5:is_tie\n",
      "5:money_refund_logic\n",
      "5:app_initialization_logic\n"
     ]
    }
   ],
   "source": [
    "application_start_python_teal = compileTeal(application_start(), mode=Mode.Application, version=6)"
   ]
  },
  {
   "cell_type": "code",
   "execution_count": 28,
   "id": "b5f1b0b3",
   "metadata": {},
   "outputs": [
    {
     "name": "stdout",
     "output_type": "stream",
     "text": [
      "application_start\n",
      "initialize_players_logic\n",
      "play_action_logic\n",
      "has_player_won\n",
      "has_player_won\n",
      "is_tie\n",
      "money_refund_logic\n",
      "app_initialization_logic\n"
     ]
    }
   ],
   "source": [
    "application_start_spiral_teal = compileTeal(main.arrow_7(main.US0(0)), mode=Mode.Application, version=6)"
   ]
  },
  {
   "cell_type": "code",
   "execution_count": 29,
   "id": "df7a9342",
   "metadata": {},
   "outputs": [],
   "source": [
    "test(application_start_python_teal, application_start_spiral_teal)"
   ]
  },
  {
   "cell_type": "code",
   "execution_count": 30,
   "id": "c39f62bb",
   "metadata": {},
   "outputs": [
    {
     "name": "stdout",
     "output_type": "stream",
     "text": [
      "#pragma version 6\n",
      "txn ApplicationID\n",
      "int 0\n",
      "==\n",
      "bnz main_l34\n",
      "txna ApplicationArgs 0\n",
      "byte \"SetupPlayers\"\n",
      "==\n",
      "bnz main_l31\n",
      "txna ApplicationArgs 0\n",
      "byte \"ActionMove\"\n",
      "==\n",
      "global GroupSize\n",
      "int 1\n",
      "==\n",
      "&&\n",
      "bnz main_l13\n",
      "txna ApplicationArgs 0\n",
      "byte \"MoneyRefund\"\n",
      "==\n",
      "bnz main_l5\n",
      "err\n",
      "main_l5:\n",
      "gtxn 1 TypeEnum\n",
      "int pay\n",
      "==\n",
      "assert\n",
      "gtxn 1 Sender\n",
      "byte \"FundsEscrowAddress\"\n",
      "app_global_get\n",
      "==\n",
      "assert\n",
      "byte \"GameState\"\n",
      "app_global_get\n",
      "int 1\n",
      "==\n",
      "byte \"GameState\"\n",
      "app_global_get\n",
      "int 0\n",
      "==\n",
      "global LatestTimestamp\n",
      "byte \"ActionTimeout\"\n",
      "app_global_get\n",
      ">\n",
      "&&\n",
      "byte \"PlayerTurnAddress\"\n",
      "app_global_get\n",
      "byte \"PlayerOAddress\"\n",
      "app_global_get\n",
      "==\n",
      "&&\n",
      "||\n",
      "bnz main_l12\n",
      "byte \"GameState\"\n",
      "app_global_get\n",
      "int 2\n",
      "==\n",
      "byte \"GameState\"\n",
      "app_global_get\n",
      "int 0\n",
      "==\n",
      "global LatestTimestamp\n",
      "byte \"ActionTimeout\"\n",
      "app_global_get\n",
      ">\n",
      "&&\n",
      "byte \"PlayerTurnAddress\"\n",
      "app_global_get\n",
      "byte \"PlayerXAddress\"\n",
      "app_global_get\n",
      "==\n",
      "&&\n",
      "||\n",
      "bnz main_l11\n",
      "byte \"GameState\"\n",
      "app_global_get\n",
      "int 3\n",
      "==\n",
      "bnz main_l9\n",
      "err\n",
      "main_l9:\n",
      "gtxn 1 Receiver\n",
      "byte \"PlayerXAddress\"\n",
      "app_global_get\n",
      "==\n",
      "assert\n",
      "gtxn 1 Amount\n",
      "byte \"BetAmount\"\n",
      "app_global_get\n",
      "==\n",
      "assert\n",
      "gtxn 2 TypeEnum\n",
      "int pay\n",
      "==\n",
      "assert\n",
      "gtxn 2 Sender\n",
      "byte \"FundsEscrowAddress\"\n",
      "app_global_get\n",
      "==\n",
      "assert\n",
      "gtxn 2 Receiver\n",
      "byte \"PlayerOAddress\"\n",
      "app_global_get\n",
      "==\n",
      "assert\n",
      "gtxn 2 Amount\n",
      "byte \"BetAmount\"\n",
      "app_global_get\n",
      "==\n",
      "assert\n",
      "main_l10:\n",
      "int 1\n",
      "return\n",
      "main_l11:\n",
      "gtxn 1 Receiver\n",
      "byte \"PlayerOAddress\"\n",
      "app_global_get\n",
      "==\n",
      "assert\n",
      "gtxn 1 Amount\n",
      "int 2\n",
      "byte \"BetAmount\"\n",
      "app_global_get\n",
      "*\n",
      "==\n",
      "assert\n",
      "byte \"GameState\"\n",
      "int 2\n",
      "app_global_put\n",
      "b main_l10\n",
      "main_l12:\n",
      "gtxn 1 Receiver\n",
      "byte \"PlayerXAddress\"\n",
      "app_global_get\n",
      "==\n",
      "assert\n",
      "gtxn 1 Amount\n",
      "int 2\n",
      "byte \"BetAmount\"\n",
      "app_global_get\n",
      "*\n",
      "==\n",
      "assert\n",
      "byte \"GameState\"\n",
      "int 1\n",
      "app_global_put\n",
      "b main_l10\n",
      "main_l13:\n",
      "txna ApplicationArgs 1\n",
      "btoi\n",
      "int 0\n",
      ">=\n",
      "assert\n",
      "txna ApplicationArgs 1\n",
      "btoi\n",
      "int 8\n",
      "<=\n",
      "assert\n",
      "global LatestTimestamp\n",
      "byte \"ActionTimeout\"\n",
      "app_global_get\n",
      "<=\n",
      "assert\n",
      "byte \"GameState\"\n",
      "app_global_get\n",
      "int 0\n",
      "==\n",
      "assert\n",
      "txn Sender\n",
      "byte \"PlayerTurnAddress\"\n",
      "app_global_get\n",
      "==\n",
      "assert\n",
      "byte \"PlayerXState\"\n",
      "app_global_get\n",
      "int 1\n",
      "txna ApplicationArgs 1\n",
      "btoi\n",
      "shl\n",
      "&\n",
      "int 0\n",
      "==\n",
      "byte \"PlayerOState\"\n",
      "app_global_get\n",
      "int 1\n",
      "txna ApplicationArgs 1\n",
      "btoi\n",
      "shl\n",
      "&\n",
      "int 0\n",
      "==\n",
      "&&\n",
      "assert\n",
      "txn Sender\n",
      "byte \"PlayerXAddress\"\n",
      "app_global_get\n",
      "==\n",
      "bnz main_l25\n",
      "txn Sender\n",
      "byte \"PlayerOAddress\"\n",
      "app_global_get\n",
      "==\n",
      "bnz main_l16\n",
      "err\n",
      "main_l16:\n",
      "byte \"PlayerOState\"\n",
      "byte \"PlayerOState\"\n",
      "app_global_get\n",
      "int 1\n",
      "txna ApplicationArgs 1\n",
      "btoi\n",
      "shl\n",
      "|\n",
      "app_global_put\n",
      "byte \"PlayerOState\"\n",
      "app_global_get\n",
      "int 448\n",
      "&\n",
      "int 448\n",
      "==\n",
      "byte \"PlayerOState\"\n",
      "app_global_get\n",
      "int 56\n",
      "&\n",
      "int 56\n",
      "==\n",
      "||\n",
      "byte \"PlayerOState\"\n",
      "app_global_get\n",
      "int 7\n",
      "&\n",
      "int 7\n",
      "==\n",
      "||\n",
      "byte \"PlayerOState\"\n",
      "app_global_get\n",
      "int 292\n",
      "&\n",
      "int 292\n",
      "==\n",
      "||\n",
      "byte \"PlayerOState\"\n",
      "app_global_get\n",
      "int 146\n",
      "&\n",
      "int 146\n",
      "==\n",
      "||\n",
      "byte \"PlayerOState\"\n",
      "app_global_get\n",
      "int 73\n",
      "&\n",
      "int 73\n",
      "==\n",
      "||\n",
      "byte \"PlayerOState\"\n",
      "app_global_get\n",
      "int 273\n",
      "&\n",
      "int 273\n",
      "==\n",
      "||\n",
      "byte \"PlayerOState\"\n",
      "app_global_get\n",
      "int 84\n",
      "&\n",
      "int 84\n",
      "==\n",
      "||\n",
      "bnz main_l24\n",
      "int 0\n",
      "main_l18:\n",
      "bnz main_l23\n",
      "main_l19:\n",
      "byte \"PlayerTurnAddress\"\n",
      "byte \"PlayerXAddress\"\n",
      "app_global_get\n",
      "app_global_put\n",
      "main_l20:\n",
      "int 511\n",
      "byte \"PlayerXState\"\n",
      "app_global_get\n",
      "byte \"PlayerOState\"\n",
      "app_global_get\n",
      "|\n",
      "==\n",
      "bnz main_l22\n",
      "main_l21:\n",
      "int 1\n",
      "return\n",
      "main_l22:\n",
      "byte \"GameState\"\n",
      "int 3\n",
      "app_global_put\n",
      "b main_l21\n",
      "main_l23:\n",
      "byte \"GameState\"\n",
      "int 2\n",
      "app_global_put\n",
      "b main_l19\n",
      "main_l24:\n",
      "int 1\n",
      "b main_l18\n",
      "main_l25:\n",
      "byte \"PlayerXState\"\n",
      "byte \"PlayerXState\"\n",
      "app_global_get\n",
      "int 1\n",
      "txna ApplicationArgs 1\n",
      "btoi\n",
      "shl\n",
      "|\n",
      "app_global_put\n",
      "byte \"PlayerXState\"\n",
      "app_global_get\n",
      "int 448\n",
      "&\n",
      "int 448\n",
      "==\n",
      "byte \"PlayerXState\"\n",
      "app_global_get\n",
      "int 56\n",
      "&\n",
      "int 56\n",
      "==\n",
      "||\n",
      "byte \"PlayerXState\"\n",
      "app_global_get\n",
      "int 7\n",
      "&\n",
      "int 7\n",
      "==\n",
      "||\n",
      "byte \"PlayerXState\"\n",
      "app_global_get\n",
      "int 292\n",
      "&\n",
      "int 292\n",
      "==\n",
      "||\n",
      "byte \"PlayerXState\"\n",
      "app_global_get\n",
      "int 146\n",
      "&\n",
      "int 146\n",
      "==\n",
      "||\n",
      "byte \"PlayerXState\"\n",
      "app_global_get\n",
      "int 73\n",
      "&\n",
      "int 73\n",
      "==\n",
      "||\n",
      "byte \"PlayerXState\"\n",
      "app_global_get\n",
      "int 273\n",
      "&\n",
      "int 273\n",
      "==\n",
      "||\n",
      "byte \"PlayerXState\"\n",
      "app_global_get\n",
      "int 84\n",
      "&\n",
      "int 84\n",
      "==\n",
      "||\n",
      "bnz main_l30\n",
      "int 0\n",
      "main_l27:\n",
      "bnz main_l29\n",
      "main_l28:\n",
      "byte \"PlayerTurnAddress\"\n",
      "byte \"PlayerOAddress\"\n",
      "app_global_get\n",
      "app_global_put\n",
      "b main_l20\n",
      "main_l29:\n",
      "byte \"GameState\"\n",
      "int 1\n",
      "app_global_put\n",
      "b main_l28\n",
      "main_l30:\n",
      "int 1\n",
      "b main_l27\n",
      "main_l31:\n",
      "int 0\n",
      "byte \"PlayerXAddress\"\n",
      "app_global_get_ex\n",
      "store 1\n",
      "store 0\n",
      "int 0\n",
      "byte \"PlayerOAddress\"\n",
      "app_global_get_ex\n",
      "store 3\n",
      "store 2\n",
      "load 1\n",
      "load 3\n",
      "||\n",
      "bnz main_l33\n",
      "gtxn 1 TypeEnum\n",
      "int pay\n",
      "==\n",
      "assert\n",
      "gtxn 2 TypeEnum\n",
      "int pay\n",
      "==\n",
      "assert\n",
      "gtxn 1 Receiver\n",
      "gtxn 2 Receiver\n",
      "==\n",
      "assert\n",
      "gtxn 1 Amount\n",
      "byte \"BetAmount\"\n",
      "app_global_get\n",
      "==\n",
      "assert\n",
      "gtxn 2 Amount\n",
      "byte \"BetAmount\"\n",
      "app_global_get\n",
      "==\n",
      "assert\n",
      "byte \"PlayerXAddress\"\n",
      "gtxn 1 Sender\n",
      "app_global_put\n",
      "byte \"PlayerOAddress\"\n",
      "gtxn 2 Sender\n",
      "app_global_put\n",
      "byte \"PlayerTurnAddress\"\n",
      "gtxn 1 Sender\n",
      "app_global_put\n",
      "byte \"FundsEscrowAddress\"\n",
      "gtxn 1 Receiver\n",
      "app_global_put\n",
      "byte \"ActionTimeout\"\n",
      "global LatestTimestamp\n",
      "int 3600\n",
      "+\n",
      "app_global_put\n",
      "int 1\n",
      "return\n",
      "main_l33:\n",
      "int 0\n",
      "return\n",
      "main_l34:\n",
      "byte \"PlayerXState\"\n",
      "int 0\n",
      "app_global_put\n",
      "byte \"PlayerOState\"\n",
      "int 0\n",
      "app_global_put\n",
      "byte \"GameState\"\n",
      "int 0\n",
      "app_global_put\n",
      "byte \"BetAmount\"\n",
      "int 1000000\n",
      "app_global_put\n",
      "int 1\n",
      "return\n"
     ]
    }
   ],
   "source": [
    "print(application_start_spiral_teal)"
   ]
  },
  {
   "cell_type": "code",
   "execution_count": null,
   "metadata": {},
   "outputs": [],
   "source": []
  },
  {
   "cell_type": "code",
   "execution_count": null,
   "id": "75b98430",
   "metadata": {},
   "outputs": [],
   "source": []
  }
 ],
 "metadata": {
  "interpreter": {
   "hash": "4f946df053fbf2b937619d3c5458e7af74262f9a954d8797ba0b27400bcafe06"
  },
  "kernelspec": {
   "display_name": "Python 3.10.4 64-bit",
   "language": "python",
   "name": "python3"
  },
  "language_info": {
   "codemirror_mode": {
    "name": "ipython",
    "version": 3
   },
   "file_extension": ".py",
   "mimetype": "text/x-python",
   "name": "python",
   "nbconvert_exporter": "python",
   "pygments_lexer": "ipython3",
   "version": "3.10.4"
  }
 },
 "nbformat": 4,
 "nbformat_minor": 5
}
