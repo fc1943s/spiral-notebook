{
 "cells": [
  {
   "cell_type": "code",
   "execution_count": 1,
   "metadata": {},
   "outputs": [],
   "source": [
    "from IPython.core.magic import register_cell_magic\n",
    "\n",
    "@register_cell_magic\n",
    "def spiral(line, cell):\n",
    "    print('line:', line, 'cell:', cell)\n",
    "    \n",
    "    print('spiral end')"
   ]
  },
  {
   "cell_type": "code",
   "execution_count": 2,
   "metadata": {},
   "outputs": [
    {
     "name": "stdout",
     "output_type": "stream",
     "text": [
      "line: a b c cell: \n",
      "inl main () : () =\n",
      "    ()\n",
      "\n",
      "spiral end\n"
     ]
    }
   ],
   "source": [
    "%%spiral a b c\n",
    "\n",
    "inl main () : () =\n",
    "    ()"
   ]
  },
  {
   "cell_type": "code",
   "execution_count": null,
   "metadata": {
    "dotnet_interactive": {
     "language": "csharp"
    }
   },
   "outputs": [],
   "source": []
  },
  {
   "cell_type": "code",
   "execution_count": 3,
   "metadata": {},
   "outputs": [],
   "source": [
    "import uuid\n",
    "from ipywidgets import widgets\n",
    "\n",
    "\n",
    "def new_id():\n",
    "    return uuid.uuid4().hex\n",
    "\n",
    "\n",
    "def read_file(filename):\n",
    "    with open(filename, 'r') as f:\n",
    "        return f.read()\n"
   ]
  },
  {
   "cell_type": "code",
   "execution_count": 4,
   "metadata": {},
   "outputs": [],
   "source": [
    "application_start = read_file('application_start.teal').replace('3600', '90')\n",
    "clear_program = read_file('clear_program.teal')\n",
    "game_funds_escrow = read_file('game_funds_escrow.teal')\n"
   ]
  },
  {
   "cell_type": "code",
   "execution_count": 5,
   "metadata": {},
   "outputs": [
    {
     "data": {
      "application/vnd.jupyter.widget-view+json": {
       "model_id": "04de2e6bc1404303ae3fbbfa4f63f91c",
       "version_major": 2,
       "version_minor": 0
      },
      "text/plain": [
       "Text(value='http://127.0.0.1', description='Server:')"
      ]
     },
     "metadata": {},
     "output_type": "display_data"
    }
   ],
   "source": [
    "server = widgets.Text(description='Server:', value='http://127.0.0.1')\n",
    "server"
   ]
  },
  {
   "cell_type": "code",
   "execution_count": 6,
   "metadata": {},
   "outputs": [
    {
     "data": {
      "application/vnd.jupyter.widget-view+json": {
       "model_id": "e48a8f4a54ff4e65b2ba2181b2464f3c",
       "version_major": 2,
       "version_minor": 0
      },
      "text/plain": [
       "Text(value='4001', description='Port:')"
      ]
     },
     "metadata": {},
     "output_type": "display_data"
    }
   ],
   "source": [
    "port = widgets.Text(description='Port:', value='4001')\n",
    "port"
   ]
  },
  {
   "cell_type": "code",
   "execution_count": 7,
   "metadata": {},
   "outputs": [],
   "source": [
    "config = {\n",
    "    'application_start': application_start,\n",
    "    'clear_program': clear_program,\n",
    "    'game_funds_escrow': game_funds_escrow,\n",
    "    'server': server.value,\n",
    "    'port': port.value\n",
    "}"
   ]
  },
  {
   "cell_type": "code",
   "execution_count": 8,
   "metadata": {},
   "outputs": [],
   "source": [
    "from IPython.display import Javascript, display, HTML\n",
    "from IPython.core.magic import register_cell_magic\n",
    "\n",
    "@register_cell_magic\n",
    "def html2(line, cell):\n",
    "    id = new_id()\n",
    "    display(HTML(f'<div id=\"log{id}\">log:</div>'))\n",
    "    display(Javascript(f'''\n",
    "        window.log = (...args) => {{ \n",
    "            document.getElementById('log{id}').innerHTML += '<br/>' + args.map(JSON.stringify).join('<br/>'); \n",
    "        }}\n",
    "    '''))\n",
    "    display(HTML(cell))\n",
    "    return 'html2 return'\n",
    "\n"
   ]
  },
  {
   "cell_type": "code",
   "execution_count": 9,
   "metadata": {},
   "outputs": [
    {
     "data": {
      "text/html": [
       "<div id=\"log6b627828f92d46688bb14ef8b53f3075\">log:</div>"
      ],
      "text/plain": [
       "<IPython.core.display.HTML object>"
      ]
     },
     "metadata": {},
     "output_type": "display_data"
    },
    {
     "data": {
      "application/javascript": "\n        window.log = (...args) => { \n            document.getElementById('log6b627828f92d46688bb14ef8b53f3075').innerHTML += '<br/>' + args.map(JSON.stringify).join('<br/>'); \n        }\n    ",
      "text/plain": [
       "<IPython.core.display.Javascript object>"
      ]
     },
     "metadata": {},
     "output_type": "display_data"
    },
    {
     "data": {
      "text/html": [
       "<div id=\"div1\">div1</div>\n",
       "<script type=\"module\">\n",
       "log('log1');\n",
       "</script>\n"
      ],
      "text/plain": [
       "<IPython.core.display.HTML object>"
      ]
     },
     "metadata": {},
     "output_type": "display_data"
    },
    {
     "data": {
      "text/plain": [
       "'html2 return'"
      ]
     },
     "execution_count": 9,
     "metadata": {},
     "output_type": "execute_result"
    }
   ],
   "source": [
    "%%html2\n",
    "<div id=\"div1\">div1</div>\n",
    "<script type=\"module\">\n",
    "log('log1');\n",
    "</script>"
   ]
  },
  {
   "cell_type": "code",
   "execution_count": null,
   "metadata": {
    "dotnet_interactive": {
     "language": "csharp"
    }
   },
   "outputs": [],
   "source": []
  }
 ],
 "metadata": {
  "interpreter": {
   "hash": "3ad933181bd8a04b432d3370b9dc3b0662ad032c4dfaa4e4f1596c548f763858"
  },
  "kernelspec": {
   "display_name": "Python 3.10.4 64-bit",
   "language": "python",
   "name": "python3"
  },
  "language_info": {
   "codemirror_mode": {
    "name": "ipython",
    "version": 3
   },
   "file_extension": ".py",
   "mimetype": "text/x-python",
   "name": "python",
   "nbconvert_exporter": "python",
   "pygments_lexer": "ipython3",
   "version": "3.10.4"
  },
  "orig_nbformat": 4
 },
 "nbformat": 4,
 "nbformat_minor": 2
}
