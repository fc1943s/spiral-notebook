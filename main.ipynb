{
 "cells": [
  {
   "cell_type": "code",
   "execution_count": null,
   "metadata": {
    "dotnet_interactive": {
     "language": "fsharp"
    },
    "vscode": {
     "languageId": "dotnet-interactive.fsharp"
    }
   },
   "outputs": [
    {
     "name": "stdout",
     "output_type": "stream",
     "text": [
      "\"main.spi Loaded. Width: 180\"\n",
      "\"/########################################\\ start\"\n",
      "\"qqqqqqqqqqqqqqqqq\"\n",
      "[|3|]\n",
      "\"\\########################################/ end\"\n"
     ]
    }
   ],
   "source": [
    "#load \"main.fsx\""
   ]
  },
  {
   "cell_type": "code",
   "execution_count": null,
   "metadata": {
    "dotnet_interactive": {
     "language": "fsharp"
    },
    "vscode": {
     "languageId": "dotnet-interactive.fsharp"
    }
   },
   "outputs": [
    {
     "data": {
      "text/html": [
       "<div class=\"dni-plaintext\">180</div>"
      ]
     },
     "metadata": {},
     "output_type": "display_data"
    }
   ],
   "source": [
    "let width = Main.method0 ()\n",
    "width"
   ]
  },
  {
   "cell_type": "code",
   "execution_count": null,
   "metadata": {
    "dotnet_interactive": {
     "language": "javascript"
    },
    "vscode": {
     "languageId": "dotnet-interactive.javascript"
    }
   },
   "outputs": [
    {
     "data": {
      "text/plain": [
       "180"
      ]
     },
     "metadata": {},
     "output_type": "display_data"
    }
   ],
   "source": [
    "#!share --from fsharp width\n",
    "console.log(width)"
   ]
  },
  {
   "cell_type": "code",
   "execution_count": null,
   "metadata": {
    "dotnet_interactive": {
     "language": "javascript"
    },
    "vscode": {
     "languageId": "dotnet-interactive.javascript"
    }
   },
   "outputs": [],
   "source": [
    "context = { libs: {} }"
   ]
  },
  {
   "cell_type": "code",
   "execution_count": null,
   "metadata": {
    "dotnet_interactive": {
     "language": "javascript"
    },
    "vscode": {
     "languageId": "dotnet-interactive.javascript"
    }
   },
   "outputs": [],
   "source": [
    "const loadLib = (name, path) => {\n",
    "    const lib = interactive.configureRequire({ paths: { [name]: path } });\n",
    "    lib([name], (root) => { context.libs[name] = root; });\n",
    "};\n",
    "\n",
    "loadLib(\"d3\", \"https://d3js.org/d3.v5.min\");"
   ]
  },
  {
   "cell_type": "code",
   "execution_count": null,
   "metadata": {
    "dotnet_interactive": {
     "language": "html"
    },
    "vscode": {
     "languageId": "dotnet-interactive.html"
    }
   },
   "outputs": [
    {
     "data": {
      "text/html": [
       "<svg id=\"svg1\" style=\"width: 200px; height: 200px; background-color: black\"></svg>"
      ]
     },
     "metadata": {},
     "output_type": "display_data"
    }
   ],
   "source": [
    "<svg id=\"svg1\" style=\"width: 200px; height: 200px; background-color: black\"></svg>"
   ]
  },
  {
   "cell_type": "code",
   "execution_count": null,
   "metadata": {
    "dotnet_interactive": {
     "language": "javascript"
    },
    "vscode": {
     "languageId": "dotnet-interactive.javascript"
    }
   },
   "outputs": [],
   "source": [
    "const svg1d3 = context.libs.d3.select('#svg1');\n",
    "\n",
    "svg1d3.append('line')\n",
    "    .style('stroke', 'white')\n",
    "    .attr(\"x1\", 10)\n",
    "    .attr(\"y1\", 100)\n",
    "    .attr(\"x2\", 10 + width)\n",
    "    .attr(\"y2\", 100);"
   ]
  }
 ],
 "metadata": {
  "kernelspec": {
   "display_name": ".NET (C#)",
   "language": "C#",
   "name": ".net-csharp"
  },
  "language_info": {
   "file_extension": ".cs",
   "mimetype": "text/x-csharp",
   "name": "C#",
   "pygments_lexer": "csharp",
   "version": "9.0"
  },
  "orig_nbformat": 4
 },
 "nbformat": 4,
 "nbformat_minor": 2
}
