{
 "cells": [
  {
   "cell_type": "code",
   "execution_count": 1,
   "metadata": {},
   "outputs": [],
   "source": [
    "# default_exp spiral_api"
   ]
  },
  {
   "cell_type": "markdown",
   "metadata": {},
   "source": [
    "# python"
   ]
  },
  {
   "cell_type": "code",
   "execution_count": 2,
   "metadata": {},
   "outputs": [],
   "source": [
    "import ipython_magic"
   ]
  },
  {
   "cell_type": "markdown",
   "metadata": {},
   "source": [
    "# node"
   ]
  },
  {
   "cell_type": "code",
   "execution_count": 3,
   "metadata": {
    "vscode": {
     "languageId": "javascript"
    }
   },
   "outputs": [
    {
     "name": "stdout",
     "output_type": "stream",
     "text": [
      "<magic:0b2f0e461fc8404ebe3e6d3fe8c35fa3>\n"
     ]
    },
    {
     "data": {
      "application/javascript": "IPython.notebook.save_checkpoint();",
      "text/plain": [
       "<IPython.core.display.Javascript object>"
      ]
     },
     "metadata": {},
     "output_type": "display_data"
    },
    {
     "data": {
      "text/plain": [
       "'spiral_api.ts'"
      ]
     },
     "execution_count": 3,
     "metadata": {},
     "output_type": "execute_result"
    }
   ],
   "source": [
    "%%node export\n",
    "\n",
    "import * as zmq from \"zeromq\"\n",
    "\n",
    "var requestRun = async (prev: Promise<string | null>, file: any): Promise<string | null> => {\n",
    "    const port = 13805\n",
    "    await prev // Waiting on the previous request is so they get ordered properly. Otherwise, messages might fill up and fire in arbitrary order.\n",
    "    const sock = new zmq.Request()\n",
    "    const uriServer = `tcp://localhost:${port}`\n",
    "    sock.connect(uriServer)\n",
    "    await sock.send(JSON.stringify(file))\n",
    "    const [x] = await sock.receive()\n",
    "    sock.disconnect(uriServer)\n",
    "    return x ? x.toString() : null\n",
    "}\n",
    "var prev_request: Promise<string | null> = new Promise(resolve => resolve(null))\n",
    "var request = async (file: any) => { prev_request = requestRun(prev_request, file); return prev_request }\n",
    "var requestJSON = (file: any) => request(file).then(x => x ? JSON.parse(x) : undefined)\n",
    "\n",
    "var spiBuildFileReq = async (uri: string, backend: string): Promise<void> => requestJSON({ BuildFile: { uri, backend } })\n"
   ]
  },
  {
   "cell_type": "code",
   "execution_count": 4,
   "metadata": {
    "vscode": {
     "languageId": "javascript"
    }
   },
   "outputs": [
    {
     "data": {
      "text/plain": [
       "'spiral_api.ts'"
      ]
     },
     "execution_count": 4,
     "metadata": {},
     "output_type": "execute_result"
    }
   ],
   "source": [
    "%%node export\n",
    "\n",
    "import * as fs from \"fs\"\n",
    "import * as path from \"path\"\n",
    "import * as util from \"./util\"\n",
    "\n",
    "export var spiToFsx = async (spiPath = '', log = true) => {\n",
    "    spiPath = spiPath || path.join(process.cwd(), 'main.spi')\n",
    "    const fsxPath = spiPath.replace('.spi', '.fsx')\n",
    "    await util.timeout(spiBuildFileReq(spiPath, 'Fsharp'), 2000)\n",
    "    await util.waitFileChange(fsxPath)\n",
    "    const lines = fs.readFileSync(fsxPath).toString().split('\\n')\n",
    "    const [imports, code] = lines.reduce(\n",
    "        ([imports, code]: string[][], line) =>\n",
    "            /^(open|\\#r) .*?$/.test(line)\n",
    "                ? [[...imports, line], code]\n",
    "                : [imports, [...code, line]],\n",
    "            [[], []]\n",
    "    )\n",
    "    fs.writeFileSync(fsxPath, [...imports, '', ...code].join('\\n'))\n",
    "    if(log) {\n",
    "        util.logStep('spiral.spiToFsx() end')\n",
    "    }\n",
    "}"
   ]
  },
  {
   "cell_type": "code",
   "execution_count": 5,
   "metadata": {
    "vscode": {
     "languageId": "javascript"
    }
   },
   "outputs": [
    {
     "data": {
      "text/plain": [
       "['0 s, 54.566 ms - spiral.spiToFsx() end']"
      ]
     },
     "execution_count": 5,
     "metadata": {},
     "output_type": "execute_result"
    }
   ],
   "source": [
    "%%node run\n",
    "\n",
    "await spiToFsx()\n"
   ]
  },
  {
   "cell_type": "code",
   "execution_count": null,
   "metadata": {
    "vscode": {
     "languageId": "javascript"
    }
   },
   "outputs": [],
   "source": []
  }
 ],
 "metadata": {
  "interpreter": {
   "hash": "3ad933181bd8a04b432d3370b9dc3b0662ad032c4dfaa4e4f1596c548f763858"
  },
  "kernelspec": {
   "display_name": "Python 3.10.4 64-bit",
   "language": "python",
   "name": "python3"
  },
  "language_info": {
   "codemirror_mode": {
    "name": "ipython",
    "version": 3
   },
   "file_extension": ".py",
   "mimetype": "text/x-python",
   "name": "python",
   "nbconvert_exporter": "python",
   "pygments_lexer": "ipython3",
   "version": "3.10.4"
  },
  "orig_nbformat": 4
 },
 "nbformat": 4,
 "nbformat_minor": 2
}
